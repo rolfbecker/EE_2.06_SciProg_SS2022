{
 "cells": [
  {
   "cell_type": "markdown",
   "metadata": {},
   "source": [
    "# Numerical Methods #\n",
    "\n",
    "<font color = \"red\"> \n",
    "**rb: 2019-07-14<br>\n",
    "I want to copy some numerical methods from HPL's book (3rd ed.) and other sources to this notebook.<br> \n",
    "The work is far from being complete! This notebook is growing and changing.**\n",
    "</font>\n",
    "\n",
    "\n",
    "  * Programs doing calculus frequently need to have functions as arguments\n",
    "    in other functions, e.g.,\n",
    "\n",
    "    * numerical integration: $\\int_a^b f(x)dx$\n",
    "\n",
    "    * numerical differentiation: $f'(x)$\n",
    "\n",
    "    * numerical root finding: $f(x)=0$\n",
    "\n",
    "\n",
    "  * All three cases need $f$ as a Python function `f(x)`\n",
    "\n",
    "xyz\n",
    "\n"
   ]
  },
  {
   "cell_type": "markdown",
   "metadata": {},
   "source": [
    "## Numerical Differentiation ##\n",
    "**Example: numerical computation of $f'(x)$.**\n",
    "\n",
    "$$\n",
    "f'(x)\\approx \\frac{f(x+h)-f(x-h)}{2h}\\quad (h\\mbox{ small})\n",
    "$$"
   ]
  },
  {
   "cell_type": "markdown",
   "metadata": {},
   "source": [
    "**Example: numerical computation of $f''(x)$.**\n",
    "\n",
    "$$\n",
    "f''(x) \\approx {f(x-h) - 2f(x) + f(x+h)\\over h^2}\\quad (h\\mbox{ small})\n",
    "$$"
   ]
  },
  {
   "cell_type": "code",
   "execution_count": 1,
   "metadata": {},
   "outputs": [],
   "source": [
    "def diff1(f, x, h=1E-6):\n",
    "    r = (f(x+h) - f(x-h))/(2*h)\n",
    "    return r\n",
    "\n",
    "def diff2(f, x, h=1E-6):\n",
    "    r = (f(x-h) - 2*f(x) + f(x+h))/(h*h)\n",
    "    return r"
   ]
  },
  {
   "cell_type": "markdown",
   "metadata": {},
   "source": [
    "## Numerical Integration ##"
   ]
  },
  {
   "cell_type": "markdown",
   "metadata": {},
   "source": [
    "#### Simpson's Rule ####"
   ]
  },
  {
   "cell_type": "markdown",
   "metadata": {},
   "source": [
    "$$\n",
    "\\begin{align*}\n",
    "\\int_a^b f(x)dx \\approx {b-a\\over 3n}\\biggl(\n",
    "& f(a) + f(b) + 4\\sum_{i=1}^{n/2} f(a + (2i-1)h)\\\\\n",
    "& + 2\\sum_{i=1}^{n/2-1} f(a+2ih)\\biggr)\n",
    "\\end{align*}\n",
    "$$"
   ]
  },
  {
   "cell_type": "markdown",
   "metadata": {},
   "source": [
    "#### General Trapezoid Rule with Variable Sample Step Size ####"
   ]
  },
  {
   "cell_type": "markdown",
   "metadata": {},
   "source": [
    "\n",
    "$$\n",
    "\\begin{align*}\n",
    "\\int_a^b f(x)dx \\approx \\sum_{i=1}^{n}  {{{f(x_i) + f(x_{i-1})} \\over {2}}(x_i - x_{i-i})} \\qquad,\\; x_0 = a\\;,\\; x_n = b\n",
    "\\end{align*}\n",
    "$$"
   ]
  },
  {
   "cell_type": "markdown",
   "metadata": {},
   "source": [
    "#### General Trapezoid Rule with Fixed Sample Step Size $h$ ####"
   ]
  },
  {
   "cell_type": "markdown",
   "metadata": {},
   "source": [
    "$$\n",
    "\\begin{align*}\n",
    "\\int_a^b f(x)dx \\approx {h\\over 2}\\biggl(\n",
    "& \\sum_{i=1}^{n} f(a+ih) + f(a+(i-1)h)\\biggr) \\qquad,\\; h=\\Delta x = {b-a\\over n}\n",
    "\\end{align*}\n",
    "$$"
   ]
  },
  {
   "cell_type": "markdown",
   "metadata": {},
   "source": [
    "Simplified: **PLEASE CHECK WHETHER IT IS CORRECT!**\n",
    "\n",
    "$$\n",
    "\\begin{align*}\n",
    "\\int_a^b f(x)dx \\approx {h \\over 2} \\biggl(\n",
    "& {f(a)} + {f(b)} + 2\\sum_{i=1}^{n-1} f(a+ih)  \n",
    "\\biggr) \\qquad,\\; b=a+nh\n",
    "\\end{align*}\n",
    "$$"
   ]
  },
  {
   "cell_type": "markdown",
   "metadata": {},
   "source": [
    "### Integration with Trapezoid Method\n",
    "\n",
    "$\\lambda$ is an array with $n+1$ values (index runs from $0$ to $n$): \n",
    "\n",
    "$$\\lambda= (\\lambda_0, \\lambda_1, \\lambda_2, \\ldots, \\lambda_{n})$$\n",
    "\n",
    "\n",
    "$\\lambda_L$ is an array with $n$ values representing all left interval boundaries:\n",
    "\n",
    "$$\\lambda_L = (\\lambda_0, \\lambda_1, \\lambda_2, \\ldots, \\lambda_{n-2}, \\lambda_{n-1}) $$\n",
    "\n",
    "$\\lambda_R$ is an array with $n$ values representing all right interval boundaries:\n",
    "\n",
    "$$\\lambda_R = (\\lambda_1, \\lambda_2, \\lambda_3, \\ldots, \\lambda_{n-1}, \\lambda_{n}) $$\n",
    "\n",
    "You can think of these arrays being vectors. If you subtract them you subtract elementwise. The widths of the intervals are:\n",
    "\n",
    "$$\\Delta \\lambda = \\lambda_R-\\lambda_L = (\\lambda_1 - \\lambda_0, \\lambda_2- \\lambda_1, \\ldots, \\lambda_{n-1} - \\lambda_{n-2}, \\lambda_{n} - \\lambda_{n-1}) $$\n"
   ]
  },
  {
   "cell_type": "markdown",
   "metadata": {},
   "source": [
    "## Root Finding: solving $f(x)=0$##\n",
    "\n",
    "Nonlinear algebraic equations like"
   ]
  },
  {
   "cell_type": "markdown",
   "metadata": {},
   "source": [
    "$$\n",
    "\\begin{align*}\n",
    "x &= 1 + \\sin x\\\\\n",
    "\\tan x + \\cos x &= \\sin 8x\\\\\n",
    "x^5 - 3x^3 &= 10\n",
    "\\end{align*}\n",
    "$$"
   ]
  },
  {
   "cell_type": "markdown",
   "metadata": {},
   "source": [
    "are usually impossible to solve by pen and paper, but can be\n",
    "solved by numerical methods. To this end, rewrite any equation as"
   ]
  },
  {
   "cell_type": "markdown",
   "metadata": {},
   "source": [
    "$$\n",
    "f(x) = 0\n",
    "$$"
   ]
  },
  {
   "cell_type": "markdown",
   "metadata": {},
   "source": [
    "For the above we have (put everything on the left-hand side)"
   ]
  },
  {
   "cell_type": "markdown",
   "metadata": {},
   "source": [
    "$$\n",
    "\\begin{align*}\n",
    "f(x) &= x - 1 - \\sin x\\\\\n",
    "f(x) &= \\tan x + \\cos x - \\sin 8x\\\\\\\n",
    "f(x) &= x^5 - 3x^3 -  10\n",
    "\\end{align*}\n",
    "$$"
   ]
  },
  {
   "cell_type": "markdown",
   "metadata": {},
   "source": [
    "### We shall learn about a method for solving $f(x)=0$\n",
    "\n",
    "A solution $x$ of $f(x)=0$ is called a *root* of $f(x)$\n",
    "\n",
    "\n",
    "\n",
    "**Outline of the next slides:**\n",
    "\n",
    "  * Formulate a method for finding a root\n",
    "\n",
    "  * Translate the method to a precise algorithm\n",
    "\n",
    "  * Implement the algorithm in Python\n",
    "\n",
    "  * Test the implementation\n",
    "\n",
    "\n",
    "\n",
    "### The Bisection method\n",
    "\n",
    "  * Start with an interval $[a,b]$ in which $f(x)$ changes sign\n",
    "\n",
    "  * Then there must be (at least) one root in $[a,b]$\n",
    "\n",
    "  * Halve the interval:\n",
    "\n",
    "    * $m=(a+b)/2$; does $f$ change sign in left half $[a,m]$?\n",
    "\n",
    "    * Yes: continue with left interval $[a,m]$ (set $b=m$)\n",
    "\n",
    "    * No: continue with right interval $[m,b]$ (set $a=m$)\n",
    "\n",
    "\n",
    "  * Repeat the procedure\n",
    "\n",
    "\n",
    "\n",
    "  * After halving the initial interval $[p,q]$ $n$ times, we know that $f(x)$ must have a root inside a (small) interval $2^{-n}(q-p)$\n",
    "\n",
    "  * The method is slow, but very safe\n",
    "\n",
    "  * Other methods (like Newton's method) can be faster, but may also fail to locate a root - bisection does not fail\n",
    "\n",
    "\n",
    "\n",
    "### Solving $\\cos \\pi x =0$: iteration no. 1\n",
    "\n",
    "<!-- dom:FIGURE: [https://raw.githubusercontent.com/hplgit/scipro-primer/master/slides/input/html/fig-input/bisection_iter1.png, width=540 frac=0.9] -->\n",
    "<!-- begin figure -->\n",
    "\n",
    "<p></p>\n",
    "<img src=\"https://raw.githubusercontent.com/hplgit/scipro-primer/master/slides/input/html/fig-input/bisection_iter1.png\" width=540>\n",
    "\n",
    "<!-- end figure -->\n",
    "\n",
    "\n",
    "### Solving $\\cos \\pi x =0$: iteration no. 2\n",
    "\n",
    "<!-- dom:FIGURE: [https://raw.githubusercontent.com/hplgit/scipro-primer/master/slides/input/html/fig-input/bisection_iter2.png, width=540 frac=0.9] -->\n",
    "<!-- begin figure -->\n",
    "\n",
    "<p></p>\n",
    "<img src=\"https://raw.githubusercontent.com/hplgit/scipro-primer/master/slides/input/html/fig-input/bisection_iter2.png\" width=540>\n",
    "\n",
    "<!-- end figure -->\n",
    "\n",
    "\n",
    "### Solving $\\cos \\pi x =0$: iteration no. 3\n",
    "\n",
    "<!-- dom:FIGURE: [https://raw.githubusercontent.com/hplgit/scipro-primer/master/slides/input/html/fig-input/bisection_iter3.png, width=540 frac=0.9] -->\n",
    "<!-- begin figure -->\n",
    "\n",
    "<p></p>\n",
    "<img src=\"https://raw.githubusercontent.com/hplgit/scipro-primer/master/slides/input/html/fig-input/bisection_iter3.png\" width=540>\n",
    "\n",
    "<!-- end figure -->\n",
    "\n",
    "\n",
    "### Solving $\\cos \\pi x =0$: iteration no. 4\n",
    "\n",
    "<!-- dom:FIGURE: [https://raw.githubusercontent.com/hplgit/scipro-primer/master/slides/input/html/fig-input/bisection_iter4.png, width=540 frac=0.9] -->\n",
    "<!-- begin figure -->\n",
    "\n",
    "<p></p>\n",
    "<img src=\"https://raw.githubusercontent.com/hplgit/scipro-primer/master/slides/input/html/fig-input/bisection_iter4.png\" width=540>\n",
    "\n",
    "<!-- end figure -->\n",
    "\n",
    "\n",
    "### From method description to a precise algorithm\n",
    "\n",
    "  * We need to translate the mathematical description of the Bisection method to a Python program\n",
    "\n",
    "  * An important intermediate step is to formulate a precise algorithm\n",
    "\n",
    "  * Algorithm = detailed, code-like formulation of the method"
   ]
  },
  {
   "cell_type": "markdown",
   "metadata": {},
   "source": [
    "```Python\n",
    "        for i in range(0, n+1):\n",
    "            m = (a + b)/2\n",
    "            if f(a)*f(m) <= 0:\n",
    "                b = m  # root is in left half\n",
    "            else:\n",
    "                a = m  # root is in right half\n",
    "        \n",
    "        # f(x) has a root in [a,b]\n",
    "```"
   ]
  },
  {
   "cell_type": "markdown",
   "metadata": {},
   "source": [
    "## The algorithm can be made more efficient\n",
    "\n",
    "  * $f(a)$ is recomputed in each if test\n",
    "\n",
    "  * This is not necessary if $a$ has not changed since last pass in the loop\n",
    "\n",
    "  * On modern computers and simple formulas for $f(x)$ these extra computations do not matter\n",
    "\n",
    "  * However, in science and engineering one meets $f$ functions that take hours or days to evaluate at a point, and saving some $f(a)$ evaluations matters!\n",
    "\n",
    "  * Rule of thumb: remove redundant computations \n",
    "    (unless the code becomes much more complicated, and harder to verify)\n",
    "\n",
    "\n",
    "\n",
    "## New, more efficient version of the algorithm\n",
    "\n",
    "Idea: save $f(x)$ evaluations in  variables"
   ]
  },
  {
   "cell_type": "markdown",
   "metadata": {},
   "source": [
    "```Python\n",
    "        f_a = f(a)\n",
    "        for i in range(0, n+1):\n",
    "            m = (a + b)/2\n",
    "            f_m = f(m)\n",
    "            if f_a*f_m <= 0:\n",
    "                b = m   # root is in left half\n",
    "            else:\n",
    "                a = m   # root is in right half\n",
    "                f_a = f_m\n",
    "        \n",
    "        # f(x) has a root in [a,b]\n",
    "```"
   ]
  },
  {
   "cell_type": "markdown",
   "metadata": {},
   "source": [
    "## How to choose $n$? That is, when to stop the iteration\n",
    "\n",
    "  * We want the error in the root to be $\\epsilon$ or smaller\n",
    "\n",
    "  * After $n$ iterations, the initial interval $[a,b]$ is halved $n$ times and the current interval has length $2^{-n}(b-a)$. This is sufficiently small if $2^{-n}(b-a) = \\epsilon \\quad\\Rightarrow\\quad n = - {\\ln\\epsilon -\\ln (b-a)\\over\\ln 2}$\n",
    "\n",
    "  * A simpler alternative: just repeat halving until the length of the current interval is $\\leq\\epsilon$\n",
    "\n",
    "  * This is easiest done with a while loop: \n",
    "    `while b-a <= epsilon`:\n",
    "\n",
    "  * We also add a test to check if $f$ really changes sign in the initial inverval $[a,b]$\n",
    "\n",
    "\n",
    "\n",
    "## Final version of the Bisection algorithm"
   ]
  },
  {
   "cell_type": "markdown",
   "metadata": {},
   "source": [
    "```Python\n",
    "        f_a=f(a)\n",
    "        if f_a*f(b) > 0:\n",
    "            # error: f does not change sign in [a,b]\n",
    "        \n",
    "        i = 0\n",
    "        while b-a > epsilon:\n",
    "            i = i + 1\n",
    "            m = (a + b)/2\n",
    "            f_m = f(m)\n",
    "            if f_a*f_m <= 0:\n",
    "                b = m  # root is in left half\n",
    "            else:\n",
    "                a = m  # root is in right half\n",
    "                f_a = f_m\n",
    "        \n",
    "        # if x is the real root, |x-m| < epsilon\n",
    "```"
   ]
  },
  {
   "cell_type": "markdown",
   "metadata": {},
   "source": [
    "## Python implementation of the Bisection algorithm"
   ]
  },
  {
   "cell_type": "code",
   "execution_count": 1,
   "metadata": {},
   "outputs": [],
   "source": [
    "def f(x):\n",
    "    return 2*x - 3   # one root x=1.5\n",
    "\n",
    "eps = 1E-5\n",
    "a, b = 0, 10\n",
    "\n",
    "fa = f(a)\n",
    "if fa*f(b) > 0:\n",
    "    print('f(x) does not change sign in [{:g},{:g}].'.format(a, b))\n",
    "    sys.exit(1)\n",
    "\n",
    "i = 0   # iteration counter\n",
    "while b-a > eps:\n",
    "    i += 1\n",
    "    m = (a + b)/2.0\n",
    "    fm = f(m)\n",
    "    if fa*fm <= 0:\n",
    "        b = m  # root is in left half of [a,b]\n",
    "    else:\n",
    "        a = m  # root is in right half of [a,b]\n",
    "        fa = fm\n",
    "x = m          # this is the approximate root"
   ]
  },
  {
   "cell_type": "markdown",
   "metadata": {},
   "source": [
    "## Implementation as a function (more reusable!)"
   ]
  },
  {
   "cell_type": "code",
   "execution_count": 2,
   "metadata": {},
   "outputs": [
    {
     "name": "stdout",
     "output_type": "stream",
     "text": [
      "(1.5000057220458984, 20)\n"
     ]
    }
   ],
   "source": [
    "def bisection(f, a, b, eps):\n",
    "    fa = f(a)\n",
    "    if fa*f(b) > 0:\n",
    "        return None, 0\n",
    "        # Alternative: raise ValueError(\n",
    "        # 'No change of sign in [%g,%g]' % (a, b))\n",
    "\n",
    "    i = 0   # iteration counter\n",
    "    while b-a > eps:\n",
    "        i += 1\n",
    "        m = (a + b)/2.0\n",
    "        fm = f(m)\n",
    "        if fa*fm <= 0:\n",
    "            b = m   # root is in left  half of [a,b]\n",
    "        else:\n",
    "            a = m   # root is in right half of [a,b]\n",
    "            fa = fm\n",
    "    return m, i\n",
    "\n",
    "print(bisection(f=lambda x: 2*x-3, a=0, b=10, eps=1E-5))"
   ]
  },
  {
   "cell_type": "markdown",
   "metadata": {},
   "source": [
    "## Make a module of this function\n",
    "\n",
    "  * If we put the `bisection` function in a file `bisection.py`, we automatically have a module, and the `bisection` function can easily be imported in other programs to solve $f(x)=0$\n",
    "\n",
    "  * We should make a test function too"
   ]
  },
  {
   "cell_type": "code",
   "execution_count": 3,
   "metadata": {},
   "outputs": [],
   "source": [
    "def test_bisection():\n",
    "    def f(x):\n",
    "        return 2*x - 3   # only one root x=1.5\n",
    "\n",
    "    eps = 1E-5\n",
    "    x, iter = bisection(f, a=0, b=10, eps=eps)\n",
    "    success = abs(x - 1.5) < eps  # test within eps tolerance\n",
    "    assert success, 'found x=%g != 1.5' % x\n",
    "\n",
    "if __name__ == '__main__':\n",
    "    test_bisection()"
   ]
  },
  {
   "cell_type": "markdown",
   "metadata": {},
   "source": [
    "## To the point of this lecture: get input!\n",
    "\n",
    "We want to provide an $f(x)$ formula at the command line along with $a$ and $b$ (3 command-line args)\n",
    "\n",
    "Usage:"
   ]
  },
  {
   "cell_type": "markdown",
   "metadata": {},
   "source": [
    "        Terminal> python bisection.py 'sin(pi*x**3)-x**2' -1 3.5\n"
   ]
  },
  {
   "cell_type": "markdown",
   "metadata": {},
   "source": [
    "**Reading input:**"
   ]
  },
  {
   "cell_type": "markdown",
   "metadata": {},
   "source": [
    "```Python\n",
    "        def get_input():\n",
    "            \"\"\"Get f, a, b, eps from the command line.\"\"\"\n",
    "            from scitools.std import StringFunction\n",
    "            f = StringFunction(sys.argv[1])\n",
    "            a = float(sys.argv[2])\n",
    "            b = float(sys.argv[3])\n",
    "            eps = float(sys.argv[4])\n",
    "            return f, a, b, eps\n",
    "        \n",
    "        # Usage:\n",
    "        f, a, b, eps = get_input()\n",
    "        x, iter = bisection(f, a, b, eps)\n",
    "        print 'Found root x=%g in %d iterations' % (x, iter)\n",
    "```"
   ]
  },
  {
   "cell_type": "markdown",
   "metadata": {},
   "source": [
    "## Improvements: error handling"
   ]
  },
  {
   "cell_type": "markdown",
   "metadata": {},
   "source": [
    "```Python\n",
    "        def get_input():\n",
    "            \"\"\"Get f, a, b, eps from the command line.\"\"\"\n",
    "            from scitools.std import StringFunction\n",
    "            try:\n",
    "                f = StringFunction(sys.argv[1])\n",
    "                a = float(sys.argv[2])\n",
    "                b = float(sys.argv[3])\n",
    "                eps = float(sys.argv[4])\n",
    "            except IndexError:\n",
    "                print 'Usage %s: f a b eps' % sys.argv[0]\n",
    "                sys.exit(1)\n",
    "            return f, a, b, eps\n",
    "```"
   ]
  },
  {
   "cell_type": "markdown",
   "metadata": {},
   "source": [
    "## Applications of the Bisection method\n",
    "\n",
    "Two examples: $\\tanh x = x$ and $\\tanh x^5 = x^5$:"
   ]
  },
  {
   "cell_type": "markdown",
   "metadata": {},
   "source": [
    "        Terminal> python bisection_plot.py \"x-tanh(x)\" -1 1\n",
    "        Terminal> python bisection_plot.py \"x**5-tanh(x**5)\" -1 1\n"
   ]
  },
  {
   "cell_type": "markdown",
   "metadata": {},
   "source": [
    "The first equation is easy to treat, but the second leads to much\n",
    "less accurate results. Why??"
   ]
  },
  {
   "cell_type": "code",
   "execution_count": null,
   "metadata": {},
   "outputs": [],
   "source": []
  }
 ],
 "metadata": {
  "kernelspec": {
   "display_name": "Python 3",
   "language": "python",
   "name": "python3"
  },
  "language_info": {
   "codemirror_mode": {
    "name": "ipython",
    "version": 3
   },
   "file_extension": ".py",
   "mimetype": "text/x-python",
   "name": "python",
   "nbconvert_exporter": "python",
   "pygments_lexer": "ipython3",
   "version": "3.6.7"
  }
 },
 "nbformat": 4,
 "nbformat_minor": 2
}
