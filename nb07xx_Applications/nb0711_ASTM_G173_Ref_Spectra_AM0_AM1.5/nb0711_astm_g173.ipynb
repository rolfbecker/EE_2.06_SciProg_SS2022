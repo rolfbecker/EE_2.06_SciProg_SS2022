{
 "cells": [
  {
   "cell_type": "markdown",
   "metadata": {},
   "source": [
    "# ASTM G173-03 Solar Spectral Irradiance Standard #\n",
    "\n",
    "The exercises are covering \n",
    "1. reading from csv files with Pandas\n",
    "1. first impression of Pandas dataframes\n",
    "1. first impression of Pandas series\n",
    "1. numerical computing with Pandas series\n",
    "\n",
    "Please download the file https://www.nrel.gov/grid/solar-resource/assets/data/astmg173.zip and **really unzip** it (right klick -> extract). Do not just change the directory into the compressed archive by clicking on it. \n",
    "\n",
    "Move the unpacked csv file **astmg173.csv** to the folder where your Jupyter Notebook is located."
   ]
  },
  {
   "cell_type": "code",
   "execution_count": 1,
   "metadata": {},
   "outputs": [],
   "source": [
    "filename = \"astmg173.csv\""
   ]
  },
  {
   "cell_type": "code",
   "execution_count": 2,
   "metadata": {},
   "outputs": [],
   "source": [
    "import pandas as pd"
   ]
  },
  {
   "cell_type": "code",
   "execution_count": 3,
   "metadata": {},
   "outputs": [
    {
     "name": "stdout",
     "output_type": "stream",
     "text": [
      "Help on function read_csv in module pandas.io.parsers:\n",
      "\n",
      "read_csv(filepath_or_buffer, sep=',', delimiter=None, header='infer', names=None, index_col=None, usecols=None, squeeze=False, prefix=None, mangle_dupe_cols=True, dtype=None, engine=None, converters=None, true_values=None, false_values=None, skipinitialspace=False, skiprows=None, nrows=None, na_values=None, keep_default_na=True, na_filter=True, verbose=False, skip_blank_lines=True, parse_dates=False, infer_datetime_format=False, keep_date_col=False, date_parser=None, dayfirst=False, iterator=False, chunksize=None, compression='infer', thousands=None, decimal=b'.', lineterminator=None, quotechar='\"', quoting=0, escapechar=None, comment=None, encoding=None, dialect=None, tupleize_cols=None, error_bad_lines=True, warn_bad_lines=True, skipfooter=0, doublequote=True, delim_whitespace=False, low_memory=True, memory_map=False, float_precision=None)\n",
      "    Read CSV (comma-separated) file into DataFrame\n",
      "    \n",
      "    Also supports optionally iterating or breaking of the file\n",
      "    into chunks.\n",
      "    \n",
      "    Additional help can be found in the `online docs for IO Tools\n",
      "    <http://pandas.pydata.org/pandas-docs/stable/io.html>`_.\n",
      "    \n",
      "    Parameters\n",
      "    ----------\n",
      "    filepath_or_buffer : str, pathlib.Path, py._path.local.LocalPath or any \\\n",
      "    object with a read() method (such as a file handle or StringIO)\n",
      "        The string could be a URL. Valid URL schemes include http, ftp, s3, and\n",
      "        file. For file URLs, a host is expected. For instance, a local file could\n",
      "        be file://localhost/path/to/table.csv\n",
      "    sep : str, default ','\n",
      "        Delimiter to use. If sep is None, the C engine cannot automatically detect\n",
      "        the separator, but the Python parsing engine can, meaning the latter will\n",
      "        be used and automatically detect the separator by Python's builtin sniffer\n",
      "        tool, ``csv.Sniffer``. In addition, separators longer than 1 character and\n",
      "        different from ``'\\s+'`` will be interpreted as regular expressions and\n",
      "        will also force the use of the Python parsing engine. Note that regex\n",
      "        delimiters are prone to ignoring quoted data. Regex example: ``'\\r\\t'``\n",
      "    delimiter : str, default ``None``\n",
      "        Alternative argument name for sep.\n",
      "    delim_whitespace : boolean, default False\n",
      "        Specifies whether or not whitespace (e.g. ``' '`` or ``'\\t'``) will be\n",
      "        used as the sep. Equivalent to setting ``sep='\\s+'``. If this option\n",
      "        is set to True, nothing should be passed in for the ``delimiter``\n",
      "        parameter.\n",
      "    \n",
      "        .. versionadded:: 0.18.1 support for the Python parser.\n",
      "    \n",
      "    header : int or list of ints, default 'infer'\n",
      "        Row number(s) to use as the column names, and the start of the\n",
      "        data.  Default behavior is to infer the column names: if no names\n",
      "        are passed the behavior is identical to ``header=0`` and column\n",
      "        names are inferred from the first line of the file, if column\n",
      "        names are passed explicitly then the behavior is identical to\n",
      "        ``header=None``. Explicitly pass ``header=0`` to be able to\n",
      "        replace existing names. The header can be a list of integers that\n",
      "        specify row locations for a multi-index on the columns\n",
      "        e.g. [0,1,3]. Intervening rows that are not specified will be\n",
      "        skipped (e.g. 2 in this example is skipped). Note that this\n",
      "        parameter ignores commented lines and empty lines if\n",
      "        ``skip_blank_lines=True``, so header=0 denotes the first line of\n",
      "        data rather than the first line of the file.\n",
      "    names : array-like, default None\n",
      "        List of column names to use. If file contains no header row, then you\n",
      "        should explicitly pass header=None. Duplicates in this list will cause\n",
      "        a ``UserWarning`` to be issued.\n",
      "    index_col : int or sequence or False, default None\n",
      "        Column to use as the row labels of the DataFrame. If a sequence is given, a\n",
      "        MultiIndex is used. If you have a malformed file with delimiters at the end\n",
      "        of each line, you might consider index_col=False to force pandas to _not_\n",
      "        use the first column as the index (row names)\n",
      "    usecols : list-like or callable, default None\n",
      "        Return a subset of the columns. If list-like, all elements must either\n",
      "        be positional (i.e. integer indices into the document columns) or strings\n",
      "        that correspond to column names provided either by the user in `names` or\n",
      "        inferred from the document header row(s). For example, a valid list-like\n",
      "        `usecols` parameter would be [0, 1, 2] or ['foo', 'bar', 'baz']. Element\n",
      "        order is ignored, so ``usecols=[0, 1]`` is the same as ``[1, 0]``.\n",
      "        To instantiate a DataFrame from ``data`` with element order preserved use\n",
      "        ``pd.read_csv(data, usecols=['foo', 'bar'])[['foo', 'bar']]`` for columns\n",
      "        in ``['foo', 'bar']`` order or\n",
      "        ``pd.read_csv(data, usecols=['foo', 'bar'])[['bar', 'foo']]``\n",
      "        for ``['bar', 'foo']`` order.\n",
      "    \n",
      "        If callable, the callable function will be evaluated against the column\n",
      "        names, returning names where the callable function evaluates to True. An\n",
      "        example of a valid callable argument would be ``lambda x: x.upper() in\n",
      "        ['AAA', 'BBB', 'DDD']``. Using this parameter results in much faster\n",
      "        parsing time and lower memory usage.\n",
      "    squeeze : boolean, default False\n",
      "        If the parsed data only contains one column then return a Series\n",
      "    prefix : str, default None\n",
      "        Prefix to add to column numbers when no header, e.g. 'X' for X0, X1, ...\n",
      "    mangle_dupe_cols : boolean, default True\n",
      "        Duplicate columns will be specified as 'X', 'X.1', ...'X.N', rather than\n",
      "        'X'...'X'. Passing in False will cause data to be overwritten if there\n",
      "        are duplicate names in the columns.\n",
      "    dtype : Type name or dict of column -> type, default None\n",
      "        Data type for data or columns. E.g. {'a': np.float64, 'b': np.int32}\n",
      "        Use `str` or `object` together with suitable `na_values` settings\n",
      "        to preserve and not interpret dtype.\n",
      "        If converters are specified, they will be applied INSTEAD\n",
      "        of dtype conversion.\n",
      "    engine : {'c', 'python'}, optional\n",
      "        Parser engine to use. The C engine is faster while the python engine is\n",
      "        currently more feature-complete.\n",
      "    converters : dict, default None\n",
      "        Dict of functions for converting values in certain columns. Keys can either\n",
      "        be integers or column labels\n",
      "    true_values : list, default None\n",
      "        Values to consider as True\n",
      "    false_values : list, default None\n",
      "        Values to consider as False\n",
      "    skipinitialspace : boolean, default False\n",
      "        Skip spaces after delimiter.\n",
      "    skiprows : list-like or integer or callable, default None\n",
      "        Line numbers to skip (0-indexed) or number of lines to skip (int)\n",
      "        at the start of the file.\n",
      "    \n",
      "        If callable, the callable function will be evaluated against the row\n",
      "        indices, returning True if the row should be skipped and False otherwise.\n",
      "        An example of a valid callable argument would be ``lambda x: x in [0, 2]``.\n",
      "    skipfooter : int, default 0\n",
      "        Number of lines at bottom of file to skip (Unsupported with engine='c')\n",
      "    nrows : int, default None\n",
      "        Number of rows of file to read. Useful for reading pieces of large files\n",
      "    na_values : scalar, str, list-like, or dict, default None\n",
      "        Additional strings to recognize as NA/NaN. If dict passed, specific\n",
      "        per-column NA values.  By default the following values are interpreted as\n",
      "        NaN: '', '#N/A', '#N/A N/A', '#NA', '-1.#IND', '-1.#QNAN', '-NaN', '-nan',\n",
      "        '1.#IND', '1.#QNAN', 'N/A', 'NA', 'NULL', 'NaN', 'n/a', 'nan',\n",
      "        'null'.\n",
      "    keep_default_na : bool, default True\n",
      "        Whether or not to include the default NaN values when parsing the data.\n",
      "        Depending on whether `na_values` is passed in, the behavior is as follows:\n",
      "    \n",
      "        * If `keep_default_na` is True, and `na_values` are specified, `na_values`\n",
      "          is appended to the default NaN values used for parsing.\n",
      "        * If `keep_default_na` is True, and `na_values` are not specified, only\n",
      "          the default NaN values are used for parsing.\n",
      "        * If `keep_default_na` is False, and `na_values` are specified, only\n",
      "          the NaN values specified `na_values` are used for parsing.\n",
      "        * If `keep_default_na` is False, and `na_values` are not specified, no\n",
      "          strings will be parsed as NaN.\n",
      "    \n",
      "        Note that if `na_filter` is passed in as False, the `keep_default_na` and\n",
      "        `na_values` parameters will be ignored.\n",
      "    na_filter : boolean, default True\n",
      "        Detect missing value markers (empty strings and the value of na_values). In\n",
      "        data without any NAs, passing na_filter=False can improve the performance\n",
      "        of reading a large file\n",
      "    verbose : boolean, default False\n",
      "        Indicate number of NA values placed in non-numeric columns\n",
      "    skip_blank_lines : boolean, default True\n",
      "        If True, skip over blank lines rather than interpreting as NaN values\n",
      "    parse_dates : boolean or list of ints or names or list of lists or dict, default False\n",
      "    \n",
      "        * boolean. If True -> try parsing the index.\n",
      "        * list of ints or names. e.g. If [1, 2, 3] -> try parsing columns 1, 2, 3\n",
      "          each as a separate date column.\n",
      "        * list of lists. e.g.  If [[1, 3]] -> combine columns 1 and 3 and parse as\n",
      "          a single date column.\n",
      "        * dict, e.g. {'foo' : [1, 3]} -> parse columns 1, 3 as date and call result\n",
      "          'foo'\n",
      "    \n",
      "        If a column or index contains an unparseable date, the entire column or\n",
      "        index will be returned unaltered as an object data type. For non-standard\n",
      "        datetime parsing, use ``pd.to_datetime`` after ``pd.read_csv``\n",
      "    \n",
      "        Note: A fast-path exists for iso8601-formatted dates.\n",
      "    infer_datetime_format : boolean, default False\n",
      "        If True and `parse_dates` is enabled, pandas will attempt to infer the\n",
      "        format of the datetime strings in the columns, and if it can be inferred,\n",
      "        switch to a faster method of parsing them. In some cases this can increase\n",
      "        the parsing speed by 5-10x.\n",
      "    keep_date_col : boolean, default False\n",
      "        If True and `parse_dates` specifies combining multiple columns then\n",
      "        keep the original columns.\n",
      "    date_parser : function, default None\n",
      "        Function to use for converting a sequence of string columns to an array of\n",
      "        datetime instances. The default uses ``dateutil.parser.parser`` to do the\n",
      "        conversion. Pandas will try to call `date_parser` in three different ways,\n",
      "        advancing to the next if an exception occurs: 1) Pass one or more arrays\n",
      "        (as defined by `parse_dates`) as arguments; 2) concatenate (row-wise) the\n",
      "        string values from the columns defined by `parse_dates` into a single array\n",
      "        and pass that; and 3) call `date_parser` once for each row using one or\n",
      "        more strings (corresponding to the columns defined by `parse_dates`) as\n",
      "        arguments.\n",
      "    dayfirst : boolean, default False\n",
      "        DD/MM format dates, international and European format\n",
      "    iterator : boolean, default False\n",
      "        Return TextFileReader object for iteration or getting chunks with\n",
      "        ``get_chunk()``.\n",
      "    chunksize : int, default None\n",
      "        Return TextFileReader object for iteration.\n",
      "        See the `IO Tools docs\n",
      "        <http://pandas.pydata.org/pandas-docs/stable/io.html#io-chunking>`_\n",
      "        for more information on ``iterator`` and ``chunksize``.\n",
      "    compression : {'infer', 'gzip', 'bz2', 'zip', 'xz', None}, default 'infer'\n",
      "        For on-the-fly decompression of on-disk data. If 'infer' and\n",
      "        `filepath_or_buffer` is path-like, then detect compression from the\n",
      "        following extensions: '.gz', '.bz2', '.zip', or '.xz' (otherwise no\n",
      "        decompression). If using 'zip', the ZIP file must contain only one data\n",
      "        file to be read in. Set to None for no decompression.\n",
      "    \n",
      "        .. versionadded:: 0.18.1 support for 'zip' and 'xz' compression.\n",
      "    \n",
      "    thousands : str, default None\n",
      "        Thousands separator\n",
      "    decimal : str, default '.'\n",
      "        Character to recognize as decimal point (e.g. use ',' for European data).\n",
      "    float_precision : string, default None\n",
      "        Specifies which converter the C engine should use for floating-point\n",
      "        values. The options are `None` for the ordinary converter,\n",
      "        `high` for the high-precision converter, and `round_trip` for the\n",
      "        round-trip converter.\n",
      "    lineterminator : str (length 1), default None\n",
      "        Character to break file into lines. Only valid with C parser.\n",
      "    quotechar : str (length 1), optional\n",
      "        The character used to denote the start and end of a quoted item. Quoted\n",
      "        items can include the delimiter and it will be ignored.\n",
      "    quoting : int or csv.QUOTE_* instance, default 0\n",
      "        Control field quoting behavior per ``csv.QUOTE_*`` constants. Use one of\n",
      "        QUOTE_MINIMAL (0), QUOTE_ALL (1), QUOTE_NONNUMERIC (2) or QUOTE_NONE (3).\n",
      "    doublequote : boolean, default ``True``\n",
      "       When quotechar is specified and quoting is not ``QUOTE_NONE``, indicate\n",
      "       whether or not to interpret two consecutive quotechar elements INSIDE a\n",
      "       field as a single ``quotechar`` element.\n",
      "    escapechar : str (length 1), default None\n",
      "        One-character string used to escape delimiter when quoting is QUOTE_NONE.\n",
      "    comment : str, default None\n",
      "        Indicates remainder of line should not be parsed. If found at the beginning\n",
      "        of a line, the line will be ignored altogether. This parameter must be a\n",
      "        single character. Like empty lines (as long as ``skip_blank_lines=True``),\n",
      "        fully commented lines are ignored by the parameter `header` but not by\n",
      "        `skiprows`. For example, if ``comment='#'``, parsing\n",
      "        ``#empty\\na,b,c\\n1,2,3`` with ``header=0`` will result in 'a,b,c' being\n",
      "        treated as the header.\n",
      "    encoding : str, default None\n",
      "        Encoding to use for UTF when reading/writing (ex. 'utf-8'). `List of Python\n",
      "        standard encodings\n",
      "        <https://docs.python.org/3/library/codecs.html#standard-encodings>`_\n",
      "    dialect : str or csv.Dialect instance, default None\n",
      "        If provided, this parameter will override values (default or not) for the\n",
      "        following parameters: `delimiter`, `doublequote`, `escapechar`,\n",
      "        `skipinitialspace`, `quotechar`, and `quoting`. If it is necessary to\n",
      "        override values, a ParserWarning will be issued. See csv.Dialect\n",
      "        documentation for more details.\n",
      "    tupleize_cols : boolean, default False\n",
      "        .. deprecated:: 0.21.0\n",
      "           This argument will be removed and will always convert to MultiIndex\n",
      "    \n",
      "        Leave a list of tuples on columns as is (default is to convert to\n",
      "        a MultiIndex on the columns)\n",
      "    error_bad_lines : boolean, default True\n",
      "        Lines with too many fields (e.g. a csv line with too many commas) will by\n",
      "        default cause an exception to be raised, and no DataFrame will be returned.\n",
      "        If False, then these \"bad lines\" will dropped from the DataFrame that is\n",
      "        returned.\n",
      "    warn_bad_lines : boolean, default True\n",
      "        If error_bad_lines is False, and warn_bad_lines is True, a warning for each\n",
      "        \"bad line\" will be output.\n",
      "    low_memory : boolean, default True\n",
      "        Internally process the file in chunks, resulting in lower memory use\n",
      "        while parsing, but possibly mixed type inference.  To ensure no mixed\n",
      "        types either set False, or specify the type with the `dtype` parameter.\n",
      "        Note that the entire file is read into a single DataFrame regardless,\n",
      "        use the `chunksize` or `iterator` parameter to return the data in chunks.\n",
      "        (Only valid with C parser)\n",
      "    memory_map : boolean, default False\n",
      "        If a filepath is provided for `filepath_or_buffer`, map the file object\n",
      "        directly onto memory and access the data directly from there. Using this\n",
      "        option can improve performance because there is no longer any I/O overhead.\n",
      "    \n",
      "    Returns\n",
      "    -------\n",
      "    result : DataFrame or TextParser\n",
      "\n"
     ]
    }
   ],
   "source": [
    "help(pd.read_csv)"
   ]
  },
  {
   "cell_type": "code",
   "execution_count": 4,
   "metadata": {},
   "outputs": [
    {
     "name": "stdout",
     "output_type": "stream",
     "text": [
      "Title:  ASTM G173-03 Reference Spectra Derived from SMARTS v. 2.9.2\n",
      "Header line:  Wvlgth nm,Etr W*m-2*nm-1,Global tilt  W*m-2*nm-1,Direct+circumsolar W*m-2*nm-1\n"
     ]
    }
   ],
   "source": [
    "infile = open(filename,\"r\")\n",
    "\n",
    "title = infile.readline().strip()\n",
    "headline = infile.readline().strip()\n",
    "\n",
    "print(\"Title: \", title)\n",
    "print(\"Header line: \", headline)\n",
    "\n",
    "infile.close()"
   ]
  },
  {
   "cell_type": "markdown",
   "metadata": {},
   "source": [
    "### pd.read_csv() reports a Pandas data frame ###\n",
    "\n",
    "**Exercise:** Read the help of pd.read_csv and study the options. What do the keyword arguments names and skiprows do?"
   ]
  },
  {
   "cell_type": "code",
   "execution_count": 5,
   "metadata": {},
   "outputs": [
    {
     "data": {
      "text/html": [
       "<div>\n",
       "<style scoped>\n",
       "    .dataframe tbody tr th:only-of-type {\n",
       "        vertical-align: middle;\n",
       "    }\n",
       "\n",
       "    .dataframe tbody tr th {\n",
       "        vertical-align: top;\n",
       "    }\n",
       "\n",
       "    .dataframe thead th {\n",
       "        text-align: right;\n",
       "    }\n",
       "</style>\n",
       "<table border=\"1\" class=\"dataframe\">\n",
       "  <thead>\n",
       "    <tr style=\"text-align: right;\">\n",
       "      <th></th>\n",
       "      <th>280.0</th>\n",
       "      <th>8.2000E-02</th>\n",
       "      <th>4.7309E-23</th>\n",
       "      <th>2.5361E-26</th>\n",
       "    </tr>\n",
       "  </thead>\n",
       "  <tbody>\n",
       "    <tr>\n",
       "      <th>0</th>\n",
       "      <td>280.5</td>\n",
       "      <td>0.099</td>\n",
       "      <td>1.230700e-21</td>\n",
       "      <td>1.091700e-24</td>\n",
       "    </tr>\n",
       "    <tr>\n",
       "      <th>1</th>\n",
       "      <td>281.0</td>\n",
       "      <td>0.150</td>\n",
       "      <td>5.689500e-21</td>\n",
       "      <td>6.125300e-24</td>\n",
       "    </tr>\n",
       "    <tr>\n",
       "      <th>2</th>\n",
       "      <td>281.5</td>\n",
       "      <td>0.212</td>\n",
       "      <td>1.566200e-19</td>\n",
       "      <td>2.747900e-22</td>\n",
       "    </tr>\n",
       "    <tr>\n",
       "      <th>3</th>\n",
       "      <td>282.0</td>\n",
       "      <td>0.267</td>\n",
       "      <td>1.194600e-18</td>\n",
       "      <td>2.834600e-21</td>\n",
       "    </tr>\n",
       "    <tr>\n",
       "      <th>4</th>\n",
       "      <td>282.5</td>\n",
       "      <td>0.303</td>\n",
       "      <td>4.543600e-18</td>\n",
       "      <td>1.327100e-20</td>\n",
       "    </tr>\n",
       "  </tbody>\n",
       "</table>\n",
       "</div>"
      ],
      "text/plain": [
       "   280.0  8.2000E-02    4.7309E-23    2.5361E-26\n",
       "0  280.5       0.099  1.230700e-21  1.091700e-24\n",
       "1  281.0       0.150  5.689500e-21  6.125300e-24\n",
       "2  281.5       0.212  1.566200e-19  2.747900e-22\n",
       "3  282.0       0.267  1.194600e-18  2.834600e-21\n",
       "4  282.5       0.303  4.543600e-18  1.327100e-20"
      ]
     },
     "execution_count": 5,
     "metadata": {},
     "output_type": "execute_result"
    }
   ],
   "source": [
    "# The first remaining row is interpreted as column names. This is not intended.\n",
    "df1 = pd.read_csv(filename,skiprows = [0,1])\n",
    "df1.head()"
   ]
  },
  {
   "cell_type": "code",
   "execution_count": 6,
   "metadata": {},
   "outputs": [],
   "source": [
    "col_names = [\"Col 0\",\"Col 1\",\"Col 2\", \"Col 3\"]\n",
    "units = [\"unit 0\", \"unit 1\", \"unit 2\", \"unit 3\"]"
   ]
  },
  {
   "cell_type": "code",
   "execution_count": 7,
   "metadata": {},
   "outputs": [
    {
     "name": "stdout",
     "output_type": "stream",
     "text": [
      "df1 has dummy column headers. Good enough for now ...\n"
     ]
    },
    {
     "data": {
      "text/html": [
       "<div>\n",
       "<style scoped>\n",
       "    .dataframe tbody tr th:only-of-type {\n",
       "        vertical-align: middle;\n",
       "    }\n",
       "\n",
       "    .dataframe tbody tr th {\n",
       "        vertical-align: top;\n",
       "    }\n",
       "\n",
       "    .dataframe thead th {\n",
       "        text-align: right;\n",
       "    }\n",
       "</style>\n",
       "<table border=\"1\" class=\"dataframe\">\n",
       "  <thead>\n",
       "    <tr style=\"text-align: right;\">\n",
       "      <th></th>\n",
       "      <th>Col 0</th>\n",
       "      <th>Col 1</th>\n",
       "      <th>Col 2</th>\n",
       "      <th>Col 3</th>\n",
       "    </tr>\n",
       "  </thead>\n",
       "  <tbody>\n",
       "    <tr>\n",
       "      <th>0</th>\n",
       "      <td>280.0</td>\n",
       "      <td>0.082</td>\n",
       "      <td>4.730900e-23</td>\n",
       "      <td>2.536100e-26</td>\n",
       "    </tr>\n",
       "    <tr>\n",
       "      <th>1</th>\n",
       "      <td>280.5</td>\n",
       "      <td>0.099</td>\n",
       "      <td>1.230700e-21</td>\n",
       "      <td>1.091700e-24</td>\n",
       "    </tr>\n",
       "    <tr>\n",
       "      <th>2</th>\n",
       "      <td>281.0</td>\n",
       "      <td>0.150</td>\n",
       "      <td>5.689500e-21</td>\n",
       "      <td>6.125300e-24</td>\n",
       "    </tr>\n",
       "    <tr>\n",
       "      <th>3</th>\n",
       "      <td>281.5</td>\n",
       "      <td>0.212</td>\n",
       "      <td>1.566200e-19</td>\n",
       "      <td>2.747900e-22</td>\n",
       "    </tr>\n",
       "    <tr>\n",
       "      <th>4</th>\n",
       "      <td>282.0</td>\n",
       "      <td>0.267</td>\n",
       "      <td>1.194600e-18</td>\n",
       "      <td>2.834600e-21</td>\n",
       "    </tr>\n",
       "  </tbody>\n",
       "</table>\n",
       "</div>"
      ],
      "text/plain": [
       "   Col 0  Col 1         Col 2         Col 3\n",
       "0  280.0  0.082  4.730900e-23  2.536100e-26\n",
       "1  280.5  0.099  1.230700e-21  1.091700e-24\n",
       "2  281.0  0.150  5.689500e-21  6.125300e-24\n",
       "3  281.5  0.212  1.566200e-19  2.747900e-22\n",
       "4  282.0  0.267  1.194600e-18  2.834600e-21"
      ]
     },
     "execution_count": 7,
     "metadata": {},
     "output_type": "execute_result"
    }
   ],
   "source": [
    "# The use of the keyword names = ... names the dataframe columns correctly while reading.\n",
    "df1 = pd.read_csv(filename,skiprows = [0,1], names = col_names)\n",
    "print(\"df1 has dummy column headers. Good enough for now ...\")\n",
    "df1.head()"
   ]
  },
  {
   "cell_type": "markdown",
   "metadata": {},
   "source": [
    "**Exercise**\n",
    "\n",
    "The 1st row of the original csv data file contains the title (\"metadata\" or \"background info\").<br>\n",
    "The 2nd row contains column header information. Column names and units are mingled.<br>\n",
    "Both lines are already read earlier from the file (see previous code cells).\n",
    "\n",
    "Generate two new lists named `col_names` and `units` automatically from the 2nd line in the csv file. Use string operations to sprit the line and assign the elements to the two new lists."
   ]
  },
  {
   "cell_type": "markdown",
   "metadata": {},
   "source": [
    "**Solution**"
   ]
  },
  {
   "cell_type": "code",
   "execution_count": 8,
   "metadata": {},
   "outputs": [],
   "source": [
    "col_names = []\n",
    "units = []\n",
    "mylist = headline.split(sep=\",\")\n",
    "for s in mylist:\n",
    "    slist = s.split()\n",
    "    unit = slist[-1] # unit is last element of slist\n",
    "    units.append(unit)\n",
    "    \n",
    "    namelist = slist[:-1] # we have to take care for blanks in the column name\n",
    "    name = \" \".join(namelist)\n",
    "    col_names.append(name)\n"
   ]
  },
  {
   "cell_type": "code",
   "execution_count": 9,
   "metadata": {},
   "outputs": [
    {
     "name": "stdout",
     "output_type": "stream",
     "text": [
      "units:  ['nm', 'W*m-2*nm-1', 'W*m-2*nm-1', 'W*m-2*nm-1']\n",
      "col_names:  ['Wvlgth', 'Etr', 'Global tilt', 'Direct+circumsolar']\n"
     ]
    }
   ],
   "source": [
    "print(\"units: \", units)\n",
    "print(\"col_names: \", col_names)"
   ]
  },
  {
   "cell_type": "code",
   "execution_count": 10,
   "metadata": {},
   "outputs": [
    {
     "name": "stdout",
     "output_type": "stream",
     "text": [
      "df2 has the right column headers!\n"
     ]
    },
    {
     "data": {
      "text/html": [
       "<div>\n",
       "<style scoped>\n",
       "    .dataframe tbody tr th:only-of-type {\n",
       "        vertical-align: middle;\n",
       "    }\n",
       "\n",
       "    .dataframe tbody tr th {\n",
       "        vertical-align: top;\n",
       "    }\n",
       "\n",
       "    .dataframe thead th {\n",
       "        text-align: right;\n",
       "    }\n",
       "</style>\n",
       "<table border=\"1\" class=\"dataframe\">\n",
       "  <thead>\n",
       "    <tr style=\"text-align: right;\">\n",
       "      <th></th>\n",
       "      <th>Wvlgth</th>\n",
       "      <th>Etr</th>\n",
       "      <th>Global tilt</th>\n",
       "      <th>Direct+circumsolar</th>\n",
       "    </tr>\n",
       "  </thead>\n",
       "  <tbody>\n",
       "    <tr>\n",
       "      <th>0</th>\n",
       "      <td>280.0</td>\n",
       "      <td>0.082</td>\n",
       "      <td>4.730900e-23</td>\n",
       "      <td>2.536100e-26</td>\n",
       "    </tr>\n",
       "    <tr>\n",
       "      <th>1</th>\n",
       "      <td>280.5</td>\n",
       "      <td>0.099</td>\n",
       "      <td>1.230700e-21</td>\n",
       "      <td>1.091700e-24</td>\n",
       "    </tr>\n",
       "    <tr>\n",
       "      <th>2</th>\n",
       "      <td>281.0</td>\n",
       "      <td>0.150</td>\n",
       "      <td>5.689500e-21</td>\n",
       "      <td>6.125300e-24</td>\n",
       "    </tr>\n",
       "    <tr>\n",
       "      <th>3</th>\n",
       "      <td>281.5</td>\n",
       "      <td>0.212</td>\n",
       "      <td>1.566200e-19</td>\n",
       "      <td>2.747900e-22</td>\n",
       "    </tr>\n",
       "    <tr>\n",
       "      <th>4</th>\n",
       "      <td>282.0</td>\n",
       "      <td>0.267</td>\n",
       "      <td>1.194600e-18</td>\n",
       "      <td>2.834600e-21</td>\n",
       "    </tr>\n",
       "  </tbody>\n",
       "</table>\n",
       "</div>"
      ],
      "text/plain": [
       "   Wvlgth    Etr   Global tilt  Direct+circumsolar\n",
       "0   280.0  0.082  4.730900e-23        2.536100e-26\n",
       "1   280.5  0.099  1.230700e-21        1.091700e-24\n",
       "2   281.0  0.150  5.689500e-21        6.125300e-24\n",
       "3   281.5  0.212  1.566200e-19        2.747900e-22\n",
       "4   282.0  0.267  1.194600e-18        2.834600e-21"
      ]
     },
     "execution_count": 10,
     "metadata": {},
     "output_type": "execute_result"
    }
   ],
   "source": [
    "df2 = pd.read_csv(filename,skiprows = [0,1], names = col_names)\n",
    "print(\"df2 has the right column headers!\")\n",
    "df2.head()"
   ]
  },
  {
   "cell_type": "markdown",
   "metadata": {},
   "source": [
    "### Anatomy of a Pandas Data Frame ###\n",
    "\n",
    "A dataframe consists of three major elements: columns, index, values.\n",
    "\n",
    "Please take note of the structures and the datatypes!"
   ]
  },
  {
   "cell_type": "code",
   "execution_count": 11,
   "metadata": {},
   "outputs": [
    {
     "name": "stdout",
     "output_type": "stream",
     "text": [
      "(1) df2.columns:  Index(['Wvlgth', 'Etr', 'Global tilt', 'Direct+circumsolar'], dtype='object')\n",
      "(2) df2.index:  RangeIndex(start=0, stop=2002, step=1)\n",
      "(3) type(df2.values):  <class 'numpy.ndarray'>\n",
      "(4) df2.head(7): (plots the first 7 rows of the dataframe)\n"
     ]
    },
    {
     "data": {
      "text/html": [
       "<div>\n",
       "<style scoped>\n",
       "    .dataframe tbody tr th:only-of-type {\n",
       "        vertical-align: middle;\n",
       "    }\n",
       "\n",
       "    .dataframe tbody tr th {\n",
       "        vertical-align: top;\n",
       "    }\n",
       "\n",
       "    .dataframe thead th {\n",
       "        text-align: right;\n",
       "    }\n",
       "</style>\n",
       "<table border=\"1\" class=\"dataframe\">\n",
       "  <thead>\n",
       "    <tr style=\"text-align: right;\">\n",
       "      <th></th>\n",
       "      <th>Wvlgth</th>\n",
       "      <th>Etr</th>\n",
       "      <th>Global tilt</th>\n",
       "      <th>Direct+circumsolar</th>\n",
       "    </tr>\n",
       "  </thead>\n",
       "  <tbody>\n",
       "    <tr>\n",
       "      <th>0</th>\n",
       "      <td>280.0</td>\n",
       "      <td>0.082</td>\n",
       "      <td>4.730900e-23</td>\n",
       "      <td>2.536100e-26</td>\n",
       "    </tr>\n",
       "    <tr>\n",
       "      <th>1</th>\n",
       "      <td>280.5</td>\n",
       "      <td>0.099</td>\n",
       "      <td>1.230700e-21</td>\n",
       "      <td>1.091700e-24</td>\n",
       "    </tr>\n",
       "    <tr>\n",
       "      <th>2</th>\n",
       "      <td>281.0</td>\n",
       "      <td>0.150</td>\n",
       "      <td>5.689500e-21</td>\n",
       "      <td>6.125300e-24</td>\n",
       "    </tr>\n",
       "    <tr>\n",
       "      <th>3</th>\n",
       "      <td>281.5</td>\n",
       "      <td>0.212</td>\n",
       "      <td>1.566200e-19</td>\n",
       "      <td>2.747900e-22</td>\n",
       "    </tr>\n",
       "    <tr>\n",
       "      <th>4</th>\n",
       "      <td>282.0</td>\n",
       "      <td>0.267</td>\n",
       "      <td>1.194600e-18</td>\n",
       "      <td>2.834600e-21</td>\n",
       "    </tr>\n",
       "    <tr>\n",
       "      <th>5</th>\n",
       "      <td>282.5</td>\n",
       "      <td>0.303</td>\n",
       "      <td>4.543600e-18</td>\n",
       "      <td>1.327100e-20</td>\n",
       "    </tr>\n",
       "    <tr>\n",
       "      <th>6</th>\n",
       "      <td>283.0</td>\n",
       "      <td>0.325</td>\n",
       "      <td>1.845200e-17</td>\n",
       "      <td>6.764600e-20</td>\n",
       "    </tr>\n",
       "  </tbody>\n",
       "</table>\n",
       "</div>"
      ],
      "text/plain": [
       "   Wvlgth    Etr   Global tilt  Direct+circumsolar\n",
       "0   280.0  0.082  4.730900e-23        2.536100e-26\n",
       "1   280.5  0.099  1.230700e-21        1.091700e-24\n",
       "2   281.0  0.150  5.689500e-21        6.125300e-24\n",
       "3   281.5  0.212  1.566200e-19        2.747900e-22\n",
       "4   282.0  0.267  1.194600e-18        2.834600e-21\n",
       "5   282.5  0.303  4.543600e-18        1.327100e-20\n",
       "6   283.0  0.325  1.845200e-17        6.764600e-20"
      ]
     },
     "execution_count": 11,
     "metadata": {},
     "output_type": "execute_result"
    }
   ],
   "source": [
    "print(\"(1) df2.columns: \", df2.columns)\n",
    "print(\"(2) df2.index: \", df2.index)\n",
    "print(\"(3) type(df2.values): \",type(df2.values))\n",
    "print(\"(4) df2.head(7): (plots the first 7 rows of the dataframe)\")\n",
    "df2.head(7)"
   ]
  },
  {
   "cell_type": "markdown",
   "metadata": {},
   "source": [
    "### Pandas Data Frames and Series are very powerful. ###\n",
    "\n",
    "**google it** to get an idea of Pandas capabilities.\n",
    "\n"
   ]
  },
  {
   "cell_type": "markdown",
   "metadata": {},
   "source": [
    "A **Pandas dataframe column** is a **Pandas series**. They behave **like numpy arrays**, e.g.:"
   ]
  },
  {
   "cell_type": "code",
   "execution_count": 12,
   "metadata": {},
   "outputs": [
    {
     "name": "stdout",
     "output_type": "stream",
     "text": [
      "type(ser1):  <class 'pandas.core.series.Series'>\n",
      "ser1.head(5):\n",
      "0    0.082\n",
      "1    0.099\n",
      "2    0.150\n",
      "3    0.212\n",
      "4    0.267\n",
      "Name: Col 1, dtype: float64\n",
      "\n",
      "\n",
      "type(ser2):  <class 'pandas.core.series.Series'>\n",
      "ser2.head(5):\n",
      "0    4.730900e-23\n",
      "1    1.230700e-21\n",
      "2    5.689500e-21\n",
      "3    1.566200e-19\n",
      "4    1.194600e-18\n",
      "Name: Col 2, dtype: float64\n",
      "\n",
      "\n",
      "\n",
      "Use series in calculations. The result is a series again:\n",
      "\n",
      "\n",
      "type(ser3):  <class 'pandas.core.series.Series'>\n",
      "ser3.head(7):\n",
      "0   -2.113763e+22\n",
      "1   -8.125457e+20\n",
      "2   -1.757624e+20\n",
      "3   -6.384881e+18\n",
      "4   -8.371003e+17\n",
      "5   -2.200898e+17\n",
      "6   -5.419467e+16\n",
      "dtype: float64\n"
     ]
    }
   ],
   "source": [
    "ser1 = df1[\"Col 1\"]\n",
    "ser2 = df1[\"Col 2\"]\n",
    "print(\"type(ser1): \", type(ser1))\n",
    "print(\"ser1.head(5):\")\n",
    "print(ser1.head(5))\n",
    "\n",
    "print(\"\\n\")\n",
    "\n",
    "print(\"type(ser2): \", type(ser2))\n",
    "print(\"ser2.head(5):\")\n",
    "print(ser2.head(5))\n",
    "\n",
    "print(\"\\n\\n\")\n",
    "\n",
    "print(\"Use series in calculations. The result is a series again:\")\n",
    "# any random operation, just an example ...\n",
    "ser3 = 2*ser1**2 - 1/ser2 \n",
    "print(\"\\n\")\n",
    "print(\"type(ser3): \", type(ser3))\n",
    "print(\"ser3.head(7):\")\n",
    "print(ser3.head(7))"
   ]
  },
  {
   "cell_type": "markdown",
   "metadata": {},
   "source": [
    "**Exercise:** <br>\n",
    "Create a third dataframe by **copying** the first dataframe. <br> \n",
    "`df3 = df1` **does not do the job!** It just creates a reference to the first dataframe. <br>\n",
    "To really copy data into another memory location you have to call<br>\n",
    "`df3 = df1.copy()`\n",
    "\n",
    "Now use the `col_names` list to **rename the columns** with useful names. Replace the column headers of `df3` with the useful names listed in your `col_names` list. \n",
    "\n",
    "This is done by `df3.rename(...)`. Open the Pandas reference website and search for `rename()`. Hint: You have to create a dictionary mapping old names to new names.\n",
    "\n",
    "What is an index? Make the Wavelength column the **index** of `df3`.  "
   ]
  },
  {
   "cell_type": "code",
   "execution_count": 13,
   "metadata": {},
   "outputs": [
    {
     "name": "stdout",
     "output_type": "stream",
     "text": [
      "type(df3[\"Col 1\"]):  <class 'pandas.core.series.Series'>\n"
     ]
    }
   ],
   "source": [
    "df3 = df1.copy()\n",
    "print ('type(df3[\"Col 1\"]): ', type(df3[\"Col 1\"]))\n",
    "\n",
    "# go on ... \n",
    "\n",
    "# This should work after column renaming.\n",
    "# print ('type(df3[\"Etr\"]): ', type(df3[\"Etr\"]))\n"
   ]
  },
  {
   "cell_type": "markdown",
   "metadata": {},
   "source": [
    "### Let's plot! ###"
   ]
  },
  {
   "cell_type": "code",
   "execution_count": 14,
   "metadata": {},
   "outputs": [],
   "source": [
    "%matplotlib inline\n",
    "import matplotlib as mpl\n",
    "import matplotlib.pyplot as plt"
   ]
  },
  {
   "cell_type": "markdown",
   "metadata": {},
   "source": [
    "**Exercise:**<br>\n",
    "Call `df2[\"Etr\"].plot()`  - or whatever the new column name of the extraterrestial irrandiance is - without any arguments.<br>\n",
    "Isn't it cool? `df2[\"Etr\"]` is a Pandas series object. **A Pandas series brings its own (simple) plot function with it!**<br> \n",
    "Note the x-axis scaling. By default (with no arguments passed to .plot()) it plots the series values (here: irradiance) against the index of the series (here: wavelength)."
   ]
  },
  {
   "cell_type": "code",
   "execution_count": 15,
   "metadata": {},
   "outputs": [
    {
     "data": {
      "text/plain": [
       "<matplotlib.axes._subplots.AxesSubplot at 0x189f8a8cef0>"
      ]
     },
     "execution_count": 15,
     "metadata": {},
     "output_type": "execute_result"
    },
    {
     "data": {
      "image/png": "[encoded data removed]",
      "text/plain": [
       "<Figure size 432x288 with 1 Axes>"
      ]
     },
     "metadata": {
      "needs_background": "light"
     },
     "output_type": "display_data"
    }
   ],
   "source": [
    "# The quick and easy way:\n",
    "df2[\"Etr\"].plot()"
   ]
  },
  {
   "cell_type": "markdown",
   "metadata": {},
   "source": [
    "**A Pandas dataframe provides a plot method**, too. Look at the example:"
   ]
  },
  {
   "cell_type": "code",
   "execution_count": 16,
   "metadata": {
    "scrolled": true
   },
   "outputs": [
    {
     "data": {
      "image/png": "[encoded data removed]",
      "text/plain": [
       "<Figure size 432x288 with 1 Axes>"
      ]
     },
     "metadata": {
      "needs_background": "light"
     },
     "output_type": "display_data"
    }
   ],
   "source": [
    "df1.plot(x = \"Col 0\", y = [\"Col 1\", \"Col 2\", \"Col 3\"])\n",
    "plt.show()"
   ]
  },
  {
   "cell_type": "markdown",
   "metadata": {},
   "source": [
    "To **gain more control in Pandas dataframe plotting** the `df.plot()` can be embedded in a `plt.figure()`. The trick is to pass the axis object (here named `ax1`) to the df.plot function."
   ]
  },
  {
   "cell_type": "code",
   "execution_count": 17,
   "metadata": {},
   "outputs": [
    {
     "data": {
      "image/png": "[encoded data removed]",
      "text/plain": [
       "<Figure size 544x408 with 1 Axes>"
      ]
     },
     "metadata": {
      "needs_background": "light"
     },
     "output_type": "display_data"
    }
   ],
   "source": [
    "fig = plt.figure(figsize = (4,3), dpi = 136)\n",
    "ax1 = fig.add_subplot(111)\n",
    "h = df1.plot(x = \"Col 0\", y = [\"Col 1\", \"Col 2\", \"Col 3\"], ax = ax1)\n",
    "ax1.grid(True)\n",
    "plt.show()"
   ]
  },
  {
   "cell_type": "markdown",
   "metadata": {},
   "source": [
    "This works also for a **Pandas series plotting**:"
   ]
  },
  {
   "cell_type": "code",
   "execution_count": 18,
   "metadata": {},
   "outputs": [
    {
     "data": {
      "image/png": "[encoded data removed]",
      "text/plain": [
       "<Figure size 544x408 with 1 Axes>"
      ]
     },
     "metadata": {
      "needs_background": "light"
     },
     "output_type": "display_data"
    }
   ],
   "source": [
    "fig = plt.figure(figsize = (4,3), dpi = 136)\n",
    "ax = fig.add_subplot(111)\n",
    "ax.set_title(\"Extraterrestial Irradiance at AM0\")\n",
    "ax.set_xlabel(\"$\\lambda$ / nm\")\n",
    "ax.set_ylabel(\"$E_\\lambda$ / $\\mathrm{W/(m^2 nm)}$\")\n",
    "df2[\"Etr\"].plot(ax = ax, grid = True)\n",
    "plt.show()"
   ]
  },
  {
   "cell_type": "markdown",
   "metadata": {},
   "source": [
    "### Numerical Computing ###\n",
    "\n",
    "**Pandas series behave similarly to numpy arrays!**"
   ]
  },
  {
   "cell_type": "markdown",
   "metadata": {},
   "source": [
    "**Exercise:** Compute the spectral transmissivity from the data. Which columns would you use?"
   ]
  },
  {
   "cell_type": "code",
   "execution_count": null,
   "metadata": {},
   "outputs": [],
   "source": []
  },
  {
   "cell_type": "markdown",
   "metadata": {},
   "source": [
    "**Exercise:** Integrate the three spectral irradiance curves numerically with the trapezoid method."
   ]
  },
  {
   "cell_type": "code",
   "execution_count": null,
   "metadata": {},
   "outputs": [],
   "source": []
  }
 ],
 "metadata": {
  "kernelspec": {
   "display_name": "Python 3",
   "language": "python",
   "name": "python3"
  },
  "language_info": {
   "codemirror_mode": {
    "name": "ipython",
    "version": 3
   },
   "file_extension": ".py",
   "mimetype": "text/x-python",
   "name": "python",
   "nbconvert_exporter": "python",
   "pygments_lexer": "ipython3",
   "version": "3.8.6"
  }
 },
 "nbformat": 4,
 "nbformat_minor": 4
}
