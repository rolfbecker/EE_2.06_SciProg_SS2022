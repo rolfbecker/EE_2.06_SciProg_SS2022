{
 "cells": [
  {
   "cell_type": "markdown",
   "metadata": {},
   "source": [
    "# From HPL, Ch. 4: File input and Output (File IO)"
   ]
  },
  {
   "cell_type": "markdown",
   "metadata": {},
   "source": [
    "## Reading data from files\n",
    "\n",
    "Scientific data are often available in files. We want to read the data\n",
    "into objects in a program to compute with the data.\n",
    "\n",
    "\n",
    "\n",
    "**Example on a data file.**"
   ]
  },
  {
   "cell_type": "markdown",
   "metadata": {},
   "source": [
    "        21.8\n",
    "        18.1\n",
    "        19\n",
    "        23\n",
    "        26\n",
    "        17.8\n"
   ]
  },
  {
   "cell_type": "markdown",
   "metadata": {},
   "source": [
    "One number on each line. How can we read these numbers?\n",
    "\n",
    "\n",
    "\n",
    "<!-- Have to make a tmp.txt file with the right content -->"
   ]
  },
  {
   "cell_type": "code",
   "execution_count": 14,
   "metadata": {},
   "outputs": [],
   "source": [
    "f = open('data.txt', 'w')\n",
    "f.write(\"\"\"21.8\n",
    "18.1\n",
    "19\n",
    "23\n",
    "26\n",
    "17.8\n",
    "\"\"\")\n",
    "f.close()"
   ]
  },
  {
   "cell_type": "markdown",
   "metadata": {},
   "source": [
    "## Reading a file line by line\n",
    "\n",
    "Basic file reading:"
   ]
  },
  {
   "cell_type": "markdown",
   "metadata": {},
   "source": [
    "```Python\n",
    "        infile = open('data.txt', 'r')    # open file\n",
    "        for line in infile:\n",
    "            # do something with line\n",
    "        infile.close()                    # close file\n",
    "```"
   ]
  },
  {
   "cell_type": "markdown",
   "metadata": {},
   "source": [
    "Compute the mean values of the numbers in the file:"
   ]
  },
  {
   "cell_type": "code",
   "execution_count": 15,
   "metadata": {},
   "outputs": [
    {
     "name": "stdout",
     "output_type": "stream",
     "text": [
      "number=21.8\n",
      "number=18.1\n",
      "number=19\n",
      "number=23\n",
      "number=26\n",
      "number=17.8\n",
      "Mean: 20.950\n"
     ]
    }
   ],
   "source": [
    "infile = open('data.txt', 'r')    # open file\n",
    "mean = 0\n",
    "n = 0\n",
    "for line in infile:\n",
    "    n += 1\n",
    "    number = float(line)          # line is string\n",
    "    mean = mean + number\n",
    "    print('number={:g}'.format(number))\n",
    "    \n",
    "mean = mean/n\n",
    "print(\"Mean: %.3f\" % mean)"
   ]
  },
  {
   "cell_type": "markdown",
   "metadata": {},
   "source": [
    "## Alternative ways to read a file\n",
    "\n",
    "Read all lines at once into a list of strings (lines):"
   ]
  },
  {
   "cell_type": "markdown",
   "metadata": {},
   "source": [
    "```Python\n",
    "        lines = infile.readlines()\n",
    "        for line in lines:\n",
    "            # process line\n",
    "        infile.close()\n",
    "```"
   ]
  },
  {
   "cell_type": "markdown",
   "metadata": {},
   "source": [
    "The modern `with` statement:"
   ]
  },
  {
   "cell_type": "markdown",
   "metadata": {},
   "source": [
    "```Python\n",
    "        with open('data.txt', 'r') as infile:\n",
    "            for line in infile:\n",
    "                # process line\n",
    "```"
   ]
  },
  {
   "cell_type": "markdown",
   "metadata": {},
   "source": [
    "The old-fashioned `while` construction:"
   ]
  },
  {
   "cell_type": "markdown",
   "metadata": {},
   "source": [
    "```Python\n",
    "        while True:\n",
    "            line = infile.readline()\n",
    "            if not line:\n",
    "                break\n",
    "            # process line\n",
    "        infile.close()\n",
    "```"
   ]
  },
  {
   "cell_type": "markdown",
   "metadata": {},
   "source": [
    "Reading the whole file into a string:"
   ]
  },
  {
   "cell_type": "markdown",
   "metadata": {},
   "source": [
    "```Python\n",
    "        text = infile.read()\n",
    "        # process the string text\n",
    "```"
   ]
  },
  {
   "cell_type": "markdown",
   "metadata": {},
   "source": [
    "## Demo of file reading\n",
    "\n",
    "**File:**\n",
    "\n",
    "Line 1.\n",
    "Line 2.\n",
    "Line 3.\n",
    "Line 4.\n",
    "\n",
    "\n",
    "\n",
    "<!-- Have to make a data.txt file with the right content -->"
   ]
  },
  {
   "cell_type": "code",
   "execution_count": 16,
   "metadata": {},
   "outputs": [],
   "source": [
    "f = open('tmp.txt', 'w')\n",
    "f.write(\"\"\"Line 1.\n",
    "Line 2.\n",
    "Line 3.\n",
    "Line 4.\n",
    "\"\"\")\n",
    "f.close()"
   ]
  },
  {
   "cell_type": "markdown",
   "metadata": {},
   "source": [
    "**Session:**"
   ]
  },
  {
   "cell_type": "code",
   "execution_count": 17,
   "metadata": {},
   "outputs": [
    {
     "data": {
      "text/plain": [
       "['Line 1.\\n', 'Line 2.\\n', 'Line 3.\\n', 'Line 4.\\n']"
      ]
     },
     "execution_count": 17,
     "metadata": {},
     "output_type": "execute_result"
    }
   ],
   "source": [
    "infile = open('tmp.txt', 'r')\n",
    "lines = infile.readlines()  # read all lines\n",
    "lines"
   ]
  },
  {
   "cell_type": "code",
   "execution_count": 18,
   "metadata": {},
   "outputs": [
    {
     "data": {
      "text/plain": [
       "''"
      ]
     },
     "execution_count": 18,
     "metadata": {},
     "output_type": "execute_result"
    }
   ],
   "source": [
    "infile.readline()  # no more to read"
   ]
  },
  {
   "cell_type": "code",
   "execution_count": 19,
   "metadata": {},
   "outputs": [
    {
     "data": {
      "text/plain": [
       "'Line 1.\\n'"
      ]
     },
     "execution_count": 19,
     "metadata": {},
     "output_type": "execute_result"
    }
   ],
   "source": [
    "infile = open('tmp.txt', 'r')\n",
    "infile.readline()    # read one line"
   ]
  },
  {
   "cell_type": "code",
   "execution_count": 20,
   "metadata": {},
   "outputs": [
    {
     "data": {
      "text/plain": [
       "'Line 2.\\n'"
      ]
     },
     "execution_count": 20,
     "metadata": {},
     "output_type": "execute_result"
    }
   ],
   "source": [
    "infile.readline()    # read next line"
   ]
  },
  {
   "cell_type": "code",
   "execution_count": 21,
   "metadata": {},
   "outputs": [
    {
     "name": "stdout",
     "output_type": "stream",
     "text": [
      "Line 3.\n",
      "\n",
      "Line 4.\n",
      "\n"
     ]
    }
   ],
   "source": [
    "for line in infile:  # read the next lines to the end\n",
    "    print(line)"
   ]
  },
  {
   "cell_type": "markdown",
   "metadata": {},
   "source": [
    "## More demo of file reading and string splitting"
   ]
  },
  {
   "cell_type": "code",
   "execution_count": 22,
   "metadata": {},
   "outputs": [
    {
     "data": {
      "text/plain": [
       "'Line 1.\\nLine 2.\\nLine 3.\\nLine 4.\\n'"
      ]
     },
     "execution_count": 22,
     "metadata": {},
     "output_type": "execute_result"
    }
   ],
   "source": [
    "infile = open('tmp.txt', 'r')\n",
    "filestr = infile.read()\n",
    "filestr"
   ]
  },
  {
   "cell_type": "code",
   "execution_count": 23,
   "metadata": {},
   "outputs": [
    {
     "data": {
      "text/plain": [
       "['Line', '1.', 'Line', '2.', 'Line', '3.', 'Line', '4.']"
      ]
     },
     "execution_count": 23,
     "metadata": {},
     "output_type": "execute_result"
    }
   ],
   "source": [
    "filestr.split()  # split out all words"
   ]
  },
  {
   "cell_type": "code",
   "execution_count": 24,
   "metadata": {},
   "outputs": [
    {
     "data": {
      "text/plain": [
       "['Line', '3.']"
      ]
     },
     "execution_count": 24,
     "metadata": {},
     "output_type": "execute_result"
    }
   ],
   "source": [
    "line = 'Line 3.\\n'\n",
    "line.split()"
   ]
  },
  {
   "cell_type": "code",
   "execution_count": 25,
   "metadata": {},
   "outputs": [
    {
     "data": {
      "text/plain": [
       "['Lin', ' 3.\\n']"
      ]
     },
     "execution_count": 25,
     "metadata": {},
     "output_type": "execute_result"
    }
   ],
   "source": [
    "line.split('e')"
   ]
  },
  {
   "cell_type": "markdown",
   "metadata": {},
   "source": [
    "## Most data files contain text mixed with numbers\n",
    "\n",
    "**File with data about rainfall:**"
   ]
  },
  {
   "cell_type": "markdown",
   "metadata": {},
   "source": [
    "        Average rainfall (in mm) in Rome: 1188 months between 1782 and 1970\n",
    "        Jan  81.2\n",
    "        Feb  63.2\n",
    "        Mar  70.3\n",
    "        Apr  55.7\n",
    "        May  53.0\n",
    "        Jun  36.4\n",
    "        Jul  17.5\n",
    "        Aug  27.5\n",
    "        Sep  60.9\n",
    "        Oct  117.7\n",
    "        Nov  111.0\n",
    "        Dec  97.9\n",
    "        Year 792.9\n"
   ]
  },
  {
   "cell_type": "markdown",
   "metadata": {},
   "source": [
    "How do we read such a file?\n",
    "\n",
    "\n",
    "\n",
    "<!-- Have to make a rainfall.txt file with the right content -->"
   ]
  },
  {
   "cell_type": "code",
   "execution_count": 30,
   "metadata": {},
   "outputs": [],
   "source": [
    "f = open('rainfall.dat', 'w')\n",
    "f.write(\"\"\"Average rainfall (in mm) in Rome: 1188 months between 1782 and 1970\n",
    "Jan  81.2\n",
    "Feb  63.2\n",
    "Mar  70.3\n",
    "Apr  55.7\n",
    "May  53.0\n",
    "Jun  36.4\n",
    "Jul  17.5\n",
    "Aug  27.5\n",
    "Sep  60.9\n",
    "Oct  117.7\n",
    "Nov  111.0\n",
    "Dec  97.9\n",
    "Year 792.9\n",
    "\"\"\")\n",
    "f.close()"
   ]
  },
  {
   "cell_type": "markdown",
   "metadata": {},
   "source": [
    "## Reading a mixture of text and numbers\n",
    "\n",
    "The key idea to process each line is to split the line into\n",
    "words:"
   ]
  },
  {
   "cell_type": "markdown",
   "metadata": {},
   "source": [
    "```Python\n",
    "        months = []\n",
    "        values = []\n",
    "        for line in infile:\n",
    "            words = line.split()  # split into words\n",
    "            if words[0] != 'Year':\n",
    "                months.append(words[0])\n",
    "                values.append(float(words[1]))\n",
    "```"
   ]
  },
  {
   "cell_type": "markdown",
   "metadata": {},
   "source": [
    "Can split with respect to any string `s`: `line.split(s)`"
   ]
  },
  {
   "cell_type": "code",
   "execution_count": 31,
   "metadata": {},
   "outputs": [
    {
     "data": {
      "text/plain": [
       "['Oct', '117.7']"
      ]
     },
     "execution_count": 31,
     "metadata": {},
     "output_type": "execute_result"
    }
   ],
   "source": [
    "line = 'Oct  117.7'\n",
    "words = line.split()\n",
    "words"
   ]
  },
  {
   "cell_type": "code",
   "execution_count": 32,
   "metadata": {},
   "outputs": [
    {
     "data": {
      "text/plain": [
       "str"
      ]
     },
     "execution_count": 32,
     "metadata": {},
     "output_type": "execute_result"
    }
   ],
   "source": [
    "type(words[1])   # string, not a number!"
   ]
  },
  {
   "cell_type": "markdown",
   "metadata": {},
   "source": [
    "## Complete program for reading rainfall data"
   ]
  },
  {
   "cell_type": "code",
   "execution_count": 33,
   "metadata": {},
   "outputs": [
    {
     "name": "stdout",
     "output_type": "stream",
     "text": [
      "The average rainfall for the months:\n",
      "Jan 81.2\n",
      "Feb 63.2\n",
      "Mar 70.3\n",
      "Apr 55.7\n",
      "May 53.0\n",
      "Jun 36.4\n",
      "Jul 17.5\n",
      "Aug 27.5\n",
      "Sep 60.9\n",
      "Oct 117.7\n",
      "Nov 111.0\n",
      "Dec 97.9\n",
      "The average rainfall for the year: 792.9\n"
     ]
    }
   ],
   "source": [
    "def extract_data(filename):\n",
    "    infile = open(filename, 'r')\n",
    "    infile.readline() # skip the first line\n",
    "    months = []\n",
    "    rainfall = []\n",
    "    for line in infile:\n",
    "        words = line.split()\n",
    "        # words[0]: month, words[1]: rainfall\n",
    "        months.append(words[0])\n",
    "        rainfall.append(float(words[1]))\n",
    "    infile.close()\n",
    "    months = months[:-1]      # Drop the \"Year\" entry\n",
    "    annual_avg = rainfall[-1] # Store the annual average\n",
    "    rainfall = rainfall[:-1]  # Redefine to contain monthly data\n",
    "    return months, rainfall, annual_avg\n",
    "\n",
    "months, values, avg = extract_data('rainfall.dat')\n",
    "print('The average rainfall for the months:')\n",
    "for month, value in zip(months, values):\n",
    "    print(month, value)\n",
    "print('The average rainfall for the year:', avg)"
   ]
  },
  {
   "cell_type": "markdown",
   "metadata": {},
   "source": [
    "## Writing data to file\n",
    "\n",
    "Basic pattern:"
   ]
  },
  {
   "cell_type": "markdown",
   "metadata": {},
   "source": [
    "```Python\n",
    "        outfile = open(filename, 'w')  # 'w' for writing\n",
    "        \n",
    "        for data in somelist:\n",
    "            outfile.write(sometext + '\\n')\n",
    "        \n",
    "        outfile.close()\n",
    "```"
   ]
  },
  {
   "cell_type": "markdown",
   "metadata": {},
   "source": [
    "Can *append* text to a file with `open(filename, 'a')`.\n",
    "\n",
    "\n",
    "\n",
    "## Example: Writing a table to file\n",
    "\n",
    "**Problem:**\n",
    "\n",
    "We have a nested list (rows and columns):"
   ]
  },
  {
   "cell_type": "code",
   "execution_count": 34,
   "metadata": {},
   "outputs": [],
   "source": [
    "data = \\\n",
    "[[ 0.75,        0.29619813, -0.29619813, -0.75      ],\n",
    " [ 0.29619813,  0.11697778, -0.11697778, -0.29619813],\n",
    " [-0.29619813, -0.11697778,  0.11697778,  0.29619813],\n",
    " [-0.75,       -0.29619813,  0.29619813,  0.75      ]]"
   ]
  },
  {
   "cell_type": "code",
   "execution_count": 35,
   "metadata": {},
   "outputs": [
    {
     "data": {
      "text/plain": [
       "[[0.75, 0.29619813, -0.29619813, -0.75],\n",
       " [0.29619813, 0.11697778, -0.11697778, -0.29619813],\n",
       " [-0.29619813, -0.11697778, 0.11697778, 0.29619813],\n",
       " [-0.75, -0.29619813, 0.29619813, 0.75]]"
      ]
     },
     "execution_count": 35,
     "metadata": {},
     "output_type": "execute_result"
    }
   ],
   "source": [
    "data"
   ]
  },
  {
   "cell_type": "markdown",
   "metadata": {},
   "source": [
    "Write these data to file in tabular form\n",
    "\n",
    "\n",
    "\n",
    "**Solution:**"
   ]
  },
  {
   "cell_type": "code",
   "execution_count": 36,
   "metadata": {},
   "outputs": [],
   "source": [
    "outfile = open('tmp_table.dat', 'w')\n",
    "for row in data:\n",
    "    for column in row:\n",
    "        outfile.write('{:14.8f}'.format(column))\n",
    "    outfile.write('\\n')\n",
    "outfile.close()"
   ]
  },
  {
   "cell_type": "markdown",
   "metadata": {},
   "source": [
    "**Resulting file:**"
   ]
  },
  {
   "cell_type": "markdown",
   "metadata": {},
   "source": [
    "            0.75000000    0.29619813   -0.29619813   -0.75000000\n",
    "            0.29619813    0.11697778   -0.11697778   -0.29619813\n",
    "           -0.29619813   -0.11697778    0.11697778    0.29619813\n",
    "           -0.75000000   -0.29619813    0.29619813    0.75000000\n"
   ]
  },
  {
   "cell_type": "markdown",
   "metadata": {},
   "source": [
    "## What is a file?\n",
    "\n",
    "  * A file is a sequence of characters\n",
    "\n",
    "  * For simple text files, each character is one byte (=8 bits, a bit is 0 or 1), which gives $2^8=256$ different characters\n",
    "\n",
    "  * (Text files in, e.g., Chinese and Japanese need several bytes for each character)\n",
    "\n",
    "  * Save the text \"ABCD\" to file in Gedit/Emacs and OpenOffice/Word and examine the file!\n",
    "\n",
    "  * File reading in Python is about either reading all characters (`read`) or\n",
    "    reading line by line (`readline`, `readlines`, `for line in fileobj`)\n"
   ]
  },
  {
   "cell_type": "markdown",
   "metadata": {},
   "source": [
    "## Summary of file reading and writing"
   ]
  },
  {
   "cell_type": "markdown",
   "metadata": {},
   "source": [
    "```Python\n",
    "        infile  = open(filename, 'r')   # read\n",
    "        outfile = open(filename, 'w')   # write\n",
    "        outfile = open(filename, 'a')   # append\n",
    "        \n",
    "        # Reading\n",
    "        line    = infile.readline()   # read the next line\n",
    "        filestr = infile.read()       # read rest of file into string\n",
    "        lines   = infile.readlines()  # read rest of file into list\n",
    "        for line in infile:           # read rest of file line by line\n",
    "        \n",
    "        # Writing\n",
    "        outfile.write(s)   # add \\n if you need it\n",
    "        \n",
    "        # Closing\n",
    "        infile.close()\n",
    "        outfile.close()\n",
    "```"
   ]
  }
 ],
 "metadata": {
  "kernelspec": {
   "display_name": "Python 3",
   "language": "python",
   "name": "python3"
  },
  "language_info": {
   "codemirror_mode": {
    "name": "ipython",
    "version": 3
   },
   "file_extension": ".py",
   "mimetype": "text/x-python",
   "name": "python",
   "nbconvert_exporter": "python",
   "pygments_lexer": "ipython3",
   "version": "3.6.7"
  }
 },
 "nbformat": 4,
 "nbformat_minor": 2
}
