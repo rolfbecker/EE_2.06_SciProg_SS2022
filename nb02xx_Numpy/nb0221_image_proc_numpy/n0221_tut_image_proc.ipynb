{
 "cells": [
  {
   "cell_type": "markdown",
   "metadata": {},
   "source": [
    "## Image processing with NumPy ##\n",
    "### Files: ###\n",
    "* nb101_ee_sciprog_tutorial_image_001.ipynb\n",
    "* plant_4500_3000.png (file can be resized and renamed, but plotting subset of image needs to be rewritten, currently hard-coded)\n",
    "\n",
    "All files must be in the same directory.\n",
    "\n",
    "### Description ###\n",
    "The following tutorial shows some operations that can be done in in NumPy.\n",
    "\n",
    "To demonstrate these operations, an RGB image (1 x NxMx3 array) of a plant is used. It is split into the Red, Green and Blue bands (3 x NxM arrays). These are then used to calculate a number of vegetation indices (see below for papers).\n",
    "\n",
    "By selecting pixels with values in certain ranges for the component bands / calculated indices, a rough segmentation of green leaves is achieved. The user is invited to experiment with the numbers used for filtering."
   ]
  },
  {
   "cell_type": "code",
   "execution_count": null,
   "metadata": {},
   "outputs": [],
   "source": [
    "#Import necessary packages\n",
    "import numpy as np\n",
    "import matplotlib.pyplot as plt\n",
    "import matplotlib.image as mpimg\n",
    "from matplotlib import axes"
   ]
  },
  {
   "cell_type": "code",
   "execution_count": null,
   "metadata": {},
   "outputs": [],
   "source": [
    "#Cancel any current customizations to the style\n",
    "#plt.rcParams = plt.rcParamsDefault\n",
    "\n",
    "#Set figure size, color scale and other style options\n",
    "plt.rcParams['figure.figsize'] = [16,9]\n",
    "plt.rcParams['image.cmap'] = 'gray'\n",
    "plt.rcParams['axes.grid'] = True\n",
    "plt.rcParams['figure.dpi'] = 120\n",
    "\n",
    "#print(plt.rcParams)"
   ]
  },
  {
   "cell_type": "code",
   "execution_count": null,
   "metadata": {},
   "outputs": [],
   "source": [
    "#Open image file. Change file_name to select the desired resolution (see folder for options)\n",
    "file_name = \"plant_4500_3000.png\"\n",
    "img = mpimg.imread(file_name)\n",
    "img_shape = img.shape\n",
    "img_shape_mono = img.shape[:-1]\n",
    "\n",
    "#Extract the Red, Green and Blue bands from the image\n",
    "R, G, B = np.squeeze(\n",
    "    np.split(\n",
    "        ary = img,\n",
    "        indices_or_sections = 3,\n",
    "        axis = -1),\n",
    "    axis = -1)"
   ]
  },
  {
   "cell_type": "code",
   "execution_count": null,
   "metadata": {
    "scrolled": false
   },
   "outputs": [],
   "source": [
    "#Display the initial image\n",
    "plt.imshow(img)\n",
    "plt.colorbar()\n",
    "plt.show()"
   ]
  },
  {
   "cell_type": "code",
   "execution_count": null,
   "metadata": {},
   "outputs": [],
   "source": [
    "#Select a subset of the image to display. Maxe sure the indices are in the range of [y,x,3],\n",
    "#where x&y are the original's size in pixels and 3 is for the 3 bands (R,G,B)\n",
    "img_small = img[500:1000,1500:2200,:]\n",
    "\n",
    "plt.imshow(img_small)\n",
    "plt.colorbar()\n",
    "plt.show()"
   ]
  },
  {
   "cell_type": "code",
   "execution_count": null,
   "metadata": {},
   "outputs": [],
   "source": [
    "plt.imshow(img_small[:,:,1])\n",
    "plt.colorbar()\n",
    "plt.show()"
   ]
  },
  {
   "cell_type": "code",
   "execution_count": null,
   "metadata": {},
   "outputs": [],
   "source": [
    "#Display the Red band\n",
    "plt.imshow(R)\n",
    "plt.colorbar()\n",
    "plt.show()"
   ]
  },
  {
   "cell_type": "code",
   "execution_count": null,
   "metadata": {},
   "outputs": [],
   "source": [
    "#Display the Green band\n",
    "plt.imshow(G)\n",
    "plt.colorbar()\n",
    "plt.show()"
   ]
  },
  {
   "cell_type": "code",
   "execution_count": null,
   "metadata": {
    "scrolled": false
   },
   "outputs": [],
   "source": [
    "#Display the Blue band\n",
    "plt.imshow(B)\n",
    "plt.colorbar()\n",
    "plt.show()"
   ]
  },
  {
   "cell_type": "code",
   "execution_count": null,
   "metadata": {},
   "outputs": [],
   "source": [
    "#Calculate a few RGB vegetation indices.\n",
    "#Based on: https://www.int-arch-photogramm-remote-sens-spatial-inf-sci.net/XLII-3/1215/2018/isprs-archives-XLII-3-1215-2018.pdf\n",
    "RGBVI = (G*G-R*B)/(G*G+R*B)\n",
    "GLI = (2*G - R - B) / (2*G + R + B)\n",
    "VARI = (G-R) / (G+R-B)\n",
    "NGRDI = (G-R) / (G+R)\n",
    "TGI = G - .39*R -.61*B"
   ]
  },
  {
   "cell_type": "code",
   "execution_count": null,
   "metadata": {},
   "outputs": [],
   "source": [
    "#Display RGBVI\n",
    "plt.imshow(RGBVI)\n",
    "plt.colorbar()\n",
    "plt.show()"
   ]
  },
  {
   "cell_type": "code",
   "execution_count": null,
   "metadata": {},
   "outputs": [],
   "source": [
    "#Display GLI\n",
    "plt.imshow(GLI)\n",
    "plt.colorbar()\n",
    "plt.show()"
   ]
  },
  {
   "cell_type": "code",
   "execution_count": null,
   "metadata": {},
   "outputs": [],
   "source": [
    "#Display VARI\n",
    "plt.imshow(VARI, clim = (-1, 1))#clim included because ofoutliers located very far\n",
    "plt.colorbar()\n",
    "plt.show()"
   ]
  },
  {
   "cell_type": "code",
   "execution_count": null,
   "metadata": {},
   "outputs": [],
   "source": [
    "#Display NGRDI\n",
    "plt.imshow(NGRDI)\n",
    "plt.colorbar()\n",
    "plt.show()"
   ]
  },
  {
   "cell_type": "code",
   "execution_count": null,
   "metadata": {},
   "outputs": [],
   "source": [
    "#Display TGI\n",
    "plt.imshow(TGI)\n",
    "plt.colorbar()\n",
    "plt.show()"
   ]
  },
  {
   "cell_type": "code",
   "execution_count": null,
   "metadata": {},
   "outputs": [],
   "source": [
    "#Let's \"cut out\" the leaves (areas where the vegetation indices are high)\n",
    "#Need to define some threshold for what \"high\" means. Iterative process!\n",
    "\n",
    "filter_mask = np.zeros(shape = img_shape_mono,\n",
    "                       dtype = np.bool)\n",
    "\n",
    "filter_mask[\n",
    "    np.logical_and(\n",
    "        np.logical_and(NGRDI > -5, B < 5),\n",
    "        np.logical_and(GLI > 0.1, GLI < 0.5)\n",
    "    )] = True\n",
    "\n",
    "R_masked = np.ones_like(R)\n",
    "G_masked = np.ones_like(G)\n",
    "B_masked = np.ones_like(B)\n",
    "\n",
    "R_masked[filter_mask] = R[filter_mask]\n",
    "G_masked[filter_mask] = G[filter_mask]\n",
    "B_masked[filter_mask] = B[filter_mask]\n",
    "\n",
    "img_masked = np.stack([R_masked, G_masked, B_masked],\n",
    "                      axis = 2)\n",
    "\n",
    "plt.imshow(img_masked)\n",
    "plt.colorbar()\n",
    "plt.show()"
   ]
  },
  {
   "cell_type": "markdown",
   "metadata": {},
   "source": [
    "### Attention ###\n",
    "\n",
    "The following cells are not part of the tutorial, but were part of the process of choosing the thresholds used while filtering out the data."
   ]
  },
  {
   "cell_type": "code",
   "execution_count": null,
   "metadata": {
    "scrolled": false
   },
   "outputs": [],
   "source": [
    "_ = plt.hist(R[500:2000, 2000:4000].flatten(), bins=256)"
   ]
  },
  {
   "cell_type": "code",
   "execution_count": null,
   "metadata": {
    "scrolled": false
   },
   "outputs": [],
   "source": [
    "_ = plt.hist(G[500:2000, 2000:4000].flatten(), bins=256)"
   ]
  },
  {
   "cell_type": "code",
   "execution_count": null,
   "metadata": {
    "scrolled": false
   },
   "outputs": [],
   "source": [
    "_ = plt.hist(B[500:2000, 2000:4000].flatten(), bins=256)"
   ]
  },
  {
   "cell_type": "code",
   "execution_count": null,
   "metadata": {},
   "outputs": [],
   "source": [
    "_ = plt.hist(GLI[500:2000, 2000:4000].flatten(), bins=256, density = True)"
   ]
  },
  {
   "cell_type": "code",
   "execution_count": null,
   "metadata": {},
   "outputs": [],
   "source": [
    "whole_image_hist, whole_edges = np.histogram(GLI.flatten(),\n",
    "                                             bins = 256,\n",
    "                                             density = True,\n",
    "                                             range = (-1,1))\n",
    "crop_image_hist, crop_edges = np.histogram(GLI[1000:1500, 3000:3500].flatten(),\n",
    "                                             bins = 256,\n",
    "                                             density = True,\n",
    "                                             range = (-1,1))"
   ]
  },
  {
   "cell_type": "code",
   "execution_count": null,
   "metadata": {},
   "outputs": [],
   "source": [
    "x_temp = (whole_edges[1:] + whole_edges[:-1]) / 2\n",
    "\n",
    "#plt.gca().set_ylim(1,3.3)\n",
    "plt.plot(x_temp, whole_image_hist, label = \"Whole image\")\n",
    "plt.plot(x_temp, crop_image_hist, label = \"Cropped image\")\n",
    "plt.plot(x_temp, crop_image_hist / whole_image_hist, label = \"cropped / whole\")\n",
    "plt.legend()\n",
    "plt.show()"
   ]
  },
  {
   "cell_type": "code",
   "execution_count": null,
   "metadata": {},
   "outputs": [],
   "source": []
  }
 ],
 "metadata": {
  "kernelspec": {
   "display_name": "Python 3",
   "language": "python",
   "name": "python3"
  },
  "language_info": {
   "codemirror_mode": {
    "name": "ipython",
    "version": 3
   },
   "file_extension": ".py",
   "mimetype": "text/x-python",
   "name": "python",
   "nbconvert_exporter": "python",
   "pygments_lexer": "ipython3",
   "version": "3.7.1"
  }
 },
 "nbformat": 4,
 "nbformat_minor": 2
}
