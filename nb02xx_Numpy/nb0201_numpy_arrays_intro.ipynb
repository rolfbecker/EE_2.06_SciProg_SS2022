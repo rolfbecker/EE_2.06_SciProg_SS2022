{
 "cells": [
  {
   "cell_type": "markdown",
   "metadata": {},
   "source": [
    "## Creating arrays in NumPy and simple plots\n",
    "\n",
    "The following notebook demonstrates a few ways of creating numpy arrays and finishes with a simple plot."
   ]
  },
  {
   "cell_type": "code",
   "execution_count": 1,
   "metadata": {},
   "outputs": [],
   "source": [
    "import numpy as np\n",
    "import matplotlib.pyplot as plt\n",
    "from time import time\n",
    "import math"
   ]
  },
  {
   "cell_type": "code",
   "execution_count": 2,
   "metadata": {},
   "outputs": [
    {
     "name": "stdout",
     "output_type": "stream",
     "text": [
      "[3, 4, 5, 6, 7, 8, 9, 15]\n",
      "[ 3  4  5  6  7  8  9 15]\n"
     ]
    }
   ],
   "source": [
    "#Ways to create arrays\n",
    "\n",
    "#1. use np.array() on an existing list\n",
    "\n",
    "#create a list and an array\n",
    "some_list = [1,2,3,4,5,6,7,13]\n",
    "some_array = np.array(some_list)\n",
    "\n",
    "#1* Illustrate how the same operation can be performed on all elements in a list vs an array\n",
    "\n",
    "#Modify all elemens of a list\n",
    "for index in range(len(some_list)):\n",
    "    some_list[index] = some_list[index] + 2\n",
    "\n",
    "#Modify all elemens of an array\n",
    "some_array = some_array + 2\n",
    "\n",
    "#check the result\n",
    "print(some_list)\n",
    "print(some_array)"
   ]
  },
  {
   "cell_type": "code",
   "execution_count": 3,
   "metadata": {},
   "outputs": [
    {
     "name": "stdout",
     "output_type": "stream",
     "text": [
      "[0, 1, 2, 3, 4, 5, 6, 7, 8, 9]\n",
      "[0 1 2 3 4 5 6 7 8 9]\n"
     ]
    }
   ],
   "source": [
    "#2.a use range to create a list then convert using np.array()\n",
    "range_list = list(range(10))\n",
    "range_array = np.array(range_list)\n",
    "print(range_list)\n",
    "print(range_array)"
   ]
  },
  {
   "cell_type": "code",
   "execution_count": 4,
   "metadata": {},
   "outputs": [
    {
     "name": "stdout",
     "output_type": "stream",
     "text": [
      "[0 1 2 3 4 5 6 7 8 9]\n"
     ]
    }
   ],
   "source": [
    "#2.b use np.arange directly\n",
    "better_range_array = np.arange(10)\n",
    "print(better_range_array)"
   ]
  },
  {
   "cell_type": "code",
   "execution_count": 5,
   "metadata": {},
   "outputs": [
    {
     "name": "stdout",
     "output_type": "stream",
     "text": [
      "[10, 12, 14, 16, 18, 20]\n",
      "[10 12 14 16 18 20]\n"
     ]
    }
   ],
   "source": [
    "#3.a use custom range to create a list then convert using np.array()\n",
    "range_list = list(range(10,22,2))\n",
    "range_array = np.array(range_list)\n",
    "print(range_list)\n",
    "print(range_array)"
   ]
  },
  {
   "cell_type": "code",
   "execution_count": 6,
   "metadata": {},
   "outputs": [
    {
     "name": "stdout",
     "output_type": "stream",
     "text": [
      "[10 12 14 16 18 20]\n"
     ]
    }
   ],
   "source": [
    "#3.b use (custom) np.arange directly\n",
    "#advantage: can use keyword arguments\n",
    "better_range_array = np.arange(stop = 22, start = 10, step = 2)\n",
    "print(better_range_array)"
   ]
  },
  {
   "cell_type": "code",
   "execution_count": 7,
   "metadata": {},
   "outputs": [
    {
     "name": "stdout",
     "output_type": "stream",
     "text": [
      "[0.0, 0.3490658503988659, 0.6981317007977318, 1.0471975511965976, 1.3962634015954636, 1.7453292519943295, 2.0943951023931953, 2.443460952792061, 2.792526803190927, 3.141592653589793]\n",
      "[0.         0.34906585 0.6981317  1.04719755 1.3962634  1.74532925\n",
      " 2.0943951  2.44346095 2.7925268  3.14159265]\n"
     ]
    }
   ],
   "source": [
    "#4.a list comprehension then convert using np.array()\n",
    "sample_list = [x/9 * np.pi  for x in range(10)]\n",
    "sample_array = np.array(sample_list)\n",
    "print(sample_list)\n",
    "print(sample_array)"
   ]
  },
  {
   "cell_type": "code",
   "execution_count": 8,
   "metadata": {},
   "outputs": [
    {
     "name": "stdout",
     "output_type": "stream",
     "text": [
      "[0.         0.34906585 0.6981317  1.04719755 1.3962634  1.74532925\n",
      " 2.0943951  2.44346095 2.7925268  3.14159265]\n"
     ]
    }
   ],
   "source": [
    "#4.b use np.linspace directly\n",
    "better_sample_array = np.linspace(start = 0, stop = np.pi, num = 10)\n",
    "print(better_sample_array)"
   ]
  },
  {
   "cell_type": "code",
   "execution_count": 9,
   "metadata": {},
   "outputs": [
    {
     "name": "stdout",
     "output_type": "stream",
     "text": [
      "[0.         0.34906585 0.6981317  1.04719755 1.3962634  1.74532925\n",
      " 2.0943951  2.44346095 2.7925268  3.14159265]\n"
     ]
    }
   ],
   "source": [
    "#4.c redundant (and not good)\n",
    "okay_sample_array = np.arange(10) / 9 * np.pi\n",
    "print(okay_sample_array)"
   ]
  },
  {
   "cell_type": "code",
   "execution_count": 10,
   "metadata": {},
   "outputs": [
    {
     "name": "stdout",
     "output_type": "stream",
     "text": [
      "[0. 0. 0. 0. 0. 0. 0. 0. 0. 0.]\n",
      "[0. 0. 0. 0. 0. 0. 0. 0. 0. 0.]\n"
     ]
    }
   ],
   "source": [
    "#check that the methods 4.a-4.c are equivalent\n",
    "print(sample_array - better_sample_array)\n",
    "print(sample_array - okay_sample_array)"
   ]
  },
  {
   "cell_type": "code",
   "execution_count": 11,
   "metadata": {},
   "outputs": [
    {
     "name": "stdout",
     "output_type": "stream",
     "text": [
      "[0 1 2 3 4 5 6 7 8 9]\n",
      "[0.         0.11111111 0.22222222 0.33333333 0.44444444 0.55555556\n",
      " 0.66666667 0.77777778 0.88888889 1.        ]\n",
      "[0.         0.34906585 0.6981317  1.04719755 1.3962634  1.74532925\n",
      " 2.0943951  2.44346095 2.7925268  3.14159265]\n"
     ]
    }
   ],
   "source": [
    "#Explanation of 4.c: break down into individual steps\n",
    "okay_sample_array = np.arange(10)\n",
    "print(okay_sample_array)\n",
    "#scale to 1\n",
    "okay_sample_array = okay_sample_array / 9\n",
    "print(okay_sample_array)\n",
    "#scale to PI\n",
    "okay_sample_array = okay_sample_array * np.pi\n",
    "print(okay_sample_array)"
   ]
  },
  {
   "cell_type": "code",
   "execution_count": 12,
   "metadata": {},
   "outputs": [],
   "source": [
    "#TASKS\n",
    "#1. Generate an array of 5000 equidistant points\n",
    "#   on the interval [0,1] (both limits inclusive)\n",
    "#a) using np.linspace                                  (arr_ls)\n",
    "#b) using np.arange                                    (arr_ar)\n",
    "#c) using range (with list comprehension if you like)  (arr_rn)\n",
    "#d) print(arr_ls - arr_ar) and print(arr_ls - arr_rn)"
   ]
  },
  {
   "cell_type": "code",
   "execution_count": 13,
   "metadata": {},
   "outputs": [],
   "source": [
    "#Solution\n",
    "arr_ls = np.linspace(0,1,5000)\n",
    "arr_ar = np.arange(5000) / 4999\n",
    "arr_rn = np.array([x / 4999 for x in range(5000)])"
   ]
  },
  {
   "cell_type": "code",
   "execution_count": 14,
   "metadata": {},
   "outputs": [
    {
     "name": "stdout",
     "output_type": "stream",
     "text": [
      "[0. 0. 0. ... 0. 0. 0.]\n"
     ]
    }
   ],
   "source": [
    "diff1 = arr_ls - arr_ar\n",
    "print(diff1)"
   ]
  },
  {
   "cell_type": "code",
   "execution_count": 15,
   "metadata": {},
   "outputs": [
    {
     "name": "stdout",
     "output_type": "stream",
     "text": [
      "[0. 0. 0. ... 0. 0. 0.]\n"
     ]
    }
   ],
   "source": [
    "diff2 = arr_ls - arr_rn\n",
    "print(diff2)"
   ]
  },
  {
   "cell_type": "code",
   "execution_count": 16,
   "metadata": {},
   "outputs": [
    {
     "name": "stdout",
     "output_type": "stream",
     "text": [
      "6.910270966553611e-15\n",
      "6.910270966553611e-15\n"
     ]
    }
   ],
   "source": [
    "#we expect 0.0 if there are only zero-es in the diff array\n",
    "print(np.sum(np.absolute(diff1))) #good sum of abs\n",
    "print(np.absolute(np.sum(diff1))) #bad abs of sum"
   ]
  },
  {
   "cell_type": "code",
   "execution_count": 17,
   "metadata": {},
   "outputs": [
    {
     "name": "stdout",
     "output_type": "stream",
     "text": [
      "1.1102230246251565e-16\n"
     ]
    },
    {
     "data": {
      "text/plain": [
       "(array([2531, 2642, 2700, 2758, 2869, 2927, 2985, 3043, 3096, 3154, 3212,\n",
       "        3270, 3328, 3381, 3439, 3497, 3555, 3608, 3666, 3724, 3782, 3835,\n",
       "        3893, 3951, 4009, 4062, 4067, 4120, 4178, 4236, 4289, 4294, 4347,\n",
       "        4352, 4405, 4463, 4521, 4574, 4579, 4632, 4690, 4748, 4801, 4806,\n",
       "        4859, 4917, 4975], dtype=int64),)"
      ]
     },
     "execution_count": 17,
     "metadata": {},
     "output_type": "execute_result"
    }
   ],
   "source": [
    "#find max deviation from 0\n",
    "error_1 = np.max(np.absolute(diff1))\n",
    "print(error_1)\n",
    "\n",
    "#where is it in diff1??\n",
    "#np.where(diff1 == error_1)[0].size + np.where(diff1 != error_1)[0].size\n",
    "np.where(diff1 == error_1)"
   ]
  },
  {
   "cell_type": "code",
   "execution_count": 18,
   "metadata": {},
   "outputs": [
    {
     "data": {
      "text/plain": [
       "4903"
      ]
     },
     "execution_count": 18,
     "metadata": {},
     "output_type": "execute_result"
    }
   ],
   "source": [
    "#naive check whether all elements of 2 arrays are equal\n",
    "np.sum(arr_ls == arr_ar)"
   ]
  },
  {
   "cell_type": "code",
   "execution_count": 19,
   "metadata": {},
   "outputs": [
    {
     "data": {
      "text/plain": [
       "5000"
      ]
     },
     "execution_count": 19,
     "metadata": {},
     "output_type": "execute_result"
    }
   ],
   "source": [
    "#better check whether all elements of 2 arrays are equal\n",
    "#see float-point tollerance, float-point rounding error\n",
    "np.sum(np.isclose(arr_ls, arr_ar, rtol = 0, atol= 1e-15))"
   ]
  },
  {
   "cell_type": "markdown",
   "metadata": {},
   "source": [
    "## Plot some arrays"
   ]
  },
  {
   "cell_type": "code",
   "execution_count": 20,
   "metadata": {},
   "outputs": [],
   "source": [
    "%matplotlib inline\n",
    "import matplotlib.pyplot as plt\n",
    "#set some plot defaults\n",
    "#plt.rcParams['figure.figsize'] = [16,9]\n",
    "#plt.rcParams['image.cmap'] = 'gray'\n",
    "#plt.rcParams['axes.grid'] = True\n",
    "#plt.rcParams['figure.dpi'] = 120\n"
   ]
  },
  {
   "cell_type": "code",
   "execution_count": 21,
   "metadata": {},
   "outputs": [
    {
     "data": {
      "image/png": "[encoded data removed]",
      "text/plain": [
       "<Figure size 544x408 with 1 Axes>"
      ]
     },
     "metadata": {
      "needs_background": "light"
     },
     "output_type": "display_data"
    }
   ],
   "source": [
    "x = np.linspace(0, 2*np.pi, 1000)\n",
    "y = np.sin(x)\n",
    "y2 = np.exp(-x) * np.sin(x)\n",
    "\n",
    "fig = plt.figure(figsize=(4,3), dpi = 136)\n",
    "ax = fig.add_subplot(111)\n",
    "ax.plot(x,y, \"--\",color = \"red\", label = \"sin(x)\")\n",
    "ax.plot(x,y2, \"-.\",color = \"black\", label = \"sin(x) * exp(-x)\")\n",
    "ax.grid(True)\n",
    "ax.legend()\n",
    "plt.show()"
   ]
  },
  {
   "cell_type": "markdown",
   "metadata": {},
   "source": [
    "## Compare speed between lists and arrays"
   ]
  },
  {
   "cell_type": "code",
   "execution_count": 22,
   "metadata": {},
   "outputs": [
    {
     "name": "stdout",
     "output_type": "stream",
     "text": [
      "Computation finished. Time needed: 4.80861 seconds\n"
     ]
    },
    {
     "data": {
      "image/png": "[encoded data removed]",
      "text/plain": [
       "<Figure size 544x408 with 1 Axes>"
      ]
     },
     "metadata": {
      "needs_background": "light"
     },
     "output_type": "display_data"
    }
   ],
   "source": [
    "#Use lists\n",
    "POINTS = 10000000\n",
    "x_list = []\n",
    "sin_list = []\n",
    "\n",
    "start = time()\n",
    "for i in range(POINTS):\n",
    "    x = i / POINTS * np.pi * 2\n",
    "    x_list.append(x)\n",
    "    sin_list.append(math.sin(x))\n",
    "print(\"Computation finished. Time needed: {:.5f} seconds\".format(time()-start))\n",
    "\n",
    "fig = plt.figure(figsize=(4,3), dpi = 136)\n",
    "ax = fig.add_subplot(111)\n",
    "ax.plot(x_list, sin_list)\n",
    "ax.grid(True)\n",
    "plt.show()"
   ]
  },
  {
   "cell_type": "code",
   "execution_count": 23,
   "metadata": {},
   "outputs": [
    {
     "name": "stdout",
     "output_type": "stream",
     "text": [
      "Computation finished. Time needed: 0.05866 seconds\n"
     ]
    },
    {
     "data": {
      "image/png": "[encoded data removed]",
      "text/plain": [
       "<Figure size 544x408 with 1 Axes>"
      ]
     },
     "metadata": {
      "needs_background": "light"
     },
     "output_type": "display_data"
    }
   ],
   "source": [
    "#Use arrays\n",
    "POINTS = 10000000\n",
    "\n",
    "start = time()\n",
    "x_np = np.linspace(0, np.pi*2, POINTS)\n",
    "sin_np = np.sin(x_np)\n",
    "print(\"Computation finished. Time needed: {:.5f} seconds\".format(time()-start))\n",
    "\n",
    "fig = plt.figure(figsize=(4,3), dpi = 136)\n",
    "ax = fig.add_subplot(111)\n",
    "ax.plot(x_np, sin_np)\n",
    "ax.grid(True)\n",
    "plt.show()"
   ]
  },
  {
   "cell_type": "code",
   "execution_count": null,
   "metadata": {},
   "outputs": [],
   "source": []
  }
 ],
 "metadata": {
  "kernelspec": {
   "display_name": "Python 3",
   "language": "python",
   "name": "python3"
  },
  "language_info": {
   "codemirror_mode": {
    "name": "ipython",
    "version": 3
   },
   "file_extension": ".py",
   "mimetype": "text/x-python",
   "name": "python",
   "nbconvert_exporter": "python",
   "pygments_lexer": "ipython3",
   "version": "3.6.7"
  }
 },
 "nbformat": 4,
 "nbformat_minor": 2
}
