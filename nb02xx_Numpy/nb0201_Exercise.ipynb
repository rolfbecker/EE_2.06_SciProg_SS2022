{
 "cells": [
  {
   "cell_type": "markdown",
   "metadata": {},
   "source": [
    "# Exercises on Numpy, Part 1"
   ]
  },
  {
   "cell_type": "code",
   "execution_count": null,
   "metadata": {},
   "outputs": [],
   "source": [
    "import numpy as np\n",
    "import matplotlib.pyplot as plt"
   ]
  },
  {
   "cell_type": "markdown",
   "metadata": {},
   "source": [
    "## Ex. 1: Read, **understand** and execute the following code."
   ]
  },
  {
   "cell_type": "code",
   "execution_count": null,
   "metadata": {},
   "outputs": [],
   "source": [
    "x = np.arange(-5,5.01,0.2)"
   ]
  },
  {
   "cell_type": "code",
   "execution_count": null,
   "metadata": {},
   "outputs": [],
   "source": [
    "print(\"min(x)=%5.2f\" % min(x))\n",
    "print(\"max(x)=%5.2f\" % max(x))\n",
    "print(\"max(x)=\", max(x))"
   ]
  },
  {
   "cell_type": "markdown",
   "metadata": {},
   "source": [
    "### 3rd Degree Polynomial with one Parameter"
   ]
  },
  {
   "cell_type": "code",
   "execution_count": null,
   "metadata": {},
   "outputs": [],
   "source": [
    "def y(x,a=0):\n",
    "    return x**3+a*x"
   ]
  },
  {
   "cell_type": "code",
   "execution_count": null,
   "metadata": {},
   "outputs": [],
   "source": [
    "y1=y(x)\n",
    "y2=y(x,-10)\n",
    "y3=y(x,-20)"
   ]
  },
  {
   "cell_type": "code",
   "execution_count": null,
   "metadata": {},
   "outputs": [],
   "source": [
    "fig1, ax1 = plt.subplots(1,1,figsize=(4,3),dpi=136)\n",
    "ax1.plot(x,y1)\n",
    "ax1.plot(x,y2)\n",
    "ax1.plot(x,y3)\n",
    "\n",
    "ax1.legend([\"Curve 1\", \"Curve 2\", \"Curve 3\"])\n",
    "\n",
    "plt.show()\n",
    "fig1.savefig(\"fig1.png\")"
   ]
  },
  {
   "cell_type": "markdown",
   "metadata": {},
   "source": [
    "### Dictionary of Curves ###"
   ]
  },
  {
   "cell_type": "code",
   "execution_count": null,
   "metadata": {},
   "outputs": [],
   "source": [
    "D={}\n",
    "D[\"A\"]=y(x)\n",
    "D[\"B\"]=y(x,-10)\n",
    "D[\"wow\"]=y(x,-20)"
   ]
  },
  {
   "cell_type": "code",
   "execution_count": null,
   "metadata": {},
   "outputs": [],
   "source": [
    "print(\"Keys: \", D.keys())\n",
    "print(\"Values: \", D.values())"
   ]
  },
  {
   "cell_type": "code",
   "execution_count": null,
   "metadata": {},
   "outputs": [],
   "source": [
    "fig2, ax2 = plt.subplots(1,1,figsize=(4,3),dpi=136)\n",
    "ax2.plot(x,D[\"A\"])\n",
    "ax2.plot(x,D[\"B\"])\n",
    "ax2.plot(x,D[\"wow\"])\n",
    "plt.show()"
   ]
  },
  {
   "cell_type": "code",
   "execution_count": null,
   "metadata": {},
   "outputs": [],
   "source": [
    "fig3, ax3 = plt.subplots(1,1,figsize=(4,3),dpi=136)\n",
    "for key in D:\n",
    "    ax3.plot(x,D[key])\n",
    "\n",
    "ax3.legend(D.keys()) \n",
    "\n",
    "plt.show()"
   ]
  },
  {
   "cell_type": "markdown",
   "metadata": {},
   "source": [
    "### Array of Curves ###"
   ]
  },
  {
   "cell_type": "code",
   "execution_count": null,
   "metadata": {},
   "outputs": [],
   "source": [
    "Y = np.array([y1,y2,y3])\n",
    "X = np.array([x,x,x])"
   ]
  },
  {
   "cell_type": "code",
   "execution_count": null,
   "metadata": {},
   "outputs": [],
   "source": [
    "print(Y.shape)\n",
    "(m,n) = Y.shape\n",
    "print(\"Y, number of rows:    %4d\" % m)\n",
    "print(\"Y, number of columns: %4d\" % n)"
   ]
  },
  {
   "cell_type": "code",
   "execution_count": null,
   "metadata": {},
   "outputs": [],
   "source": [
    "# plotting one curve per column \n",
    "fig4, ax4 = plt.subplots(1,1,figsize=(4,3),dpi=136)\n",
    "ax4.plot(X,Y,\".-\") # Just one plot command creating 51 curves à 3 points\n",
    "plt.show()"
   ]
  },
  {
   "cell_type": "markdown",
   "metadata": {},
   "source": [
    "**Plot Transposed Y**"
   ]
  },
  {
   "cell_type": "code",
   "execution_count": null,
   "metadata": {},
   "outputs": [],
   "source": [
    "print(X.T.shape)\n",
    "(m,n) = X.T.shape\n",
    "print(\"Y.T, number of rows:    %4d\" % m)\n",
    "print(\"Y.T, number of columns: %4d\" % n)"
   ]
  },
  {
   "cell_type": "code",
   "execution_count": null,
   "metadata": {},
   "outputs": [],
   "source": [
    "# plotting one curve per column\n",
    "fig5, ax5 = plt.subplots(1,1,figsize=(4,3),dpi=136)\n",
    "ax5.plot(X.T,Y.T,\".-\") # Just one plot command creating 3 curves à 51 points\n",
    "plt.show()"
   ]
  },
  {
   "cell_type": "markdown",
   "metadata": {},
   "source": [
    "## Ex 2: Define a function with parameters and plot\n",
    "\n",
    "Analog to the example above create an x-vector from -3 to 3 in steps 0.1 (closed interval).\n",
    "\n",
    "Define the function $f(x,x_0,y_0,c)=c(x-x_0)^2+y_0$. The parameters should have the default values $x_0=0 , y_0=0, c=1$.\n",
    "\n",
    "Create the following plot: \n",
    "<br>\n",
    "<img src=\"parabola_01.png\" width=\"400\">\n",
    "<br>\n",
    "Find the right parameters e.g. by trying or calculating or the method \"new functions from old functions\". "
   ]
  },
  {
   "cell_type": "code",
   "execution_count": null,
   "metadata": {},
   "outputs": [],
   "source": [
    "# complete\n",
    "def f(x,...):\n",
    "    return ..."
   ]
  },
  {
   "cell_type": "code",
   "execution_count": null,
   "metadata": {},
   "outputs": [],
   "source": [
    "# complete\n",
    "x = np.arange(...)\n",
    "y = f(x,...)"
   ]
  },
  {
   "cell_type": "code",
   "execution_count": null,
   "metadata": {},
   "outputs": [],
   "source": [
    "# complete\n",
    "fig6, ax6 = plt.subplots(1,1,figsize=(4,4),dpi=136)\n",
    "ax6.plot(x,y,\".-\")\n",
    "ax6.grid(True)\n",
    "ax6.set_xlim(...)\n",
    "ax6.set_ylim(...)\n",
    "ax6.legend([r\"$f(x)=c(x-x_0)^2+y_0$\"])\n",
    "plt.show()"
   ]
  },
  {
   "cell_type": "markdown",
   "metadata": {},
   "source": [
    "## Ex. 3: Plot some points of the function to emphasize the points.\n",
    "\n",
    "Create the following plot: \n",
    "<br>\n",
    "<img src=\"parabola_02.png\" width=\"400\">"
   ]
  },
  {
   "cell_type": "code",
   "execution_count": null,
   "metadata": {},
   "outputs": [],
   "source": [
    "# complete\n",
    "xs=np.arange(...)\n",
    "ys=... "
   ]
  },
  {
   "cell_type": "code",
   "execution_count": null,
   "metadata": {},
   "outputs": [],
   "source": [
    "fig7, ax7 = plt.subplots(1,1,figsize=(4,4),dpi=136)\n",
    "ax7.plot(x,y,\"-\") \n",
    "ax7.plot(...) \n",
    "[...]\n",
    "plt.show()"
   ]
  },
  {
   "cell_type": "markdown",
   "metadata": {},
   "source": [
    "## Ex. 4: Create a family of curves and plot\n",
    "\n",
    "Look at the following code:"
   ]
  },
  {
   "cell_type": "code",
   "execution_count": null,
   "metadata": {},
   "outputs": [],
   "source": [
    "M = np.array([[0,0,1],[0,1,1],[1,1,1],[1,0,1]])\n",
    "nrows=M.shape[0]\n",
    "print(nrows)"
   ]
  },
  {
   "cell_type": "code",
   "execution_count": null,
   "metadata": {},
   "outputs": [],
   "source": [
    "fig8, ax8 = plt.subplots(1,1,figsize=(4,4),dpi=136)\n",
    "for i in range(nrows):\n",
    "    x0,y0,c = M[i]\n",
    "    y = f(x,x0,y0,c)\n",
    "    ax8.plot(x,y)\n",
    "\n",
    "ax8.grid(True)\n",
    "ax8.set_xlim([-1,3])\n",
    "ax8.set_ylim([-1,3])\n",
    "plt.show()"
   ]
  },
  {
   "cell_type": "markdown",
   "metadata": {},
   "source": [
    "**Now create a plot with the following family of curves:**\n",
    "<br>\n",
    "<img src=\"parabola_03.png\" width=\"400\">"
   ]
  },
  {
   "cell_type": "code",
   "execution_count": null,
   "metadata": {},
   "outputs": [],
   "source": [
    "# complete\n",
    "M = np.array([...])\n",
    "nrows=M.shape[0]\n",
    "print(nrows)"
   ]
  },
  {
   "cell_type": "code",
   "execution_count": null,
   "metadata": {},
   "outputs": [],
   "source": [
    "# complete\n",
    "fig9, ax9 = plt.subplots(1,1,figsize=(4,4),dpi=136)\n",
    "[...]\n",
    "plt.show()"
   ]
  },
  {
   "cell_type": "code",
   "execution_count": null,
   "metadata": {},
   "outputs": [],
   "source": []
  }
 ],
 "metadata": {
  "kernelspec": {
   "display_name": "Python 3",
   "language": "python",
   "name": "python3"
  },
  "language_info": {
   "codemirror_mode": {
    "name": "ipython",
    "version": 3
   },
   "file_extension": ".py",
   "mimetype": "text/x-python",
   "name": "python",
   "nbconvert_exporter": "python",
   "pygments_lexer": "ipython3",
   "version": "3.6.7"
  }
 },
 "nbformat": 4,
 "nbformat_minor": 2
}
