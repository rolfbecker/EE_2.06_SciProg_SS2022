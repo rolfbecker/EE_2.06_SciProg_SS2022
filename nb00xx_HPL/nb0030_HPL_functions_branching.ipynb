{
 "cells": [
  {
   "cell_type": "markdown",
   "metadata": {},
   "source": [
    "<!-- dom:TITLE: Ch.3: Functions and branching -->\n",
    "# Ch.3: Functions and branching\n",
    "<!-- dom:AUTHOR: Hans Petter Langtangen at Simula Research Laboratory & University of Oslo, Dept. of Informatics -->\n",
    "<!-- Author: --> **Hans Petter Langtangen**, Simula Research Laboratory and University of Oslo, Dept. of Informatics\n",
    "\n",
    "Date: **Aug 15, 2015**\n",
    "\n",
    "## We have used many Python functions\n",
    "\n",
    "Mathematical functions:"
   ]
  },
  {
   "cell_type": "markdown",
   "metadata": {},
   "source": [
    "```Python\n",
    "        from math import *\n",
    "        y = sin(x)*log(x)\n",
    "```"
   ]
  },
  {
   "cell_type": "markdown",
   "metadata": {},
   "source": [
    "Other functions:"
   ]
  },
  {
   "cell_type": "markdown",
   "metadata": {},
   "source": [
    "```Python\n",
    "        n = len(somelist)\n",
    "        integers = range(5, n, 2)\n",
    "```"
   ]
  },
  {
   "cell_type": "markdown",
   "metadata": {},
   "source": [
    "Functions used with the dot syntax (called *methods*):"
   ]
  },
  {
   "cell_type": "markdown",
   "metadata": {},
   "source": [
    "```Python\n",
    "        C = [5, 10, 40, 45]\n",
    "        i = C.index(10)        # result: i=1\n",
    "        C.append(50)\n",
    "        C.insert(2, 20)\n",
    "```"
   ]
  },
  {
   "cell_type": "markdown",
   "metadata": {},
   "source": [
    "What is a function? So far we have seen that we put some objects\n",
    "in and sometimes get an object (result) out of functions.\n",
    "Now it is time to write our own functions!\n",
    "\n",
    "\n",
    "\n",
    "## Functions are one of the most import tools in programming\n",
    "\n",
    "  * Function = a collection of statements we can execute wherever and whenever we want\n",
    "\n",
    "  * Function can take *input objects* (arguments) and produce output objects (returned results)\n",
    "\n",
    "  * Functions help to organize programs, make them more understandable, shorter, reusable, and easier to extend\n",
    "\n",
    "\n",
    "\n",
    "## Python function for implementing a mathematical function\n",
    "\n",
    "The mathematical function"
   ]
  },
  {
   "cell_type": "markdown",
   "metadata": {},
   "source": [
    "$$\n",
    "F(C)={9\\over5}C+32\n",
    "$$"
   ]
  },
  {
   "cell_type": "markdown",
   "metadata": {},
   "source": [
    "can be implemented in Python as follows:"
   ]
  },
  {
   "cell_type": "code",
   "execution_count": null,
   "metadata": {},
   "outputs": [],
   "source": [
    "def F(C):\n",
    "    return (9.0/5)*C + 32"
   ]
  },
  {
   "cell_type": "markdown",
   "metadata": {},
   "source": [
    "Note:\n",
    "\n",
    "  * Functions start with `def`, then the name of the function, then a list of arguments (here `C`)  - the *function header*\n",
    "\n",
    "  * Inside the function: statements - the *function body*\n",
    "\n",
    "  * Wherever we want, inside the function, we can \"stop the function\" and return as many values/variables we want\n",
    "\n",
    "\n",
    "\n",
    "## Functions must be called\n",
    "<div id=\"slides:funcif:call\"></div>\n",
    "\n",
    "**A function does not do anything before it is called.**"
   ]
  },
  {
   "cell_type": "code",
   "execution_count": null,
   "metadata": {},
   "outputs": [],
   "source": [
    "def F(C):\n",
    "    return (9.0/5)*C + 32\n",
    "\n",
    "a = 10\n",
    "F1 = F(a)                              # call\n",
    "temp = F(15.5)                         # call\n",
    "print(F(a+1))                          # call\n",
    "sum_temp = F(10) + F(20)               # two calls\n",
    "Fdegrees = [F(C) for C in [0, 20, 40]] # multiple calls"
   ]
  },
  {
   "cell_type": "markdown",
   "metadata": {},
   "source": [
    "**Note:**\n",
    "\n",
    "The call `F(C)` produces (returns) a `float` object, which means that `F(C)` is\n",
    "replaced by this `float` object. We can therefore\n",
    "make the call `F(C)` everywhere a `float` can be used.\n",
    "\n",
    "\n",
    "\n",
    "\n",
    "## Functions can have as many arguments as you like\n",
    "<div id=\"slides:funcif:multiple:args\"></div>\n",
    "\n",
    "Make a Python function of the mathematical function"
   ]
  },
  {
   "cell_type": "markdown",
   "metadata": {},
   "source": [
    "$$\n",
    "y(t) = v_0t- \\frac{1}{2}gt^2\n",
    "$$"
   ]
  },
  {
   "cell_type": "code",
   "execution_count": null,
   "metadata": {},
   "outputs": [],
   "source": [
    "def yfunc(t, v0):\n",
    "    g = 9.81\n",
    "    return v0*t - 0.5*g*t**2\n",
    "\n",
    "# sample calls:\n",
    "y = yfunc(0.1, 6)\n",
    "y = yfunc(0.1, v0=6)\n",
    "y = yfunc(t=0.1, v0=6)\n",
    "y = yfunc(v0=6, t=0.1)"
   ]
  },
  {
   "cell_type": "markdown",
   "metadata": {},
   "source": [
    "## Function arguments become local variables\n",
    "<div id=\"slides:funcif:local:vars\"></div>"
   ]
  },
  {
   "cell_type": "code",
   "execution_count": null,
   "metadata": {},
   "outputs": [],
   "source": [
    "def yfunc(t, v0):\n",
    "    g = 9.81\n",
    "    return v0*t - 0.5*g*t**2\n",
    "\n",
    "v0 = 5\n",
    "t = 0.6\n",
    "y = yfunc(t, 3)"
   ]
  },
  {
   "cell_type": "markdown",
   "metadata": {},
   "source": [
    "**Local vs global variables.**\n",
    "\n",
    "When calling `yfunc(t, 3)`, all these statements are in fact executed:"
   ]
  },
  {
   "cell_type": "markdown",
   "metadata": {},
   "source": [
    "```Python\n",
    "        t = 0.6  # arguments get values as in standard assignments\n",
    "        v0 = 3\n",
    "        g = 9.81\n",
    "        return v0*t - 0.5*g*t**2\n",
    "```"
   ]
  },
  {
   "cell_type": "markdown",
   "metadata": {},
   "source": [
    "Inside `yfunc`, `t`, `v0`, and `g` are *local variables*, not visible outside\n",
    "`yfunc` and desroyed after `return`.\n",
    "\n",
    "Outside `yfunc` (in the main program), `t`, `v0`, and `y` are *global variables*, visible everywhere.\n",
    "\n",
    "\n",
    "\n",
    "## Functions may access global variables\n",
    "\n",
    "The `yfunc(t,v0)` function took two arguments.\n",
    "Could implement $y(t)$ as a function of $t$ only:"
   ]
  },
  {
   "cell_type": "code",
   "execution_count": null,
   "metadata": {},
   "outputs": [],
   "source": [
    "def yfunc(t):\n",
    "    g = 9.81\n",
    "    return v0*t - 0.5*g*t**2"
   ]
  },
  {
   "cell_type": "code",
   "execution_count": null,
   "metadata": {},
   "outputs": [],
   "source": [
    "t = 0.6\n",
    "yfunc(t)"
   ]
  },
  {
   "cell_type": "markdown",
   "metadata": {},
   "source": [
    "Problem: `v0` must be defined in the calling program program before\n",
    "we call `yfunc`!"
   ]
  },
  {
   "cell_type": "code",
   "execution_count": null,
   "metadata": {},
   "outputs": [],
   "source": [
    "v0 = 5\n",
    "yfunc(0.6)"
   ]
  },
  {
   "cell_type": "markdown",
   "metadata": {},
   "source": [
    "Note: `v0` and `t` (in the main program) are global variables, while\n",
    "the `t` in `yfunc` is a local variable.\n",
    "\n",
    "\n",
    "\n",
    "\n",
    "## Local variables hide global variables of the same name\n",
    "<div id=\"slides:funcif:hide:globals\"></div>\n",
    "\n",
    "Test this:"
   ]
  },
  {
   "cell_type": "code",
   "execution_count": null,
   "metadata": {},
   "outputs": [],
   "source": [
    "def yfunc(t):\n",
    "    print('1. local t inside yfunc:', t)\n",
    "    g = 9.81\n",
    "    t = 0.1\n",
    "    print('2. local t inside yfunc:', t)\n",
    "    return v0*t - 0.5*g*t**2\n",
    "\n",
    "t = 0.6\n",
    "v0 = 2\n",
    "print(yfunc(t))\n",
    "print('1. global t:', t)\n",
    "print(yfunc(0.3))\n",
    "print('2. global t:', t)"
   ]
  },
  {
   "cell_type": "markdown",
   "metadata": {},
   "source": [
    "**Question.**\n",
    "\n",
    "What gets printed?\n",
    "\n",
    "\n",
    "\n",
    "## Global variables can be changed if declared global\n",
    "<div id=\"slides:funcif:change:globals\"></div>"
   ]
  },
  {
   "cell_type": "code",
   "execution_count": null,
   "metadata": {},
   "outputs": [],
   "source": [
    "def yfunc(t):\n",
    "    g = 9.81\n",
    "    global v0   # now v0 can be changed inside this function\n",
    "    v0 = 9\n",
    "    return v0*t - 0.5*g*t**2\n",
    "\n",
    "v0 = 2   # global variable\n",
    "print('1. v0:', v0)\n",
    "print(yfunc(0.8))\n",
    "print('2. v0:', v0)"
   ]
  },
  {
   "cell_type": "markdown",
   "metadata": {},
   "source": [
    "**What happens if we comment out `global v0`?**\n",
    "\n",
    "`v0` in `yfunc` becomes a local variable (i.e., we have two `v0`)\n",
    "\n",
    "\n",
    "\n",
    "## Functions can return multiple values\n",
    "\n",
    "Say we want to compute $y(t)$ and $y'(t)=v_0-gt$:"
   ]
  },
  {
   "cell_type": "code",
   "execution_count": null,
   "metadata": {},
   "outputs": [],
   "source": [
    "def yfunc(t, v0):\n",
    "    g = 9.81\n",
    "    y = v0*t - 0.5*g*t**2\n",
    "    dydt = v0 - g*t\n",
    "    return y, dydt\n",
    "\n",
    "# call:\n",
    "position, velocity = yfunc(0.6, 3)"
   ]
  },
  {
   "cell_type": "markdown",
   "metadata": {},
   "source": [
    "Separate the objects to be returned by comma, assign to variables\n",
    "separated by comma. Actually, a tuple is returned:"
   ]
  },
  {
   "cell_type": "code",
   "execution_count": null,
   "metadata": {},
   "outputs": [],
   "source": [
    "def f(x):\n",
    "    return x, x**2, x**4"
   ]
  },
  {
   "cell_type": "code",
   "execution_count": null,
   "metadata": {},
   "outputs": [],
   "source": [
    "s = f(2)\n",
    "s"
   ]
  },
  {
   "cell_type": "code",
   "execution_count": null,
   "metadata": {},
   "outputs": [],
   "source": [
    "type(s)"
   ]
  },
  {
   "cell_type": "markdown",
   "metadata": {},
   "source": [
    "## Example: Compute a function defined as a sum\n",
    "\n",
    "The function"
   ]
  },
  {
   "cell_type": "markdown",
   "metadata": {},
   "source": [
    "$$\n",
    "L(x;n) = \\sum_{i=1}^n {1\\over i}\\left( {x\\over 1+x}\\right)^{i}\n",
    "$$"
   ]
  },
  {
   "cell_type": "markdown",
   "metadata": {},
   "source": [
    "is an approximation to $\\ln (1+x)$ for a finite $n$ and $x\\geq 1$.\n",
    "\n",
    "**Corresponding Python function for $L(x;n)$:**"
   ]
  },
  {
   "cell_type": "code",
   "execution_count": null,
   "metadata": {},
   "outputs": [],
   "source": [
    "def L(x, n):\n",
    "    s = 0\n",
    "    for i in range(1, n+1):\n",
    "        s += (1.0/i)*(x/(1+x))**i\n",
    "    return s\n",
    "\n",
    "x = 5\n",
    "from math import log as ln\n",
    "print(L(x, 10), L(x, 100), ln(1+x))"
   ]
  },
  {
   "cell_type": "markdown",
   "metadata": {},
   "source": [
    "## Returning errors as well from the L(x, n) function\n",
    "\n",
    "We can return more: 1) the first neglected term in the sum and 2) the error ($\\ln (1+x) - L(x;n)$):"
   ]
  },
  {
   "cell_type": "code",
   "execution_count": null,
   "metadata": {},
   "outputs": [],
   "source": [
    "def L2(x, n):\n",
    "    s = 0\n",
    "    for i in range(1, n+1):\n",
    "        s += (1.0/i)*(x/(1+x))**i\n",
    "    value_of_sum = s\n",
    "    first_neglected_term = (1.0/(n+1))*(x/(1+x))**(n+1)\n",
    "    from math import log\n",
    "    exact_error = log(1+x) - value_of_sum\n",
    "    return value_of_sum, first_neglected_term, exact_error\n",
    "\n",
    "# typical call:\n",
    "x = 1.2; n = 100\n",
    "value, approximate_error, exact_error = L2(x, n)\n",
    "print(value, approximate_error, exact_error)"
   ]
  },
  {
   "cell_type": "markdown",
   "metadata": {},
   "source": [
    "## Functions do not need to return objects"
   ]
  },
  {
   "cell_type": "markdown",
   "metadata": {},
   "source": [
    "```Python\n",
    "        def somefunc(obj):\n",
    "            print (obj)\n",
    "        \n",
    "        return_value = somefunc(3.4)\n",
    "```"
   ]
  },
  {
   "cell_type": "markdown",
   "metadata": {},
   "source": [
    "Here, `return_value` becomes `None` because if we do not explicitly return something, Python will insert `return None`.\n",
    "\n",
    "\n",
    "\n",
    "## Example on a function without return value\n",
    "\n",
    "**Make a table of $L(x;n)$ vs. $\\ln (1+x)$:**"
   ]
  },
  {
   "cell_type": "code",
   "execution_count": null,
   "metadata": {},
   "outputs": [],
   "source": [
    "from math import *\n",
    "def table(x):\n",
    "    print('\\nx={:g}, ln(1+x)={:g}'.format(x, log(1+x)))\n",
    "    for n in [1, 2, 10, 100, 500]:\n",
    "        value, next, error = L2(x, n)\n",
    "        print('n={:-4d} {:-10g}  (next term: {:8.2e}  '\\\n",
    "              'error: {:8.2e})'.format(n, value, next, error))\n",
    "table(10)"
   ]
  },
  {
   "cell_type": "markdown",
   "metadata": {},
   "source": [
    "No need to return anything here - the purpose is to print.\n",
    "\n",
    "\n",
    "\n",
    "\n",
    "## Keyword arguments are useful to simplify function calls and help document the arguments\n",
    "\n",
    "Functions can have arguments of the form `name=value`,\n",
    "called *keyword arguments*:"
   ]
  },
  {
   "cell_type": "markdown",
   "metadata": {},
   "source": [
    "```Python\n",
    "        def somefunc(arg1, arg2, kwarg1=True, kwarg2=0):\n",
    "            print arg1, arg2, kwarg1, kwarg2\n",
    "```"
   ]
  },
  {
   "cell_type": "markdown",
   "metadata": {},
   "source": [
    "## Examples on calling functions with keyword arguments"
   ]
  },
  {
   "cell_type": "code",
   "execution_count": null,
   "metadata": {},
   "outputs": [],
   "source": [
    "def somefunc(arg1, arg2, kwarg1=True, kwarg2=0):\n",
    "    print(arg1, arg2, kwarg1, kwarg2)"
   ]
  },
  {
   "cell_type": "code",
   "execution_count": null,
   "metadata": {},
   "outputs": [],
   "source": [
    "somefunc('Hello', [1,2])   # drop kwarg1 and kwarg2"
   ]
  },
  {
   "cell_type": "code",
   "execution_count": null,
   "metadata": {},
   "outputs": [],
   "source": [
    "somefunc('Hello', [1,2], kwarg1='Hi')"
   ]
  },
  {
   "cell_type": "code",
   "execution_count": null,
   "metadata": {},
   "outputs": [],
   "source": [
    "somefunc('Hello', [1,2], kwarg2='Hi')"
   ]
  },
  {
   "cell_type": "code",
   "execution_count": null,
   "metadata": {},
   "outputs": [],
   "source": [
    "somefunc('Hello', [1,2], kwarg2='Hi', kwarg1=6)"
   ]
  },
  {
   "cell_type": "markdown",
   "metadata": {},
   "source": [
    "If we use `name=value` for *all* arguments *in the call*,\n",
    "their sequence can in fact be arbitrary:"
   ]
  },
  {
   "cell_type": "code",
   "execution_count": null,
   "metadata": {},
   "outputs": [],
   "source": [
    "somefunc(kwarg2='Hello', arg1='Hi', kwarg1=6, arg2=[2])"
   ]
  },
  {
   "cell_type": "markdown",
   "metadata": {},
   "source": [
    "## How to implement a mathematical function of one variable, but with additional parameteres?\n",
    "\n",
    "Consider a function of $t$, with parameters $A$, $a$, and $\\omega$:"
   ]
  },
  {
   "cell_type": "markdown",
   "metadata": {},
   "source": [
    "$$\n",
    "f(t; A,a, \\omega) = Ae^{-at}\\sin (\\omega t)\n",
    "$$"
   ]
  },
  {
   "cell_type": "markdown",
   "metadata": {},
   "source": [
    "**Possible implementation.**\n",
    "\n",
    "Python function with $t$ as positional argument,\n",
    "and $A$, $a$, and $\\omega$ as keyword arguments:"
   ]
  },
  {
   "cell_type": "code",
   "execution_count": null,
   "metadata": {},
   "outputs": [],
   "source": [
    "from math import pi, exp, sin\n",
    "\n",
    "def f(t, A=1, a=1, omega=2*pi):\n",
    "    return A*exp(-a*t)*sin(omega*t)\n",
    "\n",
    "v1 = f(0.2)\n",
    "v2 = f(0.2, omega=1)\n",
    "v2 = f(0.2, 1, 3)  # same as f(0.2, A=1, a=3)\n",
    "v3 = f(0.2, omega=1, A=2.5)\n",
    "v4 = f(A=5, a=0.1, omega=1, t=1.3)\n",
    "v5 = f(t=0.2, A=9)\n",
    "v6 = f(t=0.2, 9)   # illegal: keyword arg before positional"
   ]
  },
  {
   "cell_type": "markdown",
   "metadata": {},
   "source": [
    "## Doc strings are used to document the usage of a function\n",
    "\n",
    "**Important Python convention:**\n",
    "\n",
    "Document the purpose of a function, its arguments, and its return values in a *doc string* - a (triple-quoted) string written right after the function header."
   ]
  },
  {
   "cell_type": "code",
   "execution_count": null,
   "metadata": {},
   "outputs": [],
   "source": [
    "def C2F(C):\n",
    "    \"\"\"Convert Celsius degrees (C) to Fahrenheit.\"\"\"\n",
    "    return (9.0/5)*C + 32\n",
    "\n",
    "def line(x0, y0, x1, y1):\n",
    "    \"\"\"\n",
    "    Compute the coefficients a and b in the mathematical\n",
    "    expression for a straight line y = a*x + b that goes\n",
    "    through two points (x0, y0) and (x1, y1).\n",
    "\n",
    "    x0, y0: a point on the line (floats).\n",
    "    x1, y1: another point on the line (floats).\n",
    "    return: a, b (floats) for the line (y=a*x+b).\n",
    "    \"\"\"\n",
    "    a = (y1 - y0)/(x1 - x0)\n",
    "    b = y0 - a*x0\n",
    "    return a, b"
   ]
  },
  {
   "cell_type": "markdown",
   "metadata": {},
   "source": [
    "## Python convention: input is function arguments, output is returned\n",
    "\n",
    "  * A function can have three types of input and output data:\n",
    "\n",
    "    * input data specified through positional/keyword arguments\n",
    "\n",
    "    * input/output data given as positional/keyword arguments that will be modified and returned\n",
    "\n",
    "    * output data created inside the function\n",
    "\n",
    "\n",
    "  * *All output data are returned, all input data are arguments*"
   ]
  },
  {
   "cell_type": "markdown",
   "metadata": {},
   "source": [
    "```Python\n",
    "        def somefunc(i1, i2, i3, io4, io5, i6=value1, io7=value2):\n",
    "            # modify io4, io5, io7; compute o1, o2, o3\n",
    "            return o1, o2, o3, io4, io5, io7\n",
    "```"
   ]
  },
  {
   "cell_type": "markdown",
   "metadata": {},
   "source": [
    "The function arguments are\n",
    "  * pure input: `i1`, `i2`, `i3`, `i6`\n",
    "\n",
    "  * input and output: `io4`, `io5`, `io7`\n",
    "\n",
    "\n",
    "\n",
    "## The main program is the set of statements outside functions"
   ]
  },
  {
   "cell_type": "code",
   "execution_count": null,
   "metadata": {},
   "outputs": [],
   "source": [
    "from math import *          # in main\n",
    "\n",
    "def f(x):                   # in main\n",
    "    e = exp(-0.1*x)\n",
    "    s = sin(6*pi*x)\n",
    "    return e*s\n",
    "\n",
    "x = 2                       # in main\n",
    "y = f(x)                    # in main\n",
    "print('f({:g})={:g}'.format(x, y))  # in main"
   ]
  },
  {
   "cell_type": "markdown",
   "metadata": {},
   "source": [
    "The execution starts with the first statement in the main program and proceeds line by line, top to bottom.\n",
    "\n",
    "`def` statements define a function, but the statements inside the function are not executed before the function is called.\n",
    "\n",
    "\n",
    "\n",
    "## Python functions as arguments to Python functions\n",
    "\n",
    "  * Programs doing calculus frequently need to have functions as arguments\n",
    "    in other functions, e.g.,\n",
    "\n",
    "    * numerical integration: $\\int_a^b f(x)dx$\n",
    "\n",
    "    * numerical differentiation: $f'(x)$\n",
    "\n",
    "    * numerical root finding: $f(x)=0$\n",
    "\n",
    "\n",
    "  * All three cases need $f$ as a Python function `f(x)`\n",
    "\n",
    "\n",
    "\n",
    "**Example: numerical computation of $f''(x)$.**"
   ]
  },
  {
   "cell_type": "markdown",
   "metadata": {},
   "source": [
    "$$\n",
    "f''(x) \\approx {f(x-h) - 2f(x) + f(x+h)\\over h^2}\n",
    "$$"
   ]
  },
  {
   "cell_type": "code",
   "execution_count": null,
   "metadata": {},
   "outputs": [],
   "source": [
    "def diff2(f, x, h=1E-6):\n",
    "    r = (f(x-h) - 2*f(x) + f(x+h))/(h*h)\n",
    "    return r"
   ]
  },
  {
   "cell_type": "markdown",
   "metadata": {},
   "source": [
    "No difficulty with `f` being a function\n",
    "(more complicated in Matlab, C, C++, Fortran, Java, ...).\n",
    "\n",
    "\n",
    "\n",
    "\n",
    "## Application of the `diff2` function (read the output!)\n",
    "\n",
    "**Code:**"
   ]
  },
  {
   "cell_type": "code",
   "execution_count": null,
   "metadata": {},
   "outputs": [],
   "source": [
    "def g(t):\n",
    "    return t**(-6)\n",
    "\n",
    "# make table of g''(t) for 13 h values:\n",
    "for k in range(1,14):\n",
    "    h = 10**(-k)\n",
    "    print('h={:.0e}: {:.5f}'.format(h, diff2(g, 1, h)))"
   ]
  },
  {
   "cell_type": "markdown",
   "metadata": {},
   "source": [
    "## Round-off errors caused nonsense values in the table\n",
    "\n",
    "  * For $h < 10^{-8}$ the results are totally wrong!\n",
    "\n",
    "  * We would expect better approximations as $h$ gets smaller\n",
    "\n",
    "  * Problem 1: for small $h$ we subtract numbers of approx equal size and this gives rise to round-off errors\n",
    "\n",
    "  * Problem 2: for small $h$ the round-off errors are multiplied by a big number\n",
    "\n",
    "  * Remedy: use float variables with more digits\n",
    "\n",
    "  * Python has a (slow) float variable (`decimal.Decimal`) with arbitrary number of digits\n",
    "\n",
    "  * Using 25 digits gives accurate results for $h \\leq 10^{-13}$\n",
    "\n",
    "  * Is this really a problem? Quite seldom - other uncertainies in input data to a mathematical computation makes it usual to have (e.g.) $10^{-2}\\leq h \\leq 10^{-6}$\n",
    "\n",
    "\n",
    "\n",
    "## Lambda functions for compact inline function definitions"
   ]
  },
  {
   "cell_type": "code",
   "execution_count": null,
   "metadata": {},
   "outputs": [],
   "source": [
    "def f(x):\n",
    "    return x**2 - 1"
   ]
  },
  {
   "cell_type": "markdown",
   "metadata": {},
   "source": [
    "The *lambda* construction can define this function in one line:"
   ]
  },
  {
   "cell_type": "code",
   "execution_count": null,
   "metadata": {},
   "outputs": [],
   "source": [
    "f = lambda x: x**2 - 1"
   ]
  },
  {
   "cell_type": "markdown",
   "metadata": {},
   "source": [
    "In general,"
   ]
  },
  {
   "cell_type": "markdown",
   "metadata": {},
   "source": [
    "```Python\n",
    "        somefunc = lambda a1, a2, ...: some_expression\n",
    "```"
   ]
  },
  {
   "cell_type": "markdown",
   "metadata": {},
   "source": [
    "is equivalent to"
   ]
  },
  {
   "cell_type": "markdown",
   "metadata": {},
   "source": [
    "```Python\n",
    "        def somefunc(a1, a2, ...):\n",
    "            return some_expression\n",
    "```"
   ]
  },
  {
   "cell_type": "markdown",
   "metadata": {},
   "source": [
    "Lambda functions can be used directly as arguments in function calls:"
   ]
  },
  {
   "cell_type": "markdown",
   "metadata": {},
   "source": [
    "```Python\n",
    "        value = someotherfunc(lambda x, y, z: x+y+3*z, 4)\n",
    "```"
   ]
  },
  {
   "cell_type": "markdown",
   "metadata": {},
   "source": [
    "## Example on using a lambda function to save typing\n",
    "\n",
    "**Verbose standard code:**"
   ]
  },
  {
   "cell_type": "code",
   "execution_count": null,
   "metadata": {},
   "outputs": [],
   "source": [
    "def g(t):\n",
    "    return t**(-6)\n",
    "\n",
    "dgdt = diff2(g, 2)\n",
    "print(dgdt)"
   ]
  },
  {
   "cell_type": "markdown",
   "metadata": {},
   "source": [
    "**More compact code with lambda:**"
   ]
  },
  {
   "cell_type": "code",
   "execution_count": null,
   "metadata": {},
   "outputs": [],
   "source": [
    "dgdt = diff2(lambda t: t**(-6), 2)\n",
    "print(dgdt)"
   ]
  },
  {
   "cell_type": "markdown",
   "metadata": {},
   "source": [
    "## If tests for branching the flow of statements\n",
    "\n",
    "Sometimes we want to peform different actions depending on a condition.\n",
    "Example:"
   ]
  },
  {
   "cell_type": "markdown",
   "metadata": {},
   "source": [
    "$$\n",
    "f(x) = \\left\\lbrace\\begin{array}{ll}\n",
    "\\sin x, & 0\\leq x\\leq \\pi\\\\\n",
    "0, & \\hbox{otherwise}\n",
    "\\end{array}\\right.\n",
    "$$"
   ]
  },
  {
   "cell_type": "markdown",
   "metadata": {},
   "source": [
    "A Python implementation of $f$ needs to test on the value of\n",
    "$x$ and branch into two computations:"
   ]
  },
  {
   "cell_type": "code",
   "execution_count": null,
   "metadata": {},
   "outputs": [],
   "source": [
    "from math import sin, pi\n",
    "\n",
    "def f(x):\n",
    "    if 0 <= x <= pi:\n",
    "        return sin(x)\n",
    "    else:\n",
    "        return 0\n",
    "\n",
    "print(f(0.5))\n",
    "print(f(5*pi))"
   ]
  },
  {
   "cell_type": "markdown",
   "metadata": {},
   "source": [
    "## The general form of if tests\n",
    "\n",
    "\n",
    "**if-else (the else block can be skipped):**"
   ]
  },
  {
   "cell_type": "markdown",
   "metadata": {},
   "source": [
    "```Python\n",
    "        if condition:\n",
    "            <block of statements, executed if condition is True>\n",
    "        else:\n",
    "            <block of statements, executed if condition is False>\n",
    "```"
   ]
  },
  {
   "cell_type": "markdown",
   "metadata": {},
   "source": [
    "**Multiple if-else.**"
   ]
  },
  {
   "cell_type": "markdown",
   "metadata": {},
   "source": [
    "```Python\n",
    "        if condition1:\n",
    "            <block of statements>\n",
    "        elif condition2:\n",
    "            <block of statements>\n",
    "        elif condition3:\n",
    "            <block of statements>\n",
    "        else:\n",
    "            <block of statements>\n",
    "        <next statement>\n",
    "```"
   ]
  },
  {
   "cell_type": "markdown",
   "metadata": {},
   "source": [
    "## Example on multiple branching\n",
    "\n",
    "**A piecewisely defined function.**"
   ]
  },
  {
   "cell_type": "markdown",
   "metadata": {},
   "source": [
    "$$\n",
    "N(x) = \\left\\lbrace\\begin{array}{ll}\n",
    "0, & x < 0\\\\\n",
    "x, & 0\\leq x < 1\\\\\n",
    "2-x, & 1\\leq x < 2\\\\\n",
    "0, & x \\geq 2\n",
    "\\end{array}\\right.\n",
    "$$"
   ]
  },
  {
   "cell_type": "markdown",
   "metadata": {},
   "source": [
    "**Python implementation with multiple if-else-branching.**"
   ]
  },
  {
   "cell_type": "code",
   "execution_count": null,
   "metadata": {},
   "outputs": [],
   "source": [
    "def N(x):\n",
    "    if x < 0:\n",
    "        return 0\n",
    "    elif 0 <= x < 1:\n",
    "        return x\n",
    "    elif 1 <= x < 2:\n",
    "        return 2 - x\n",
    "    elif x >= 2:\n",
    "        return 0"
   ]
  },
  {
   "cell_type": "markdown",
   "metadata": {},
   "source": [
    "## Inline if tests for shorter code\n",
    "\n",
    "**Common construction:**"
   ]
  },
  {
   "cell_type": "markdown",
   "metadata": {},
   "source": [
    "```Python\n",
    "        if condition:\n",
    "            variable = value1\n",
    "        else:\n",
    "            variable = value2\n",
    "```"
   ]
  },
  {
   "cell_type": "markdown",
   "metadata": {},
   "source": [
    "**More compact syntax with one-line if-else:**"
   ]
  },
  {
   "cell_type": "markdown",
   "metadata": {},
   "source": [
    "```Python\n",
    "        variable = (value1 if condition else value2)\n",
    "```"
   ]
  },
  {
   "cell_type": "markdown",
   "metadata": {},
   "source": [
    "Example:"
   ]
  },
  {
   "cell_type": "code",
   "execution_count": null,
   "metadata": {},
   "outputs": [],
   "source": [
    "def f(x):\n",
    "    return (sin(x) if 0 <= x <= 2*pi else 0)"
   ]
  },
  {
   "cell_type": "markdown",
   "metadata": {},
   "source": [
    "## We shall write special *test functions* to verify functions"
   ]
  },
  {
   "cell_type": "code",
   "execution_count": null,
   "metadata": {},
   "outputs": [],
   "source": [
    "def double(x):            # some function\n",
    "    return 2*x\n",
    "\n",
    "def test_double():        # associated test function\n",
    "    \"\"\"Call double(x) to check that it works.\"\"\"\n",
    "    x = 4                 # some chosen x value\n",
    "    expected = 8          # expected result from double(x)\n",
    "    computed = double(x)\n",
    "    success = computed == expected  # boolean value: test passed?\n",
    "    msg = 'computed {:s}, expected {:s}'.format(computed, expected)\n",
    "    assert success, msg"
   ]
  },
  {
   "cell_type": "markdown",
   "metadata": {},
   "source": [
    "**Rules for test functions:**\n",
    "\n",
    " * name begins with `test_`\n",
    "\n",
    " * no arguments\n",
    "\n",
    " * must have an `assert success` statement, where `success` is `True`\n",
    "   if the test passed and `False` otherwise (`assert success, msg`\n",
    "   prints `msg` on failure)\n",
    "\n",
    "The optional `msg` parameter writes a message if the test fails.\n",
    "\n",
    "\n",
    "\n",
    "## Test functions with many tests"
   ]
  },
  {
   "cell_type": "code",
   "execution_count": null,
   "metadata": {},
   "outputs": [],
   "source": [
    "def double(x):            # some function\n",
    "    return 2*x\n",
    "\n",
    "def test_double():        # associated test function\n",
    "    tol = 1E-14           # tolerance for float comparison\n",
    "    x_values =        [3, 7,  -2, 0, 4.5, 'hello']\n",
    "    expected_values = [6, 14, -4, 0,   9, 'hellohello']\n",
    "    for x, expected in zip(x_values, expected_values):\n",
    "        computed = double(x)\n",
    "        msg = '{:s} != {:s}'.format(computed, expected)\n",
    "        assert abs(expected - computed) < tol, msg"
   ]
  },
  {
   "cell_type": "markdown",
   "metadata": {},
   "source": [
    "A test function *will run silently* if all tests pass. If one test\n",
    "above fails, `assert` will raise an `AssertionError`.\n",
    "\n",
    "\n",
    "\n",
    "\n",
    "## Why write test functions according to these rules?\n",
    "\n",
    " * Easy to recognize where functions are verified\n",
    "\n",
    " * Test frameworks, like `nose` and `pytest`, can automatically\n",
    "   run *all* your test functions\n",
    "   (in a folder tree) and report if any bugs have sneaked in\n",
    "\n",
    " * This is a very well established standard"
   ]
  },
  {
   "cell_type": "markdown",
   "metadata": {},
   "source": [
    "        Terminal> py.test -s .\n",
    "        Terminal> nosetests -s .\n"
   ]
  },
  {
   "cell_type": "markdown",
   "metadata": {},
   "source": [
    "We recommend `py.test` - it has superior output.\n",
    "\n",
    "\n",
    "\n",
    "**Unit tests.**\n",
    "\n",
    "A test function as `test_double()` is often referred to as a *unit test*\n",
    "since it tests a small unit (function) of a program. When all unit\n",
    "tests work, the whole program is supposed to work.\n",
    "\n",
    "\n",
    "\n",
    "## Comments on test functions\n",
    "\n",
    " * Many find test functions to be a difficult topic\n",
    "\n",
    " * The idea *is* simple: make problem where you know the answer,\n",
    "   call the function, compare with the known answer\n",
    "\n",
    " * Just write some test functions and it will be easy\n",
    "\n",
    " * The fact that a successful test function runs silently\n",
    "   is annoying - can (during development) be convenient to insert\n",
    "   some print statements so you realize that the statements are run\n",
    "\n",
    "## Summary of if tests and functions\n",
    "\n",
    "If tests:"
   ]
  },
  {
   "cell_type": "markdown",
   "metadata": {},
   "source": [
    "```Python\n",
    "        if x < 0:\n",
    "            value = -1\n",
    "        elif x >= 0 and x <= 1:\n",
    "            value = x\n",
    "        else:\n",
    "            value = 1\n",
    "```"
   ]
  },
  {
   "cell_type": "markdown",
   "metadata": {},
   "source": [
    "User-defined functions:"
   ]
  },
  {
   "cell_type": "code",
   "execution_count": null,
   "metadata": {},
   "outputs": [],
   "source": [
    "def quadratic_polynomial(x, a, b, c):\n",
    "    value = a*x*x + b*x + c\n",
    "    derivative = 2*a*x + b\n",
    "    return value, derivative\n",
    "\n",
    "# function call:\n",
    "x = 1\n",
    "p, dp = quadratic_polynomial(x, 2, 0.5, 1)\n",
    "p, dp = quadratic_polynomial(x=x, a=-4, b=0.5, c=0)"
   ]
  },
  {
   "cell_type": "markdown",
   "metadata": {},
   "source": [
    "Positional arguments must appear before keyword arguments:"
   ]
  },
  {
   "cell_type": "code",
   "execution_count": null,
   "metadata": {},
   "outputs": [],
   "source": [
    "def f(x, A=1, a=1, w=pi):\n",
    "    return A*exp(-a*x)*sin(w*x)"
   ]
  },
  {
   "cell_type": "markdown",
   "metadata": {},
   "source": [
    "## A summarizing example for Chapter 3; problem\n",
    "\n",
    "An integral"
   ]
  },
  {
   "cell_type": "markdown",
   "metadata": {},
   "source": [
    "$$\n",
    "\\int_a^b f(x)dx\n",
    "$$"
   ]
  },
  {
   "cell_type": "markdown",
   "metadata": {},
   "source": [
    "can be approximated by *Simpson's rule*:"
   ]
  },
  {
   "cell_type": "markdown",
   "metadata": {},
   "source": [
    "$$\n",
    "\\begin{align*}\n",
    "\\int_a^b f(x)dx \\approx {b-a\\over 3n}\\biggl(\n",
    "& f(a) + f(b) + 4\\sum_{i=1}^{n/2} f(a + (2i-1)h)\\\\\n",
    "& + 2\\sum_{i=1}^{n/2-1} f(a+2ih)\\biggr)\n",
    "\\end{align*}\n",
    "$$"
   ]
  },
  {
   "cell_type": "markdown",
   "metadata": {},
   "source": [
    "Problem: make a function `Simpson(f, a, b, n=500)` for\n",
    "computing an integral of `f(x)` by Simpson's rule.\n",
    "Call `Simpson(...)` for ${3\\over2}\\int_0^\\pi\\sin^3x dx$ (exact\n",
    "value: 2) for $n=2,6,12,100,500$.\n",
    "\n",
    "\n",
    "\n",
    "## The program: function for computing the formula"
   ]
  },
  {
   "cell_type": "code",
   "execution_count": null,
   "metadata": {},
   "outputs": [],
   "source": [
    "def Simpson(f, a, b, n=500):\n",
    "    \"\"\"\n",
    "    Return the approximation of the integral of f\n",
    "    from a to b using Simpson's rule with n intervals.\n",
    "    \"\"\"\n",
    "\n",
    "    h = (b - a) / n\n",
    "\n",
    "    sum1 = 0\n",
    "    for i in range(1, n/2 + 1):\n",
    "        sum1 += f(a + (2*i-1)*h)\n",
    "\n",
    "    sum2 = 0\n",
    "    for i in range(1, n/2):\n",
    "        sum2 += f(a + 2*i*h)\n",
    "\n",
    "    integral = (b-a)/(3*n)*(f(a) + f(b) + 4*sum1 + 2*sum2)\n",
    "    return integral"
   ]
  },
  {
   "cell_type": "markdown",
   "metadata": {},
   "source": [
    "## The program: function, now with test for possible errors"
   ]
  },
  {
   "cell_type": "code",
   "execution_count": null,
   "metadata": {},
   "outputs": [],
   "source": [
    "def Simpson(f, a, b, n=500):\n",
    "\n",
    "    if a > b:\n",
    "        print('Error: a={:g} > b={:g}'.format(a, b))\n",
    "        return None\n",
    "\n",
    "    # Check that n is even\n",
    "    if n % 2 != 0:\n",
    "        print('Error: n={:d} is not an even integer!'.format(n))\n",
    "        n = n+1  # make n even\n",
    "\n",
    "    h = (b - a)/n\n",
    "\n",
    "    sum1 = 0\n",
    "    for i in range(1, n//2 + 1):\n",
    "        sum1 += f(a + (2*i-1)*h)\n",
    "\n",
    "    sum2 = 0\n",
    "    for i in range(1, n//2):\n",
    "        sum2 += f(a + 2*i*h)\n",
    "\n",
    "    integral = (b-a)/(3*n)*(f(a) + f(b) + 4*sum1 + 2*sum2)\n",
    "    return integral"
   ]
  },
  {
   "cell_type": "markdown",
   "metadata": {},
   "source": [
    "## The program: application (and main program)"
   ]
  },
  {
   "cell_type": "code",
   "execution_count": null,
   "metadata": {},
   "outputs": [],
   "source": [
    "def h(x):\n",
    "    return (3./2)*sin(x)**3\n",
    "\n",
    "from math import sin, pi\n",
    "\n",
    "def application():\n",
    "    print('Integral of 1.5*sin^3 from 0 to pi:')\n",
    "    for n in 2, 6, 12, 100, 500:\n",
    "        approx = Simpson(h, 0, pi, n)\n",
    "        print('n={:3d}, approx={:18.15f}, error={:9.2E}'.format\\\n",
    "              (n, approx, 2-approx))\n",
    "\n",
    "application()"
   ]
  },
  {
   "cell_type": "markdown",
   "metadata": {},
   "source": [
    "## The program: verification (with test function)\n",
    "\n",
    "Property of Simpson's rule: 2nd degree polynomials are integrated exactly!"
   ]
  },
  {
   "cell_type": "code",
   "execution_count": null,
   "metadata": {},
   "outputs": [],
   "source": [
    "def test_Simpson():      # rule: no arguments\n",
    "    \"\"\"Check that quadratic functions are integrated exactly.\"\"\"\n",
    "    a = 1.5\n",
    "    b = 2.0\n",
    "    n = 8\n",
    "    g = lambda x: 3*x**2 - 7*x + 2.5       # test integrand\n",
    "    G = lambda x: x**3 - 3.5*x**2 + 2.5*x  # integral of g\n",
    "    exact = G(b) - G(a)\n",
    "    approx = Simpson(g, a, b, n)\n",
    "    success = abs(exact - approx) < 1E-14  # tolerance for floats\n",
    "    msg =('exact=%g, approx=%g'.format(exact, approx))\n",
    "    assert success, msg"
   ]
  },
  {
   "cell_type": "markdown",
   "metadata": {},
   "source": [
    "Can either call `test_Simpson()` or run nose or pytest:"
   ]
  },
  {
   "cell_type": "markdown",
   "metadata": {},
   "source": [
    "        Terminal> nosetests -s Simpson.py\n",
    "        Terminal> py.test -s Simpson.py\n",
    "        ...\n",
    "        Ran 1 test in 0.005s\n",
    "        \n",
    "        OK\n"
   ]
  },
  {
   "cell_type": "code",
   "execution_count": null,
   "metadata": {},
   "outputs": [],
   "source": [
    "test_Simpson()"
   ]
  },
  {
   "cell_type": "code",
   "execution_count": null,
   "metadata": {},
   "outputs": [],
   "source": []
  },
  {
   "cell_type": "code",
   "execution_count": null,
   "metadata": {},
   "outputs": [],
   "source": []
  }
 ],
 "metadata": {
  "kernelspec": {
   "display_name": "Python 3",
   "language": "python",
   "name": "python3"
  },
  "language_info": {
   "codemirror_mode": {
    "name": "ipython",
    "version": 3
   },
   "file_extension": ".py",
   "mimetype": "text/x-python",
   "name": "python",
   "nbconvert_exporter": "python",
   "pygments_lexer": "ipython3",
   "version": "3.7.6"
  }
 },
 "nbformat": 4,
 "nbformat_minor": 4
}
