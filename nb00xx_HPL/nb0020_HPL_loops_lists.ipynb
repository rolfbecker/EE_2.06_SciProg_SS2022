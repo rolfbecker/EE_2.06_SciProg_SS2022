{
 "cells": [
  {
   "cell_type": "markdown",
   "metadata": {},
   "source": [
    "<!-- dom:TITLE: Ch.2: Loops and lists -->\n",
    "# Ch.2: Loops and lists\n",
    "<!-- dom:AUTHOR: Hans Petter Langtangen at Simula Research Laboratory & University of Oslo, Dept. of Informatics -->\n",
    "<!-- Author: --> **Hans Petter Langtangen**, Simula Research Laboratory and University of Oslo, Dept. of Informatics\n",
    "\n",
    "Date: **Aug 21, 2016**\n",
    "\n",
    "(A few adjustments concerning ranges for Python 3, 2019-04-09, R.Becker)\n",
    "\n",
    "## Make a table of Celsius and Fahrenheit degrees"
   ]
  },
  {
   "cell_type": "markdown",
   "metadata": {},
   "source": [
    "        -20  -4.0\n",
    "        -15   5.0\n",
    "        -10  14.0\n",
    "         -5  23.0\n",
    "          0  32.0\n",
    "          5  41.0\n",
    "         10  50.0\n",
    "         15  59.0\n",
    "         20  68.0\n",
    "         25  77.0\n",
    "         30  86.0\n",
    "         35  95.0\n",
    "         40 104.0\n"
   ]
  },
  {
   "cell_type": "markdown",
   "metadata": {},
   "source": [
    "How can a program write out such a table?\n",
    "\n",
    "\n",
    "\n",
    "## Making a table: the simple naive solution\n",
    "\n",
    "We know how to make one line in the table:"
   ]
  },
  {
   "cell_type": "code",
   "execution_count": null,
   "metadata": {},
   "outputs": [],
   "source": [
    "C = -20\n",
    "F = 9.0/5*C + 32\n",
    "print (C, F)"
   ]
  },
  {
   "cell_type": "markdown",
   "metadata": {},
   "source": [
    "We can just repeat these statements:"
   ]
  },
  {
   "cell_type": "code",
   "execution_count": null,
   "metadata": {},
   "outputs": [],
   "source": [
    "C = -20;  F = 9.0/5*C + 32;  print (C, F)\n",
    "C = -15;  F = 9.0/5*C + 32;  print (C, F)\n",
    "# ...\n",
    "C =  35;  F = 9.0/5*C + 32;  print (C, F)\n",
    "C =  40;  F = 9.0/5*C + 32;  print (C, F)"
   ]
  },
  {
   "cell_type": "markdown",
   "metadata": {},
   "source": [
    "* Very boring to write, easy to introduce a misprint\n",
    "\n",
    "  * When programming becomes boring, there is usually a construct that automates the writing!\n",
    "\n",
    "  * The computer is extremely good at performing repetitive tasks\n",
    "\n",
    "  * For this purpose we use *loops*\n",
    "\n",
    "\n",
    "\n",
    "## The while loop makes it possible to repeat almost similar tasks\n",
    "\n",
    "A while loop executes repeatedly a set of statements as long as\n",
    "a boolean condition is true"
   ]
  },
  {
   "cell_type": "markdown",
   "metadata": {},
   "source": [
    "```Python\n",
    "        while condition:\n",
    "            <statement 1>\n",
    "            <statement 2>\n",
    "            ...\n",
    "        <first statement after loop>\n",
    "```"
   ]
  },
  {
   "cell_type": "markdown",
   "metadata": {},
   "source": [
    "* All statements in the loop must be indented!\n",
    "\n",
    "  * The loop ends when an unindented statement is encountered\n",
    "\n",
    "\n",
    "\n",
    "## The while loop for making a table"
   ]
  },
  {
   "cell_type": "code",
   "execution_count": null,
   "metadata": {},
   "outputs": [],
   "source": [
    "print ('------------------') # table heading\n",
    "C = -20                    # start value for C\n",
    "dC = 5                     # increment of C in loop\n",
    "while C <= 40:             # loop heading with condition\n",
    "    F = (9.0/5)*C + 32     # 1st statement inside loop\n",
    "    print (C, F)             # 2nd statement inside loop\n",
    "    C = C + dC             # last statement inside loop\n",
    "print ('------------------') # end of table line"
   ]
  },
  {
   "cell_type": "markdown",
   "metadata": {},
   "source": [
    "## The program flow in a while loop"
   ]
  },
  {
   "cell_type": "code",
   "execution_count": null,
   "metadata": {},
   "outputs": [],
   "source": [
    "C = -20\n",
    "dC = 5\n",
    "while C <= 40:\n",
    "    F = (9.0/5)*C + 32\n",
    "    print (C, F)\n",
    "    C = C + dC"
   ]
  },
  {
   "cell_type": "markdown",
   "metadata": {},
   "source": [
    "Let us simulate the while loop by hand:\n",
    "\n",
    "  * First `C` is -20, $-20 \\leq 40$ is true, therefore we execute the loop statements\n",
    "\n",
    "  * Compute `F`, print, and update `C` to -15\n",
    "\n",
    "  * We jump up to the `while` line, evaluate $C\\leq 40$, which is true, hence a new round in the loop\n",
    "\n",
    "  * We continue this way until `C` is updated to 45\n",
    "\n",
    "  * Now the loop condition $45\\leq 40$ is false, and the program jumps to the first line after the loop - the loop is over\n",
    "\n",
    "## Boolean expressions are true or false\n",
    "\n",
    "An expression with value true or false is called a boolean expression.\n",
    "Examples: $C=40$, $C\\neq 40$, $C\\geq 40$, $C>40$, $C<40$."
   ]
  },
  {
   "cell_type": "markdown",
   "metadata": {},
   "source": [
    "```Python\n",
    "        C == 40  # note the double ==, C = 40 is an assignment!\n",
    "        C != 40\n",
    "        C >= 40\n",
    "        C >  40\n",
    "        C <  40\n",
    "```"
   ]
  },
  {
   "cell_type": "markdown",
   "metadata": {},
   "source": [
    "We can test boolean expressions in a Python shell:"
   ]
  },
  {
   "cell_type": "code",
   "execution_count": null,
   "metadata": {},
   "outputs": [],
   "source": [
    "C = 41\n",
    "C != 40"
   ]
  },
  {
   "cell_type": "code",
   "execution_count": null,
   "metadata": {},
   "outputs": [],
   "source": [
    "C < 40"
   ]
  },
  {
   "cell_type": "code",
   "execution_count": null,
   "metadata": {},
   "outputs": [],
   "source": [
    "C == 41"
   ]
  },
  {
   "cell_type": "markdown",
   "metadata": {},
   "source": [
    "## Combining boolean expressions\n",
    "\n",
    "Several conditions can be combined with and/or:"
   ]
  },
  {
   "cell_type": "markdown",
   "metadata": {},
   "source": [
    "```Python\n",
    "        while condition1 and condition2:\n",
    "            ...\n",
    "        \n",
    "        while condition1 or condition2:\n",
    "            ...\n",
    "```"
   ]
  },
  {
   "cell_type": "markdown",
   "metadata": {},
   "source": [
    "Rule 1: `C1 and C2` is `True` if both `C1` and `C2` are `True`\n",
    "\n",
    "Rule 2: `C1 or C2` is `True` if one of `C1` or `C2` is `True`"
   ]
  },
  {
   "cell_type": "code",
   "execution_count": null,
   "metadata": {},
   "outputs": [],
   "source": [
    "x = 0;  y = 1.2\n",
    "x >= 0 and y < 1"
   ]
  },
  {
   "cell_type": "code",
   "execution_count": null,
   "metadata": {},
   "outputs": [],
   "source": [
    "x >= 0 or y < 1"
   ]
  },
  {
   "cell_type": "code",
   "execution_count": null,
   "metadata": {},
   "outputs": [],
   "source": [
    "x > 0 or y > 1"
   ]
  },
  {
   "cell_type": "code",
   "execution_count": null,
   "metadata": {},
   "outputs": [],
   "source": [
    "x > 0 or not y > 1"
   ]
  },
  {
   "cell_type": "code",
   "execution_count": null,
   "metadata": {},
   "outputs": [],
   "source": [
    "-1 < x <= 0   #  -1 < x and x <= 0"
   ]
  },
  {
   "cell_type": "code",
   "execution_count": null,
   "metadata": {},
   "outputs": [],
   "source": [
    "not (x > 0 or y > 0)"
   ]
  },
  {
   "cell_type": "markdown",
   "metadata": {},
   "source": [
    "## Lists are objects for storing a sequence of things (objects)\n",
    "\n",
    "So far, one variable has referred to one number (or string),\n",
    "but sometimes we naturally have a collection of numbers, say degrees $-20, -15, -10, -5, 0, \\ldots, 40$\n",
    "\n",
    "Simple solution: one variable for each value"
   ]
  },
  {
   "cell_type": "code",
   "execution_count": null,
   "metadata": {},
   "outputs": [],
   "source": [
    "C1 = -20\n",
    "C2 = -15\n",
    "C3 = -10\n",
    "# ...\n",
    "C13 = 40"
   ]
  },
  {
   "cell_type": "markdown",
   "metadata": {},
   "source": [
    "Stupid and boring solution if we have many values!\n",
    "\n",
    "Better: a set of values can be collected in a list"
   ]
  },
  {
   "cell_type": "code",
   "execution_count": null,
   "metadata": {},
   "outputs": [],
   "source": [
    "C = [-20, -15, -10, -5, 0, 5, 10, 15, 20, 25, 30, 35, 40]"
   ]
  },
  {
   "cell_type": "markdown",
   "metadata": {},
   "source": [
    "Now there is one variable, `C`, holding all the values\n",
    "\n",
    "\n",
    "\n",
    "## List operations: initialization and indexing\n",
    "\n",
    "Initialize with square brackets and comma between the Python objects:"
   ]
  },
  {
   "cell_type": "code",
   "execution_count": null,
   "metadata": {},
   "outputs": [],
   "source": [
    "L1 = [-91, 'a string', 7.2, 0]"
   ]
  },
  {
   "cell_type": "markdown",
   "metadata": {},
   "source": [
    "Elements are accessed via an index: `L1[3]` (index=3).\n",
    "\n",
    "List indices start at `0`: `0`, `1`, `2`, ... `len(L1)-1`."
   ]
  },
  {
   "cell_type": "code",
   "execution_count": null,
   "metadata": {},
   "outputs": [],
   "source": [
    "mylist = [4, 6, -3.5]\n",
    "print (mylist[0])"
   ]
  },
  {
   "cell_type": "code",
   "execution_count": null,
   "metadata": {},
   "outputs": [],
   "source": [
    "print (mylist[1])"
   ]
  },
  {
   "cell_type": "code",
   "execution_count": null,
   "metadata": {},
   "outputs": [],
   "source": [
    "print (mylist[2])"
   ]
  },
  {
   "cell_type": "code",
   "execution_count": null,
   "metadata": {},
   "outputs": [],
   "source": [
    "len(mylist)  # length of list"
   ]
  },
  {
   "cell_type": "markdown",
   "metadata": {},
   "source": [
    "## List operations: append, extend, insert, delete"
   ]
  },
  {
   "cell_type": "code",
   "execution_count": null,
   "metadata": {},
   "outputs": [],
   "source": [
    "C = [-10, -5, 0, 5, 10, 15, 20, 25, 30]\n",
    "C.append(35)   # add new element 35 at the end\n",
    "C"
   ]
  },
  {
   "cell_type": "code",
   "execution_count": null,
   "metadata": {},
   "outputs": [],
   "source": [
    "C = C + [40, 45]     # extend C at the end\n",
    "C"
   ]
  },
  {
   "cell_type": "code",
   "execution_count": null,
   "metadata": {},
   "outputs": [],
   "source": [
    "C.insert(0, -15)     # insert -15 as index 0\n",
    "C"
   ]
  },
  {
   "cell_type": "code",
   "execution_count": null,
   "metadata": {},
   "outputs": [],
   "source": [
    "del C[2]             # delete 3rd element\n",
    "C"
   ]
  },
  {
   "cell_type": "code",
   "execution_count": null,
   "metadata": {},
   "outputs": [],
   "source": [
    "del C[2]             # delete what is now 3rd element\n",
    "C"
   ]
  },
  {
   "cell_type": "code",
   "execution_count": null,
   "metadata": {},
   "outputs": [],
   "source": [
    "len(C)               # length of list"
   ]
  },
  {
   "cell_type": "markdown",
   "metadata": {},
   "source": [
    "## List operations: search for elements, negative indices"
   ]
  },
  {
   "cell_type": "code",
   "execution_count": null,
   "metadata": {},
   "outputs": [],
   "source": [
    "C.index(10)   # index of the first element with value 10"
   ]
  },
  {
   "cell_type": "code",
   "execution_count": null,
   "metadata": {},
   "outputs": [],
   "source": [
    "10 in C       # is 10 an element in C?"
   ]
  },
  {
   "cell_type": "code",
   "execution_count": null,
   "metadata": {},
   "outputs": [],
   "source": [
    "C[-1]         # the last list element"
   ]
  },
  {
   "cell_type": "code",
   "execution_count": null,
   "metadata": {},
   "outputs": [],
   "source": [
    "C[-2]         # the next last list element"
   ]
  },
  {
   "cell_type": "code",
   "execution_count": null,
   "metadata": {},
   "outputs": [],
   "source": [
    "somelist = ['book.tex', 'book.log', 'book.pdf']\n",
    "texfile, logfile, pdf = somelist  # assign directly to variables\n",
    "texfile"
   ]
  },
  {
   "cell_type": "code",
   "execution_count": null,
   "metadata": {},
   "outputs": [],
   "source": [
    "logfile"
   ]
  },
  {
   "cell_type": "code",
   "execution_count": null,
   "metadata": {},
   "outputs": [],
   "source": [
    "pdf"
   ]
  },
  {
   "cell_type": "markdown",
   "metadata": {},
   "source": [
    "## Loop over elements in a list with a for loop\n",
    "\n",
    "Use a *for* loop to loop over a list and process each element:"
   ]
  },
  {
   "cell_type": "code",
   "execution_count": null,
   "metadata": {},
   "outputs": [],
   "source": [
    "degrees = [0, 10, 20, 40, 100]\n",
    "for C in degrees:\n",
    "    print ('Celsius degrees:', C)\n",
    "    F = 9/5.*C + 32\n",
    "    print ('Fahrenheit:', F)\n",
    "print ('The degrees list has', len(degrees), 'elements')"
   ]
  },
  {
   "cell_type": "markdown",
   "metadata": {},
   "source": [
    "As with *while* loops, the statements in the loop must be indented!\n",
    "\n",
    "\n",
    "\n",
    "## Simulate a for loop by hand"
   ]
  },
  {
   "cell_type": "code",
   "execution_count": null,
   "metadata": {},
   "outputs": [],
   "source": [
    "degrees = [0, 10, 20, 40, 100]\n",
    "for C in degrees:\n",
    "    print (C)\n",
    "print ('The degrees list has', len(degrees), 'elements')"
   ]
  },
  {
   "cell_type": "markdown",
   "metadata": {},
   "source": [
    "Simulation by hand:\n",
    "\n",
    "  * First pass: `C` is 0\n",
    "\n",
    "  * Second pass: `C` is 10 ...and so on...\n",
    "\n",
    "  * Third pass: `C` is 20 ...and so on...\n",
    "\n",
    "  * Fifth pass: `C` is 100, now the loop is over and the program flow jumps to the first statement with the same indentation as the `for C in degrees` line\n",
    "\n",
    "## Making a table with a for loop\n",
    "\n",
    "**Table of Celsius and Fahreheit degrees:**"
   ]
  },
  {
   "cell_type": "code",
   "execution_count": null,
   "metadata": {},
   "outputs": [],
   "source": [
    "Cdegrees = [-20, -15, -10, -5, 0, 5, 10, 15,\n",
    "             20, 25, 30, 35, 40]\n",
    "for C in Cdegrees:\n",
    "    F = (9.0/5)*C + 32\n",
    "    print (C, F)"
   ]
  },
  {
   "cell_type": "markdown",
   "metadata": {},
   "source": [
    "Note: `print C, F` gives ugly output. Use printf syntax to nicely\n",
    "format the two columns:"
   ]
  },
  {
   "cell_type": "code",
   "execution_count": null,
   "metadata": {},
   "outputs": [],
   "source": [
    "print ('%5d %5.1f' % (C, F))"
   ]
  },
  {
   "cell_type": "markdown",
   "metadata": {},
   "source": [
    "Output:"
   ]
  },
  {
   "cell_type": "markdown",
   "metadata": {},
   "source": [
    "        -20  -4.0\n",
    "        -15   5.0\n",
    "        -10  14.0\n",
    "         -5  23.0\n",
    "          0  32.0\n",
    "          ......\n",
    "         35  95.0\n",
    "         40 104.0\n"
   ]
  },
  {
   "cell_type": "markdown",
   "metadata": {},
   "source": [
    "## A for loop can always be translated to a while loop\n",
    "\n",
    "The for loop"
   ]
  },
  {
   "cell_type": "markdown",
   "metadata": {},
   "source": [
    "```Python\n",
    "        for element in somelist:\n",
    "            # process element\n",
    "```"
   ]
  },
  {
   "cell_type": "markdown",
   "metadata": {},
   "source": [
    "can always be transformed to a corresponding while loop"
   ]
  },
  {
   "cell_type": "markdown",
   "metadata": {},
   "source": [
    "```Python\n",
    "        index = 0\n",
    "        while index < len(somelist):\n",
    "            element = somelist[index]\n",
    "            # process element\n",
    "            index += 1\n",
    "```"
   ]
  },
  {
   "cell_type": "markdown",
   "metadata": {},
   "source": [
    "*But not all while loops can be expressed as for loops!*\n",
    "\n",
    "\n",
    "\n",
    "## While loop version of the for loop for making a table"
   ]
  },
  {
   "cell_type": "code",
   "execution_count": null,
   "metadata": {},
   "outputs": [],
   "source": [
    "Cdegrees = [-20, -15, -10, -5, 0, 5, 10,\n",
    "            15, 20, 25, 30, 35, 40]\n",
    "index = 0\n",
    "while index < len(Cdegrees):\n",
    "    C = Cdegrees[index]\n",
    "    F = (9.0/5)*C + 32\n",
    "    print ('%5d %5.1f' % (C, F))\n",
    "    index += 1"
   ]
  },
  {
   "cell_type": "markdown",
   "metadata": {},
   "source": [
    "## Implement a mathematical sum via a loop"
   ]
  },
  {
   "cell_type": "markdown",
   "metadata": {},
   "source": [
    "$$\n",
    "S = \\sum_{i=1}^N i^2\n",
    "$$"
   ]
  },
  {
   "cell_type": "code",
   "execution_count": null,
   "metadata": {},
   "outputs": [],
   "source": [
    "N = 14\n",
    "\n",
    "S = 0\n",
    "for i in range(1, N+1):\n",
    "    S += i**2\n",
    "print (S)"
   ]
  },
  {
   "cell_type": "markdown",
   "metadata": {},
   "source": [
    "Or (less common):"
   ]
  },
  {
   "cell_type": "code",
   "execution_count": null,
   "metadata": {},
   "outputs": [],
   "source": [
    "S = 0\n",
    "i = 1\n",
    "while i <= N:\n",
    "    S += i**2\n",
    "    i += 1\n",
    "print (S)"
   ]
  },
  {
   "cell_type": "markdown",
   "metadata": {},
   "source": [
    "Mathematical sums appear often so remember the implementation!\n",
    "\n",
    "\n",
    "\n",
    "\n",
    "## Storing the table columns as lists\n",
    "\n",
    "Let us put all the Fahrenheit values in a list as well:"
   ]
  },
  {
   "cell_type": "code",
   "execution_count": null,
   "metadata": {},
   "outputs": [],
   "source": [
    "Cdegrees = [-20, -15, -10, -5, 0, 5, 10,\n",
    "            15, 20, 25, 30, 35, 40]\n",
    "Fdegrees = []            # start with empty list\n",
    "for C in Cdegrees:\n",
    "    F = (9.0/5)*C + 32\n",
    "    Fdegrees.append(F)   # add new element to Fdegrees\n",
    "print (Fdegrees)"
   ]
  },
  {
   "cell_type": "markdown",
   "metadata": {},
   "source": [
    "## For loop with list indices\n",
    "\n",
    "For loops usually loop over list values (elements):"
   ]
  },
  {
   "cell_type": "markdown",
   "metadata": {},
   "source": [
    "```Python\n",
    "        for element in somelist:\n",
    "            # process variable element\n",
    "```"
   ]
  },
  {
   "cell_type": "markdown",
   "metadata": {},
   "source": [
    "We can alternatively loop over list indices:"
   ]
  },
  {
   "cell_type": "markdown",
   "metadata": {},
   "source": [
    "```Python\n",
    "        for i in range(0, len(somelist), 1):\n",
    "            element = somelist[i]\n",
    "            # process element or somelist[i] directly\n",
    "```"
   ]
  },
  {
   "cell_type": "markdown",
   "metadata": {},
   "source": [
    "**Python 2:**\n",
    "\n",
    "`range(start, stop, inc)` generates a **list** of integers `start`, `start+inc`, `start+2*inc`, and so on up to, *but not including*, `stop`.\n",
    "`range(stop)` is short for `range(0, stop, 1)`.\n",
    "\n",
    "**Python 3:**\n",
    "\n",
    "`range(start, stop, inc)` generates a **RANGE OBJECT** (not a list) of integers `start`, `start+inc`, `start+2*inc`, and so on up to, *but not including*, `stop`.\n",
    "`range(stop)` is short for `range(0, stop, 1)`.\n",
    "\n",
    "In for loops you can use a range object the same way you use a list in Python 2.\n",
    "\n",
    "To convert a range to a list in Python 3 you have to do so explicitly by calling\n",
    "```python\n",
    "list(range(3))\n",
    "```\n"
   ]
  },
  {
   "cell_type": "code",
   "execution_count": null,
   "metadata": {},
   "outputs": [],
   "source": [
    "range(3)         # = range(0, 3, 1), a range object in Python 3, a list in Python 2"
   ]
  },
  {
   "cell_type": "code",
   "execution_count": null,
   "metadata": {},
   "outputs": [],
   "source": [
    "list(range(3)) # This is what Python 2 yields when it executes range(3)"
   ]
  },
  {
   "cell_type": "code",
   "execution_count": null,
   "metadata": {},
   "outputs": [],
   "source": [
    "range(2, 8, 3)  # a range object in Python 3, a list in Python 2"
   ]
  },
  {
   "cell_type": "code",
   "execution_count": null,
   "metadata": {},
   "outputs": [],
   "source": [
    "list(range(2, 8, 3)) # The list of that range in Python 3"
   ]
  },
  {
   "cell_type": "markdown",
   "metadata": {},
   "source": [
    "## How can we change the elements in a list?\n",
    "\n",
    "**Say we want to add 2 to all numbers in a list:**"
   ]
  },
  {
   "cell_type": "code",
   "execution_count": null,
   "metadata": {},
   "outputs": [],
   "source": [
    "v = [-1, 1, 10]\n",
    "for e in v:\n",
    "    e = e + 2"
   ]
  },
  {
   "cell_type": "code",
   "execution_count": null,
   "metadata": {},
   "outputs": [],
   "source": [
    "v"
   ]
  },
  {
   "cell_type": "markdown",
   "metadata": {},
   "source": [
    "## Changing a list element requires assignment to an indexed element\n",
    "\n",
    "\n",
    "What is the problem?\n",
    "\n",
    "Inside the loop, `e` is an ordinary (`int`) variable, first time `e` becomes 1, next time `e` becomes 3, and then 12 - but the list `v` is unaltered\n",
    "\n",
    "Solution: must *index a list element* to change its value:"
   ]
  },
  {
   "cell_type": "code",
   "execution_count": null,
   "metadata": {},
   "outputs": [],
   "source": [
    "v[1] = 4    # assign 4 to 2nd element (index 1) in v\n",
    "v"
   ]
  },
  {
   "cell_type": "code",
   "execution_count": null,
   "metadata": {},
   "outputs": [],
   "source": [
    "\n",
    "for i in range(len(v)):\n",
    "    v[i] = v[i] + 2"
   ]
  },
  {
   "cell_type": "code",
   "execution_count": null,
   "metadata": {},
   "outputs": [],
   "source": [
    "v"
   ]
  },
  {
   "cell_type": "markdown",
   "metadata": {},
   "source": [
    "## List comprehensions: compact creation of lists\n",
    "\n",
    "**Example: compute two lists in a for loop.**"
   ]
  },
  {
   "cell_type": "code",
   "execution_count": null,
   "metadata": {},
   "outputs": [],
   "source": [
    "n = 16\n",
    "Cdegrees = [];  Fdegrees = []  # empty lists\n",
    "\n",
    "for i in range(n): # Ranges in Python 2 (list) and in Python 3 (range obj.) are both iterable.\n",
    "    Cdegrees.append(-5 + i*0.5)\n",
    "    Fdegrees.append((9.0/5)*Cdegrees[i] + 32)\n",
    "print (Cdegrees)\n",
    "print (Fdegrees)"
   ]
  },
  {
   "cell_type": "markdown",
   "metadata": {},
   "source": [
    "Python has a compact construct, called *list comprehension*, for generating lists from a for loop:"
   ]
  },
  {
   "cell_type": "code",
   "execution_count": null,
   "metadata": {},
   "outputs": [],
   "source": [
    "Cdegrees = [-5 + i*0.5 for i in range(n)]\n",
    "Fdegrees = [(9.0/5)*C + 32 for C in Cdegrees]\n",
    "print (Cdegrees)\n",
    "print (Fdegrees)"
   ]
  },
  {
   "cell_type": "markdown",
   "metadata": {},
   "source": [
    "General form of a list comprehension:"
   ]
  },
  {
   "cell_type": "markdown",
   "metadata": {},
   "source": [
    "```Python\n",
    "        somelist = [expression for element in somelist]\n",
    "```"
   ]
  },
  {
   "cell_type": "markdown",
   "metadata": {},
   "source": [
    "where `expression` involves `element`\n",
    "\n",
    "\n",
    "\n",
    "\n",
    "## Traversing multiple lists simultaneously with zip\n",
    "\n",
    "**Can we one loop running over two lists?**\n",
    "\n",
    "\n",
    "Solution 1: loop over indices"
   ]
  },
  {
   "cell_type": "code",
   "execution_count": null,
   "metadata": {},
   "outputs": [],
   "source": [
    "for i in range(len(Cdegrees)):\n",
    "    print (Cdegrees[i], Fdegrees[i])"
   ]
  },
  {
   "cell_type": "markdown",
   "metadata": {},
   "source": [
    "Solution 2: use the `zip` construct (more \"Pythonic\"):"
   ]
  },
  {
   "cell_type": "code",
   "execution_count": null,
   "metadata": {},
   "outputs": [],
   "source": [
    "for C, F in zip(Cdegrees, Fdegrees):\n",
    "    print (C, F)"
   ]
  },
  {
   "cell_type": "markdown",
   "metadata": {},
   "source": [
    "Example with three lists:"
   ]
  },
  {
   "cell_type": "code",
   "execution_count": null,
   "metadata": {},
   "outputs": [],
   "source": [
    "l1 = [3, 6, 1];  l2 = [1.5, 1, 0];  l3 = [9.1, 3, 2]\n",
    "for e1, e2, e3 in zip(l1, l2, l3):\n",
    "    print (e1, e2, e3)"
   ]
  },
  {
   "cell_type": "markdown",
   "metadata": {},
   "source": [
    "## Nested lists: list of lists\n",
    "\n",
    "  * A list can contain *any* object, also another list\n",
    "\n",
    "  * Instead of storing a table as two separate lists (one for each column), we can stick the two lists together in a new list:"
   ]
  },
  {
   "cell_type": "code",
   "execution_count": null,
   "metadata": {},
   "outputs": [],
   "source": [
    "# Python 2 code:\n",
    "Cdegrees = range(-20, 41, 5)\n",
    "Fdegrees = [(9.0/5)*C + 32 for C in Cdegrees]\n",
    "\n",
    "table1 = [Cdegrees, Fdegrees]  # list of two lists\n",
    "\n",
    "print (table1[0])     # the Cdegrees list\n",
    "print (table1[1])     # the Fdegrees list\n",
    "print (table1[1][2])  # the 3rd element in Fdegrees"
   ]
  },
  {
   "cell_type": "code",
   "execution_count": null,
   "metadata": {},
   "outputs": [],
   "source": [
    "# Python 3 code:\n",
    "Cdegrees = list(range(-20, 41, 5))\n",
    "Fdegrees = [(9.0/5)*C + 32 for C in Cdegrees]\n",
    "\n",
    "table1 = [Cdegrees, Fdegrees]  # list of two lists\n",
    "\n",
    "print (table1[0])     # the Cdegrees list\n",
    "print (table1[1])     # the Fdegrees list\n",
    "print (table1[1][2])  # the 3rd element in Fdegrees"
   ]
  },
  {
   "cell_type": "markdown",
   "metadata": {},
   "source": [
    "## Table of columns vs table of rows\n",
    "\n",
    "  * The previous `table = [Cdegrees,Fdegrees]` is a table of (two) columns\n",
    "\n",
    "  * Let us make a table of rows instead, each row is a `[C,F]` pair:"
   ]
  },
  {
   "cell_type": "code",
   "execution_count": null,
   "metadata": {},
   "outputs": [],
   "source": [
    "table2 = []\n",
    "for C, F in zip(Cdegrees, Fdegrees):\n",
    "    row = [C, F]\n",
    "    table2.append(row)\n",
    "\n",
    "# more compact with list comprehension:\n",
    "table2 = [[C, F] for C, F in zip(Cdegrees, Fdegrees)]\n",
    "table2"
   ]
  },
  {
   "cell_type": "markdown",
   "metadata": {},
   "source": [
    "Iteration over a nested list:"
   ]
  },
  {
   "cell_type": "markdown",
   "metadata": {},
   "source": [
    "```Python\n",
    "        for C, F in table2:\n",
    "            # work with C and F from a row in table2\n",
    "        \n",
    "        # or\n",
    "        for row in table2:\n",
    "            C, F = row\n",
    "            ...\n",
    "```"
   ]
  },
  {
   "cell_type": "markdown",
   "metadata": {},
   "source": [
    "## Illustration of table of columns\n",
    "\n",
    "<!-- dom:FIGURE: [https://raw.githubusercontent.com/hplgit/scipro-primer/master/slides/looplist/html/fig-looplist/table1.png, width=340 frac=0.4] -->\n",
    "<!-- begin figure -->\n",
    "\n",
    "<p></p>\n",
    "<img src=\"https://raw.githubusercontent.com/hplgit/scipro-primer/master/slides/looplist/html/fig-looplist/table1.png\" width=340>\n",
    "\n",
    "<!-- end figure -->\n",
    "\n",
    "\n",
    "## Illustration of table of rows\n",
    "\n",
    "<!-- dom:FIGURE: [https://raw.githubusercontent.com/hplgit/scipro-primer/master/slides/looplist/html/fig-looplist/table2.png, width=400 frac=0.5] -->\n",
    "<!-- begin figure -->\n",
    "\n",
    "<p></p>\n",
    "<img src=\"https://raw.githubusercontent.com/hplgit/scipro-primer/master/slides/looplist/html/fig-looplist/table2.png\" width=400>\n",
    "\n",
    "<!-- end figure -->\n",
    "\n",
    "\n",
    "\n",
    "## Extracting sublists (or slices)\n",
    "\n",
    "We can easily grab parts of a list:"
   ]
  },
  {
   "cell_type": "code",
   "execution_count": null,
   "metadata": {},
   "outputs": [],
   "source": [
    "A = [2, 3.5, 8, 10]\n",
    "A[2:]   # from index 2 to end of list"
   ]
  },
  {
   "cell_type": "code",
   "execution_count": null,
   "metadata": {},
   "outputs": [],
   "source": [
    "A[1:3]  # from index 1 up to, but not incl., index 3"
   ]
  },
  {
   "cell_type": "code",
   "execution_count": null,
   "metadata": {},
   "outputs": [],
   "source": [
    "A[:3]   # from start up to, but not incl., index 3"
   ]
  },
  {
   "cell_type": "code",
   "execution_count": null,
   "metadata": {},
   "outputs": [],
   "source": [
    "A[1:-1] # from index 1 to next last element"
   ]
  },
  {
   "cell_type": "code",
   "execution_count": null,
   "metadata": {},
   "outputs": [],
   "source": [
    "A[:]    # the whole list"
   ]
  },
  {
   "cell_type": "markdown",
   "metadata": {},
   "source": [
    "Note: sublists (slices) are *copies* of the original list!\n",
    "\n",
    "\n",
    "\n",
    "## What does this code snippet do?"
   ]
  },
  {
   "cell_type": "code",
   "execution_count": null,
   "metadata": {},
   "outputs": [],
   "source": [
    "for C, F in table2[Cdegrees.index(10):Cdegrees.index(35)]:\n",
    "    print ('%5.0f %5.1f' % (C, F))"
   ]
  },
  {
   "cell_type": "markdown",
   "metadata": {},
   "source": [
    "* This is a for loop over a sublist of `table2`\n",
    "\n",
    "  * Sublist indices: `Cdegrees.index(10)`, `Cdegrees.index(35)`, i.e., the indices corresponding to elements 10 and 35\n",
    "\n",
    "\n",
    "\n",
    "\n",
    "## Iteration over general nested lists\n",
    "\n",
    "List with many indices: `somelist[i1][i2][i3]...`\n",
    "\n",
    "\n",
    "\n",
    "**Loops over list indices:**"
   ]
  },
  {
   "cell_type": "markdown",
   "metadata": {},
   "source": [
    "```Python\n",
    "        for i1 in range(len(somelist)):\n",
    "            for i2 in range(len(somelist[i1])):\n",
    "                for i3 in range(len(somelist[i1][i2])):\n",
    "                    for i4 in range(len(somelist[i1][i2][i3])):\n",
    "                        value = somelist[i1][i2][i3][i4]\n",
    "                        # work with value\n",
    "```"
   ]
  },
  {
   "cell_type": "markdown",
   "metadata": {},
   "source": [
    "**Loops over sublists:**"
   ]
  },
  {
   "cell_type": "markdown",
   "metadata": {},
   "source": [
    "```Python\n",
    "        for sublist1 in somelist:\n",
    "            for sublist2 in sublist1:\n",
    "                for sublist3 in sublist2:\n",
    "                    for sublist4 in sublist3:\n",
    "                        value = sublist4\n",
    "                        # work with value\n",
    "```"
   ]
  },
  {
   "cell_type": "markdown",
   "metadata": {},
   "source": [
    "## Iteration over a specific nested list"
   ]
  },
  {
   "cell_type": "code",
   "execution_count": null,
   "metadata": {},
   "outputs": [],
   "source": [
    "L = [[9, 7], [-1, 5, 6]]\n",
    "for row in L:\n",
    "    for column in row:\n",
    "        print (column)"
   ]
  },
  {
   "cell_type": "markdown",
   "metadata": {},
   "source": [
    "Simulate this program by hand!\n",
    "\n",
    "**Question.**\n",
    "\n",
    "How can we index element with value 5?\n",
    "\n",
    "\n",
    "\n",
    "## Tuples are constant lists\n",
    "\n",
    "Tuples are constant lists that cannot be changed:"
   ]
  },
  {
   "cell_type": "code",
   "execution_count": null,
   "metadata": {},
   "outputs": [],
   "source": [
    "t = (2, 4, 6, 'temp.pdf')    # define a tuple\n",
    "t =  2, 4, 6, 'temp.pdf'     # can skip parenthesis\n",
    "t[1] = -1"
   ]
  },
  {
   "cell_type": "code",
   "execution_count": null,
   "metadata": {},
   "outputs": [],
   "source": [
    "t.append(0)"
   ]
  },
  {
   "cell_type": "code",
   "execution_count": null,
   "metadata": {},
   "outputs": [],
   "source": [
    "del t[1]"
   ]
  },
  {
   "cell_type": "markdown",
   "metadata": {},
   "source": [
    "Tuples can do much of what lists can do:"
   ]
  },
  {
   "cell_type": "code",
   "execution_count": null,
   "metadata": {},
   "outputs": [],
   "source": [
    "t = t + (-1.0, -2.0)           # add two tuples\n",
    "t"
   ]
  },
  {
   "cell_type": "code",
   "execution_count": null,
   "metadata": {},
   "outputs": [],
   "source": [
    "t[1]                           # indexing"
   ]
  },
  {
   "cell_type": "code",
   "execution_count": null,
   "metadata": {},
   "outputs": [],
   "source": [
    "t[2:]                          # subtuple/slice"
   ]
  },
  {
   "cell_type": "code",
   "execution_count": null,
   "metadata": {},
   "outputs": [],
   "source": [
    "6 in t                         # membership"
   ]
  },
  {
   "cell_type": "markdown",
   "metadata": {},
   "source": [
    "## Why tuples when lists have more functionality?\n",
    "\n",
    "  * Tuples are constant and thus protected against accidental changes\n",
    "\n",
    "  * Tuples are faster than lists\n",
    "\n",
    "  * Tuples are widely used in Python software\n",
    "    (so you need to know about them!)\n",
    "\n",
    "  * Tuples (but not lists) can be used as keys in dictionaries\n",
    "    (more about dictionaries later)\n",
    "\n",
    "\n",
    "\n",
    "## Key topics from this chapter\n",
    "\n",
    "<!-- dom:FIGURE: [https://raw.githubusercontent.com/hplgit/scipro-primer/master/slides/looplist/html/fig-looplist/opt_exec.png, width=800 frac=0.8] -->\n",
    "<!-- begin figure -->\n",
    "\n",
    "<p></p>\n",
    "<img src=\"https://raw.githubusercontent.com/hplgit/scipro-primer/master/slides/looplist/html/fig-looplist/opt_exec.png\" width=800>\n",
    "\n",
    "<!-- end figure -->\n",
    "\n",
    "\n",
    " * While loops\n",
    "\n",
    " * Boolean expressions\n",
    "\n",
    " * For loops\n",
    "\n",
    " * Lists\n",
    "\n",
    " * Nested lists\n",
    "\n",
    " * Tuples\n",
    "\n",
    "## Summary of loops, lists and tuples\n",
    "\n",
    "While loops and for loops:"
   ]
  },
  {
   "cell_type": "markdown",
   "metadata": {},
   "source": [
    "```Python\n",
    "        while condition:\n",
    "            <block of statements>\n",
    "        \n",
    "        for element in somelist:\n",
    "            <block of statements>\n",
    "```"
   ]
  },
  {
   "cell_type": "markdown",
   "metadata": {},
   "source": [
    "Lists and tuples:"
   ]
  },
  {
   "cell_type": "code",
   "execution_count": null,
   "metadata": {},
   "outputs": [],
   "source": [
    "mylist  = ['a string', 2.5, 6, 'another string']\n",
    "mytuple = ('a string', 2.5, 6, 'another string')\n",
    "mylist[1]  = -10\n",
    "mylist.append('a third string')\n",
    "mytuple[1] = -10  # illegal: cannot change a tuple"
   ]
  },
  {
   "cell_type": "markdown",
   "metadata": {},
   "source": [
    "## List functionality\n",
    "\n",
    "\n",
    "<table border=\"1\">\n",
    "<thead>\n",
    "<tr><th align=\"center\">       Construction      </th> <th align=\"center\">                    Meaning                    </th> </tr>\n",
    "</thead>\n",
    "<tbody>\n",
    "<tr><td align=\"left\">   <code>a = [] </code>                    </td> <td align=\"left\">   initialize an empty list                           </td> </tr>\n",
    "<tr><td align=\"left\">   <code>a = [1, 4.4, 'run.py'] </code>    </td> <td align=\"left\">   initialize a list                                  </td> </tr>\n",
    "<tr><td align=\"left\">   <code>a.append(elem)</code>             </td> <td align=\"left\">   add <code>elem</code> object to the end                       </td> </tr>\n",
    "<tr><td align=\"left\">   <code>a + [1,3]</code>                  </td> <td align=\"left\">   add two lists                                      </td> </tr>\n",
    "<tr><td align=\"left\">   <code>a.insert(i, e)</code>             </td> <td align=\"left\">   insert element <code>e</code> before index <code>i</code>                </td> </tr>\n",
    "<tr><td align=\"left\">   <code>a[3]</code>                       </td> <td align=\"left\">   index a list element                               </td> </tr>\n",
    "<tr><td align=\"left\">   <code>a[-1]</code>                      </td> <td align=\"left\">   get last list element                              </td> </tr>\n",
    "<tr><td align=\"left\">   <code>a[1:3]</code>                     </td> <td align=\"left\">   slice: copy data to sublist (here: index 1, 2)     </td> </tr>\n",
    "<tr><td align=\"left\">   <code>del a[3]</code>                   </td> <td align=\"left\">   delete an element (index <code>3</code>)                      </td> </tr>\n",
    "<tr><td align=\"left\">   <code>a.remove(e)</code>                </td> <td align=\"left\">   remove an element with value <code>e</code>                   </td> </tr>\n",
    "<tr><td align=\"left\">   <code>a.index('run.py')</code>          </td> <td align=\"left\">   find index corresponding to an element's value     </td> </tr>\n",
    "<tr><td align=\"left\">   <code>'run.py' in a</code>              </td> <td align=\"left\">   test if a value is contained in the list           </td> </tr>\n",
    "<tr><td align=\"left\">   <code>a.count(v)</code>                 </td> <td align=\"left\">   count how many elements that have the value <code>v</code>    </td> </tr>\n",
    "<tr><td align=\"left\">   <code>len(a)</code>                     </td> <td align=\"left\">   number of elements in list <code>a</code>                     </td> </tr>\n",
    "<tr><td align=\"left\">   <code>min(a)</code>                     </td> <td align=\"left\">   the smallest element in <code>a</code>                        </td> </tr>\n",
    "<tr><td align=\"left\">   <code>max(a)</code>                     </td> <td align=\"left\">   the largest element in <code>a</code>                         </td> </tr>\n",
    "<tr><td align=\"left\">   <code>sum(a)</code>                     </td> <td align=\"left\">   add all elements in <code>a</code>                            </td> </tr>\n",
    "<tr><td align=\"left\">   <code>sorted(a)</code>                  </td> <td align=\"left\">   return sorted version of list <code>a</code>                  </td> </tr>\n",
    "<tr><td align=\"left\">   <code>reversed(a)</code>                </td> <td align=\"left\">   return reversed sorted version of list <code>a</code>         </td> </tr>\n",
    "<tr><td align=\"left\">   <code>b[3][0][2]</code>                 </td> <td align=\"left\">   nested list indexing                               </td> </tr>\n",
    "<tr><td align=\"left\">   <code>isinstance(a, list)</code>        </td> <td align=\"left\">   is <code>True</code> if <code>a</code> is a list                         </td> </tr>\n",
    "<tr><td align=\"left\">   <code>type(a) is list</code>            </td> <td align=\"left\">   is <code>True</code> if <code>a</code> is a list                         </td> </tr>\n",
    "</tbody>\n",
    "</table>\n",
    "\n",
    "\n",
    "## A summarizing example; problem\n",
    "\n",
    "`src/misc/Oxford_sun_hours.txt`: data of the no of sun hours in Oxford, UK, for every month since Jan, 1929:"
   ]
  },
  {
   "cell_type": "markdown",
   "metadata": {},
   "source": [
    "```Python\n",
    "        [\n",
    "        [43.8, 60.5, 190.2, ...],\n",
    "        [49.9, 54.3, 109.7, ...],\n",
    "        [63.7, 72.0, 142.3, ...],\n",
    "        ...\n",
    "        ]\n",
    "```"
   ]
  },
  {
   "cell_type": "markdown",
   "metadata": {},
   "source": [
    "Tasks:\n",
    "\n",
    "  * Compute the average number of sun hours for each month during\n",
    "    the total data period (1929 - 2009),\n",
    "\n",
    "  * Which month has the best weather according to the means found in the\n",
    "    preceding task?\n",
    "\n",
    "  * For each decade, 1930-1939, 1949-1949, $\\ldots$, 2000-2009,\n",
    "    compute the average number of sun hours per day in January\n",
    "    and December\n",
    "\n",
    "\n",
    "\n",
    "## A summarizing example; program (task 1)"
   ]
  },
  {
   "cell_type": "code",
   "execution_count": null,
   "metadata": {},
   "outputs": [],
   "source": [
    "data = [\n",
    "[43.8, 60.5, 190.2, 144.7, 240.9, 210.3, 219.7, 176.3, 199.1, 109.2, 78.7, 67.0],\n",
    "[49.9, 54.3, 109.7, 102.0, 134.5, 211.2, 174.1, 207.5, 108.2, 113.5, 68.7, 23.3],\n",
    "[63.7, 72.0, 142.3, 93.5, 150.1, 158.7, 127.9, 135.5, 92.3, 102.5, 62.4, 38.5],\n",
    "[51.0, 57.9, 133.4, 110.9, 112.4, 199.3, 124.0, 178.3, 102.1, 100.7, 55.7, 58.0],\n",
    "[69.5, 94.3, 187.6, 152.5, 170.2, 226.9, 237.6, 242.7, 177.3, 101.3, 53.9, 59.0],\n",
    "[65.9, 96.6, 122.5, 124.9, 216.3, 192.7, 269.3, 184.9, 149.1, 81.5, 48.7, 31.3],\n",
    "[48.1, 62.0, 121.5, 127.3, 188.5, 196.3, 274.3, 199.9, 144.7, 102.6, 65.4, 48.9],\n",
    "[43.4, 89.2, 71.4, 133.2, 179.5, 166.2, 119.2, 184.7, 79.3, 103.1, 48.9, 62.3],\n",
    "[50.9, 66.6, 99.7, 103.1, 185.0, 181.3, 140.1, 202.3, 143.0, 79.1, 65.9, 41.2],\n",
    "[41.2, 66.9, 172.3, 180.9, 144.9, 190.6, 133.5, 151.3, 110.9, 118.1, 70.0, 52.4],\n",
    "[46.4, 104.9, 86.2, 171.7, 184.9, 227.9, 139.7, 153.7, 147.0, 94.3, 41.1, 46.0],\n",
    "[83.1, 22.8, 128.3, 118.1, 215.4, 273.4, 165.1, 199.5, 179.5, 95.5, 76.8, 46.5],\n",
    "[41.7, 67.9, 118.7, 106.9, 141.9, 210.3, 227.5, 163.7, 123.7, 120.2, 47.1, 46.9],\n",
    "[45.1, 53.9, 69.4, 202.5, 209.4, 234.0, 150.1, 132.7, 124.5, 84.6, 57.8, 51.0],\n",
    "[54.7, 79.3, 132.9, 166.6, 244.1, 192.9, 196.7, 178.3, 142.5, 84.9, 72.3, 49.5],\n",
    "[41.2, 62.4, 142.7, 147.0, 235.6, 170.3, 97.5, 185.2, 143.8, 102.0, 49.3, 64.1],\n",
    "[51.5, 65.7, 152.6, 209.1, 156.1, 182.4, 159.0, 144.8, 64.9, 111.7, 31.0, 46.6],\n",
    "[49.9, 78.7, 107.2, 203.3, 162.9, 149.8, 197.6, 134.8, 98.5, 79.3, 42.9, 74.7],\n",
    "[59.5, 26.3, 70.9, 150.5, 147.3, 185.9, 144.5, 274.9, 159.9, 107.3, 75.4, 37.9],\n",
    "[45.7, 92.9, 160.2, 205.2, 237.1, 124.2, 174.7, 133.7, 146.4, 93.7, 68.6, 65.4],\n",
    "[51.0, 115.1, 112.5, 182.5, 233.3, 242.1, 262.5, 210.3, 151.1, 125.0, 76.2, 65.4],\n",
    "[40.6, 67.5, 138.8, 163.7, 174.1, 244.5, 174.0, 171.1, 112.7, 96.6, 56.9, 55.3],\n",
    "[48.9, 58.6, 92.6, 200.4, 152.1, 251.9, 216.7, 174.7, 110.8, 105.6, 75.1, 69.8],\n",
    "[94.1, 96.7, 105.0, 178.2, 207.0, 217.6, 194.0, 180.5, 140.3, 105.0, 72.1, 77.7],\n",
    "[42.5, 75.9, 140.7, 183.3, 223.0, 139.7, 203.4, 237.4, 151.7, 84.1, 54.4, 28.4],\n",
    "[75.7, 79.7, 107.9, 202.4, 145.9, 157.1, 157.1, 123.5, 168.8, 94.5, 60.1, 54.5],\n",
    "[40.1, 86.3, 161.4, 173.7, 217.5, 155.3, 268.3, 188.0, 153.1, 119.7, 71.5, 47.3],\n",
    "[50.3, 78.9, 149.7, 158.7, 246.6, 145.0, 168.0, 161.4, 94.3, 116.5, 77.9, 18.2],\n",
    "[50.8, 83.1, 110.2, 168.0, 205.6, 297.1, 157.9, 170.5, 102.6, 92.9, 76.4, 62.3],\n",
    "[54.6, 55.4, 110.7, 145.2, 196.0, 145.7, 188.1, 119.6, 118.0, 93.7, 51.8, 29.5],\n",
    "[85.8, 65.5, 102.0, 153.8, 228.0, 226.3, 272.7, 245.6, 213.9, 144.2, 70.6, 45.0],\n",
    "[37.8, 82.3, 78.0, 164.9, 182.3, 274.9, 129.7, 147.1, 122.8, 60.9, 73.4, 54.5],\n",
    "[43.6, 65.1, 173.2, 86.9, 225.2, 231.2, 196.5, 185.7, 135.8, 118.2, 63.4, 76.5],\n",
    "[70.0, 70.6, 126.3, 143.3, 177.5, 280.3, 137.3, 154.5, 142.3, 108.8, 32.7, 72.6],\n",
    "[58.9, 66.4, 85.8, 119.1, 193.4, 199.4, 188.2, 142.6, 129.7, 78.8, 60.4, 49.8],\n",
    "[37.2, 57.3, 65.9, 128.5, 190.8, 156.1, 214.7, 217.7, 210.4, 134.5, 55.0, 51.1],\n",
    "[83.7, 31.1, 137.7, 141.6, 179.6, 188.7, 122.8, 181.2, 122.9, 109.9, 77.4, 71.9],\n",
    "[42.5, 41.5, 121.5, 81.5, 234.9, 199.0, 149.7, 188.6, 168.0, 90.4, 61.0, 41.7],\n",
    "[64.2, 88.2, 174.6, 130.8, 184.2, 232.0, 234.4, 167.1, 116.5, 95.1, 69.2, 70.6],\n",
    "[50.0, 54.0, 148.5, 184.5, 155.0, 206.6, 136.2, 124.0, 114.9, 66.5, 47.9, 35.9],\n",
    "[40.0, 78.1, 70.5, 221.3, 161.9, 276.9, 243.8, 157.5, 97.4, 112.0, 84.6, 35.6],\n",
    "[34.5, 115.9, 120.8, 132.7, 224.8, 270.9, 192.4, 185.6, 157.3, 106.2, 64.7, 43.8],\n",
    "[42.1, 69.5, 106.0, 122.9, 228.9, 143.5, 259.3, 134.2, 166.5, 135.2, 102.0, 29.8],\n",
    "[41.8, 27.3, 144.0, 117.6, 141.9, 150.4, 168.7, 160.9, 129.1, 91.6, 80.6, 47.6],\n",
    "[38.8, 74.1, 150.7, 167.7, 168.0, 249.5, 171.1, 192.0, 153.9, 95.1, 89.1, 62.9],\n",
    "[56.3, 58.3, 101.7, 142.1, 191.4, 206.2, 187.8, 198.7, 146.5, 105.4, 52.9, 58.8],\n",
    "[44.7, 57.8, 72.7, 131.4, 159.1, 301.0, 242.4, 218.6, 147.0, 120.7, 85.1, 34.4],\n",
    "[70.3, 42.6, 107.8, 148.7, 172.0, 261.4, 254.2, 257.4, 118.2, 43.6, 54.1, 58.6],\n",
    "[35.4, 74.4, 87.2, 157.9, 217.5, 123.2, 193.6, 123.4, 101.8, 107.3, 102.4, 45.2],\n",
    "[53.6, 58.9, 128.1, 113.6, 202.8, 171.7, 146.4, 157.4, 159.3, 87.5, 77.3, 34.3],\n",
    "[72.0, 67.3, 92.9, 126.4, 190.9, 166.6, 192.2, 167.4, 171.0, 117.0, 70.0, 59.7],\n",
    "[84.0, 58.8, 86.7, 165.4, 228.7, 186.7, 168.9, 169.0, 136.4, 111.8, 61.4, 64.4],\n",
    "[50.9, 75.3, 57.8, 110.4, 98.3, 122.8, 129.0, 199.8, 157.3, 101.9, 43.7, 57.5],\n",
    "[55.0, 33.8, 144.7, 164.4, 187.2, 148.4, 151.4, 159.8, 141.0, 66.3, 68.5, 60.4],\n",
    "[54.9, 74.0, 89.5, 150.5, 126.8, 180.3, 257.5, 214.5, 92.4, 119.7, 44.3, 62.9],\n",
    "[86.1, 66.0, 48.8, 236.8, 143.4, 244.3, 249.4, 199.8, 99.6, 88.6, 53.8, 57.6],\n",
    "[51.1, 78.0, 112.4, 138.3, 178.3, 165.0, 216.0, 164.9, 143.3, 100.8, 86.1, 44.2],\n",
    "[76.4, 71.2, 127.3, 139.6, 205.6, 222.7, 201.2, 147.0, 171.6, 119.7, 77.9, 64.8],\n",
    "[68.8, 67.8, 111.6, 158.7, 168.7, 129.3, 179.4, 158.2, 132.3, 109.5, 43.9, 42.9],\n",
    "[47.7, 103.7, 85.2, 132.0, 178.1, 142.3, 138.8, 178.8, 136.9, 120.0, 91.4, 46.7],\n",
    "[68.2, 107.0, 100.9, 133.9, 300.8, 244.4, 280.4, 269.5, 141.6, 90.8, 104.1, 26.5],\n",
    "[58.3, 95.7, 144.1, 234.4, 285.0, 121.1, 268.5, 236.6, 164.7, 124.4, 83.7, 58.8],\n",
    "[66.9, 60.0, 87.2, 156.6, 142.9, 150.0, 217.3, 241.4, 165.4, 79.4, 57.4, 58.4],\n",
    "[46.8, 67.3, 73.3, 139.2, 262.7, 212.2, 164.0, 173.6, 120.2, 101.3, 61.5, 47.2],\n",
    "[38.0, 54.7, 135.0, 111.9, 196.7, 231.4, 190.0, 238.3, 107.7, 120.0, 76.3, 55.0],\n",
    "[87.0, 77.6, 127.6, 177.7, 162.1, 254.9, 248.3, 191.8, 113.1, 137.5, 46.7, 68.2],\n",
    "[61.8, 74.9, 198.7, 190.1, 233.5, 194.4, 247.6, 285.1, 135.3, 139.9, 78.1, 40.9],\n",
    "[29.3, 103.4, 76.4, 148.3, 185.7, 290.7, 256.6, 211.6, 125.3, 130.8, 101.0, 55.5],\n",
    "[51.4, 64.2, 150.2, 189.9, 261.4, 137.1, 231.7, 172.0, 169.7, 153.8, 47.1, 55.7],\n",
    "[64.0, 113.0, 77.5, 105.8, 199.8, 114.0, 157.0, 225.0, 133.8, 94.5, 66.3, 38.1],\n",
    "[51.1, 81.3, 97.4, 147.6, 153.6, 202.1, 235.4, 159.2, 155.2, 144.8, 81.1, 60.9],\n",
    "[82.1, 104.9, 112.6, 143.4, 189.8, 164.6, 161.2, 209.4, 126.1, 83.9, 69.2, 51.9],\n",
    "[83.3, 85.0, 74.1, 148.2, 198.3, 226.8, 206.1, 184.1, 123.0, 100.9, 86.9, 79.2],\n",
    "[44.4, 80.5, 101.1, 210.0, 177.5, 163.3, 178.8, 166.2, 167.1, 104.8, 52.3, 41.3],\n",
    "[87.7, 94.4, 154.8, 169.8, 191.2, 213.6, 192.0, 228.4, 175.3, 134.8, 78.9, 53.6],\n",
    "[62.7, 79.1, 101.5, 150.3, 195.5, 223.6, 169.5, 194.1, 174.4, 102.4, 52.4, 58.3],\n",
    "[65.4, 66.3, 79.3, 136.3, 226.4, 177.6, 192.0, 235.7, 155.4, 92.0, 88.0, 55.7],\n",
    "[54.9, 73.1, 95.5, 152.5, 165.7, 246.2, 303.7, 167.2, 156.5, 109.0, 101.2, 42.7],\n",
    "[79.8, 67.6, 165.4, 210.7, 165.5, 149.0, 195.1, 209.2, 142.6, 102.5, 86.9, 57.2],\n",
    "[62.4, 124.1, 115.2, 161.2, 173.2, 223.8, 198.5, 141.8, 113.5, 132.2, 67.0, 73.5],\n",
    "[69.3, 64.5, 161.4, 168.4, 226.1, 203.3, 212.3, 190.6, 163.7, 109.7, 73.5, 61.5],\n",
    "]\n",
    "monthly_mean = [0]*12\n",
    "for month in range(1, 13):\n",
    "    m = month - 1   # corresponding list index (starts at 0)\n",
    "    s = 0           # sum\n",
    "    n = 2009 - 1929 + 1  # no of years\n",
    "    for year in range(1929, 2010):\n",
    "        y = year - 1929  # corresponding list index (starts at 0)\n",
    "        s += data[y][m]\n",
    "    monthly_mean[m] = s/n\n",
    "month_names = ['Jan', 'Feb', 'Mar', 'Apr', 'May', 'Jun',\n",
    "               'Jul', 'Aug', 'Sep', 'Oct', 'Nov', 'Dec']\n",
    "# nice printout:\n",
    "for name, value in zip(month_names, monthly_mean):\n",
    "    print ('%s: %.1f' % (name, value))"
   ]
  },
  {
   "cell_type": "markdown",
   "metadata": {},
   "source": [
    "## A summarizing example; program (task 2)"
   ]
  },
  {
   "cell_type": "code",
   "execution_count": null,
   "metadata": {},
   "outputs": [],
   "source": [
    "max_value = max(monthly_mean)\n",
    "month = month_names[monthly_mean.index(max_value)]\n",
    "print ('%s has best weather with %.1f sun hours on average' % \\\n",
    "      (month, max_value))\n",
    "\n",
    "max_value = -1E+20\n",
    "for i in range(len(monthly_mean)):\n",
    "    value = monthly_mean[i]\n",
    "    if value > max_value:\n",
    "        max_value = value\n",
    "        max_i = i  # store index too\n",
    "print ('%s has best weather with %.1f sun hours on average' % \\\n",
    "      (month_names[max_i], max_value))"
   ]
  },
  {
   "cell_type": "markdown",
   "metadata": {},
   "source": [
    "## A summarizing example; program (task 3)"
   ]
  },
  {
   "cell_type": "code",
   "execution_count": null,
   "metadata": {},
   "outputs": [],
   "source": [
    "decade_mean = []\n",
    "for decade_start in range(1930, 2010, 10):\n",
    "    Jan_index = 0; Dec_index = 11  # indices\n",
    "    s = 0\n",
    "    for year in range(decade_start, decade_start+10):\n",
    "        y = year - 1929  # list index\n",
    "        print (data[y-1][Dec_index] + data[y][Jan_index])\n",
    "        s += data[y-1][Dec_index] + data[y][Jan_index]\n",
    "    decade_mean.append(s/(20.*30))\n",
    "for i in range(len(decade_mean)):\n",
    "    print ('Decade %d-%d: %.1f' % \\\n",
    "          (1930+i*10, 1939+i*10, decade_mean[i]))"
   ]
  },
  {
   "cell_type": "markdown",
   "metadata": {},
   "source": [
    "Complete code: `src/looplist/sun_data.py`\n",
    "\n",
    "\n",
    "\n",
    "\n",
    "## Using a debugger to trace the execution\n",
    "\n",
    "A *debugger* is a program that can be used to inspect and understand programs.\n",
    "Example:"
   ]
  },
  {
   "cell_type": "markdown",
   "metadata": {},
   "source": [
    "```Python\n",
    "        In [1]: run -d some_program.py\n",
    "        ipdb> continue  # or just c (go to first statement)\n",
    "        1---> 1 g = 9.81;  v0 = 5\n",
    "              2 dt = 0.05\n",
    "              3\n",
    "        ipdb> step  # or just s (execute next statement)\n",
    "        ipdb> print g\n",
    "        Out[1]: 9.8100000000000005\n",
    "        ipdb> list  # or just l (list parts of the program)\n",
    "        1     1 g = 9.81;  v0 = 5\n",
    "        ----> 2 dt = 0.05\n",
    "              3\n",
    "              4 def y(t):\n",
    "              5     return v0*t - 0.5*g*t**2\n",
    "              6\n",
    "        ipdb> break 15   # stop program at line 15\n",
    "        ipdb> c          # continue to next break point\n",
    "```"
   ]
  },
  {
   "cell_type": "markdown",
   "metadata": {},
   "source": [
    "## How to find Python info\n",
    "\n",
    "  * The book contains only fragments of the Python language \n",
    "    (intended for real beginners!)\n",
    "\n",
    "  * These slides are even briefer, so you will need to look up more Python information\n",
    "\n",
    "  * Primary reference: The official Python documentation at [`docs.python.org`](http://docs.python.org/index.html)\n",
    "\n",
    "  * Very useful: The **Python 3** Library Reference, especially the [index](https://docs.python.org/3/genindex.html)\n",
    "\n",
    "  * Example: what can I find in the `math` module?\n",
    "\n",
    "    * Go to the [Python 3 Library Reference](https://docs.python.org/3/reference/index.html), click [index](https://docs.python.org/3/genindex.html)\n",
    "\n",
    "    * Go to [M](https://docs.python.org/3/genindex-M.html)\n",
    "\n",
    "    * find *math (module)*, click on the [link](https://docs.python.org/3/library/math.html#module-math)\n",
    "\n",
    "\n",
    "  * Alternative: run `pydoc math` in the terminal window (briefer description)\n",
    "\n",
    "\n",
    "\n",
    "## Warning about reading programming documentation\n",
    "\n",
    "**Warning.**\n",
    "\n",
    "For a newbie it is difficult to read manuals (intended for experts!) - you will need a lot of training; just browse, don't read everything, try to dig out the key info.\n",
    "\n",
    "It's much like googling in general: only a fraction of the information\n",
    "is relevant for you."
   ]
  },
  {
   "cell_type": "code",
   "execution_count": null,
   "metadata": {},
   "outputs": [],
   "source": []
  }
 ],
 "metadata": {
  "kernelspec": {
   "display_name": "Python 3",
   "language": "python",
   "name": "python3"
  },
  "language_info": {
   "codemirror_mode": {
    "name": "ipython",
    "version": 3
   },
   "file_extension": ".py",
   "mimetype": "text/x-python",
   "name": "python",
   "nbconvert_exporter": "python",
   "pygments_lexer": "ipython3",
   "version": "3.7.6"
  }
 },
 "nbformat": 4,
 "nbformat_minor": 4
}
