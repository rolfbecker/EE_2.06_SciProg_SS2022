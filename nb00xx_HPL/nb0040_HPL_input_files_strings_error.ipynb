{
 "cells": [
  {
   "cell_type": "markdown",
   "metadata": {},
   "source": [
    "<!-- dom:TITLE: Ch.4: User input and error handling -->\n",
    "# Ch.4: User input and error handling\n",
    "<!-- dom:AUTHOR: Hans Petter Langtangen at Simula Research Laboratory & University of Oslo, Dept. of Informatics -->\n",
    "<!-- Author: --> **Hans Petter Langtangen**, Simula Research Laboratory and University of Oslo, Dept. of Informatics\n",
    "\n",
    "Date: **Aug 21, 2016**\n",
    "\n",
    "## Programs until now hardcode input data"
   ]
  },
  {
   "cell_type": "markdown",
   "metadata": {},
   "source": [
    "$$\n",
    "y = v_0t - 0.5gt^2\n",
    "$$"
   ]
  },
  {
   "cell_type": "code",
   "execution_count": null,
   "metadata": {},
   "outputs": [],
   "source": [
    "v0 = 5\n",
    "g = 9.81\n",
    "t = 0.6\n",
    "y = v0*t - 0.5*g*t**2\n",
    "print(y)"
   ]
  },
  {
   "cell_type": "markdown",
   "metadata": {},
   "source": [
    "Note:\n",
    "\n",
    "  * Input data ($v_0$, $t$) are hardcoded (explicitly set)\n",
    "\n",
    "  * Changing input data requires *editing*\n",
    "\n",
    "  * This is considered bad programming \n",
    "    (because editing programs may easily introduce errors!)\n",
    "\n",
    "  * Rule: read input from user - avoid editing a correct program\n",
    "\n",
    "\n",
    "\n",
    "## How do professional programs get their input?\n",
    "\n",
    "  * Consider a web browser: how do you specify a web address? How do you change the font?\n",
    "\n",
    "  * You don't need to go into the program and edit it...\n",
    "\n",
    "\n",
    "\n",
    "## How can we specify input data in programs?\n",
    "\n",
    "  * Hardcode values\n",
    "\n",
    "  * Ask the user questions and read answers\n",
    "\n",
    "  * Read command-line arguments\n",
    "\n",
    "  * Read data from a file\n",
    "\n",
    "\n",
    "\n",
    "## Getting input from questions and anwsers\n",
    "\n",
    "Sample program:"
   ]
  },
  {
   "cell_type": "code",
   "execution_count": null,
   "metadata": {},
   "outputs": [],
   "source": [
    "C = 21; F = (9.0/5)*C + 32; print(F)"
   ]
  },
  {
   "cell_type": "markdown",
   "metadata": {},
   "source": [
    "Idea: let the program ask the user a question \"C=?\", read the user's answer, assign that answer to the variable `C`."
   ]
  },
  {
   "cell_type": "code",
   "execution_count": null,
   "metadata": {},
   "outputs": [],
   "source": [
    "C = input('C=? ')   # C becomes a string\n",
    "C = float(C)            # convert to float so we can compute\n",
    "F = (9./5)*C + 32\n",
    "print(F)"
   ]
  },
  {
   "cell_type": "markdown",
   "metadata": {},
   "source": [
    "## Another example: print the n first even numbers"
   ]
  },
  {
   "cell_type": "code",
   "execution_count": null,
   "metadata": {},
   "outputs": [],
   "source": [
    "n = int(input('n=? '))\n",
    "\n",
    "for i in range(2, 2*n+1, 2):\n",
    "    print(i)\n",
    "\n",
    "# or:\n",
    "print(list(range(2, 2*n+1, 2)))\n",
    "\n",
    "# or:\n",
    "for i in range(1, n+1):\n",
    "    print(2*i)"
   ]
  },
  {
   "cell_type": "markdown",
   "metadata": {},
   "source": [
    "## Command-line arguments are words written after the program name\n",
    "\n",
    "**Examples on command-line arguments:**"
   ]
  },
  {
   "cell_type": "markdown",
   "metadata": {},
   "source": [
    "        Terminal> python myprog.py arg1 arg2 arg3 ...\n",
    "        Terminal> cp -r yourdir ../mydir\n",
    "        Terminal> ls -l\n"
   ]
  },
  {
   "cell_type": "markdown",
   "metadata": {},
   "source": [
    "Unix programs (`rm`, `ls`, `cp`, ...) make heavy use of command-line arguments, (see e.g. `man ls`). We shall do the same.\n",
    "\n",
    "\n",
    "\n",
    "\n",
    "## How to use a command-line argument in our sample program"
   ]
  },
  {
   "cell_type": "code",
   "execution_count": null,
   "metadata": {},
   "outputs": [],
   "source": [
    "C = 21; F = (9.0/5)*C + 32; print(F)"
   ]
  },
  {
   "cell_type": "markdown",
   "metadata": {},
   "source": [
    "The user wants to specify `C` as a *command-line argument*\n",
    "after the name of the program when we run the program:"
   ]
  },
  {
   "cell_type": "markdown",
   "metadata": {},
   "source": [
    "        Terminal> python c2f_cml.py 21\n",
    "        69.8\n"
   ]
  },
  {
   "cell_type": "markdown",
   "metadata": {},
   "source": [
    "Command-line arguments are the \"words\" after the program name,\n",
    "and they are stored in the list `sys.argv`:"
   ]
  },
  {
   "cell_type": "code",
   "execution_count": null,
   "metadata": {},
   "outputs": [],
   "source": [
    "# Need to fill in sys.argv for use in the notebook\n",
    "import sys\n",
    "sys.argv[1] = '21'"
   ]
  },
  {
   "cell_type": "markdown",
   "metadata": {},
   "source": [
    "Below is the ordinary program:"
   ]
  },
  {
   "cell_type": "code",
   "execution_count": null,
   "metadata": {},
   "outputs": [],
   "source": [
    "import sys\n",
    "C = float(sys.argv[1])   # read 1st command-line argument\n",
    "F = 9.0*C/5 + 32\n",
    "print(F)"
   ]
  },
  {
   "cell_type": "markdown",
   "metadata": {},
   "source": [
    "## Command-line arguments are separated by blanks\n",
    "\n",
    "Here is another program `print_cml.py`:"
   ]
  },
  {
   "cell_type": "markdown",
   "metadata": {},
   "source": [
    "```Python\n",
    "        import sys; print sys.argv[1:]\n",
    "```"
   ]
  },
  {
   "cell_type": "markdown",
   "metadata": {},
   "source": [
    "Demonstrations:"
   ]
  },
  {
   "cell_type": "markdown",
   "metadata": {},
   "source": [
    "        Terminal> python print_cml.py 21 string with blanks 1.3\n",
    "        ['21', 'string', 'with', 'blanks', '1.3']\n",
    "        \n",
    "        Terminal> python print_cml.py 21 \"string with blanks\" 1.3\n",
    "        ['21', 'string with blanks', '1.3']\n"
   ]
  },
  {
   "cell_type": "markdown",
   "metadata": {},
   "source": [
    "Note 1: use quotes, as in `\"string with blanks\"`, to override the rule\n",
    "that command-line arguments are separate by blanks.\n",
    "\n",
    "Note 2: all list elements are surrounded by quotes, demonstrating that command-line arguments are strings.\n",
    "\n",
    "\n",
    "\n",
    "\n",
    "## The magic eval function turns a string into live code\n",
    "\n",
    "`eval(s)` evaluates a string object `s` as if the string had been\n",
    "written directly into the program"
   ]
  },
  {
   "cell_type": "code",
   "execution_count": null,
   "metadata": {},
   "outputs": [],
   "source": [
    "s = '1+2'\n",
    "r = eval(s)\n",
    "r"
   ]
  },
  {
   "cell_type": "code",
   "execution_count": null,
   "metadata": {},
   "outputs": [],
   "source": [
    "type(r)"
   ]
  },
  {
   "cell_type": "code",
   "execution_count": null,
   "metadata": {},
   "outputs": [],
   "source": [
    "r = eval('[1, 6, 7.5] + [1, 2]')\n",
    "r"
   ]
  },
  {
   "cell_type": "code",
   "execution_count": null,
   "metadata": {},
   "outputs": [],
   "source": [
    "type(r)"
   ]
  },
  {
   "cell_type": "markdown",
   "metadata": {},
   "source": [
    "## Note: be careful with eval and string values\n",
    "\n",
    "We want `r = 'math programming'`. Writing just"
   ]
  },
  {
   "cell_type": "code",
   "execution_count": null,
   "metadata": {},
   "outputs": [],
   "source": [
    "r = eval('math programming')"
   ]
  },
  {
   "cell_type": "markdown",
   "metadata": {},
   "source": [
    "is the same as writing"
   ]
  },
  {
   "cell_type": "code",
   "execution_count": null,
   "metadata": {},
   "outputs": [],
   "source": [
    "r = math programming"
   ]
  },
  {
   "cell_type": "markdown",
   "metadata": {},
   "source": [
    "which is an invalid expression and illegal syntax.\n",
    "\n",
    "Remedy: must put the string inside quotes:"
   ]
  },
  {
   "cell_type": "code",
   "execution_count": null,
   "metadata": {},
   "outputs": [],
   "source": [
    "s = \"'math programming'\"\n",
    "r = eval(s)\n",
    "r"
   ]
  },
  {
   "cell_type": "markdown",
   "metadata": {},
   "source": [
    "## With eval, a little program (`add_input.py`) can do much...\n",
    "\n",
    "**Program:**"
   ]
  },
  {
   "cell_type": "code",
   "execution_count": null,
   "metadata": {},
   "outputs": [],
   "source": [
    "i1 = eval(input('Give input: '))\n",
    "i2 = eval(input('Give input: '))\n",
    "r = i1 + i2\n",
    "print('{} + {} becomes {}\\nwith value {}'.format\\\n",
    "      (type(i1), type(i2), type(r), r))"
   ]
  },
  {
   "cell_type": "markdown",
   "metadata": {},
   "source": [
    "We can add integer and float:"
   ]
  },
  {
   "cell_type": "markdown",
   "metadata": {},
   "source": [
    "        Terminal> python add_input.py\n",
    "        operand 1: 1\n",
    "        operand 2: 3.0\n",
    "        <type 'int'> + <type 'float'> becomes <type 'float'>\n",
    "        with value 4\n"
   ]
  },
  {
   "cell_type": "markdown",
   "metadata": {},
   "source": [
    "or two lists:"
   ]
  },
  {
   "cell_type": "markdown",
   "metadata": {},
   "source": [
    "        Terminal> python add_input.py\n",
    "        operand 1: [1,2]\n",
    "        operand 2: [-1,0,1]\n",
    "        <type 'list'> + <type 'list'> becomes <type 'list'>\n",
    "        with value [1, 2, -1, 0, 1]\n"
   ]
  },
  {
   "cell_type": "markdown",
   "metadata": {},
   "source": [
    "## This great flexibility also quickly breaks programs..."
   ]
  },
  {
   "cell_type": "markdown",
   "metadata": {},
   "source": [
    "        Terminal> python add_input.py\n",
    "        operand 1: (1,2)\n",
    "        operand 2: [3,4]\n",
    "        Traceback (most recent call last):\n",
    "          File \"add_input.py\", line 3, in <module>\n",
    "            r = i1 + i2\n",
    "        TypeError: can only concatenate tuple (not \"list\") to tuple\n",
    "        \n",
    "        Terminal> python add_input.py\n",
    "        operand 1: one\n",
    "        Traceback (most recent call last):\n",
    "          File \"add_input.py\", line 1, in <module>\n",
    "            i1 = eval(raw_input('operand 1: '))\n",
    "          File \"<string>\", line 1, in <module>\n",
    "        NameError: name 'one' is not defined\n",
    "        \n",
    "        Terminal> python add_input.py\n",
    "        operand 1: 4\n",
    "        operand 2: 'Hello, World!'\n",
    "        Traceback (most recent call last):\n",
    "          File \"add_input.py\", line 3, in <module>\n",
    "            r = i1 + i2\n",
    "        TypeError: unsupported operand type(s) for +: 'int' and 'str'\n"
   ]
  },
  {
   "cell_type": "markdown",
   "metadata": {},
   "source": [
    "## A similar magic function: exec\n",
    "\n",
    "  * `eval(s)` evaluates an *expression* `s`\n",
    "\n",
    "  * `eval('r = 1+1')` is illegal because this is a statement, not only an expression\n",
    "\n",
    "  * ...but we can use `exec` to turn one or more complete statements into live code:"
   ]
  },
  {
   "cell_type": "code",
   "execution_count": null,
   "metadata": {},
   "outputs": [],
   "source": [
    "statement = 'r = 1+1'   # store statement in a string\n",
    "exec(statement)\n",
    "print(r)                # prints 2"
   ]
  },
  {
   "cell_type": "markdown",
   "metadata": {},
   "source": [
    "For longer code we can use multi-line strings:"
   ]
  },
  {
   "cell_type": "code",
   "execution_count": null,
   "metadata": {},
   "outputs": [],
   "source": [
    "somecode = '''\n",
    "def f(t):\n",
    "    term1 = exp(-a*t)*sin(w1*x)\n",
    "    term2 = 2*sin(w2*x)\n",
    "    return term1 + term2\n",
    "'''\n",
    "exec(somecode)  # execute the string as Python code"
   ]
  },
  {
   "cell_type": "markdown",
   "metadata": {},
   "source": [
    "## exec can be used for building a function at run-time\n",
    "\n",
    "Embed user's formula in a Python function:"
   ]
  },
  {
   "cell_type": "code",
   "execution_count": null,
   "metadata": {},
   "outputs": [],
   "source": [
    "formula = input('Write a formula involving x: ')\n",
    "code = \"\"\"\n",
    "def f(x):\n",
    "    return {}\n",
    "\"\"\".format(formula)\n",
    "from math import *  # make sure we have sin, cos, log, etc\n",
    "exec(code)          # turn string formula into live function\n",
    "\n",
    "# Ask the user for x values and evaluate f(x)\n",
    "x = 0\n",
    "while x is not None:\n",
    "    x = eval(input('Give x (None to quit): '))\n",
    "    if x is not None:\n",
    "        y = f(x)\n",
    "        print('f({:g})={:g}'.format(x, y))"
   ]
  },
  {
   "cell_type": "markdown",
   "metadata": {},
   "source": [
    "While the program is running, the user types a formula, which becomes a function, the user gives `x` values until the answer is `None`, and the program evaluates the function `f(x)`. Note: the programmer knows nothing about the user's choice of `f(x)` when she writes the program (!).\n",
    "\n",
    "\n",
    "\n",
    "\n",
    "## StringFunction: turn string formulas into Python functions\n",
    "\n",
    "It is common for programs to read formulas and turn them into functions so we have made a special tool for this purpose:"
   ]
  },
  {
   "cell_type": "code",
   "execution_count": null,
   "metadata": {},
   "outputs": [],
   "source": [
    "### should we use scitools???\n",
    "### continue from here\n",
    "###\n",
    "###\n",
    "\n",
    "from scitools.std import StringFunction\n",
    "formula = 'exp(x)*sin(x)'\n",
    "f = StringFunction(formula)\n",
    "f(0)"
   ]
  },
  {
   "cell_type": "code",
   "execution_count": null,
   "metadata": {},
   "outputs": [],
   "source": [
    "from math import pi\n",
    "f(2)"
   ]
  },
  {
   "cell_type": "code",
   "execution_count": null,
   "metadata": {},
   "outputs": [],
   "source": [
    "print(str(f))"
   ]
  },
  {
   "cell_type": "markdown",
   "metadata": {},
   "source": [
    "The function can also have parameters: $g(t) = Ae^{-at}\\sin (\\omega x)$"
   ]
  },
  {
   "cell_type": "code",
   "execution_count": null,
   "metadata": {},
   "outputs": [],
   "source": [
    "g = StringFunction('A*exp(-a*t)*sin(omega*x)',\n",
    "    independent_variable='t', A=1, a=0.1, omega=pi, x=5)\n",
    "print(g(1.2))\n",
    "g.set_parameters(A=2, x=10)\n",
    "print(g(1.2))"
   ]
  },
  {
   "cell_type": "markdown",
   "metadata": {},
   "source": [
    "## Example: program for numerical differentiation\n",
    "\n",
    "**Usage:**"
   ]
  },
  {
   "cell_type": "markdown",
   "metadata": {},
   "source": [
    "        Terminal> python diff.py 'exp(x)*sin(x)' 3.4\n",
    "        Numerical derivative: -36.6262969164\n"
   ]
  },
  {
   "cell_type": "markdown",
   "metadata": {},
   "source": [
    "Differentiate $e^x\\sin x$ at $x=3.4$ numerically.\n",
    "\n",
    "\n",
    "\n",
    "**Implementation:**"
   ]
  },
  {
   "cell_type": "markdown",
   "metadata": {},
   "source": [
    "$$\n",
    "f'(x)\\approx \\frac{f(x+h)-f(x-h)}{2h}\\quad (h\\mbox{ small})\n",
    "$$"
   ]
  },
  {
   "cell_type": "markdown",
   "metadata": {},
   "source": [
    "<!-- Must use pypro-t here since the notebook cannot handle sys.argv[1] -->"
   ]
  },
  {
   "cell_type": "markdown",
   "metadata": {},
   "source": [
    "```Python\n",
    "        import sys\n",
    "        from scitools.std import StringFunction\n",
    "        f = StringFunction(sys.argv[1], independent_variable='x')\n",
    "        x = float(sys.argv[2])\n",
    "        \n",
    "        def numerical_derivative(f, x, h=1E-5):\n",
    "            return (f(x+h) - f(x-h))/(2*h)\n",
    "        \n",
    "        print 'Numerical derivative:', numerical_derivative(f, x)\n",
    "```"
   ]
  },
  {
   "cell_type": "markdown",
   "metadata": {},
   "source": [
    "## We can extend the program to also include symbolic differentiation"
   ]
  },
  {
   "cell_type": "markdown",
   "metadata": {},
   "source": [
    "        Terminal> python diff.py 'exp(x)*sin(x)' 3.4\n",
    "        Numerical derivative: -36.6262969164\n",
    "        Exact derivative: -36.6262969154476 (error=9.390E-10)\n",
    "        Formula for the derivative: exp(x)*sin(x) + exp(x)*cos(x)\n"
   ]
  },
  {
   "cell_type": "markdown",
   "metadata": {},
   "source": [
    "Program extension:"
   ]
  },
  {
   "cell_type": "markdown",
   "metadata": {},
   "source": [
    "```Python\n",
    "        import sympy as sym\n",
    "        x_value = x   # store the value of x; x will be used as symbol\n",
    "        x = sym.symbols('x')  # need x as symbol\n",
    "        formula = sym.sympify(str(f))  # turn f into sympy expression\n",
    "        \n",
    "        # Differentiate formula wrt symbol x\n",
    "        dfdx = sym.diff(formula, x)\n",
    "        # Substitute symbol x by x_value\n",
    "        dfdx_value = dfdx.subs(x, x_value)\n",
    "        \n",
    "        print 'Exact derivative:', dfdx_value, '(error=%.3E)' % \\\n",
    "              (dfdx_value - numerical_derivative(f, x_value))\n",
    "        print 'Formula for the derivative:', dfdx\n",
    "```"
   ]
  },
  {
   "cell_type": "markdown",
   "metadata": {},
   "source": [
    "## Example on reading 4 parameters from the command line"
   ]
  },
  {
   "cell_type": "markdown",
   "metadata": {},
   "source": [
    "$$\n",
    "s(t)=s_0 + v_0t + {1\\over2}at^2\n",
    "$$"
   ]
  },
  {
   "cell_type": "markdown",
   "metadata": {},
   "source": [
    "Input data: $s_0$ (initial location), $v_0$ (initial velocity), $a$ (constant acceleration) and $t$ (time)\n",
    "\n",
    "Output data: $s$ (current location)\n",
    "\n",
    "Specify $s_0=1$ m, $v_0=1$ m/s, $a=0.5$ $\\hbox{m/s}^2$, and\n",
    "$t=3$ s on the command line:"
   ]
  },
  {
   "cell_type": "markdown",
   "metadata": {},
   "source": [
    "        Terminal> python location_cml.py 1 1 0.5 3\n",
    "        6.25\n"
   ]
  },
  {
   "cell_type": "markdown",
   "metadata": {},
   "source": [
    "Program:"
   ]
  },
  {
   "cell_type": "markdown",
   "metadata": {},
   "source": [
    "```Python\n",
    "        import sys\n",
    "        s0 = float(sys.argv[1])\n",
    "        v0 = float(sys.argv[2])\n",
    "        a  = float(sys.argv[3])\n",
    "        t  = float(sys.argv[4])\n",
    "        s  = s0 + v0*t + 0.5*a*t*t\n",
    "        print s\n",
    "```"
   ]
  },
  {
   "cell_type": "markdown",
   "metadata": {},
   "source": [
    "## Command-line arguments with options\n",
    "\n",
    "Many programs, especially on Unix systems, take a set of command-line arguments of the form `--option value`"
   ]
  },
  {
   "cell_type": "markdown",
   "metadata": {},
   "source": [
    "        \n",
    "        Terminal> python location.py --v0 1 --t 3 --s0 1 --a 0.5\n",
    "        Terminal> python location.py --t 3\n"
   ]
  },
  {
   "cell_type": "markdown",
   "metadata": {},
   "source": [
    "The latter run relies on default values for `v0`, `s0`, and `a`:\n",
    "we provide only the values we want to change.\n",
    "\n",
    "Such option-value pairs make it easier to understand what the input\n",
    "is (cf. keyword arguments).\n",
    "\n",
    "\n",
    "\n",
    "\n",
    "\n",
    "## Programming option-value pairs with the argparse module"
   ]
  },
  {
   "cell_type": "markdown",
   "metadata": {},
   "source": [
    "```Python\n",
    "        import argparse\n",
    "        parser = argparse.ArgumentParser()\n",
    "        \n",
    "        # Define command-line arguments\n",
    "        parser.add_argument('--v0', '--initial_velocity', type=float,\n",
    "                            default=0.0, help='initial velocity')\n",
    "        \n",
    "        parser.add_argument('--s0', '--initial_position', type=float,\n",
    "                            default=0.0, help='initial position')\n",
    "        \n",
    "        parser.add_argument('--a', '--acceleration', type=float,\n",
    "                            default=1.0, help='acceleration')\n",
    "        \n",
    "        parser.add_argument('--t', '--time', type=float,\n",
    "                            default=1.0, help='time')\n",
    "        \n",
    "        # Read the command line and interpret the arguments\n",
    "        args = parser.parse_args()\n",
    "        \n",
    "        # Extract values\n",
    "        s = args.s0 + args.v0*t + 0.5*args.a*args.t**2\n",
    "        # or\n",
    "        s0 = args.s0; v0 = args.v0; a = args.a; t = args.t\n",
    "        s = s0 + v0*t + 0.5*a*t**2\n",
    "```"
   ]
  },
  {
   "cell_type": "markdown",
   "metadata": {},
   "source": [
    "## The program has long and short command-line arguments\n",
    "\n",
    "Can use short or long options:"
   ]
  },
  {
   "cell_type": "markdown",
   "metadata": {},
   "source": [
    "        Terminal> python location.py --v0 1.2 --t 0.2\n",
    "        Terminal> python location.py --initial_velocity 1.2 --time 0.2\n"
   ]
  },
  {
   "cell_type": "markdown",
   "metadata": {},
   "source": [
    "## Graphical user interfaces\n",
    "\n",
    "  * Most programs today fetch input data from *graphical user interfaces* (GUI), consisting of windows and graphical elements on the screen: buttons, menus, text fields, etc.\n",
    "\n",
    "  * Why don't we learn to make such type of programs?\n",
    "\n",
    "    * GUI demands much extra complicated programming\n",
    "\n",
    "    * Experienced users often prefer command-line input\n",
    "\n",
    "    * Programs with command-line or file input can easily be combined with each other, this is difficult with GUI-based programs\n",
    "\n",
    "\n",
    "  * Assertion: command-line input will probably fill all your needs in university courses\n",
    "\n",
    "  * But let's have a look at GUI programming!\n",
    "\n",
    "\n",
    "\n",
    "## A graphical Celsius-Fahrenheit conversion program\n",
    "\n",
    "<!-- dom:FIGURE: [https://raw.githubusercontent.com/hplgit/scipro-primer/master/slides/input/html/fig-input/c2f_gui.png, width=360 frac=0.4] -->\n",
    "<!-- begin figure -->\n",
    "\n",
    "<p></p>\n",
    "<img src=\"https://raw.githubusercontent.com/hplgit/scipro-primer/master/slides/input/html/fig-input/c2f_gui.png\" width=360>\n",
    "\n",
    "<!-- end figure -->\n",
    "\n",
    "\n",
    "  * The Celsius degrees can be filled in as a number in a field\n",
    "\n",
    "  * Clicking the \"is\" button computes the corresponding Fahrenheit temperature\n",
    "\n",
    "\n",
    "\n",
    "## The GUI code\n",
    "\n",
    "<!-- dom:FIGURE: [https://raw.githubusercontent.com/hplgit/scipro-primer/master/slides/input/html/fig-input/c2f_gui.png, width=360 frac=0.4] -->\n",
    "<!-- begin figure -->\n",
    "\n",
    "<p></p>\n",
    "<img src=\"https://raw.githubusercontent.com/hplgit/scipro-primer/master/slides/input/html/fig-input/c2f_gui.png\" width=360>\n",
    "\n",
    "<!-- end figure -->"
   ]
  },
  {
   "cell_type": "code",
   "execution_count": null,
   "metadata": {},
   "outputs": [],
   "source": [
    "from tkinter import *\n",
    "root = Tk()\n",
    "C_entry = Entry(root, width=4)\n",
    "C_entry.pack(side='left')\n",
    "Cunit_label = Label(root, text='Celsius')\n",
    "Cunit_label.pack(side='left')\n",
    "\n",
    "def compute():\n",
    "    C = float(C_entry.get())\n",
    "    F = (9./5)*C + 32\n",
    "    F_label.configure(text='%g' % F)\n",
    "\n",
    "compute = Button(root, text=' is ', command=compute)\n",
    "compute.pack(side='left', padx=4)\n",
    "\n",
    "F_label = Label(root, width=4)\n",
    "F_label.pack(side='left')\n",
    "Funit_label = Label(root, text='Fahrenheit')\n",
    "Funit_label.pack(side='left')\n",
    "\n",
    "root.mainloop()"
   ]
  },
  {
   "cell_type": "markdown",
   "metadata": {},
   "source": [
    "## Reading data from files\n",
    "\n",
    "Scientific data are often available in files. We want to read the data\n",
    "into objects in a program to compute with the data.\n",
    "\n",
    "\n",
    "\n",
    "**Example on a data file.**"
   ]
  },
  {
   "cell_type": "markdown",
   "metadata": {},
   "source": [
    "        21.8\n",
    "        18.1\n",
    "        19\n",
    "        23\n",
    "        26\n",
    "        17.8\n"
   ]
  },
  {
   "cell_type": "markdown",
   "metadata": {},
   "source": [
    "One number on each line. How can we read these numbers?\n",
    "\n",
    "\n",
    "\n",
    "<!-- Have to make a tmp.txt file with the right content -->"
   ]
  },
  {
   "cell_type": "code",
   "execution_count": null,
   "metadata": {},
   "outputs": [],
   "source": [
    "f = open('data.txt', 'w')\n",
    "f.write(\"\"\"21.8\n",
    "18.1\n",
    "19\n",
    "23\n",
    "26\n",
    "17.8\n",
    "\"\"\")\n",
    "f.close()"
   ]
  },
  {
   "cell_type": "markdown",
   "metadata": {},
   "source": [
    "## Reading a file line by line\n",
    "\n",
    "Basic file reading:"
   ]
  },
  {
   "cell_type": "markdown",
   "metadata": {},
   "source": [
    "```Python\n",
    "        infile = open('data.txt', 'r')    # open file\n",
    "        for line in infile:\n",
    "            # do something with line\n",
    "        infile.close()                    # close file\n",
    "```"
   ]
  },
  {
   "cell_type": "markdown",
   "metadata": {},
   "source": [
    "Compute the mean values of the numbers in the file:"
   ]
  },
  {
   "cell_type": "code",
   "execution_count": null,
   "metadata": {},
   "outputs": [],
   "source": [
    "infile = open('data.txt', 'r')    # open file\n",
    "mean = 0\n",
    "for line in infile:\n",
    "    number = float(line)          # line is string\n",
    "    mean = mean + number\n",
    "    print('number={:g}'.format(g))\n",
    "mean = mean/len(lines)\n",
    "print(mean)"
   ]
  },
  {
   "cell_type": "markdown",
   "metadata": {},
   "source": [
    "## Alternative ways to read a file\n",
    "\n",
    "Read all lines at once into a list of strings (lines):"
   ]
  },
  {
   "cell_type": "markdown",
   "metadata": {},
   "source": [
    "```Python\n",
    "        lines = infile.readlines()\n",
    "        for line in lines:\n",
    "            # process line\n",
    "        infile.close()\n",
    "```"
   ]
  },
  {
   "cell_type": "markdown",
   "metadata": {},
   "source": [
    "The modern `with` statement:"
   ]
  },
  {
   "cell_type": "markdown",
   "metadata": {},
   "source": [
    "```Python\n",
    "        with open('data.txt', 'r') as infile:\n",
    "            for line in infile:\n",
    "                # process line\n",
    "```"
   ]
  },
  {
   "cell_type": "markdown",
   "metadata": {},
   "source": [
    "The old-fashioned `while` construction:"
   ]
  },
  {
   "cell_type": "markdown",
   "metadata": {},
   "source": [
    "```Python\n",
    "        while True:\n",
    "            line = infile.readline()\n",
    "            if not line:\n",
    "                break\n",
    "            # process line\n",
    "        infile.close()\n",
    "```"
   ]
  },
  {
   "cell_type": "markdown",
   "metadata": {},
   "source": [
    "Reading the whole file into a string:"
   ]
  },
  {
   "cell_type": "markdown",
   "metadata": {},
   "source": [
    "```Python\n",
    "        text = infile.read()\n",
    "        # process the string text\n",
    "```"
   ]
  },
  {
   "cell_type": "markdown",
   "metadata": {},
   "source": [
    "## Demo of file reading\n",
    "\n",
    "**File:**\n",
    "\n",
    "Line 1.\n",
    "Line 2.\n",
    "Line 3.\n",
    "Line 4.\n",
    "\n",
    "\n",
    "\n",
    "<!-- Have to make a data.txt file with the right content -->"
   ]
  },
  {
   "cell_type": "code",
   "execution_count": null,
   "metadata": {},
   "outputs": [],
   "source": [
    "f = open('tmp.txt', 'w')\n",
    "f.write(\"\"\"Line 1.\n",
    "Line 2.\n",
    "Line 3.\n",
    "Line 4.\n",
    "\"\"\")\n",
    "f.close()"
   ]
  },
  {
   "cell_type": "markdown",
   "metadata": {},
   "source": [
    "**Session:**"
   ]
  },
  {
   "cell_type": "code",
   "execution_count": null,
   "metadata": {},
   "outputs": [],
   "source": [
    "infile = open('tmp.txt', 'r')\n",
    "lines = infile.readlines()  # read all lines\n",
    "lines"
   ]
  },
  {
   "cell_type": "code",
   "execution_count": null,
   "metadata": {},
   "outputs": [],
   "source": [
    "infile.readline()  # no more to read"
   ]
  },
  {
   "cell_type": "code",
   "execution_count": null,
   "metadata": {},
   "outputs": [],
   "source": [
    "infile = open('tmp.txt', 'r')\n",
    "infile.readline()    # read one line"
   ]
  },
  {
   "cell_type": "code",
   "execution_count": null,
   "metadata": {},
   "outputs": [],
   "source": [
    "infile.readline()    # read next line"
   ]
  },
  {
   "cell_type": "code",
   "execution_count": null,
   "metadata": {},
   "outputs": [],
   "source": [
    "for line in infile:  # read the next lines to the end\n",
    "    print(line)"
   ]
  },
  {
   "cell_type": "markdown",
   "metadata": {},
   "source": [
    "## More demo of file reading and string splitting"
   ]
  },
  {
   "cell_type": "code",
   "execution_count": null,
   "metadata": {},
   "outputs": [],
   "source": [
    "infile = open('tmp.txt', 'r')\n",
    "filestr = infile.read()\n",
    "filestr"
   ]
  },
  {
   "cell_type": "code",
   "execution_count": null,
   "metadata": {},
   "outputs": [],
   "source": [
    "filestr.split()  # split out all words"
   ]
  },
  {
   "cell_type": "code",
   "execution_count": null,
   "metadata": {},
   "outputs": [],
   "source": [
    "line = 'Line 3.\\n'\n",
    "line.split()"
   ]
  },
  {
   "cell_type": "code",
   "execution_count": null,
   "metadata": {},
   "outputs": [],
   "source": [
    "line.split('e')"
   ]
  },
  {
   "cell_type": "markdown",
   "metadata": {},
   "source": [
    "## Most data files contain text mixed with numbers\n",
    "\n",
    "**File with data about rainfall:**"
   ]
  },
  {
   "cell_type": "markdown",
   "metadata": {},
   "source": [
    "        Average rainfall (in mm) in Rome: 1188 months between 1782 and 1970\n",
    "        Jan  81.2\n",
    "        Feb  63.2\n",
    "        Mar  70.3\n",
    "        Apr  55.7\n",
    "        May  53.0\n",
    "        Jun  36.4\n",
    "        Jul  17.5\n",
    "        Aug  27.5\n",
    "        Sep  60.9\n",
    "        Oct  117.7\n",
    "        Nov  111.0\n",
    "        Dec  97.9\n",
    "        Year 792.9\n"
   ]
  },
  {
   "cell_type": "markdown",
   "metadata": {},
   "source": [
    "How do we read such a file?\n",
    "\n",
    "\n",
    "\n",
    "<!-- Have to make a rainfall.txt file with the right content -->"
   ]
  },
  {
   "cell_type": "code",
   "execution_count": null,
   "metadata": {},
   "outputs": [],
   "source": [
    "f = open('rainfall.txt', 'w')\n",
    "f.write(\"\"\"Average rainfall (in mm) in Rome: 1188 months between 1782 and 1970\n",
    "Jan  81.2\n",
    "Feb  63.2\n",
    "Mar  70.3\n",
    "Apr  55.7\n",
    "May  53.0\n",
    "Jun  36.4\n",
    "Jul  17.5\n",
    "Aug  27.5\n",
    "Sep  60.9\n",
    "Oct  117.7\n",
    "Nov  111.0\n",
    "Dec  97.9\n",
    "Year 792.9\n",
    "\"\"\")\n",
    "f.close()"
   ]
  },
  {
   "cell_type": "markdown",
   "metadata": {},
   "source": [
    "## Reading a mixture of text and numbers\n",
    "\n",
    "The key idea to process each line is to split the line into\n",
    "words:"
   ]
  },
  {
   "cell_type": "markdown",
   "metadata": {},
   "source": [
    "```Python\n",
    "        months = []\n",
    "        values = []\n",
    "        for line in infile:\n",
    "            words = line.split()  # split into words\n",
    "            if words[0] != 'Year':\n",
    "                months.append(words[0])\n",
    "                values.append(float(words[1]))\n",
    "```"
   ]
  },
  {
   "cell_type": "markdown",
   "metadata": {},
   "source": [
    "Can split with respect to any string `s`: `line.split(s)`"
   ]
  },
  {
   "cell_type": "code",
   "execution_count": null,
   "metadata": {},
   "outputs": [],
   "source": [
    "line = 'Oct  117.7'\n",
    "words = line.split()\n",
    "words"
   ]
  },
  {
   "cell_type": "code",
   "execution_count": null,
   "metadata": {},
   "outputs": [],
   "source": [
    "type(words[1])   # string, not a number!"
   ]
  },
  {
   "cell_type": "markdown",
   "metadata": {},
   "source": [
    "## Complete program for reading rainfall data"
   ]
  },
  {
   "cell_type": "code",
   "execution_count": null,
   "metadata": {},
   "outputs": [],
   "source": [
    "def extract_data(filename):\n",
    "    infile = open(filename, 'r')\n",
    "    infile.readline() # skip the first line\n",
    "    months = []\n",
    "    rainfall = []\n",
    "    for line in infile:\n",
    "        words = line.split()\n",
    "        # words[0]: month, words[1]: rainfall\n",
    "        months.append(words[0])\n",
    "        rainfall.append(float(words[1]))\n",
    "    infile.close()\n",
    "    months = months[:-1]      # Drop the \"Year\" entry\n",
    "    annual_avg = rainfall[-1] # Store the annual average\n",
    "    rainfall = rainfall[:-1]  # Redefine to contain monthly data\n",
    "    return months, rainfall, annual_avg\n",
    "\n",
    "months, values, avg = extract_data('rainfall.dat')\n",
    "print('The average rainfall for the months:')\n",
    "for month, value in zip(months, values):\n",
    "    print(month, value)\n",
    "print('The average rainfall for the year:', avg)"
   ]
  },
  {
   "cell_type": "markdown",
   "metadata": {},
   "source": [
    "## Writing data to file\n",
    "\n",
    "Basic pattern:"
   ]
  },
  {
   "cell_type": "markdown",
   "metadata": {},
   "source": [
    "```Python\n",
    "        outfile = open(filename, 'w')  # 'w' for writing\n",
    "        \n",
    "        for data in somelist:\n",
    "            outfile.write(sometext + '\\n')\n",
    "        \n",
    "        outfile.close()\n",
    "```"
   ]
  },
  {
   "cell_type": "markdown",
   "metadata": {},
   "source": [
    "Can *append* text to a file with `open(filename, 'a')`.\n",
    "\n",
    "\n",
    "\n",
    "## Example: Writing a table to file\n",
    "\n",
    "**Problem:**\n",
    "\n",
    "We have a nested list (rows and columns):"
   ]
  },
  {
   "cell_type": "code",
   "execution_count": null,
   "metadata": {},
   "outputs": [],
   "source": [
    "data = \\\n",
    "[[ 0.75,        0.29619813, -0.29619813, -0.75      ],\n",
    " [ 0.29619813,  0.11697778, -0.11697778, -0.29619813],\n",
    " [-0.29619813, -0.11697778,  0.11697778,  0.29619813],\n",
    " [-0.75,       -0.29619813,  0.29619813,  0.75      ]]"
   ]
  },
  {
   "cell_type": "markdown",
   "metadata": {},
   "source": [
    "Write these data to file in tabular form\n",
    "\n",
    "\n",
    "\n",
    "**Solution:**"
   ]
  },
  {
   "cell_type": "code",
   "execution_count": null,
   "metadata": {},
   "outputs": [],
   "source": [
    "outfile = open('tmp_table.dat', 'w')\n",
    "for row in data:\n",
    "    for column in row:\n",
    "        outfile.write('{:14.8f}'.format(column))\n",
    "    outfile.write('\\n')\n",
    "outfile.close()"
   ]
  },
  {
   "cell_type": "markdown",
   "metadata": {},
   "source": [
    "**Resulting file:**"
   ]
  },
  {
   "cell_type": "markdown",
   "metadata": {},
   "source": [
    "            0.75000000    0.29619813   -0.29619813   -0.75000000\n",
    "            0.29619813    0.11697778   -0.11697778   -0.29619813\n",
    "           -0.29619813   -0.11697778    0.11697778    0.29619813\n",
    "           -0.75000000   -0.29619813    0.29619813    0.75000000\n"
   ]
  },
  {
   "cell_type": "markdown",
   "metadata": {},
   "source": [
    "## What is a file?\n",
    "\n",
    "  * A file is a sequence of characters\n",
    "\n",
    "  * For simple text files, each character is one byte (=8 bits, a bit is 0 or 1), which gives $2^8=256$ different characters\n",
    "\n",
    "  * (Text files in, e.g., Chinese and Japanese need several bytes for each character)\n",
    "\n",
    "  * Save the text \"ABCD\" to file in Gedit/Emacs and OpenOffice/Word and examine the file!\n",
    "\n",
    "  * File reading in Python is about either reading all characters (`read`) or\n",
    "    reading line by line (`readline`, `readlines`, `for line in fileobj`)\n",
    "\n",
    "\n",
    "\n",
    "\n",
    "## Back to a simple program that reads from the command line\n",
    "\n",
    "**Code:**"
   ]
  },
  {
   "cell_type": "markdown",
   "metadata": {},
   "source": [
    "```Python\n",
    "        import sys\n",
    "        C = float(sys.argv[1])\n",
    "        F = 5./9*C + 32\n",
    "        print F\n",
    "```"
   ]
  },
  {
   "cell_type": "markdown",
   "metadata": {},
   "source": [
    "**Next topic:**\n",
    "\n",
    "How to handle wrong input from the user?\n",
    "\n",
    "\n",
    "\n",
    "## Our program stops with a strange error message if the command-line argument is missing\n",
    "\n",
    "A user can easily use our program in a wrong way, e.g.,"
   ]
  },
  {
   "cell_type": "markdown",
   "metadata": {},
   "source": [
    "        Terminal> python c2f_cml.py\n",
    "        Traceback (most recent call last):\n",
    "          File \"c2f_cml.py\", line 2, in ?\n",
    "            C = float(sys.argv[1])\n",
    "        IndexError: list index out of range\n"
   ]
  },
  {
   "cell_type": "markdown",
   "metadata": {},
   "source": [
    "**Why?**\n",
    "\n",
    "1. The user forgot to provide a command-line argument\n",
    "\n",
    "2. `sys.argv` has then only one element, `sys.argv[0]`,\n",
    "   which is the program name (`c2f_cml.py`)\n",
    "\n",
    "3. Index 1, in `sys.argv[1]`, points to a non-existing element\n",
    "   in the `sys.argv` list\n",
    "\n",
    "4. Any index corresponding to a non-existing element in a list\n",
    "   leads to `IndexError`\n",
    "\n",
    "\n",
    "\n",
    "## We should handle errors in input!\n",
    "\n",
    "How can *we* take control, explain what was wrong with the input,\n",
    "and stop the program without strange Python error messages?"
   ]
  },
  {
   "cell_type": "markdown",
   "metadata": {},
   "source": [
    "```Python\n",
    "        # Program c2f_cml_if.py\n",
    "        \n",
    "        import sys\n",
    "        if len(sys.argv) < 2:\n",
    "            print 'You failed to provide a command-line arg.!'\n",
    "            sys.exit(1)  # abort\n",
    "        F = 9.0*C/5 + 32\n",
    "        print '%gC is %.1fF' % (C, F)\n",
    "```"
   ]
  },
  {
   "cell_type": "markdown",
   "metadata": {},
   "source": [
    "        Terminal> python c2f_cml_if.py\n",
    "        You failed to provide a command-line arg.!\n"
   ]
  },
  {
   "cell_type": "markdown",
   "metadata": {},
   "source": [
    "## Exceptions as an alternative to if tests\n",
    "\n",
    "  * Rather than test *if something is wrong, recover from error, else do what we indended to do*, it is common in Python (and many other languages) to *try* to do what we indend to, and if it fails, we recover from the error\n",
    "\n",
    "  * This principle makes use of a `try-except` block"
   ]
  },
  {
   "cell_type": "markdown",
   "metadata": {},
   "source": [
    "```Python\n",
    "        try:\n",
    "            <statements we intend to do>\n",
    "        except:\n",
    "            <statements for handling errors>\n",
    "```"
   ]
  },
  {
   "cell_type": "markdown",
   "metadata": {},
   "source": [
    "If something goes wrong in the `try` block, Python raises an *exception* and the execution jumps immediately to the `except` block.\n",
    "\n",
    "\n",
    "\n",
    "## The temperature conversion program with try-except\n",
    "\n",
    "Try to read `C` from the command-line, if it fails, tell the user,\n",
    "and abort execution:"
   ]
  },
  {
   "cell_type": "markdown",
   "metadata": {},
   "source": [
    "```Python\n",
    "        import sys\n",
    "        try:\n",
    "            C = float(sys.argv[1])\n",
    "        except:\n",
    "            print 'You failed to provide a command-line arg.!'\n",
    "            sys.exit(1)  # abort\n",
    "        F = 9.0*C/5 + 32\n",
    "        print '%gC is %.1fF' % (C, F)\n",
    "```"
   ]
  },
  {
   "cell_type": "markdown",
   "metadata": {},
   "source": [
    "Execution:"
   ]
  },
  {
   "cell_type": "markdown",
   "metadata": {},
   "source": [
    "        Terminal> python c2f_cml_except1.py\n",
    "        You failed to provide a command-line arg.!\n",
    "        \n",
    "        Terminal> python c2f_cml_except1.py 21C\n",
    "        You failed to provide a command-line arg.!\n"
   ]
  },
  {
   "cell_type": "markdown",
   "metadata": {},
   "source": [
    "## It is good programming style to test for specific exceptions\n",
    "\n",
    "It is good programming style to test for specific exceptions:"
   ]
  },
  {
   "cell_type": "markdown",
   "metadata": {},
   "source": [
    "```Python\n",
    "        try:\n",
    "            C = float(sys.argv[1])\n",
    "        except IndexError:\n",
    "            print 'You failed to provide a command-line arg.!'\n",
    "```"
   ]
  },
  {
   "cell_type": "markdown",
   "metadata": {},
   "source": [
    "If we have an index out of bounds in `sys.argv`,\n",
    "an `IndexError` exception is raised, and we jump to the `except` block.\n",
    "\n",
    "If any other exception arises, Python aborts the execution:"
   ]
  },
  {
   "cell_type": "markdown",
   "metadata": {},
   "source": [
    "        Terminal> python c2f_cml_tmp.py 21C\n",
    "        Traceback (most recent call last):\n",
    "          File \"tmp.py\", line 3, in <module>\n",
    "            C = float(sys.argv[1])\n",
    "        ValueError: invalid literal for float(): 21C\n"
   ]
  },
  {
   "cell_type": "markdown",
   "metadata": {},
   "source": [
    "## Improvement: test for `IndexError` and `ValueError` exceptions"
   ]
  },
  {
   "cell_type": "markdown",
   "metadata": {},
   "source": [
    "```Python\n",
    "        import sys\n",
    "        try:\n",
    "            C = float(sys.argv[1])\n",
    "        except IndexError:\n",
    "            print 'No command-line argument for C!'\n",
    "            sys.exit(1)  # abort execution\n",
    "        except ValueError:\n",
    "            print 'C must be a pure number, not \"%s\"' % sys.argv[1]\n",
    "            sys.exit(1)\n",
    "        \n",
    "        F = 9.0*C/5 + 32\n",
    "        print '%gC is %.1fF' % (C, F)\n",
    "```"
   ]
  },
  {
   "cell_type": "markdown",
   "metadata": {},
   "source": [
    "Executions:"
   ]
  },
  {
   "cell_type": "markdown",
   "metadata": {},
   "source": [
    "        Terminal> python c2f_cml_v3.py\n",
    "        No command-line argument for C!\n",
    "        \n",
    "        Terminal> python c2f_cml_v3.py 21C\n",
    "        Celsius degrees must be a pure number, not \"21C\"\n"
   ]
  },
  {
   "cell_type": "markdown",
   "metadata": {},
   "source": [
    "## The programmer can raise exceptions\n",
    "\n",
    "  * Instead of just letting Python raise exceptions, we can raise our own and tailor the message to the problem at hand\n",
    "\n",
    "  * We provide two examples on this:\n",
    "\n",
    "    * catching an exception, but raising a new one with an improved (tailored) error message\n",
    "\n",
    "    * raising an exception because of wrong input data\n",
    "\n",
    "\n",
    "  * Baisc syntax: `raise ExceptionType(message)`\n",
    "\n",
    "\n",
    "\n",
    "## Examples on re-raising exceptions with better messages"
   ]
  },
  {
   "cell_type": "markdown",
   "metadata": {},
   "source": [
    "```Python\n",
    "        def read_C():\n",
    "            try:\n",
    "                C = float(sys.argv[1])\n",
    "            except IndexError:\n",
    "                # re-raise, but with specific explanation:\n",
    "                raise IndexError(\n",
    "                  'Celsius degrees must be supplied on the command line')\n",
    "            except ValueError:\n",
    "                # re-raise, but with specific explanation:\n",
    "                raise ValueError(\n",
    "                 'Degrees must be number, not \"%s\"' % sys.argv[1])\n",
    "        \n",
    "            # C is read correctly as a number, but can have wrong value:\n",
    "            if C < -273.15:\n",
    "                raise ValueError('C=%g is a non-physical value!' % C)\n",
    "            return C\n",
    "```"
   ]
  },
  {
   "cell_type": "markdown",
   "metadata": {},
   "source": [
    "## Calling the previous function and running the program"
   ]
  },
  {
   "cell_type": "markdown",
   "metadata": {},
   "source": [
    "```Python\n",
    "        try:\n",
    "            C = read_C()\n",
    "        except (IndexError, ValueError) as e:\n",
    "            # print exception message and stop the program\n",
    "            print e\n",
    "            sys.exit(1)\n",
    "```"
   ]
  },
  {
   "cell_type": "markdown",
   "metadata": {},
   "source": [
    "Executions:"
   ]
  },
  {
   "cell_type": "markdown",
   "metadata": {},
   "source": [
    "        Terminal> c2f_cml.py\n",
    "        Celsius degrees must be supplied on the command line\n",
    "        \n",
    "        Terminal> c2f_cml.py 21C\n",
    "        Celsius degrees must be a pure number, not \"21C\"\n",
    "        \n",
    "        Terminal> c2f_cml.py -500\n",
    "        C=-500 is a non-physical value!\n",
    "        \n",
    "        Terminal> c2f_cml.py 21\n",
    "        21C is 69.8F\n"
   ]
  },
  {
   "cell_type": "markdown",
   "metadata": {},
   "source": [
    "## Making your own modules\n",
    "\n",
    "We have frequently used modules like `math` and `sys`:"
   ]
  },
  {
   "cell_type": "code",
   "execution_count": null,
   "metadata": {},
   "outputs": [],
   "source": [
    "from math import log\n",
    "r = log(6)   # call log function in math module\n",
    "\n",
    "import sys\n",
    "x = eval(sys.argv[1])  # access list argv in sys module"
   ]
  },
  {
   "cell_type": "markdown",
   "metadata": {},
   "source": [
    "Characteristics of modules:\n",
    "\n",
    "  * Collection of useful data and functions \n",
    "    (later also classes)\n",
    "\n",
    "  * Functions in a module can be reused in many different programs\n",
    "\n",
    "  * If you have some general functions that can be handy in more than one program, make a module with these functions\n",
    "\n",
    "  * It's easy: just collect the functions you want in a file, and that's a module!\n",
    "\n",
    "\n",
    "\n",
    "## Case on making our own module\n",
    "\n",
    "Here are formulas for computing with interest rates:"
   ]
  },
  {
   "cell_type": "markdown",
   "metadata": {},
   "source": [
    "<!-- Equation labels as ordinary links -->\n",
    "<div id=\"input:mod:eq1\"></div>\n",
    "\n",
    "$$\n",
    "\\begin{equation}\n",
    "A = A_0\\left( 1 + {p\\over 360\\cdot 100}\\right)^{n},\n",
    "\\label{input:mod:eq1} \\tag{1}\n",
    "\\end{equation}\n",
    "$$"
   ]
  },
  {
   "cell_type": "markdown",
   "metadata": {},
   "source": [
    "<!-- Equation labels as ordinary links -->\n",
    "<div id=\"input:mod:eq2\"></div>\n",
    "\n",
    "$$\n",
    "\\begin{equation} \n",
    "A_0 = A\\left( 1 + {p\\over 360\\cdot 100}\\right)^{-n},\n",
    "\\label{input:mod:eq2} \\tag{2}\n",
    "\\end{equation}\n",
    "$$"
   ]
  },
  {
   "cell_type": "markdown",
   "metadata": {},
   "source": [
    "<!-- Equation labels as ordinary links -->\n",
    "<div id=\"input:mod:eq3\"></div>\n",
    "\n",
    "$$\n",
    "\\begin{equation} \n",
    "n = \\frac{\\ln {A\\over A_0}}{\\ln \\left( 1 + {p\\over 360\\cdot 100}\\right)} ,\n",
    "\\label{input:mod:eq3} \\tag{3}\n",
    "\\end{equation}\n",
    "$$"
   ]
  },
  {
   "cell_type": "markdown",
   "metadata": {},
   "source": [
    "<!-- Equation labels as ordinary links -->\n",
    "<div id=\"input:mod:eq4\"></div>\n",
    "\n",
    "$$\n",
    "\\begin{equation} \n",
    "p = 360\\cdot 100 \\left(\\left({A\\over A_0}\\right)^{1/n} - 1\\right){\\thinspace .}\n",
    "\\label{input:mod:eq4} \\tag{4}\n",
    "\\end{equation}\n",
    "$$"
   ]
  },
  {
   "cell_type": "markdown",
   "metadata": {},
   "source": [
    "$A_0$: initial amount, $p$: percentage, $n$: days, $A$: final amount\n",
    "\n",
    "\n",
    "\n",
    "We want to make a module with these four functions.\n",
    "\n",
    "\n",
    "\n",
    "## First we make Python functions for the formuluas"
   ]
  },
  {
   "cell_type": "code",
   "execution_count": null,
   "metadata": {},
   "outputs": [],
   "source": [
    "from math import log as ln\n",
    "\n",
    "def present_amount(A0, p, n):\n",
    "    return A0*(1 + p/(360.0*100))**n\n",
    "\n",
    "def initial_amount(A, p, n):\n",
    "    return A*(1 + p/(360.0*100))**(-n)\n",
    "\n",
    "def days(A0, A, p):\n",
    "    return ln(A/A0)/ln(1 + p/(360.0*100))\n",
    "\n",
    "def annual_rate(A0, A, n):\n",
    "    return 360*100*((A/A0)**(1.0/n) - 1)"
   ]
  },
  {
   "cell_type": "markdown",
   "metadata": {},
   "source": [
    "## Then we can make the module file\n",
    "\n",
    "  * Collect the 4 functions in a file `interest.py`\n",
    "\n",
    "  * Now `interest.py` is actually a module `interest` (!)\n",
    "\n",
    "Write the module code to file:"
   ]
  },
  {
   "cell_type": "code",
   "execution_count": null,
   "metadata": {},
   "outputs": [],
   "source": [
    "with open('interst.py', 'w') as outfile:\n",
    "    outfile.write(\"\"\"\n",
    "from math import log as ln\n",
    "\n",
    "def present_amount(A0, p, n):\n",
    "    return A0*(1 + p/(360.0*100))**n\n",
    "\n",
    "def initial_amount(A, p, n):\n",
    "    return A*(1 + p/(360.0*100))**(-n)\n",
    "\n",
    "def days(A0, A, p):\n",
    "    return ln(A/A0)/ln(1 + p/(360.0*100))\n",
    "\n",
    "def annual_rate(A0, A, n):\n",
    "    return 360*100*((A/A0)**(1.0/n) - 1)\n",
    "\"\"\")"
   ]
  },
  {
   "cell_type": "markdown",
   "metadata": {},
   "source": [
    "Example on use:"
   ]
  },
  {
   "cell_type": "code",
   "execution_count": null,
   "metadata": {},
   "outputs": [],
   "source": [
    "# How long time does it take to double an amount of money?\n",
    "\n",
    "from interest import days\n",
    "A0 = 1; A = 2; p = 5\n",
    "n = days(A0, 2, p)\n",
    "years = n/365.0\n",
    "print('Money has doubled after %.1f years' % years)"
   ]
  },
  {
   "cell_type": "markdown",
   "metadata": {},
   "source": [
    "## Adding a test block in a module file\n",
    "\n",
    "  * Module files can have an if test at the end containing a *test block* for testing or demonstrating the module\n",
    "\n",
    "  * The test block is not executed when the file is imported as a module in another program\n",
    "\n",
    "  * The test block is executed *only* when the file is run as a program"
   ]
  },
  {
   "cell_type": "markdown",
   "metadata": {},
   "source": [
    "```Python\n",
    "        if __name__ == '__main__': # this test defineds the test block\n",
    "            <block of statements>\n",
    "```"
   ]
  },
  {
   "cell_type": "markdown",
   "metadata": {},
   "source": [
    "In our case:"
   ]
  },
  {
   "cell_type": "code",
   "execution_count": null,
   "metadata": {},
   "outputs": [],
   "source": [
    "if __name__ == '__main__':\n",
    "    A = 2.2133983053266699\n",
    "    A0 = 2.0\n",
    "    p = 5\n",
    "    n = 730\n",
    "    print('A={:g} ({:g}) A0={:g} ({:.1f}) n={:g} ({:g}) p={:g} ({:.1f})'.format\\\n",
    "          (present_amount(A0, p, n), A,\n",
    "           initial_amount(A, p, n), A0,\n",
    "           days(A0, A, p), n,\n",
    "           annual_rate(A0, A, n), p))"
   ]
  },
  {
   "cell_type": "markdown",
   "metadata": {},
   "source": [
    "## Test blocks are often collected in functions\n",
    "\n",
    "Let's make a real *test function* for what we had in the test block:"
   ]
  },
  {
   "cell_type": "code",
   "execution_count": null,
   "metadata": {},
   "outputs": [],
   "source": [
    "def test_all_functions():\n",
    "    # Define compatible values\n",
    "    A = 2.2133983053266699; A0 = 2.0; p = 5; n = 730\n",
    "    # Given three of these, compute the remaining one\n",
    "    # and compare with the correct value (in parenthesis)\n",
    "    A_computed = present_amount(A0, p, n)\n",
    "    A0_computed = initial_amount(A, p, n)\n",
    "    n_computed = days(A0, A, p)\n",
    "    p_computed = annual_rate(A0, A, n)\n",
    "    def float_eq(a, b, tolerance=1E-12):\n",
    "        \"\"\"Return True if a == b within the tolerance.\"\"\"\n",
    "        return abs(a - b) < tolerance\n",
    "\n",
    "    success = float_eq(A_computed,  A)  and \\\n",
    "              float_eq(A0_computed, A0) and \\\n",
    "              float_eq(p_computed,  p)  and \\\n",
    "              float_eq(n_computed,  n)\n",
    "    assert success  # could add message here if desired\n",
    "\n",
    "if __name__ == '__main__':\n",
    "    test_all_functions()"
   ]
  },
  {
   "cell_type": "markdown",
   "metadata": {},
   "source": [
    "## How can Python find our new module?\n",
    "\n",
    "  * If the module is in the same folder as the main program, everything is simple and ok\n",
    "\n",
    "  * Home-made modules are normally collected in a common folder, say `/Users/hpl/lib/python/mymods`\n",
    "\n",
    "  * In that case Python must be notified that our module is in that folder\n",
    "\n",
    "Technique 1: add folder to `PYTHONPATH` in `.bashrc`:"
   ]
  },
  {
   "cell_type": "markdown",
   "metadata": {},
   "source": [
    "```\n",
    "        export PYTHONPATH=$PYTHONPATH:/Users/hpl/lib/python/mymods\n",
    "```"
   ]
  },
  {
   "cell_type": "markdown",
   "metadata": {},
   "source": [
    "Technique 2: add folder to `sys.path` in the program:"
   ]
  },
  {
   "cell_type": "markdown",
   "metadata": {},
   "source": [
    "```Python\n",
    "        sys.path.insert(0, '/Users/hpl/lib/python/mymods')\n",
    "```"
   ]
  },
  {
   "cell_type": "markdown",
   "metadata": {},
   "source": [
    "Technique 3: move the module file in a directory that Python already\n",
    "searches for libraries.\n",
    "\n",
    "\n",
    "\n",
    "\n",
    "## Summary of reading from the keyboard and command line\n",
    "\n",
    "Question and answer input:"
   ]
  },
  {
   "cell_type": "markdown",
   "metadata": {},
   "source": [
    "```Python\n",
    "        var = raw_input('Give value: ')   # var is string!\n",
    "        \n",
    "        # if var needs to be a number:\n",
    "        var = float(var)\n",
    "        # or in general:\n",
    "        var = eval(var)\n",
    "```"
   ]
  },
  {
   "cell_type": "markdown",
   "metadata": {},
   "source": [
    "Command-line input:"
   ]
  },
  {
   "cell_type": "markdown",
   "metadata": {},
   "source": [
    "```Python\n",
    "        import sys\n",
    "        parameter1 = eval(sys.argv[1])\n",
    "        parameter3 = sys.argv[3]          # string is ok\n",
    "        parameter2 = eval(sys.argv[2])\n",
    "```"
   ]
  },
  {
   "cell_type": "markdown",
   "metadata": {},
   "source": [
    "Recall: `sys.argv[0]` is the program name\n",
    "\n",
    "\n",
    "\n",
    "## Summary of reading options-value pairs\n",
    "\n",
    "`--option value` pairs with the aid of `argparse`:"
   ]
  },
  {
   "cell_type": "markdown",
   "metadata": {},
   "source": [
    "```Python\n",
    "        import argparse\n",
    "        parser = argparse.ArgumentParser()\n",
    "        parser.add_argument('--p1', '--parameter_1', type=float,\n",
    "                            default=0.0, help='1st parameter')\n",
    "        parser.add_argument('--p2', type=float,\n",
    "                            default=0.0, help='2nd parameter')\n",
    "        \n",
    "        args = parser.parse_args()\n",
    "        p1 = args.p1\n",
    "        p2 = args.p2\n",
    "```"
   ]
  },
  {
   "cell_type": "markdown",
   "metadata": {},
   "source": [
    "On the command line we can provide any or all of these options:"
   ]
  },
  {
   "cell_type": "markdown",
   "metadata": {},
   "source": [
    "        Terminal> program prog.py --parameter_1 2.1 --p2 -9\n"
   ]
  },
  {
   "cell_type": "markdown",
   "metadata": {},
   "source": [
    "## Summary of eval and exec\n",
    "\n",
    "Evaluating string expressions with `eval`:"
   ]
  },
  {
   "cell_type": "code",
   "execution_count": null,
   "metadata": {},
   "outputs": [],
   "source": [
    "x = 20\n",
    "r = eval('x + 1.1')\n",
    "r"
   ]
  },
  {
   "cell_type": "code",
   "execution_count": null,
   "metadata": {},
   "outputs": [],
   "source": [
    "type(r)"
   ]
  },
  {
   "cell_type": "markdown",
   "metadata": {},
   "source": [
    "Executing strings with Python code, using `exec`:"
   ]
  },
  {
   "cell_type": "markdown",
   "metadata": {},
   "source": [
    "```Python\n",
    "        exec(\"\"\"\n",
    "        def f(x):\n",
    "            return %s\n",
    "        \"\"\" % sys.argv[1])\n",
    "```"
   ]
  },
  {
   "cell_type": "markdown",
   "metadata": {},
   "source": [
    "## Summary of exceptions\n",
    "\n",
    "Handling exceptions:"
   ]
  },
  {
   "cell_type": "markdown",
   "metadata": {},
   "source": [
    "```Python\n",
    "        try:\n",
    "            <statements>\n",
    "        except ExceptionType1:\n",
    "            <provide a remedy for ExceptionType1 errors>\n",
    "        except ExceptionType2, ExceptionType3, ExceptionType4:\n",
    "            <provide a remedy for three other types of errors>\n",
    "        except:\n",
    "            <provide a remedy for any other errors>\n",
    "        ...\n",
    "```"
   ]
  },
  {
   "cell_type": "markdown",
   "metadata": {},
   "source": [
    "Raising exceptions:"
   ]
  },
  {
   "cell_type": "markdown",
   "metadata": {},
   "source": [
    "```Python\n",
    "        if z < 0:\n",
    "            raise ValueError(\n",
    "                'z=%s is negative - cannot do log(z)' % z)\n",
    "```"
   ]
  },
  {
   "cell_type": "markdown",
   "metadata": {},
   "source": [
    "## Summary of file reading and writing"
   ]
  },
  {
   "cell_type": "markdown",
   "metadata": {},
   "source": [
    "```Python\n",
    "        infile  = open(filename, 'r')   # read\n",
    "        outfile = open(filename, 'w')   # write\n",
    "        outfile = open(filename, 'a')   # append\n",
    "        \n",
    "        # Reading\n",
    "        line    = infile.readline()   # read the next line\n",
    "        filestr = infile.read()       # read rest of file into string\n",
    "        lines   = infile.readlines()  # read rest of file into list\n",
    "        for line in infile:           # read rest of file line by line\n",
    "        \n",
    "        # Writing\n",
    "        outfile.write(s)   # add \\n if you need it\n",
    "        \n",
    "        # Closing\n",
    "        infile.close()\n",
    "        outfile.close()\n",
    "```"
   ]
  },
  {
   "cell_type": "markdown",
   "metadata": {},
   "source": [
    "## A summarizing example: solving $f(x)=0$\n",
    "\n",
    "Nonlinear algebraic equations like"
   ]
  },
  {
   "cell_type": "markdown",
   "metadata": {},
   "source": [
    "$$\n",
    "\\begin{align*}\n",
    "x &= 1 + \\sin x\\\\\n",
    "\\tan x + \\cos x &= \\sin 8x\\\\\n",
    "x^5 - 3x^3 &= 10\n",
    "\\end{align*}\n",
    "$$"
   ]
  },
  {
   "cell_type": "markdown",
   "metadata": {},
   "source": [
    "are usually impossible to solve by pen and paper, but can be\n",
    "solved by numerical methods. To this end, rewrite any equation as"
   ]
  },
  {
   "cell_type": "markdown",
   "metadata": {},
   "source": [
    "$$\n",
    "f(x) = 0\n",
    "$$"
   ]
  },
  {
   "cell_type": "markdown",
   "metadata": {},
   "source": [
    "For the above we have (put everything on the left-hand side)"
   ]
  },
  {
   "cell_type": "markdown",
   "metadata": {},
   "source": [
    "$$\n",
    "\\begin{align*}\n",
    "f(x) &= x - 1 - \\sin x\\\\\n",
    "f(x) &= \\tan x + \\cos x - \\sin 8x\\\\\\\n",
    "f(x) &= x^5 - 3x^3 -  10\n",
    "\\end{align*}\n",
    "$$"
   ]
  },
  {
   "cell_type": "markdown",
   "metadata": {},
   "source": [
    "## We shall learn about a method for solving $f(x)=0$\n",
    "\n",
    "A solution $x$ of $f(x)=0$ is called a *root* of $f(x)$\n",
    "\n",
    "\n",
    "\n",
    "**Outline of the next slides:**\n",
    "\n",
    "  * Formulate a method for finding a root\n",
    "\n",
    "  * Translate the method to a precise algorithm\n",
    "\n",
    "  * Implement the algorithm in Python\n",
    "\n",
    "  * Test the implementation\n",
    "\n",
    "\n",
    "\n",
    "## The Bisection method\n",
    "\n",
    "  * Start with an interval $[a,b]$ in which $f(x)$ changes sign\n",
    "\n",
    "  * Then there must be (at least) one root in $[a,b]$\n",
    "\n",
    "  * Halve the interval:\n",
    "\n",
    "    * $m=(a+b)/2$; does $f$ change sign in left half $[a,m]$?\n",
    "\n",
    "    * Yes: continue with left interval $[a,m]$ (set $b=m$)\n",
    "\n",
    "    * No: continue with right interval $[m,b]$ (set $a=m$)\n",
    "\n",
    "\n",
    "  * Repeat the procedure\n",
    "\n",
    "\n",
    "\n",
    "  * After halving the initial interval $[p,q]$ $n$ times, we know that $f(x)$ must have a root inside a (small) interval $2^{-n}(q-p)$\n",
    "\n",
    "  * The method is slow, but very safe\n",
    "\n",
    "  * Other methods (like Newton's method) can be faster, but may also fail to locate a root - bisection does not fail\n",
    "\n",
    "\n",
    "\n",
    "## Solving $\\cos \\pi x =0$: iteration no. 1\n",
    "\n",
    "<!-- dom:FIGURE: [https://raw.githubusercontent.com/hplgit/scipro-primer/master/slides/input/html/fig-input/bisection_iter1.png, width=540 frac=0.9] -->\n",
    "<!-- begin figure -->\n",
    "\n",
    "<p></p>\n",
    "<img src=\"https://raw.githubusercontent.com/hplgit/scipro-primer/master/slides/input/html/fig-input/bisection_iter1.png\" width=540>\n",
    "\n",
    "<!-- end figure -->\n",
    "\n",
    "\n",
    "## Solving $\\cos \\pi x =0$: iteration no. 2\n",
    "\n",
    "<!-- dom:FIGURE: [https://raw.githubusercontent.com/hplgit/scipro-primer/master/slides/input/html/fig-input/bisection_iter2.png, width=540 frac=0.9] -->\n",
    "<!-- begin figure -->\n",
    "\n",
    "<p></p>\n",
    "<img src=\"https://raw.githubusercontent.com/hplgit/scipro-primer/master/slides/input/html/fig-input/bisection_iter2.png\" width=540>\n",
    "\n",
    "<!-- end figure -->\n",
    "\n",
    "\n",
    "## Solving $\\cos \\pi x =0$: iteration no. 3\n",
    "\n",
    "<!-- dom:FIGURE: [https://raw.githubusercontent.com/hplgit/scipro-primer/master/slides/input/html/fig-input/bisection_iter3.png, width=540 frac=0.9] -->\n",
    "<!-- begin figure -->\n",
    "\n",
    "<p></p>\n",
    "<img src=\"https://raw.githubusercontent.com/hplgit/scipro-primer/master/slides/input/html/fig-input/bisection_iter3.png\" width=540>\n",
    "\n",
    "<!-- end figure -->\n",
    "\n",
    "\n",
    "## Solving $\\cos \\pi x =0$: iteration no. 4\n",
    "\n",
    "<!-- dom:FIGURE: [https://raw.githubusercontent.com/hplgit/scipro-primer/master/slides/input/html/fig-input/bisection_iter4.png, width=540 frac=0.9] -->\n",
    "<!-- begin figure -->\n",
    "\n",
    "<p></p>\n",
    "<img src=\"https://raw.githubusercontent.com/hplgit/scipro-primer/master/slides/input/html/fig-input/bisection_iter4.png\" width=540>\n",
    "\n",
    "<!-- end figure -->\n",
    "\n",
    "\n",
    "## From method description to a precise algorithm\n",
    "\n",
    "  * We need to translate the mathematical description of the Bisection method to a Python program\n",
    "\n",
    "  * An important intermediate step is to formulate a precise algorithm\n",
    "\n",
    "  * Algorithm = detailed, code-like formulation of the method"
   ]
  },
  {
   "cell_type": "markdown",
   "metadata": {},
   "source": [
    "```Python\n",
    "        for i in range(0, n+1):\n",
    "            m = (a + b)/2\n",
    "            if f(a)*f(m) <= 0:\n",
    "                b = m  # root is in left half\n",
    "            else:\n",
    "                a = m  # root is in right half\n",
    "        \n",
    "        # f(x) has a root in [a,b]\n",
    "```"
   ]
  },
  {
   "cell_type": "markdown",
   "metadata": {},
   "source": [
    "## The algorithm can be made more efficient\n",
    "\n",
    "  * $f(a)$ is recomputed in each if test\n",
    "\n",
    "  * This is not necessary if $a$ has not changed since last pass in the loop\n",
    "\n",
    "  * On modern computers and simple formulas for $f(x)$ these extra computations do not matter\n",
    "\n",
    "  * However, in science and engineering one meets $f$ functions that take hours or days to evaluate at a point, and saving some $f(a)$ evaluations matters!\n",
    "\n",
    "  * Rule of thumb: remove redundant computations \n",
    "    (unless the code becomes much more complicated, and harder to verify)\n",
    "\n",
    "\n",
    "\n",
    "## New, more efficient version of the algorithm\n",
    "\n",
    "Idea: save $f(x)$ evaluations in  variables"
   ]
  },
  {
   "cell_type": "markdown",
   "metadata": {},
   "source": [
    "```Python\n",
    "        f_a = f(a)\n",
    "        for i in range(0, n+1):\n",
    "            m = (a + b)/2\n",
    "            f_m = f(m)\n",
    "            if f_a*f_m <= 0:\n",
    "                b = m   # root is in left half\n",
    "            else:\n",
    "                a = m   # root is in right half\n",
    "                f_a = f_m\n",
    "        \n",
    "        # f(x) has a root in [a,b]\n",
    "```"
   ]
  },
  {
   "cell_type": "markdown",
   "metadata": {},
   "source": [
    "## How to choose $n$? That is, when to stop the iteration\n",
    "\n",
    "  * We want the error in the root to be $\\epsilon$ or smaller\n",
    "\n",
    "  * After $n$ iterations, the initial interval $[a,b]$ is halved $n$ times and the current interval has length $2^{-n}(b-a)$. This is sufficiently small if $2^{-n}(b-a) = \\epsilon \\quad\\Rightarrow\\quad n = - {\\ln\\epsilon -\\ln (b-a)\\over\\ln 2}$\n",
    "\n",
    "  * A simpler alternative: just repeat halving until the length of the current interval is $\\leq\\epsilon$\n",
    "\n",
    "  * This is easiest done with a while loop: \n",
    "    `while b-a <= epsilon`:\n",
    "\n",
    "  * We also add a test to check if $f$ really changes sign in the initial inverval $[a,b]$\n",
    "\n",
    "\n",
    "\n",
    "## Final version of the Bisection algorithm"
   ]
  },
  {
   "cell_type": "markdown",
   "metadata": {},
   "source": [
    "```Python\n",
    "        f_a=f(a)\n",
    "        if f_a*f(b) > 0:\n",
    "            # error: f does not change sign in [a,b]\n",
    "        \n",
    "        i = 0\n",
    "        while b-a > epsilon:\n",
    "            i = i + 1\n",
    "            m = (a + b)/2\n",
    "            f_m = f(m)\n",
    "            if f_a*f_m <= 0:\n",
    "                b = m  # root is in left half\n",
    "            else:\n",
    "                a = m  # root is in right half\n",
    "                f_a = f_m\n",
    "        \n",
    "        # if x is the real root, |x-m| < epsilon\n",
    "```"
   ]
  },
  {
   "cell_type": "markdown",
   "metadata": {},
   "source": [
    "## Python implementation of the Bisection algorithm"
   ]
  },
  {
   "cell_type": "code",
   "execution_count": null,
   "metadata": {},
   "outputs": [],
   "source": [
    "def f(x):\n",
    "    return 2*x - 3   # one root x=1.5\n",
    "\n",
    "eps = 1E-5\n",
    "a, b = 0, 10\n",
    "\n",
    "fa = f(a)\n",
    "if fa*f(b) > 0:\n",
    "    print('f(x) does not change sign in [{:g},{:g}].'.format(a, b))\n",
    "    sys.exit(1)\n",
    "\n",
    "i = 0   # iteration counter\n",
    "while b-a > eps:\n",
    "    i += 1\n",
    "    m = (a + b)/2.0\n",
    "    fm = f(m)\n",
    "    if fa*fm <= 0:\n",
    "        b = m  # root is in left half of [a,b]\n",
    "    else:\n",
    "        a = m  # root is in right half of [a,b]\n",
    "        fa = fm\n",
    "x = m          # this is the approximate root"
   ]
  },
  {
   "cell_type": "markdown",
   "metadata": {},
   "source": [
    "## Implementation as a function (more reusable!)"
   ]
  },
  {
   "cell_type": "code",
   "execution_count": null,
   "metadata": {},
   "outputs": [],
   "source": [
    "def bisection(f, a, b, eps):\n",
    "    fa = f(a)\n",
    "    if fa*f(b) > 0:\n",
    "        return None, 0\n",
    "        # Alternative: raise ValueError(\n",
    "        # 'No change of sign in [%g,%g]' % (a, b))\n",
    "\n",
    "    i = 0   # iteration counter\n",
    "    while b-a > eps:\n",
    "        i += 1\n",
    "        m = (a + b)/2.0\n",
    "        fm = f(m)\n",
    "        if fa*fm <= 0:\n",
    "            b = m   # root is in left  half of [a,b]\n",
    "        else:\n",
    "            a = m   # root is in right half of [a,b]\n",
    "            fa = fm\n",
    "    return m, i\n",
    "\n",
    "print(bisection(f=lambda x: 2*x-3, a=0, b=10, eps=1E-5))"
   ]
  },
  {
   "cell_type": "markdown",
   "metadata": {},
   "source": [
    "## Make a module of this function\n",
    "\n",
    "  * If we put the `bisection` function in a file `bisection.py`, we automatically have a module, and the `bisection` function can easily be imported in other programs to solve $f(x)=0$\n",
    "\n",
    "  * We should make a test function too"
   ]
  },
  {
   "cell_type": "code",
   "execution_count": null,
   "metadata": {},
   "outputs": [],
   "source": [
    "def test_bisection():\n",
    "    def f(x):\n",
    "        return 2*x - 3   # only one root x=1.5\n",
    "\n",
    "    eps = 1E-5\n",
    "    x, iter = bisection(f, a=0, b=10, eps=eps)\n",
    "    success = abs(x - 1.5) < eps  # test within eps tolerance\n",
    "    assert success, 'found x=%g != 1.5' % x\n",
    "\n",
    "if __name__ == '__main__':\n",
    "    test_bisection()"
   ]
  },
  {
   "cell_type": "markdown",
   "metadata": {},
   "source": [
    "## To the point of this lecture: get input!\n",
    "\n",
    "We want to provide an $f(x)$ formula at the command line along with $a$ and $b$ (3 command-line args)\n",
    "\n",
    "Usage:"
   ]
  },
  {
   "cell_type": "markdown",
   "metadata": {},
   "source": [
    "        Terminal> python bisection.py 'sin(pi*x**3)-x**2' -1 3.5\n"
   ]
  },
  {
   "cell_type": "markdown",
   "metadata": {},
   "source": [
    "**Reading input:**"
   ]
  },
  {
   "cell_type": "markdown",
   "metadata": {},
   "source": [
    "```Python\n",
    "        def get_input():\n",
    "            \"\"\"Get f, a, b, eps from the command line.\"\"\"\n",
    "            from scitools.std import StringFunction\n",
    "            f = StringFunction(sys.argv[1])\n",
    "            a = float(sys.argv[2])\n",
    "            b = float(sys.argv[3])\n",
    "            eps = float(sys.argv[4])\n",
    "            return f, a, b, eps\n",
    "        \n",
    "        # Usage:\n",
    "        f, a, b, eps = get_input()\n",
    "        x, iter = bisection(f, a, b, eps)\n",
    "        print 'Found root x=%g in %d iterations' % (x, iter)\n",
    "```"
   ]
  },
  {
   "cell_type": "markdown",
   "metadata": {},
   "source": [
    "## Improvements: error handling"
   ]
  },
  {
   "cell_type": "markdown",
   "metadata": {},
   "source": [
    "```Python\n",
    "        def get_input():\n",
    "            \"\"\"Get f, a, b, eps from the command line.\"\"\"\n",
    "            from scitools.std import StringFunction\n",
    "            try:\n",
    "                f = StringFunction(sys.argv[1])\n",
    "                a = float(sys.argv[2])\n",
    "                b = float(sys.argv[3])\n",
    "                eps = float(sys.argv[4])\n",
    "            except IndexError:\n",
    "                print 'Usage %s: f a b eps' % sys.argv[0]\n",
    "                sys.exit(1)\n",
    "            return f, a, b, eps\n",
    "```"
   ]
  },
  {
   "cell_type": "markdown",
   "metadata": {},
   "source": [
    "## Applications of the Bisection method\n",
    "\n",
    "Two examples: $\\tanh x = x$ and $\\tanh x^5 = x^5$:"
   ]
  },
  {
   "cell_type": "markdown",
   "metadata": {},
   "source": [
    "        Terminal> python bisection_plot.py \"x-tanh(x)\" -1 1\n",
    "        Terminal> python bisection_plot.py \"x**5-tanh(x**5)\" -1 1\n"
   ]
  },
  {
   "cell_type": "markdown",
   "metadata": {},
   "source": [
    "The first equation is easy to treat, but the second leads to much\n",
    "less accurate results. Why??"
   ]
  },
  {
   "cell_type": "code",
   "execution_count": null,
   "metadata": {},
   "outputs": [],
   "source": []
  }
 ],
 "metadata": {
  "kernelspec": {
   "display_name": "Python 3",
   "language": "python",
   "name": "python3"
  },
  "language_info": {
   "codemirror_mode": {
    "name": "ipython",
    "version": 3
   },
   "file_extension": ".py",
   "mimetype": "text/x-python",
   "name": "python",
   "nbconvert_exporter": "python",
   "pygments_lexer": "ipython3",
   "version": "3.6.7"
  }
 },
 "nbformat": 4,
 "nbformat_minor": 1
}
