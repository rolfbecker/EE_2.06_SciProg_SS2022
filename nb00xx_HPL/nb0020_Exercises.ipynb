{
 "cells": [
  {
   "cell_type": "markdown",
   "metadata": {},
   "source": [
    "# Exercises on Lists #"
   ]
  },
  {
   "cell_type": "markdown",
   "metadata": {},
   "source": [
    "## Exercise 1: Read and understand the code ##\n",
    "\n",
    "In the lectures we have been studying lists, list comprehension, zip and formatted printing. You have to be able to apply these methods.  "
   ]
  },
  {
   "cell_type": "code",
   "execution_count": null,
   "metadata": {},
   "outputs": [],
   "source": [
    "x_list = [-1., -0.8, -0.6, -0.4, -0.2, 0, 0.2, 0.4, 0.6, 0.8, 1.0]"
   ]
  },
  {
   "cell_type": "code",
   "execution_count": null,
   "metadata": {},
   "outputs": [],
   "source": [
    "import math as m "
   ]
  },
  {
   "cell_type": "code",
   "execution_count": null,
   "metadata": {},
   "outputs": [],
   "source": [
    "y_list = []\n",
    "for x in x_list:\n",
    "    y = m.e**x\n",
    "    y_list.append(y)"
   ]
  },
  {
   "cell_type": "code",
   "execution_count": null,
   "metadata": {},
   "outputs": [],
   "source": [
    "for x,y in zip(x_list,y_list):\n",
    "    print(\"%8.2f %8.2f\" % (x,y))"
   ]
  },
  {
   "cell_type": "code",
   "execution_count": null,
   "metadata": {},
   "outputs": [],
   "source": [
    "# Short form, list comprehension\n",
    "y_list2 = [m.e**x for x in x_list]"
   ]
  },
  {
   "cell_type": "code",
   "execution_count": null,
   "metadata": {},
   "outputs": [],
   "source": [
    "for x,y in zip(x_list,y_list2):\n",
    "    print(\"%8.2f %8.2f\" % (x,y))"
   ]
  },
  {
   "cell_type": "markdown",
   "metadata": {},
   "source": [
    "## Exercise 2: Print two lists side by side using zip. ##\n",
    "\n",
    "Print lists `y_list`, `y_list2` side by side in two columns using the zip function. Use the format string `\"%8.2f %8.2f\"`. "
   ]
  },
  {
   "cell_type": "code",
   "execution_count": null,
   "metadata": {},
   "outputs": [],
   "source": [
    "# Complete the code!\n",
    "for x,y in ..."
   ]
  },
  {
   "cell_type": "markdown",
   "metadata": {},
   "source": [
    "## Exercise 3: Calculate index-wise the difference between the list elements. ##\n",
    "\n",
    "To check that the two lists `y_list` and `y_list2` are identical calculate the diffences between the elements between the tho lists using indexes:\n",
    "\n",
    "`diff = y_list[i] - y_list2[i]`\n",
    "\n",
    "and print each `diff` for each the loop cycle.\n",
    "\n",
    "Use a for loop with running variable `i` iterating over the range with all index values of the list, e.g. `range(len(y_list))`.\n"
   ]
  },
  {
   "cell_type": "code",
   "execution_count": null,
   "metadata": {},
   "outputs": [],
   "source": [
    "# Complete the code.\n",
    "for ... :\n",
    "    ...\n",
    "    print(diff)"
   ]
  },
  {
   "cell_type": "markdown",
   "metadata": {},
   "source": [
    "## Exercise 4: Create a new list `x_list` of floats with `range()` ##\n",
    "\n",
    "Now create the list `x_list` with values ranging from -2.00 to 2.00 (including the element 2.00) in steps 0.02, i.e. `[-2.00, -1.98, -1.96, ... 1.96, 1.98, 2.00]`. The data type of the list elements would be float, i.e. a floating point number (also called 'float' or 'real'). The natural way to achieve a range of numbers is using the function `range()` and converting the resulting range to a list, in summary something like `list(range(a,b,s))`.\n",
    "\n",
    "To learn how to use range consult the official Python documentation: https://docs.python.org/3.8/library/stdtypes.html?highlight=range#range\n",
    "\n",
    "The problem is that `range()` cannot create ranges of floats but only ranges of integers. We have to use a trick. \n",
    "\n",
    "If we multiply the finally intended list `[-2.00, -1.98, -1.96, ... 1.96, 1.98, 2.00]` by **100** we get a list of integers: `[-200, -198, -196, ..., 196, 198, 200]`\n",
    "\n",
    "Thus let us create an appropriate list of integers first which we then transform into the intended list of floats."
   ]
  },
  {
   "cell_type": "code",
   "execution_count": null,
   "metadata": {},
   "outputs": [],
   "source": [
    "i_list = list(range(-200,201,2))\n",
    "print(i_list)"
   ]
  },
  {
   "cell_type": "code",
   "execution_count": null,
   "metadata": {},
   "outputs": [],
   "source": [
    "x_list = [i/100 for i in i_list]\n",
    "print(x_list)"
   ]
  },
  {
   "cell_type": "markdown",
   "metadata": {},
   "source": [
    "#### In one run #### \n",
    "\n",
    "We can join the operations and omit the converstion from range to list of integers. Just for printing the values of a range it is convenient to convert the range to a list and print the list with one print statement. \n"
   ]
  },
  {
   "cell_type": "code",
   "execution_count": null,
   "metadata": {},
   "outputs": [],
   "source": [
    "x_list = [r/100 for r in range(-200,201,2)]\n",
    "print(x_list)"
   ]
  },
  {
   "cell_type": "markdown",
   "metadata": {},
   "source": [
    "### Now it is your turn! ###\n",
    "\n",
    "Create the following lists:\n",
    "```\n",
    "x1_list = [-2.0, -1.8, -1.6, ..., 1.6, 1.8, 2.0]\n",
    "x2_list = [4.00, 4.05, 4.10, ..., 4.90, 4.95, 5.0]\n",
    "x3_list = [10.00, 9.9, 9.8, ..., -9.9, -10.0]  # decending order\n",
    "```\n",
    "\n",
    " \n"
   ]
  },
  {
   "cell_type": "code",
   "execution_count": null,
   "metadata": {},
   "outputs": [],
   "source": [
    "# Complete the code.\n",
    "x1_list = [... for ...]\n",
    "x2_list = [... for ...]\n",
    "x3_list = [... for ...]"
   ]
  },
  {
   "cell_type": "markdown",
   "metadata": {},
   "source": [
    "### Calculate $y_1 = e^x$ ###\n",
    "Calulate $ y_1 =e^x $ for all x in `x_list` and print it formatted."
   ]
  },
  {
   "cell_type": "code",
   "execution_count": null,
   "metadata": {},
   "outputs": [],
   "source": [
    "import math as m # You just have to import it once ..."
   ]
  },
  {
   "cell_type": "code",
   "execution_count": null,
   "metadata": {},
   "outputs": [],
   "source": [
    "x_list = [r/100 for r in range(-200,201,2)]"
   ]
  },
  {
   "cell_type": "code",
   "execution_count": null,
   "metadata": {},
   "outputs": [],
   "source": [
    "# print unformatted\n",
    "y1_list = [m.e**x for x in x_list]\n",
    "print(y1_list) "
   ]
  },
  {
   "cell_type": "code",
   "execution_count": null,
   "metadata": {},
   "outputs": [],
   "source": [
    "# print formatted: much better to read!\n",
    "print([\"%.2f\" % y for y in y1_list])"
   ]
  },
  {
   "cell_type": "markdown",
   "metadata": {},
   "source": [
    "## Exercise 5: Plot functions with `matplotlib` ##\n",
    "\n",
    "We use the standard Python plotting library `matplotlib` to plot functions. There are many other ways to plot functions in Python but we start with the very common `matplotlib` library. \n",
    "\n",
    "The power and beauty can be seen from the official website https://matplotlib.org/. You can find the full doumentation and a example gallary.\n",
    "\n",
    "Unfortunately `matplotlib` can be quite confusing because it provides more than one interface (set of functions) for plotting. \n",
    "<br> Such a set of functions is called **Application Programming Interface (API)**. The two main APIs are `pyplot`and `Axes`. \n",
    "\n",
    "I personally prefer the `Axes` API, which in fact is a class (an abstract definition of object properties) because of its logical structure and object oriented approach.  \n",
    "\n",
    "In the code cell below `pyplot`is imported from `matplotlib` and renamed by the alias `plt`:\n",
    "```\n",
    "import matplotlib.pyplot as plt\n",
    "```\n",
    "\n",
    "The complete reference to `pyplot` can be found here: https://matplotlib.org/api/_as_gen/matplotlib.pyplot.html#module-matplotlib.pyplot\n",
    "\n",
    "#### Figure and Axes ####\n",
    "\n",
    "A **Figure object** in `matplotlib` denotes an empty canvas. It provides space for so-called **Axes objects** which are living in the figure. An Axes object contains all elements of a plot: the curves to be plotted, the x- and y-axes as well as title, axis labels, legend, tic marks, and many more.\n",
    "\n",
    "In the code cell below we call the command `fig1, ax1 = plt.subplots(1,1, ...)` from the pyplot API. This creates a figure (reference `fig1` ) and adds an Axes object (reference `ax1` ) immediately: `ax1` is an **Axes object**.\n",
    "\n",
    "To learn more about the functions provided by an **Axes** object have a look at the documentation https://matplotlib.org/api/axes_api.html\n",
    "\n",
    "Read, understand and execute the following code:"
   ]
  },
  {
   "cell_type": "code",
   "execution_count": null,
   "metadata": {},
   "outputs": [],
   "source": [
    "# The following directive might be needed with Jupyter Notebook (not Jupyter Lab)\n",
    "%matplotlib inline \n",
    "import matplotlib.pyplot as plt # You just have to import the library once. From now on it is known."
   ]
  },
  {
   "cell_type": "code",
   "execution_count": null,
   "metadata": {},
   "outputs": [],
   "source": [
    "# Create a figure and the an Axes object as part of the figure. This is a function of the Pyplot API\n",
    "# figsize and dpi are two parameters determining figure size and resolution (dpi: dots per inch)ax1.plot(x_list,y1_list)\n",
    "fig1, ax1 = plt.subplots(1,1, figsize = (6,4), dpi = 136) \n",
    "\n",
    "# From now on we use the Axes API (functions inherent to the ax1 Axes object)\n",
    "ax1.plot(x_list,y1_list)\n",
    "ax1.grid(True)\n",
    "ax1.text(-0.45,2.3,\"Wow!\")\n",
    "ax1.text(0.5,1.0,\"This exp is cool!\")\n",
    "ax1.text(-2.0,5.0,\"Lower left corner of this textbox at (-2,5)\")\n",
    "ax1.text(-1.5,6.0,\"Lower left corner of this textbox at (-1.5,6)\")\n",
    "\n",
    "# Add your code here: add legend, title, axis labels, etc.\n",
    "\n",
    "fig1.savefig(\"fig1.png\") # save the figure in png format under the filename 'fig1.png' in the current folder. \n",
    "plt.show()"
   ]
  },
  {
   "cell_type": "code",
   "execution_count": null,
   "metadata": {},
   "outputs": [],
   "source": [
    "type(ax1)"
   ]
  },
  {
   "cell_type": "markdown",
   "metadata": {},
   "source": [
    "The functions used in the code cell above are provided by the axis object itself. Example: `ax1.grid(True)`switches the grid on, `ax1.plot(...)` adds a curve to the plot, `ax1.text(...)` adds a textbox to the plot. The functions belong to the axis object `ax1`. The object \"has them inside\"."
   ]
  },
  {
   "cell_type": "markdown",
   "metadata": {},
   "source": [
    "### Your Task: Annotate the plot properlyby adding title, x-axis label, y-axis label and legend to the axis object above. ###\n",
    "\n",
    "To achieve this go to https://matplotlib.org/api/axes_api.html and search on this web page (by pressing `<ctrl>-f` for *find* in Chrome) the keywords: **title, label, legend** (to the axis, not the figure). Click on the respective orange/brown function names in the table to learn more about how to use them.\n",
    "\n",
    "And remove the text boxes. They are spoiling the plot.\n"
   ]
  },
  {
   "cell_type": "markdown",
   "metadata": {},
   "source": [
    "### Plotting several curves in one axis object ###\n",
    "\n",
    "First we need more functions (y-values) to be plotted, e.g.\n"
   ]
  },
  {
   "cell_type": "code",
   "execution_count": null,
   "metadata": {},
   "outputs": [],
   "source": [
    "y1t_list = [x+1 for x in x_list]"
   ]
  },
  {
   "cell_type": "code",
   "execution_count": null,
   "metadata": {},
   "outputs": [],
   "source": [
    "fig2, ax2 = plt.subplots(1,1, figsize = (5,5), dpi = 136)\n",
    "\n",
    "ax2.plot(x_list,y1_list)\n",
    "ax2.plot(x_list,y1t_list)\n",
    "\n",
    "ax2.legend([r\"$e^x$\", r\"$x$\"])\n",
    "ax2.grid(True)\n",
    "ax2.axis(\"equal\")\n",
    "ax2.set_xlim(-2,2)\n",
    "ax2.set_ylim(0,4)\n",
    "plt.show()"
   ]
  },
  {
   "cell_type": "markdown",
   "metadata": {},
   "source": [
    "**Questions:** What is the slope of the linear curve? What is the slope of exponential at $x=0$? How do you determine generally the slope of a tangent to the exponential?"
   ]
  },
  {
   "cell_type": "markdown",
   "metadata": {},
   "source": [
    "### Your Task: Plot the following functions on `ax3` in the code cell below and annotate the plot properly. ### \n",
    "\n",
    "$$ \\begin{eqnarray} \n",
    "y_1 &=& e^x \\\\\n",
    "y_2 &=&  \\left( 1 \\over e \\right)^x \\\\\n",
    "y_3 &=& 2^x \\\\\n",
    "y_4 &=& \\left( 1 \\over 2 \\right)^x \\\\\n",
    "y_5 &=& 4^x \\\\\n",
    "y_6 &=& \\left( 1 \\over 4 \\right)^x \\\\\n",
    "y_7 &=& 4^{-x}\n",
    "\\end{eqnarray}$$"
   ]
  },
  {
   "cell_type": "code",
   "execution_count": null,
   "metadata": {},
   "outputs": [],
   "source": [
    "# Complete the code.\n",
    "y1_list = [m.e**x for x in x_list]\n",
    "y2_list = [(1/m.e)**x for x in x_list]\n",
    "y3_list =\n",
    "...\n",
    "y7_list = "
   ]
  },
  {
   "cell_type": "code",
   "execution_count": null,
   "metadata": {},
   "outputs": [],
   "source": [
    "fig3, ax3 = plt.subplots(1,1, figsize = (5,5), dpi = 136)\n",
    "ax3.plot(x_list,y1_list)\n",
    "ax3.plot(x_list,y2_list)\n",
    "\n",
    "# Your code adding the plots of y3_list to y7_list\n",
    "\n",
    "\n",
    "# your code annotaing the plot properly (add title, extend legend, ...)\n",
    "\n",
    "ax3.legend([r\"$e^x$\", r\"$(1/e)^x$\", r\"...\"])\n",
    "\n",
    "ax3.grid(True)\n",
    "ax3.axis(\"equal\")\n",
    "ax3.set_xlim(-2,2)\n",
    "ax3.set_ylim(0,4)\n",
    "plt.show()"
   ]
  },
  {
   "cell_type": "markdown",
   "metadata": {},
   "source": [
    "**Question:** You should have plotted the seven exponentials `y_list1` to `y_list7`. In case you did it properly you would count just six curves! Why? "
   ]
  },
  {
   "cell_type": "code",
   "execution_count": null,
   "metadata": {},
   "outputs": [],
   "source": []
  }
 ],
 "metadata": {
  "kernelspec": {
   "display_name": "Python 3",
   "language": "python",
   "name": "python3"
  },
  "language_info": {
   "codemirror_mode": {
    "name": "ipython",
    "version": 3
   },
   "file_extension": ".py",
   "mimetype": "text/x-python",
   "name": "python",
   "nbconvert_exporter": "python",
   "pygments_lexer": "ipython3",
   "version": "3.6.7"
  }
 },
 "nbformat": 4,
 "nbformat_minor": 2
}
