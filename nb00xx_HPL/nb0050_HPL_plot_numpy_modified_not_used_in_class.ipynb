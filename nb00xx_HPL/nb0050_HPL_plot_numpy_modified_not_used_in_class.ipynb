{
 "cells": [
  {
   "cell_type": "markdown",
   "metadata": {},
   "source": [
    "<!-- dom:TITLE: Ch.5: Array computing and curve plotting -->\n",
    "# Ch.5: Array computing and curve plotting\n",
    "<!-- dom:AUTHOR: Hans Petter Langtangen at Simula Research Laboratory & University of Oslo, Dept. of Informatics -->\n",
    "<!-- Author: --> **Hans Petter Langtangen**, Simula Research Laboratory and University of Oslo, Dept. of Informatics\n",
    "\n",
    "Date: **Aug 21, 2016**\n",
    "\n",
    "<br>\n",
    "\n",
    "<font color='red'>\n",
    "    \n",
    "**Modified / solved: R. Becker (rb), 2019-07-11**\n",
    "    \n",
    "**Marcel Dogotari and me decided not to use the outdated and meanwhile obsolete scitools anymore. We introduced numpy arrays, vectorization and with matplotlib in other notebooks we created from scratch. Nvertheless we want to present this comprehensive notebook based on Chapter 5 of HPL's book (3rd edition) for the sake of completeness. We had to modify it in order to avoid the need for scitools. The original cells with scitools are still in but not used nor working.**\n",
    "\n",
    "</font>\n",
    "\n",
    "\n",
    "\n",
    "## Goal: learn to visualize functions\n",
    "\n",
    "<!-- dom:FIGURE: [https://raw.githubusercontent.com/hplgit/scipro-primer/master/slides/plot/html/fig-plot/comic_plot.png, width=600 frac=0.7] -->\n",
    "<!-- begin figure -->\n",
    "\n",
    "<p></p>\n",
    "<img src=\"https://raw.githubusercontent.com/hplgit/scipro-primer/master/slides/plot/html/fig-plot/comic_plot.png\" width=600>\n",
    "\n",
    "<!-- end figure -->\n",
    "\n",
    "\n",
    "<!-- FIGURE: [https://raw.githubusercontent.com/hplgit/scipro-primer/master/slides/plot/html/fig-plot/plot2a_pylab.png, width=600 frac=0.9] -->\n",
    "\n",
    "## We need to learn about a new object: array\n",
    "\n",
    "  * Curves $y=f(x)$ are visualized by drawing straight lines between points along the curve\n",
    "\n",
    "  * Meed to store the coordinates of the points along the curve in lists or *arrays* `x` and `y`\n",
    "\n",
    "  * Arrays $\\approx$ lists, but computationally much more efficient\n",
    "\n",
    "  * To compute the `y` coordinates (in an array) we need to learn about *array computations* or *vectorization*\n",
    "\n",
    "  * Array computations are useful for much more than plotting curves!\n",
    "\n",
    "\n",
    "\n",
    "## The minimal need-to-know about vectors\n",
    "\n",
    "  * Vectors are known from high school mathematics, e.g., \n",
    "    point $(x,y)$ in the plane, point $(x,y,z)$ in space\n",
    "\n",
    "  * In general, a vector $v$ is an $n$-tuple of numbers:\n",
    "    $v=(v_0,\\ldots,v_{n-1})$\n",
    "\n",
    "  * Vectors can be represented by lists: $v_i$ is stored as `v[i]`,\n",
    "    but we shall use arrays instead\n",
    "\n",
    "\n",
    "\n",
    "Vectors and arrays are key concepts in this chapter. It takes separate math courses to understand what vectors and arrays really are, but in this course we only need a small subset of the complete story. A learning strategy may be to just start using vectors/arrays in programs and later, if necessary, go back to the more mathematical details in the first part of Ch. 5.\n",
    "\n",
    "\n",
    "\n",
    "## The minimal need-to-know about arrays\n",
    "\n",
    "Arrays are a generalization of vectors where we can have multiple indices: $A_{i,j}$, $A_{i,j,k}$\n",
    "\n",
    "Example: table of numbers, one index for the row, one for the column"
   ]
  },
  {
   "cell_type": "markdown",
   "metadata": {},
   "source": [
    "$$\n",
    "\\left\\lbrack\\begin{array}{cccc}\n",
    "0 & 12 & -1 & 5\\\\\n",
    "-1 & -1 & -1 & 0\\\\\n",
    "11 & 5 & 5 & -2\n",
    "\\end{array}\\right\\rbrack\n",
    "\\hspace{1cm}\n",
    "A =\n",
    "\\left\\lbrack\\begin{array}{ccc}\n",
    "A_{0,0} & \\cdots &  A_{0,n-1}\\\\\n",
    "\\vdots & \\ddots &  \\vdots\\\\\n",
    "A_{m-1,0} & \\cdots & A_{m-1,n-1}\n",
    "\\end{array}\\right\\rbrack\n",
    "$$"
   ]
  },
  {
   "cell_type": "markdown",
   "metadata": {},
   "source": [
    "* The no of indices in an array is the *rank* or *number of dimensions*\n",
    "\n",
    "  * Vector = one-dimensional array, or rank 1 array\n",
    "\n",
    "  * In Python code, we use Numerical Python arrays instead of nested lists to represent mathematical arrays (because this is computationally more efficient)\n",
    "\n",
    "\n",
    "\n",
    "## Storing (x,y) points on a curve in lists\n",
    "\n",
    "**Collect points on a function curve $y=f(x)$ in lists:**"
   ]
  },
  {
   "cell_type": "code",
   "execution_count": null,
   "metadata": {},
   "outputs": [],
   "source": [
    "def f(x):\n",
    "    return x**3"
   ]
  },
  {
   "cell_type": "code",
   "execution_count": null,
   "metadata": {},
   "outputs": [],
   "source": [
    "n = 5                 # no of points\n",
    "dx = 1.0/(n-1)        # x spacing in [0,1]\n",
    "xlist = [i*dx for i in range(n)]\n",
    "ylist = [f(x) for x in xlist]"
   ]
  },
  {
   "cell_type": "markdown",
   "metadata": {},
   "source": [
    "**Turn lists into Numerical Python (NumPy) arrays:**"
   ]
  },
  {
   "cell_type": "markdown",
   "metadata": {},
   "source": [
    "## Make arrays directly (instead of lists)\n",
    "\n",
    "**The pro drops lists and makes NumPy arrays directly:**"
   ]
  },
  {
   "cell_type": "code",
   "execution_count": null,
   "metadata": {},
   "outputs": [],
   "source": [
    "import numpy as np\n",
    "n = 5                     # number of points\n",
    "x = np.linspace(0, 1, n) # n points in [0, 1]\n",
    "y = np.zeros(n)          # n zeros (float data type)\n",
    "for i in np.arange(n):\n",
    "    y[i] = f(x[i])"
   ]
  },
  {
   "cell_type": "markdown",
   "metadata": {},
   "source": [
    "Note:\n",
    "\n",
    "  * `arange` is like `range` but faster\n",
    "    (esp. for large `n` - `arange` does not explicitly build\n",
    "    a list of integers, `arange` just lets you loop over the values)\n",
    "\n",
    "  * Entire arrays must be made by `numpy` (`np`) functions\n",
    "\n",
    "\n",
    "\n",
    "## Arrays are not as flexible as list, but computational much more efficient\n",
    "\n",
    "  * List elements can be *any* Python objects\n",
    "\n",
    "  * Array elements can only be of *one object type*\n",
    "\n",
    "  * Arrays are very efficient to store in memory and compute with\n",
    "    if the element type is `float`, `int`, or `complex`\n",
    "\n",
    "  * Rule: use arrays for sequences of numbers!\n",
    "\n",
    "\n",
    "\n",
    "## We can work with entire arrays at once - instead of one element at a time\n",
    "\n",
    "Compute the sine of an array:"
   ]
  },
  {
   "cell_type": "code",
   "execution_count": null,
   "metadata": {},
   "outputs": [],
   "source": [
    "from math import sin\n",
    "\n",
    "for i in np.arange(len(x)):\n",
    "    y[i] = sin(x[i])"
   ]
  },
  {
   "cell_type": "markdown",
   "metadata": {},
   "source": [
    "However, if `x` is array, `y` can be computed by"
   ]
  },
  {
   "cell_type": "code",
   "execution_count": null,
   "metadata": {},
   "outputs": [],
   "source": [
    "y = np.sin(x)                  # x: array, y: array"
   ]
  },
  {
   "cell_type": "markdown",
   "metadata": {},
   "source": [
    "The loop is now inside `np.sin` and implemented in very efficient C code.\n",
    "\n",
    "\n",
    "\n",
    "## Operating on entire arrays at once is called *vectorization*\n",
    "\n",
    "**Vectorization gives:**\n",
    "\n",
    "  * shorter, more readable code, closer to the mathematics\n",
    "\n",
    "  * much faster code\n",
    "\n",
    "\n",
    "\n",
    "**Use `%timeit` in IPython to measure the speed-up for $y=\\sin x e^{-x}$:**"
   ]
  },
  {
   "cell_type": "code",
   "execution_count": null,
   "metadata": {},
   "outputs": [],
   "source": [
    "n = 100000"
   ]
  },
  {
   "cell_type": "code",
   "execution_count": null,
   "metadata": {},
   "outputs": [],
   "source": [
    "import numpy as np"
   ]
  },
  {
   "cell_type": "code",
   "execution_count": null,
   "metadata": {},
   "outputs": [],
   "source": [
    "x = np.linspace(0, 2*np.pi, n+1)"
   ]
  },
  {
   "cell_type": "code",
   "execution_count": null,
   "metadata": {},
   "outputs": [],
   "source": [
    "y = np.zeros(len(x))"
   ]
  },
  {
   "cell_type": "code",
   "execution_count": null,
   "metadata": {},
   "outputs": [],
   "source": [
    "%timeit for i in np.arange(len(x)): y[i] = np.sin(x[i])*np.exp(-x[i])"
   ]
  },
  {
   "cell_type": "code",
   "execution_count": null,
   "metadata": {},
   "outputs": [],
   "source": [
    "%timeit y = np.sin(x)*np.exp(-x)"
   ]
  },
  {
   "cell_type": "code",
   "execution_count": null,
   "metadata": {},
   "outputs": [],
   "source": [
    "280/0.55 # time looping / time vectorized"
   ]
  },
  {
   "cell_type": "markdown",
   "metadata": {},
   "source": [
    "## A function `f(x)` written for a number `x` usually works for array `x` too"
   ]
  },
  {
   "cell_type": "code",
   "execution_count": null,
   "metadata": {},
   "outputs": [],
   "source": [
    "from numpy import sin, exp, linspace\n",
    "\n",
    "def f(x):\n",
    "    return x**3 + sin(x)*exp(-3*x)\n",
    "\n",
    "x = 1.2                     # float object\n",
    "y = f(x)                    # y is float\n",
    "\n",
    "x = linspace(0, 3, 10001)   # 10000 intervals in [0,3]\n",
    "y = f(x)                    # y is array"
   ]
  },
  {
   "cell_type": "markdown",
   "metadata": {},
   "source": [
    "**Note: `math` is for numbers and `numpy` for arrays.**"
   ]
  },
  {
   "cell_type": "code",
   "execution_count": null,
   "metadata": {},
   "outputs": [],
   "source": [
    "import math, numpy\n",
    "x = numpy.linspace(0, 1, 11)\n",
    "math.sin(x[3])"
   ]
  },
  {
   "cell_type": "code",
   "execution_count": null,
   "metadata": {},
   "outputs": [],
   "source": [
    "#rb: This causes intentionally a TypeError, non-vectorized, works for scalars only\n",
    "math.sin(x)"
   ]
  },
  {
   "cell_type": "code",
   "execution_count": null,
   "metadata": {},
   "outputs": [],
   "source": [
    "#rb: numpy provides vectorized functions\n",
    "numpy.sin(x)"
   ]
  },
  {
   "cell_type": "markdown",
   "metadata": {},
   "source": [
    "## Array arithmetics is broken down to a series of unary/binary array operations\n",
    "\n",
    " * Consider `y = f(x)`, where `f` returns `x**3 + sin(x)*exp(-3*x)`\n",
    "\n",
    " * `f(x)` leads to the following set of vectorized sub-computations:\n",
    "\n",
    "  a. `r1 = x**3` \n",
    "     `for i in range(len(x)): r1[i] = x[i]**3` \n",
    "     (but with loop in C)\n",
    "\n",
    "  b. `r2 = sin(x)` (computed elementwise in C)\n",
    "\n",
    "  c. `r3 = -3*x`\n",
    "\n",
    "  d. `r4 = exp(r3)`\n",
    "\n",
    "  e. `r5 = r3*r4`\n",
    "\n",
    "  f. `r6 = r1 + r5`\n",
    "\n",
    "  g. `y = r6`\n",
    "\n",
    "\n",
    " * Note: this is the same set of operations as you would do with a calculator\n",
    "   when `x` is a number\n",
    "\n",
    "\n",
    "\n",
    "## Very important application: vectorized code for computing points along a curve"
   ]
  },
  {
   "cell_type": "markdown",
   "metadata": {},
   "source": [
    "$$\n",
    "f(x) = x^2e^{-\\frac{1}{2}x}\\sin(x-\\frac{1}{3}\\pi),\\quad x\\in [0, 4\\pi]\n",
    "$$"
   ]
  },
  {
   "cell_type": "markdown",
   "metadata": {},
   "source": [
    "**Vectorized computation of $n+1$ points along the curve.**"
   ]
  },
  {
   "cell_type": "code",
   "execution_count": null,
   "metadata": {},
   "outputs": [],
   "source": [
    "from numpy import *\n",
    "\n",
    "n = 100\n",
    "x = linspace(0, 4*pi, n+1)\n",
    "y = 2.5 + x**2*exp(-0.5*x)*sin(x-pi/3)"
   ]
  },
  {
   "cell_type": "markdown",
   "metadata": {},
   "source": [
    "## New term: vectorization\n",
    "\n",
    "  * *Scalar*: a number\n",
    "\n",
    "  * *Vector* or *array*: sequence of numbers (vector in mathematics)\n",
    "\n",
    "  * We speak about scalar computations (one number at a time) versus\n",
    "    vectorized computations (operations on entire arrays, no Python loops)\n",
    "\n",
    "\n",
    "\n",
    "\n",
    "  * *Vectorized functions* can operate on arrays (vectors)\n",
    "\n",
    "  * *Vectorization* is the process of turning a non-vectorized algorithm with (Python) loops into a vectorized version without (Python) loops\n",
    "\n",
    "  * Mathematical functions in Python without `if` tests automatically work for both scalar and vector (array) arguments (i.e., no vectorization is needed by the programmer)\n",
    "\n",
    "\n",
    "\n",
    "\n",
    "## Plotting the curve of a function: the very basics\n",
    "\n",
    "\n",
    "**Plot the curve of $y(t) = t^2e^{-t^2}$:**"
   ]
  },
  {
   "cell_type": "code",
   "execution_count": null,
   "metadata": {},
   "outputs": [],
   "source": [
    "%matplotlib inline\n",
    "import matplotlib.pyplot as plt\n",
    "\n",
    "#rb: from scitools.std import *  # import numpy and plotting\n",
    "\n",
    "# Make points along the curve\n",
    "t = linspace(0, 3, 51)      # 50 intervals in [0, 3]\n",
    "y = t**2*exp(-t**2)         # vectorized expression\n",
    "\n",
    "#rb:\n",
    "fig = plt.figure(figsize=(4,3), dpi = 136)\n",
    "ax = fig.add_subplot(111)\n",
    "\n",
    "ax.plot(t, y)           # make plot on the screen\n",
    "plt.savefig('fig.pdf')   # make PDF image for reports\n",
    "plt.savefig('fig.png')   # make PNG image for web pages"
   ]
  },
  {
   "cell_type": "markdown",
   "metadata": {},
   "source": [
    "<!-- dom:FIGURE: [https://raw.githubusercontent.com/hplgit/scipro-primer/master/slides/plot/html/fig-plot/plot1a_pylab.png, width=300 frac=0.5] -->\n",
    "<!-- begin figure -->\n",
    "\n",
    "<p></p>\n",
    "<img src=\"https://raw.githubusercontent.com/hplgit/scipro-primer/master/slides/plot/html/fig-plot/plot1a_pylab.png\" width=300>\n",
    "\n",
    "<!-- end figure -->\n",
    "\n",
    "\n",
    "## A plot should have labels on axis and a title\n",
    "\n",
    "<!-- dom:FIGURE: [https://raw.githubusercontent.com/hplgit/scipro-primer/master/slides/plot/html/fig-plot/plot1c_pylab.png, width=600 frac=0.9] -->\n",
    "<!-- begin figure -->\n",
    "\n",
    "<p></p>\n",
    "<img src=\"https://raw.githubusercontent.com/hplgit/scipro-primer/master/slides/plot/html/fig-plot/plot1c_pylab.png\" width=600>\n",
    "\n",
    "<!-- end figure -->\n",
    "\n",
    "\n",
    "## The code that makes the last plot"
   ]
  },
  {
   "cell_type": "code",
   "execution_count": null,
   "metadata": {},
   "outputs": [],
   "source": [
    "#rb: from scitools.std import *  # import numpy and plotting\n",
    "\n",
    "def f(t):\n",
    "    return t**2*exp(-t**2)\n",
    "\n",
    "t = linspace(0, 3, 51)    # t coordinates\n",
    "y = f(t)                  # corresponding y values\n",
    "\n",
    "#rb:\n",
    "#plot(t, y)\n",
    "#xlabel('t')               # label on the x axis\n",
    "#ylabel('y')               # label on the y axix\n",
    "#legend('t^2*exp(-t^2)')   # mark the curve\n",
    "#axis([0, 3, -0.05, 0.6])  # [tmin, tmax, ymin, ymax]\n",
    "#title('My First Easyviz Demo')\n",
    "\n",
    "fig = plt.figure(figsize=(4,3), dpi = 136)\n",
    "ax = fig.add_subplot(111)\n",
    "ax.set_title('My Demo with Label')\n",
    "ax.plot(t, y, label = \"$t^2exp(-t^2)$\")           # make plot on the screen\n",
    "ax.legend()\n",
    "\n",
    "plt.show()"
   ]
  },
  {
   "cell_type": "markdown",
   "metadata": {},
   "source": [
    "## SciTools vs. NumPy and Matplotlib\n",
    "\n",
    "  * SciTools is a Python package with lots of useful tools for mathematical computations, developed here in Oslo (Langtangen, Ring, Wilbers, Bredesen, ...)\n",
    "\n",
    "  * Easyviz is a subpackage of SciTools (`scitools.easyviz`) doing plotting with Matlab-like syntax\n",
    "\n",
    "  * Easyviz can use many plotting engine to produce a plot: Matplotlib, Gnuplot, Grace, Matlab, VTK, OpenDx, ... but the syntax remains the same\n",
    "\n",
    "  * Matplotlib is the standard plotting package in the Python community - Easyviz can use the same syntax as Matplotlib"
   ]
  },
  {
   "cell_type": "markdown",
   "metadata": {},
   "source": [
    "```Python\n",
    "        from scitools.std import *\n",
    "        \n",
    "        # is basically equivalent to\n",
    "        \n",
    "        from numpy import *\n",
    "        from matplotlib.pyplot import *\n",
    "```"
   ]
  },
  {
   "cell_type": "markdown",
   "metadata": {},
   "source": [
    "Note: SciTools (by default) adds markers to the lines, Matplotlib does not\n",
    "\n",
    "\n",
    "\n",
    "## Easyviz (imported from `scitools.std`) allows a more compact \"Pythonic\" syntax for plotting curves ##\n",
    "\n",
    "## <font color='red'>rb: I decided not to use scitools. I tried to translate the following cells from HPL which use scitools to a more conventional approach. </font>\n",
    "\n",
    "Use keyword arguments instead of separate function calls:"
   ]
  },
  {
   "cell_type": "code",
   "execution_count": null,
   "metadata": {
    "scrolled": true
   },
   "outputs": [],
   "source": [
    "#rb: not supported\n",
    "plot(t, y,\n",
    "     xlabel='t',\n",
    "     ylabel='y',\n",
    "     legend='t^2*exp(-t^2)',\n",
    "     axis=[0, 3, -0.05, 0.6],\n",
    "     title='My First Easyviz Demo',\n",
    "     savefig='tmp1.png',\n",
    "     show=True)   # display on the screen (default)"
   ]
  },
  {
   "cell_type": "code",
   "execution_count": null,
   "metadata": {},
   "outputs": [],
   "source": [
    "#rb: translated to non-scitools\n",
    "fig = plt.figure(figsize=(4,3), dpi = 136)\n",
    "ax = fig.add_subplot(111)\n",
    "ax.set_title('Another Demo')\n",
    "ax.set_xlabel(\"t\")\n",
    "ax.set_ylabel(\"y\")\n",
    "ax.axis([0, 3, -0.05, 0.6])\n",
    "ax.plot(t, y, label = \"$t^2exp(-t^2)$\")           # make plot on the screen\n",
    "ax.legend()"
   ]
  },
  {
   "cell_type": "markdown",
   "metadata": {},
   "source": [
    "(This cannot be done with Matplotlib.)\n",
    "\n",
    "\n",
    "\n",
    "<!-- dom:FIGURE: [https://raw.githubusercontent.com/hplgit/scipro-primer/master/slides/plot/html/fig-plot/plot1c_pylab.png, width=300 frac=0.35] -->\n",
    "<!-- begin figure -->\n",
    "\n",
    "<p></p>\n",
    "<img src=\"https://raw.githubusercontent.com/hplgit/scipro-primer/master/slides/plot/html/fig-plot/plot1c_pylab.png\" width=300>\n",
    "\n",
    "<!-- end figure -->\n",
    "\n",
    "\n",
    "\n",
    "## Plotting several curves in one plot\n",
    "\n",
    "**Plot $t^2e^{-t^2}$ and $t^4e^{-t^2}$ in the same plot:**"
   ]
  },
  {
   "cell_type": "code",
   "execution_count": null,
   "metadata": {},
   "outputs": [],
   "source": [
    "#rb: not supported\n",
    "from scitools.std import *   # curve plotting + array computing\n",
    "\n",
    "def f1(t):\n",
    "    return t**2*exp(-t**2)\n",
    "\n",
    "def f2(t):\n",
    "    return t**2*f1(t)\n",
    "\n",
    "t = linspace(0, 3, 51)\n",
    "y1 = f1(t)\n",
    "y2 = f2(t)\n",
    "\n",
    "plot(t, y1)\n",
    "hold('on')   # continue plotting in the same plot\n",
    "plot(t, y2)\n",
    "\n",
    "xlabel('t')\n",
    "ylabel('y')\n",
    "legend('t^2*exp(-t^2)', 't^4*exp(-t^2)')\n",
    "title('Plotting two curves in the same plot')\n",
    "savefig('tmp2.png')"
   ]
  },
  {
   "cell_type": "code",
   "execution_count": null,
   "metadata": {},
   "outputs": [],
   "source": [
    "#rb: translated to non-scitools\n",
    "def f1(t):\n",
    "    return t**2*exp(-t**2)\n",
    "\n",
    "def f2(t):\n",
    "    return t**2*f1(t)\n",
    "\n",
    "t = linspace(0, 3, 51)\n",
    "y1 = f1(t)\n",
    "y2 = f2(t)\n",
    "\n",
    "fig = plt.figure(figsize=(4,3), dpi = 136)\n",
    "ax = fig.add_subplot(111)\n",
    "ax.set_title('Plotting two curves in the same plot')\n",
    "ax.set_xlabel(\"t\")\n",
    "ax.set_ylabel(\"y\")\n",
    "ax.axis([0, 3, -0.05, 0.6])\n",
    "ph1 = ax.plot(t, y1, label = \"$t^2exp(-t^2)$\")   \n",
    "ph2 = ax.plot(t, y2, label = \"$t^4exp(-t^2)$\")   \n",
    "ax.legend()\n",
    "\n",
    "plt.savefig('tmp2.png')\n",
    "\n",
    "plt.show()"
   ]
  },
  {
   "cell_type": "markdown",
   "metadata": {},
   "source": [
    "## Alternative, more compact plot command"
   ]
  },
  {
   "cell_type": "code",
   "execution_count": null,
   "metadata": {
    "scrolled": true
   },
   "outputs": [],
   "source": [
    "#rb: scitools not suported\n",
    "plot(t, y1, t, y2,\n",
    "     xlabel='t', ylabel='y',\n",
    "     legend=('t^2*exp(-t^2)', 't^4*exp(-t^2)'),\n",
    "     title='Plotting two curves in the same plot',\n",
    "     savefig='tmp2.pdf')\n",
    "\n",
    "# equivalent to\n",
    "plot(t, y1)\n",
    "hold('on')\n",
    "plot(t, y2)\n",
    "\n",
    "xlabel('t')\n",
    "ylabel('y')\n",
    "legend('t^2*exp(-t^2)', 't^4*exp(-t^2)')\n",
    "title('Plotting two curves in the same plot')\n",
    "savefig('tmp2.pdf')"
   ]
  },
  {
   "cell_type": "markdown",
   "metadata": {},
   "source": [
    "## The resulting plot with two curves\n",
    "\n",
    "<!-- dom:FIGURE: [https://raw.githubusercontent.com/hplgit/scipro-primer/master/slides/plot/html/fig-plot/plot2a_pylab.png, width=600 frac=1.0] -->\n",
    "<!-- begin figure -->\n",
    "\n",
    "<p></p>\n",
    "<img src=\"https://raw.githubusercontent.com/hplgit/scipro-primer/master/slides/plot/html/fig-plot/plot2a_pylab.png\" width=600>\n",
    "\n",
    "<!-- end figure -->\n",
    "\n",
    "\n",
    "\n",
    "## Controlling line styles\n",
    "\n",
    "When plotting multiple curves in the same plot, the different lines (normally) look different. We can control the line type and color, if desired:"
   ]
  },
  {
   "cell_type": "code",
   "execution_count": null,
   "metadata": {},
   "outputs": [],
   "source": [
    "#rb: scitools not supported\n",
    "plot(t, y1, 'r-')   # red (r) line (-)\n",
    "hold('on')\n",
    "plot(t, y2, 'bo')   # blue (b) circles (o)\n",
    "\n",
    "# or\n",
    "plot(t, y1, 'r-', t, y2, 'bo')"
   ]
  },
  {
   "cell_type": "markdown",
   "metadata": {},
   "source": [
    "Documentation of colors and line styles: see the book, [Ch. 5](http://hplgit.github.no/primer.html/doc/pub/plot/plot-bootstrap.html), or"
   ]
  },
  {
   "cell_type": "markdown",
   "metadata": {},
   "source": [
    "        Unix> pydoc scitools.easyviz\n"
   ]
  },
  {
   "cell_type": "code",
   "execution_count": null,
   "metadata": {},
   "outputs": [],
   "source": [
    "#rb: translated to non-scitools\n",
    "fig = plt.figure(figsize=(4,3), dpi = 136)\n",
    "ax = fig.add_subplot(111)\n",
    "ax.set_title('Plotting two curves in the same plot')\n",
    "ax.set_xlabel(\"t\")\n",
    "ax.set_ylabel(\"y\")\n",
    "ax.axis([0, 3, -0.05, 0.6])\n",
    "ph1 = ax.plot(t, y1, \"r-\", label = \"$t^2exp(-t^2)$\")   \n",
    "ph2 = ax.plot(t, y2, \"bo\", label = \"$t^4exp(-t^2)$\")   \n",
    "ax.legend()\n",
    "\n",
    "plt.savefig('tmp2.pdf')\n",
    "\n",
    "plt.show()"
   ]
  },
  {
   "cell_type": "markdown",
   "metadata": {},
   "source": [
    "## Quick plotting with minimal typing\n",
    "\n",
    "**A lazy pro would do this:**"
   ]
  },
  {
   "cell_type": "code",
   "execution_count": null,
   "metadata": {},
   "outputs": [],
   "source": [
    "#rb: scitools not supprted\n",
    "t = linspace(0, 3, 51)\n",
    "plot(t, t**2*exp(-t**2), t, t**4*exp(-t**2))"
   ]
  },
  {
   "cell_type": "code",
   "execution_count": null,
   "metadata": {},
   "outputs": [],
   "source": [
    "#rb: translated to non-scitools\n",
    "fig = plt.figure(figsize=(4,3), dpi = 136)\n",
    "ax = fig.add_subplot(111)\n",
    "t = linspace(0, 3, 51)\n",
    "ax.plot(t, t**2*exp(-t**2), t, t**4*exp(-t**2))\n",
    "plt.show()"
   ]
  },
  {
   "cell_type": "markdown",
   "metadata": {},
   "source": [
    "## Plot function given on the command line\n",
    "\n",
    "**Task: plot function given on the command line.**"
   ]
  },
  {
   "cell_type": "markdown",
   "metadata": {},
   "source": [
    "        Terminal> python plotf.py expression xmin xmax\n",
    "        Terminal> python plotf.py \"exp(-0.2*x)*sin(2*pi*x)\" 0 4*pi\n"
   ]
  },
  {
   "cell_type": "markdown",
   "metadata": {},
   "source": [
    "Should plot $e^{-0.2x}\\sin (2\\pi x)$, $x\\in [0,4\\pi]$.\n",
    "`plotf.py` should work for \"any\" mathematical expression.\n",
    "\n",
    "\n",
    "\n",
    "## Solution\n",
    "\n",
    "**Complete program:**"
   ]
  },
  {
   "cell_type": "markdown",
   "metadata": {},
   "source": [
    "```Python\n",
    "        from scitools.std import *\n",
    "        # or alternatively\n",
    "        from numpy import *\n",
    "        from matplotlib.pyplot import *\n",
    "        \n",
    "        formula = sys.argv[1]\n",
    "        xmin = eval(sys.argv[2])\n",
    "        xmax = eval(sys.argv[3])\n",
    "        \n",
    "        x = linspace(xmin, xmax, 101)\n",
    "        y = eval(formula)\n",
    "        plot(x, y, title=formula)\n",
    "```"
   ]
  },
  {
   "cell_type": "markdown",
   "metadata": {},
   "source": [
    "## Let's make a movie/animation\n",
    "\n",
    "<!-- dom:FIGURE: [https://raw.githubusercontent.com/hplgit/scipro-primer/master/slides/plot/html/fig-plot/plot4_thick.png, width=600 frac=0.8] -->\n",
    "<!-- begin figure -->\n",
    "\n",
    "<p></p>\n",
    "<img src=\"https://raw.githubusercontent.com/hplgit/scipro-primer/master/slides/plot/html/fig-plot/plot4_thick.png\" width=600>\n",
    "\n",
    "<!-- end figure -->\n",
    "\n",
    "\n",
    "## The Gaussian/bell function"
   ]
  },
  {
   "cell_type": "markdown",
   "metadata": {},
   "source": [
    "$$\n",
    "f(x; m, s) = {1\\over\\sqrt{2\\pi}}{1\\over s}\\exp{\\left[-{1\\over2}\\left({x-m\\over s}\\right)^2\\right]}\n",
    "$$"
   ]
  },
  {
   "cell_type": "markdown",
   "metadata": {},
   "source": [
    "* $m$ is the location of the peak\n",
    "\n",
    "  * $s$ is a measure of the width of the function\n",
    "\n",
    "  * Make a movie (animation) of how $f(x;m,s)$ changes shape as $s$ goes from 2 to 0.2\n",
    "\n",
    "\n",
    "\n",
    "<!-- dom:FIGURE: [https://raw.githubusercontent.com/hplgit/scipro-primer/master/slides/plot/html/fig-plot/plot4_thick.png, width=300 frac=0.8] -->\n",
    "<!-- begin figure -->\n",
    "\n",
    "<p></p>\n",
    "<img src=\"https://raw.githubusercontent.com/hplgit/scipro-primer/master/slides/plot/html/fig-plot/plot4_thick.png\" width=300>\n",
    "\n",
    "<!-- end figure -->\n",
    "\n",
    "\n",
    "\n",
    "\n",
    "## Movies are made from a (large) set of individual plots\n",
    "\n",
    "  * Goal: make a movie showing how $f(x)$ varies in shape as $s$ decreases\n",
    "\n",
    "  * Idea: put many plots (for different $s$ values) together\n",
    "    (exactly as a cartoon movie)\n",
    "\n",
    "  * How to program: loop over $s$ values, call `plot` for each $s$ and make hardcopy, combine all hardcopies to a movie\n",
    "\n",
    "  * Very important: fix the $y$ axis! Otherwise, the $y$ axis always adapts to the peak of the function and the visual impression gets completely wrong\n",
    "\n",
    "\n",
    "\n",
    "## The complete code for making the animation"
   ]
  },
  {
   "cell_type": "code",
   "execution_count": null,
   "metadata": {},
   "outputs": [],
   "source": [
    "#rb: scitools not supported\n",
    "from scitools.std import *\n",
    "import time\n",
    "\n",
    "def f(x, m, s):\n",
    "    return (1.0/(sqrt(2*pi)*s))*exp(-0.5*((x-m)/s)**2)\n",
    "\n",
    "m = 0;  s_start = 2;  s_stop = 0.2\n",
    "s_values = linspace(s_start, s_stop, 30)\n",
    "\n",
    "x = linspace(m -3*s_start, m + 3*s_start, 1000)\n",
    "# f is max for x=m (smaller s gives larger max value)\n",
    "max_f = f(m, m, s_stop)\n",
    "\n",
    "# Show the movie on the screen\n",
    "# and make hardcopies of frames simultaneously\n",
    "import time\n",
    "frame_counter = 0\n",
    "\n",
    "for s in s_values:\n",
    "    y = f(x, m, s)\n",
    "    plot(x, y, axis=[x[0], x[-1], -0.1, max_f],\n",
    "         xlabel='x', ylabel='f', legend='s=%4.2f' % s,\n",
    "         savefig='tmp_%04d.png' % frame_counter)\n",
    "    frame_counter += 1\n",
    "    #time.sleep(0.2)  # pause to control movie speed"
   ]
  },
  {
   "cell_type": "code",
   "execution_count": null,
   "metadata": {
    "scrolled": true
   },
   "outputs": [],
   "source": [
    "#rb: translated to non-scitools\n",
    "import time\n",
    "\n",
    "def f(x, m, s):\n",
    "    return (1.0/(sqrt(2*pi)*s))*exp(-0.5*((x-m)/s)**2)\n",
    "\n",
    "m = 0;  s_start = 2;  s_stop = 0.2\n",
    "s_values = linspace(s_start, s_stop, 30)\n",
    "\n",
    "x = linspace(m -3*s_start, m + 3*s_start, 1000)\n",
    "# f is max for x=m (smaller s gives larger max value)\n",
    "max_f = f(m, m, s_stop)\n",
    "\n",
    "# Show the movie on the screen\n",
    "# and make hardcopies of frames simultaneously\n",
    "import time\n",
    "frame_counter = 0\n",
    "\n",
    "figno = 1\n",
    "\n",
    "for s in s_values:\n",
    "    fig = plt.figure(figno,figsize=(4,3), dpi = 136)\n",
    "    ax = fig.add_subplot(111)    \n",
    "    y = f(x, m, s)\n",
    "    ax.plot(x, y, label ='s=%4.2f' % s)\n",
    "    ax.axis([x[0], x[-1], -0.1, max_f])\n",
    "    ax.xlabel='x' \n",
    "    ax.ylabel='f'\n",
    "    ax.legend()\n",
    "    savefig='tmp_%04d.png' % frame_counter\n",
    "    plt.savefig(savefig)\n",
    "    frame_counter += 1\n",
    "    time.sleep(0.2)  # pause to control movie speed\n",
    "    plt.show(fig)"
   ]
  },
  {
   "cell_type": "code",
   "execution_count": null,
   "metadata": {},
   "outputs": [],
   "source": [
    "#rb: another example\n",
    "import numpy as np\n",
    "from matplotlib import pyplot as plt\n",
    "\n",
    "for j in range(0,3):\n",
    "    img = np.random.normal(size=(100,150))\n",
    "    plt.figure(1); plt.clf()\n",
    "    plt.imshow(img)\n",
    "    plt.title('Number ' + str(j))\n",
    "    plt.pause(3)"
   ]
  },
  {
   "cell_type": "markdown",
   "metadata": {},
   "source": [
    "## How to combine plot files to a movie (video file)\n",
    "\n",
    "We now have a lot of files:"
   ]
  },
  {
   "cell_type": "markdown",
   "metadata": {},
   "source": [
    "        tmp_0000.png  tmp_0001.png  tmp_0002.png ...\n"
   ]
  },
  {
   "cell_type": "markdown",
   "metadata": {},
   "source": [
    "We use some program to combine these files to a video file:\n",
    "\n",
    " * `convert` for animted GIF format (if just a few plot files)\n",
    "\n",
    " * `ffmpeg` (or `avconv`) for MP4, WebM, Ogg, and Flash formats\n",
    "\n",
    "\n",
    "\n",
    "## Make and play animated GIF file\n",
    "\n",
    "Tool: `convert` from the ImageMagick software suite.\n",
    "\n",
    "Unix command:"
   ]
  },
  {
   "cell_type": "markdown",
   "metadata": {},
   "source": [
    "        Terminal> convert -delay 50 tmp_*.png movie.gif\n"
   ]
  },
  {
   "cell_type": "markdown",
   "metadata": {},
   "source": [
    "Delay: 50/100 s, i.e., 0.5 s between each frame.\n",
    "\n",
    "Play animated GIF file with `animate` from ImageMagick:"
   ]
  },
  {
   "cell_type": "markdown",
   "metadata": {},
   "source": [
    "        Terminal> animate movie.gif\n"
   ]
  },
  {
   "cell_type": "markdown",
   "metadata": {},
   "source": [
    "or insert this HTML code in some file `tmp.html` loaded into a browser:"
   ]
  },
  {
   "cell_type": "markdown",
   "metadata": {},
   "source": [
    "        <img src=\"movie.gif\">\n"
   ]
  },
  {
   "cell_type": "markdown",
   "metadata": {},
   "source": [
    "## Making MP4, Ogg, WebM, or Flash videos\n",
    "\n",
    "Tool: `ffmpeg` or `avconv`"
   ]
  },
  {
   "cell_type": "markdown",
   "metadata": {},
   "source": [
    "        Terminal> ffmpeg -r 5 -i tmp_%04d.png -vcodec flv movie.flv\n"
   ]
  },
  {
   "cell_type": "markdown",
   "metadata": {},
   "source": [
    "where\n",
    "\n",
    "  * `-r 5` specifies 5 frames per second\n",
    "\n",
    "  * `-i tmp_%04d.png` specifies filenames \n",
    "    (`tmp_0000.png`, `tmp_0001.png`, ...)\n",
    "\n",
    "Different formats apply different codecs (`-vcodec`) and\n",
    "video filenamet extensions:\n",
    "\n",
    "<!-- Add vertical space -->\n",
    "\n",
    "\n",
    "<table border=\"1\">\n",
    "<thead>\n",
    "<tr><th align=\"center\">Format</th> <th align=\"center\">      Codec and filename     </th> </tr>\n",
    "</thead>\n",
    "<tbody>\n",
    "<tr><td align=\"left\">   Flash     </td> <td align=\"left\">   <code>-vcodec flv movie.flv</code>          </td> </tr>\n",
    "<tr><td align=\"left\">   MP4       </td> <td align=\"left\">   <code>-vcodec libx264 movie.mp4</code>      </td> </tr>\n",
    "<tr><td align=\"left\">   Webm      </td> <td align=\"left\">   <code>-vcodec libvpx movie.webm</code>      </td> </tr>\n",
    "<tr><td align=\"left\">   Ogg       </td> <td align=\"left\">   <code>-vcodec libtheora movie.ogg</code>    </td> </tr>\n",
    "</tbody>\n",
    "</table>\n",
    "\n",
    "\n",
    "\n",
    "## How to play movie files in general (with vlc)"
   ]
  },
  {
   "cell_type": "markdown",
   "metadata": {},
   "source": [
    "        Terminal> vlc movie.flv\n",
    "        Terminal> vlc movie.ogg\n",
    "        Terminal> vlc movie.webm\n",
    "        Terminal> vlc movie.mp4\n"
   ]
  },
  {
   "cell_type": "markdown",
   "metadata": {},
   "source": [
    "Other players (on Linux) are `mplayer`, `totem`, ...\n",
    "\n",
    "\n",
    "\n",
    "## HTML PNG file player"
   ]
  },
  {
   "cell_type": "markdown",
   "metadata": {},
   "source": [
    "        Terminal> scitools movie output_file=mymovie.html fps=4 tmp_*.png\n"
   ]
  },
  {
   "cell_type": "markdown",
   "metadata": {},
   "source": [
    "makes a player of `tmp_*.png` files in a file `mymovie.html`\n",
    "(load into a web browser)\n",
    "\n",
    "\n",
    "\n",
    "## It is possible to plot curves in pure text (!)\n",
    "\n",
    "  * Plots are stored in image files of type PDF and PNG\n",
    "\n",
    "  * Sometimes you want a plot to be included in your program,\n",
    "    e.g., to prove that the curve looks right in a compulsory exercise where only the program (and not a nicely typeset report) is submitted\n",
    "\n",
    "  * `scitools.aplotter` can then be used for drawing primitive curves in pure text (ASCII) format"
   ]
  },
  {
   "cell_type": "markdown",
   "metadata": {},
   "source": [
    "Try these statements out!\n",
    "\n",
    "\n",
    "\n",
    "## Let's try to plot a discontinuous function\n",
    "\n",
    "\n",
    "The Heaviside function is frequently used in science and engineering:"
   ]
  },
  {
   "cell_type": "markdown",
   "metadata": {},
   "source": [
    "$$\n",
    "H(x) = \\left\\lbrace\\begin{array}{ll}\n",
    "0, & x<0\\\\\n",
    "1, & x\\geq 0\n",
    "\\end{array}\\right.\n",
    "$$"
   ]
  },
  {
   "cell_type": "markdown",
   "metadata": {},
   "source": [
    "Python implementation:"
   ]
  },
  {
   "cell_type": "code",
   "execution_count": null,
   "metadata": {},
   "outputs": [],
   "source": [
    "def H(x):\n",
    "    return (0 if x < 0 else 1)"
   ]
  },
  {
   "cell_type": "markdown",
   "metadata": {},
   "source": [
    "<!-- dom:FIGURE: [https://raw.githubusercontent.com/hplgit/scipro-primer/master/slides/plot/html/fig-plot/Heaviside3.png, width=300 frac=0.5] -->\n",
    "<!-- begin figure -->\n",
    "\n",
    "<p></p>\n",
    "<img src=\"https://raw.githubusercontent.com/hplgit/scipro-primer/master/slides/plot/html/fig-plot/Heaviside3.png\" width=300>\n",
    "\n",
    "<!-- end figure -->\n",
    "\n",
    "\n",
    "## Plotting the Heaviside function: first try\n",
    "\n",
    "**Standard approach:**"
   ]
  },
  {
   "cell_type": "code",
   "execution_count": null,
   "metadata": {},
   "outputs": [],
   "source": [
    "x = linspace(-10, 10, 5)  # few points (simple curve)\n",
    "y = H(x)\n",
    "plot(x, y)"
   ]
  },
  {
   "cell_type": "markdown",
   "metadata": {},
   "source": [
    "First problem: `ValueError` error in `H(x)` from `if x < 0`\n",
    "\n",
    "Let us debug in an interactive shell:"
   ]
  },
  {
   "cell_type": "code",
   "execution_count": null,
   "metadata": {},
   "outputs": [],
   "source": [
    "x = linspace(-10,10,5)\n",
    "x"
   ]
  },
  {
   "cell_type": "code",
   "execution_count": null,
   "metadata": {},
   "outputs": [],
   "source": [
    "b = x < 0\n",
    "b"
   ]
  },
  {
   "cell_type": "code",
   "execution_count": null,
   "metadata": {},
   "outputs": [],
   "source": [
    "bool(b)  # evaluate b in a boolean context"
   ]
  },
  {
   "cell_type": "markdown",
   "metadata": {},
   "source": [
    "## `if x < 0` does not work if `x` is array\n",
    "\n",
    "**Remedy 1: use a loop over `x` values.**"
   ]
  },
  {
   "cell_type": "code",
   "execution_count": null,
   "metadata": {},
   "outputs": [],
   "source": [
    "def H_loop(x):\n",
    "    r = zeros(len(x))  # or r = x.copy()\n",
    "#rb:    for i in xrange(len(x)):\n",
    "#rb: xrange -> arange\n",
    "    for i in arange(len(x)):\n",
    "        r[i] = H(x[i])\n",
    "    return r\n",
    "\n",
    "n = 5\n",
    "x = linspace(-5, 5, n+1)\n",
    "y = H_loop(x)"
   ]
  },
  {
   "cell_type": "markdown",
   "metadata": {},
   "source": [
    "Downside: much to write, slow code if `n` is large\n",
    "\n",
    "\n",
    "\n",
    "## `if x < 0` does not work if `x` is array\n",
    "\n",
    "**Remedy 2: use `vectorize`.**"
   ]
  },
  {
   "cell_type": "code",
   "execution_count": null,
   "metadata": {},
   "outputs": [],
   "source": [
    "from numpy import vectorize\n",
    "\n",
    "# Automatic vectorization of function H\n",
    "Hv = vectorize(H)\n",
    "# Hv(x) works with array x"
   ]
  },
  {
   "cell_type": "markdown",
   "metadata": {},
   "source": [
    "Downside: The resulting function is as slow as Remedy 1\n",
    "\n",
    "\n",
    "\n",
    "## `if x < 0` does not work if `x` is array\n",
    "\n",
    "**Remedy 3: code the `if` test differently.**"
   ]
  },
  {
   "cell_type": "code",
   "execution_count": null,
   "metadata": {},
   "outputs": [],
   "source": [
    "def Hv(x):\n",
    "    return where(x < 0, 0.0, 1.0)"
   ]
  },
  {
   "cell_type": "markdown",
   "metadata": {},
   "source": [
    "**More generally:**"
   ]
  },
  {
   "cell_type": "markdown",
   "metadata": {},
   "source": [
    "```Python\n",
    "        def f(x):\n",
    "            if condition:\n",
    "                x = <expression1>\n",
    "            else:\n",
    "                x = <expression2>\n",
    "            return x\n",
    "        \n",
    "        def f_vectorized(x):\n",
    "        def f_vectorized(x):\n",
    "            x1 = <expression1>\n",
    "            x2 = <expression2>\n",
    "            r = np.where(condition, x1, x2)\n",
    "            return r\n",
    "```"
   ]
  },
  {
   "cell_type": "markdown",
   "metadata": {},
   "source": [
    "## Back to plotting the Heaviside function"
   ]
  },
  {
   "cell_type": "code",
   "execution_count": null,
   "metadata": {},
   "outputs": [],
   "source": [
    "#rb: not supported\n",
    "# Make next plot command ready\n",
    "from scitools.std import *"
   ]
  },
  {
   "cell_type": "markdown",
   "metadata": {},
   "source": [
    "With a vectorized `Hv(x)` function we can plot in the standard way"
   ]
  },
  {
   "cell_type": "code",
   "execution_count": null,
   "metadata": {},
   "outputs": [],
   "source": [
    "x = linspace(-10, 10, 5)   # linspace(-10, 10, 50)\n",
    "y = Hv(x)\n",
    "#rb: plot(x, y, axis=[x[0], x[-1], -0.1, 1.1])\n",
    "fig = plt.figure(figno,figsize=(4,3), dpi = 136)\n",
    "ax = fig.add_subplot(111)\n",
    "ax.plot(x, y)\n",
    "ax.axis=[x[0], x[-1], -0.1, 1.1]\n",
    "plt.show()"
   ]
  },
  {
   "cell_type": "markdown",
   "metadata": {},
   "source": [
    "<!-- dom:FIGURE: [https://raw.githubusercontent.com/hplgit/scipro-primer/master/slides/plot/html/fig-plot/Heaviside2.png, width=300 frac=0.5] -->\n",
    "<!-- begin figure -->\n",
    "\n",
    "<p></p>\n",
    "<img src=\"https://raw.githubusercontent.com/hplgit/scipro-primer/master/slides/plot/html/fig-plot/Heaviside2.png\" width=300>\n",
    "\n",
    "<!-- end figure -->\n",
    "\n",
    "\n",
    "## How to make the function look discontinuous in the plot?\n",
    "\n",
    "  * Newbie: use a lot of $x$ points; the curve gets steeper\n",
    "\n",
    "  * Pro: plot just two horizontal line segments\n",
    "    one from $x=-10$ to $x=0$, $y=0$; and one from $x=0$ to $x=10$, $y=1$"
   ]
  },
  {
   "cell_type": "code",
   "execution_count": null,
   "metadata": {},
   "outputs": [],
   "source": [
    "#rb: plot([-10, 0, 0, 10], [0, 0, 1, 1],\n",
    "#rb:      axis=[x[0], x[-1], -0.1, 1.1])\n",
    "fig = plt.figure(figno,figsize=(4,3), dpi = 136)\n",
    "ax = fig.add_subplot(111)\n",
    "ax.plot([-10, 0, 0, 10], [0, 0, 1, 1])\n",
    "ax.axis=[x[0], x[-1], -0.1, 1.1]"
   ]
  },
  {
   "cell_type": "markdown",
   "metadata": {},
   "source": [
    "Draws straight lines between $(-10,0)$, $(0,0)$, $(0,1)$, $(10, 1)$\n",
    "\n",
    "\n",
    "\n",
    "## The final plot of the discontinuous Heaviside function\n",
    "\n",
    "<!-- dom:FIGURE: [https://raw.githubusercontent.com/hplgit/scipro-primer/master/slides/plot/html/fig-plot/Heaviside.png, width=600 frac=0.9] -->\n",
    "<!-- begin figure -->\n",
    "\n",
    "<p></p>\n",
    "<img src=\"https://raw.githubusercontent.com/hplgit/scipro-primer/master/slides/plot/html/fig-plot/Heaviside.png\" width=600>\n",
    "\n",
    "<!-- end figure -->\n",
    "\n",
    "\n",
    "## Removing the vertical jump from the plot\n",
    "\n",
    "**Question.**\n",
    "\n",
    "Some will argue and say that at high school they would draw $H(x)$ as two horizontal lines *without* the vertical line at $x=0$, illustrating the jump.\n",
    "How can we plot such a curve?\n",
    "\n",
    "\n",
    "\n",
    "<!-- Plot two curves, each corresponding to x < 0 and x > 0 -->\n",
    "\n",
    "## Some functions are challenging to visualize\n",
    "\n",
    "**Plot $f(x) = \\sin (1/x)$.**"
   ]
  },
  {
   "cell_type": "code",
   "execution_count": null,
   "metadata": {},
   "outputs": [],
   "source": [
    "#rb: not supported\n",
    "def f(x):\n",
    "    return sin(1.0/x)\n",
    "\n",
    "x1 = linspace(-1, 1, 10)    # use 10 points\n",
    "x2 = linspace(-1, 1, 1000)  # use 1000 points\n",
    "plot(x1, f(x1), label='%d points' % len(x))\n",
    "plot(x2, f(x2), label='%d points' % len(x))"
   ]
  },
  {
   "cell_type": "code",
   "execution_count": null,
   "metadata": {},
   "outputs": [],
   "source": [
    "#rb: translated to non-scitools\n",
    "def f(x):\n",
    "    return sin(1.0/x)\n",
    "\n",
    "x1 = linspace(-1, 1, 10)    # use 10 points\n",
    "x2 = linspace(-1, 1, 1000)  # use 1000 points\n",
    "\n",
    "fig = plt.figure(figno,figsize=(4,3), dpi = 136)\n",
    "ax = fig.add_subplot(111)\n",
    "\n",
    "ax.plot(x2, f(x2), label='%d points' % len(x2))\n",
    "ax.plot(x1, f(x1), label='%d points' % len(x1))\n",
    "ax.legend()\n",
    "plt.show()"
   ]
  },
  {
   "cell_type": "markdown",
   "metadata": {},
   "source": [
    "## Plot based on 10 points\n",
    "\n",
    "<!-- dom:FIGURE: [https://raw.githubusercontent.com/hplgit/scipro-primer/master/slides/plot/html/fig-plot/sin1overx1.png, width=480 frac=0.8] -->\n",
    "<!-- begin figure -->\n",
    "\n",
    "<p></p>\n",
    "<img src=\"https://raw.githubusercontent.com/hplgit/scipro-primer/master/slides/plot/html/fig-plot/sin1overx1.png\" width=480>\n",
    "\n",
    "<!-- end figure -->\n",
    "\n",
    "\n",
    "## Plot based on 1000 points\n",
    "\n",
    "<!-- dom:FIGURE: [https://raw.githubusercontent.com/hplgit/scipro-primer/master/slides/plot/html/fig-plot/sin1overx2.png, width=480 frac=0.8] -->\n",
    "<!-- begin figure -->\n",
    "\n",
    "<p></p>\n",
    "<img src=\"https://raw.githubusercontent.com/hplgit/scipro-primer/master/slides/plot/html/fig-plot/sin1overx2.png\" width=480>\n",
    "\n",
    "<!-- end figure -->\n",
    "\n",
    "\n",
    "## Assignment of an array does not copy the elements!"
   ]
  },
  {
   "cell_type": "code",
   "execution_count": null,
   "metadata": {},
   "outputs": [],
   "source": [
    "x = linspace(0, 10, 11)    # use 11 points\n",
    "print(x)\n",
    "a = x\n",
    "a[-1] = 1000\n",
    "print(x)"
   ]
  },
  {
   "cell_type": "markdown",
   "metadata": {},
   "source": [
    "Is `x[-1]` also changed to 1000?\n",
    "Yes, because `a` refers to the same array as `x`.\n",
    "\n",
    "\n",
    "Avoid changing `x` by letting `a` be a copy of `x`:"
   ]
  },
  {
   "cell_type": "code",
   "execution_count": null,
   "metadata": {},
   "outputs": [],
   "source": [
    "a = x.copy()"
   ]
  },
  {
   "cell_type": "markdown",
   "metadata": {},
   "source": [
    "The same yields slices:"
   ]
  },
  {
   "cell_type": "code",
   "execution_count": null,
   "metadata": {},
   "outputs": [],
   "source": [
    "r = 3\n",
    "x = linspace(0, 10, 11)    # use 11 points\n",
    "\n",
    "a = x[r:]      # a refers to a part of the x array\n",
    "a[-1] = 1000   # changes x[-1]!\n",
    "print(x)\n",
    "\n",
    "x = linspace(0, 10, 11)    # use 11 points\n",
    "a = x[r:].copy()\n",
    "a[-1] = 1000   # does not change x[-1]\n",
    "print(x)"
   ]
  },
  {
   "cell_type": "markdown",
   "metadata": {},
   "source": [
    "## In-place array arithmetics\n",
    "\n",
    "The two following statements are mathematically equivalent:"
   ]
  },
  {
   "cell_type": "markdown",
   "metadata": {},
   "source": [
    "```Python\n",
    "        a = a + b    # a and b are arrays\n",
    "        a += b\n",
    "```"
   ]
  },
  {
   "cell_type": "markdown",
   "metadata": {},
   "source": [
    "However,\n",
    "\n",
    "  * `a = a + b` is computed as (extra array needed)\n",
    "\n",
    "   a. `r1 = a + b`\n",
    "\n",
    "   b. `a = r1`\n",
    "\n",
    "\n",
    "  * `a += b` is computed as `a[i] += b[i]` for `i` in all indices (i.e., not extra array)\n",
    "\n",
    "  * `a += b` is an *in-place* addition, because we change each element *in* `a`, rather than letting the name `a` refer to a new array, the result of `a+b`\n",
    "\n",
    "\n",
    "\n",
    "## In-place array arithmetics can save memory demands\n",
    "\n",
    "Consider"
   ]
  },
  {
   "cell_type": "code",
   "execution_count": null,
   "metadata": {},
   "outputs": [],
   "source": [
    "a = (3*x**4 + 2*x + 4)/(x + 1)"
   ]
  },
  {
   "cell_type": "markdown",
   "metadata": {},
   "source": [
    "Here are the actual computations in the computer:"
   ]
  },
  {
   "cell_type": "code",
   "execution_count": null,
   "metadata": {},
   "outputs": [],
   "source": [
    "r1 = x**4;  r2 = 3*r1;  r3 = 2*x;  r4 = r1 + r3\n",
    "r5 = r4 + 4;  r6 = x + 1; r7 = r5/r6; a = r7"
   ]
  },
  {
   "cell_type": "markdown",
   "metadata": {},
   "source": [
    "With in-place arithmetics we can save four extra arrays,\n",
    "though at the cost of much less readable code:"
   ]
  },
  {
   "cell_type": "code",
   "execution_count": null,
   "metadata": {},
   "outputs": [],
   "source": [
    "a = x.copy()\n",
    "a **= 4\n",
    "a *= 3\n",
    "a += 2*x\n",
    "a += 4\n",
    "a /= x + 1"
   ]
  },
  {
   "cell_type": "markdown",
   "metadata": {},
   "source": [
    "## In-place arithmetics only saves memory, no significant speed-up\n",
    "\n",
    "Let's use IPython to measure the computational time:"
   ]
  },
  {
   "cell_type": "code",
   "execution_count": null,
   "metadata": {},
   "outputs": [],
   "source": [
    "def expression(x):\n",
    "    return (3*x**4 + 2*x + 4)/(x + 1)"
   ]
  },
  {
   "cell_type": "code",
   "execution_count": null,
   "metadata": {},
   "outputs": [],
   "source": [
    "def expression_inplace(x):\n",
    "    a = x.copy()\n",
    "    a **= 4\n",
    "    a *= 3\n",
    "    a += 2*x\n",
    "    a += 4\n",
    "    a /= x + 1\n",
    "    return a"
   ]
  },
  {
   "cell_type": "code",
   "execution_count": null,
   "metadata": {},
   "outputs": [],
   "source": [
    "import numpy as np"
   ]
  },
  {
   "cell_type": "code",
   "execution_count": null,
   "metadata": {},
   "outputs": [],
   "source": [
    "x = np.linspace(0, 1, 10000000)"
   ]
  },
  {
   "cell_type": "code",
   "execution_count": null,
   "metadata": {},
   "outputs": [],
   "source": [
    "%timeit  expression(x)"
   ]
  },
  {
   "cell_type": "code",
   "execution_count": null,
   "metadata": {},
   "outputs": [],
   "source": [
    "%timeit  expression_inplace(x)"
   ]
  },
  {
   "cell_type": "markdown",
   "metadata": {},
   "source": [
    "Only 5% speed-up, so use `+=`, `-=`, etc. when arrays are large and\n",
    "you need to save memory\n",
    "\n",
    "\n",
    "\n",
    "## Useful array operations\n",
    "\n",
    "Make a new array with same size as another array:"
   ]
  },
  {
   "cell_type": "code",
   "execution_count": null,
   "metadata": {},
   "outputs": [],
   "source": [
    "from numpy import *\n",
    "\n",
    "# x is numpy array\n",
    "a = x.copy()\n",
    "\n",
    "# or\n",
    "a = zeros(x.shape, x.dtype)\n",
    "\n",
    "# or\n",
    "a = zeros_like(x)  # zeros and same size as x"
   ]
  },
  {
   "cell_type": "markdown",
   "metadata": {},
   "source": [
    "Make sure a list or array is an array:"
   ]
  },
  {
   "cell_type": "markdown",
   "metadata": {},
   "source": [
    "```Python\n",
    "        a = asarray(a)\n",
    "        b = asarray(somearray, dtype=float)  # specify data type\n",
    "```"
   ]
  },
  {
   "cell_type": "markdown",
   "metadata": {},
   "source": [
    "Test if an object is an array:"
   ]
  },
  {
   "cell_type": "code",
   "execution_count": null,
   "metadata": {},
   "outputs": [],
   "source": [
    "type(a)"
   ]
  },
  {
   "cell_type": "code",
   "execution_count": null,
   "metadata": {},
   "outputs": [],
   "source": [
    "isinstance(a, ndarray)"
   ]
  },
  {
   "cell_type": "markdown",
   "metadata": {},
   "source": [
    "## Example: vectorizing a constant function"
   ]
  },
  {
   "cell_type": "code",
   "execution_count": null,
   "metadata": {},
   "outputs": [],
   "source": [
    "def f(x):\n",
    "    return 2"
   ]
  },
  {
   "cell_type": "markdown",
   "metadata": {},
   "source": [
    "Vectorized version must return array of 2's:"
   ]
  },
  {
   "cell_type": "code",
   "execution_count": null,
   "metadata": {},
   "outputs": [],
   "source": [
    "def fv(x):\n",
    "    return zeros(x.shape, x.dtype) + 2"
   ]
  },
  {
   "cell_type": "markdown",
   "metadata": {},
   "source": [
    "New version valid both for scalar and array `x`:"
   ]
  },
  {
   "cell_type": "code",
   "execution_count": null,
   "metadata": {},
   "outputs": [],
   "source": [
    "def f(x):\n",
    "    if isinstance(x, (float, int)):\n",
    "        return 2\n",
    "    elif isinstance(x, ndarray):\n",
    "        return zeros(x.shape, x.dtype) + 2\n",
    "    else:\n",
    "        raise TypeError(\n",
    "           'x must be int/float/ndarray, not %s' % type(x))"
   ]
  },
  {
   "cell_type": "markdown",
   "metadata": {},
   "source": [
    "## Generalized array indexing\n",
    "\n",
    "Recall slicing: `a[f:t:i]`, where the slice `f:t:i` implies a set of indices\n",
    "(from, to, increment).\n",
    "\n",
    "Any integer list or array can be used to indicate a set of indices:"
   ]
  },
  {
   "cell_type": "code",
   "execution_count": null,
   "metadata": {},
   "outputs": [],
   "source": [
    "a = linspace(1, 8, 8)\n",
    "a"
   ]
  },
  {
   "cell_type": "code",
   "execution_count": null,
   "metadata": {},
   "outputs": [],
   "source": [
    "a[[1,6,7]] = 10\n",
    "a"
   ]
  },
  {
   "cell_type": "code",
   "execution_count": null,
   "metadata": {},
   "outputs": [],
   "source": [
    "a[range(2,8,3)] = -2   # same as a[2:8:3] = -2\n",
    "a"
   ]
  },
  {
   "cell_type": "markdown",
   "metadata": {},
   "source": [
    "## Generalized array indexing with boolean expressions"
   ]
  },
  {
   "cell_type": "code",
   "execution_count": null,
   "metadata": {},
   "outputs": [],
   "source": [
    "a < 0"
   ]
  },
  {
   "cell_type": "code",
   "execution_count": null,
   "metadata": {},
   "outputs": [],
   "source": [
    "a[a < 0]           # pick out all negative elements"
   ]
  },
  {
   "cell_type": "code",
   "execution_count": null,
   "metadata": {},
   "outputs": [],
   "source": [
    "a[a < 0] = a.max() # if a[i]<10, set a[i]=10\n",
    "a"
   ]
  },
  {
   "cell_type": "markdown",
   "metadata": {},
   "source": [
    "## Two-dimensional arrays; math intro\n",
    "\n",
    "When we have a table of numbers,"
   ]
  },
  {
   "cell_type": "markdown",
   "metadata": {},
   "source": [
    "$$\n",
    "\\left\\lbrack\\begin{array}{cccc}\n",
    "0 & 12 & -1 & 5\\\\\n",
    "-1 & -1 & -1 & 0\\\\\n",
    "11 & 5 & 5 & -2\n",
    "\\end{array}\\right\\rbrack\n",
    "$$"
   ]
  },
  {
   "cell_type": "markdown",
   "metadata": {},
   "source": [
    "(called *matrix* by mathematicians) it is natural to use a two-dimensional array $A_{i,j}$ with one index for the rows and one for the columns:"
   ]
  },
  {
   "cell_type": "markdown",
   "metadata": {},
   "source": [
    "$$\n",
    "A =\n",
    "\\left\\lbrack\\begin{array}{ccc}\n",
    "A_{0,0} & \\cdots &  A_{0,n-1}\\\\\n",
    "\\vdots & \\ddots &  \\vdots\\\\\n",
    "A_{m-1,0} & \\cdots & A_{m-1,n-1}\n",
    "\\end{array}\\right\\rbrack\n",
    "$$"
   ]
  },
  {
   "cell_type": "markdown",
   "metadata": {},
   "source": [
    "## Two-dimensional arrays; Python code\n",
    "\n",
    "Making and filling a two-dimensional NumPy array goes like this:"
   ]
  },
  {
   "cell_type": "code",
   "execution_count": null,
   "metadata": {},
   "outputs": [],
   "source": [
    "A = zeros((3,4))   # 3x4 table of numbers\n",
    "A[0,0] = -1\n",
    "A[1,0] =  1\n",
    "A[2,0] = 10\n",
    "A[0,1] = -5\n",
    "A[2,3] = -100\n",
    "\n",
    "# can also write (as for nested lists)\n",
    "A[2][3] = -100"
   ]
  },
  {
   "cell_type": "markdown",
   "metadata": {},
   "source": [
    "## From nested list to two-dimensional array\n",
    "\n",
    "Let us make a table of numbers in a nested list:"
   ]
  },
  {
   "cell_type": "code",
   "execution_count": null,
   "metadata": {},
   "outputs": [],
   "source": [
    "Cdegrees = [-30 + i*10 for i in range(3)]\n",
    "Fdegrees = [9./5*C + 32 for C in Cdegrees]\n",
    "table = [[C, F] for C, F in zip(Cdegrees, Fdegrees)]\n",
    "print (table)"
   ]
  },
  {
   "cell_type": "markdown",
   "metadata": {},
   "source": [
    "Turn into NumPy array:"
   ]
  },
  {
   "cell_type": "code",
   "execution_count": null,
   "metadata": {},
   "outputs": [],
   "source": [
    "table2 = array(table)\n",
    "print (table2)"
   ]
  },
  {
   "cell_type": "markdown",
   "metadata": {},
   "source": [
    "## How to loop over two-dimensional arrays"
   ]
  },
  {
   "cell_type": "code",
   "execution_count": null,
   "metadata": {},
   "outputs": [],
   "source": [
    "table2.shape   # see the number of elements in each dir."
   ]
  },
  {
   "cell_type": "markdown",
   "metadata": {},
   "source": [
    "A for loop over all array elements:"
   ]
  },
  {
   "cell_type": "code",
   "execution_count": null,
   "metadata": {},
   "outputs": [],
   "source": [
    "for i in range(table2.shape[0]):\n",
    "    for j in range(table2.shape[1]):\n",
    "        print ('table2[%d,%d] = %g' % (i, j, table2[i,j]))"
   ]
  },
  {
   "cell_type": "markdown",
   "metadata": {},
   "source": [
    "Alternative single loop over all elements:"
   ]
  },
  {
   "cell_type": "code",
   "execution_count": null,
   "metadata": {},
   "outputs": [],
   "source": [
    "for index_tuple, value in np.ndenumerate(table2):\n",
    "    print ('index %s has value %g' % \\\n",
    "          (index_tuple, table2[index_tuple]))"
   ]
  },
  {
   "cell_type": "code",
   "execution_count": null,
   "metadata": {},
   "outputs": [],
   "source": [
    "type(index_tuple)"
   ]
  },
  {
   "cell_type": "markdown",
   "metadata": {},
   "source": [
    "## How to take slices of two-dimensional arrays\n",
    "\n",
    "Rule: can use slices `start:stop:inc` for each index"
   ]
  },
  {
   "cell_type": "code",
   "execution_count": null,
   "metadata": {},
   "outputs": [],
   "source": [
    "table2[0:, 1]             # same"
   ]
  },
  {
   "cell_type": "code",
   "execution_count": null,
   "metadata": {},
   "outputs": [],
   "source": [
    "table2[:, 1]              # same"
   ]
  },
  {
   "cell_type": "code",
   "execution_count": null,
   "metadata": {},
   "outputs": [],
   "source": [
    "t = linspace(1, 30, 30).reshape(5, 6)\n",
    "t[1:-1:2, 2:]"
   ]
  },
  {
   "cell_type": "code",
   "execution_count": null,
   "metadata": {},
   "outputs": [],
   "source": [
    "t"
   ]
  },
  {
   "cell_type": "markdown",
   "metadata": {},
   "source": [
    "## Time for a question\n",
    "\n",
    "**Problem:**\n",
    "\n",
    "Given"
   ]
  },
  {
   "cell_type": "code",
   "execution_count": null,
   "metadata": {},
   "outputs": [],
   "source": [
    "t"
   ]
  },
  {
   "cell_type": "markdown",
   "metadata": {},
   "source": [
    "What will `t[1:-1:2, 2:]` be?\n",
    "\n",
    "\n",
    "\n",
    "**Solution:**\n",
    "\n",
    "Slice `1:-1:2` for first index results in"
   ]
  },
  {
   "cell_type": "code",
   "execution_count": null,
   "metadata": {},
   "outputs": [],
   "source": [
    "[  7.,   8.,   9.,  10.,  11.,  12.]\n",
    "[ 19.,  20.,  21.,  22.,  23.,  24.]"
   ]
  },
  {
   "cell_type": "markdown",
   "metadata": {},
   "source": [
    "Slice `2:` for the second index then gives"
   ]
  },
  {
   "cell_type": "code",
   "execution_count": null,
   "metadata": {},
   "outputs": [],
   "source": [
    "[  9.,  10.,  11.,  12.]\n",
    "[ 21.,  22.,  23.,  24.]"
   ]
  },
  {
   "cell_type": "markdown",
   "metadata": {},
   "source": [
    "## Summary of vectors and arrays\n",
    "\n",
    "  * Vector/array computing: apply a mathematical expression to every element in the vector/array (no loops in Python)\n",
    "\n",
    "  * Ex: `sin(x**4)*exp(-x**2)`, `x` can be array or scalar\n",
    "    for array the `i`'th element becomes `sin(x[i]**4)*exp(-x[i]**2)`\n",
    "\n",
    "  * Vectorization: make scalar mathematical computation valid for vectors/arrays\n",
    "\n",
    "  * Pure mathematical expressions require no extra vectorization\n",
    "\n",
    "  * Mathematical formulas involving `if` tests require manual work for vectorization:"
   ]
  },
  {
   "cell_type": "markdown",
   "metadata": {},
   "source": [
    "```Python\n",
    "        scalar_result = expression1 if condition else expression2\n",
    "        vector_result = where(condition, expression1, expression2)\n",
    "```"
   ]
  },
  {
   "cell_type": "markdown",
   "metadata": {},
   "source": [
    "## Summary of plotting $y=f(x)$ curves\n",
    "\n",
    "Curve plotting (unified syntax for Matplotlib and SciTools):"
   ]
  },
  {
   "cell_type": "code",
   "execution_count": null,
   "metadata": {},
   "outputs": [],
   "source": [
    "#rb: not supported\n",
    "from matplotlib.pyplot import *\n",
    "#from scitools.std import *\n",
    "\n",
    "# Make some data first\n",
    "from numpy import *\n",
    "x = linspace(0, 4*pi, 501)\n",
    "y = exp(-0.1*x)*sin(x)\n",
    "t1 = x\n",
    "y1 = t1/t1[-1]\n",
    "t2 = x[0::20]  # every 20th element in x\n",
    "y2 = exp(-0.1*t2)*cos(t2)\n",
    "t3 = t2\n",
    "y3 = sin(0.1*t3)\n",
    "\n",
    "# Plot\n",
    "\n",
    "plot(x, y)         # simplest command\n",
    "\n",
    "plot(t1, y1, 'r',  # curve 1, red line\n",
    "     t2, y2, 'b',  # curve 2, blue line\n",
    "     t3, y3, 'o')  # curve 3, circles at data points\n",
    "axis([t1[0], t1[-1], -1.1, 1.1])\n",
    "legend(['model 1', 'model 2', 'measurements'])\n",
    "xlabel('time');  ylabel('force')\n",
    "savefig('myframe_%04d.png' % plot_counter)"
   ]
  },
  {
   "cell_type": "code",
   "execution_count": null,
   "metadata": {},
   "outputs": [],
   "source": [
    "#rb: not supported\n",
    "from matplotlib.pyplot import *\n",
    "#from scitools.std import *\n",
    "\n",
    "# Make some data first\n",
    "from numpy import *\n",
    "x = linspace(0, 4*pi, 501)\n",
    "y = exp(-0.1*x)*sin(x)\n",
    "t1 = x\n",
    "y1 = t1/t1[-1]\n",
    "t2 = x[0::20]  # every 20th element in x\n",
    "y2 = exp(-0.1*t2)*cos(t2)\n",
    "t3 = t2\n",
    "y3 = sin(0.1*t3)\n",
    "\n",
    "# Plot\n",
    "\n",
    "fig = plt.figure(figno,figsize=(4,3), dpi = 136)\n",
    "ax = fig.add_subplot(111)\n",
    "\n",
    "#ax.plot(x, y)         # simplest command\n",
    "\n",
    "ax.plot(t1, y1, 'r', label = \"model 1\") # curve 1, red line\n",
    "ax.plot(t2, y2, 'b', label = \"model 2\") # curve 2, blue line\n",
    "ax.plot(t3, y3, 'o', label = \"measurements\")  # curve 3, circles at data points\n",
    "\n",
    "ax.axis([t1[0], t1[-1], -1.1, 1.1])\n",
    "ax.legend()\n",
    "ax.set_xlabel('time')\n",
    "ax.set_ylabel('force')\n",
    "\n",
    "plot_counter = 333\n",
    "\n",
    "savefig('myframe_%04d.png' % plot_counter)"
   ]
  },
  {
   "cell_type": "markdown",
   "metadata": {},
   "source": [
    "Note: straight lines are drawn between each data point\n",
    "\n",
    "\n",
    "\n",
    "## Alternativ plotting of $y=f(x)$ curves\n",
    "\n",
    "Single SciTools `plot` command with keyword arguments:"
   ]
  },
  {
   "cell_type": "code",
   "execution_count": null,
   "metadata": {},
   "outputs": [],
   "source": [
    "#rb: not supported\n",
    "from scitools.std import *\n",
    "\n",
    "plot(t1, y1, 'r',  # curve 1, red line\n",
    "     t2, y2, 'b',  # curve 2, blue line\n",
    "     t3, y3, 'o',  # curve 3, circles at data points\n",
    "     axis=[t1[0], t1[-1], -1.1, 1.1],\n",
    "     legend=('model 1', 'model 2', 'measurements'),\n",
    "     xlabel='time', ylabel='force',\n",
    "     savefig='myframe_%04d.png' % plot_counter)"
   ]
  },
  {
   "cell_type": "markdown",
   "metadata": {},
   "source": [
    "## Summary of making animations\n",
    "\n",
    " * Make a hardcopy of each plot frame (PNG or PDF format)\n",
    "\n",
    " * Use `avconv` or `ffmpeg` to make movie"
   ]
  },
  {
   "cell_type": "markdown",
   "metadata": {},
   "source": [
    "        Terminal> avconv -r 5 -i tmp_%04d.png -vcodec flv movie.flv\n"
   ]
  },
  {
   "cell_type": "markdown",
   "metadata": {},
   "source": [
    "## Array functionality\n",
    "\n",
    "<table border=\"1\">\n",
    "<thead>\n",
    "<tr><th align=\"center\">       Construction      </th> <th align=\"center\">                         Meaning                         </th> </tr>\n",
    "</thead>\n",
    "<tbody>\n",
    "<tr><td align=\"left\">   <code>array(ld)</code>                  </td> <td align=\"left\">   copy list data <code>ld</code> to a <code>numpy</code> array                       </td> </tr>\n",
    "<tr><td align=\"left\">   <code>asarray(d)</code>                 </td> <td align=\"left\">   make array of data <code>d</code> (no data copy if already array)       </td> </tr>\n",
    "<tr><td align=\"left\">   <code>zeros(n)</code>                   </td> <td align=\"left\">   make a <code>float</code> vector/array of length <code>n</code>, with zeros        </td> </tr>\n",
    "<tr><td align=\"left\">   <code>zeros(n, int)</code>              </td> <td align=\"left\">   make an <code>int</code> vector/array of length <code>n</code> with zeros          </td> </tr>\n",
    "<tr><td align=\"left\">   <code>zeros((m,n))</code>               </td> <td align=\"left\">   make a two-dimensional <code>float</code> array with shape (<code>m</code>,<code>n</code>)    </td> </tr>\n",
    "<tr><td align=\"left\">   <code>zeros_like(x)</code>              </td> <td align=\"left\">   make array of same shape and element type as <code>x</code>             </td> </tr>\n",
    "<tr><td align=\"left\">   <code>linspace(a,b,m)</code>            </td> <td align=\"left\">   uniform sequence of <code>m</code> numbers in $[a,b]$                   </td> </tr>\n",
    "<tr><td align=\"left\">   <code>a.shape</code>                    </td> <td align=\"left\">   tuple containing <code>a</code>'s shape                                 </td> </tr>\n",
    "<tr><td align=\"left\">   <code>a.size</code>                     </td> <td align=\"left\">   total no of elements in <code>a</code>                                  </td> </tr>\n",
    "<tr><td align=\"left\">   <code>len(a)</code>                     </td> <td align=\"left\">   length of a one-dim. array <code>a</code> (same as <code>a.shape[0]</code>)        </td> </tr>\n",
    "<tr><td align=\"left\">   <code>a.dtype</code>                    </td> <td align=\"left\">   the type of elements in <code>a</code>                                  </td> </tr>\n",
    "<tr><td align=\"left\">   <code>a.reshape(3,2)</code>             </td> <td align=\"left\">   return <code>a</code> reshaped as $3\\times 2$ array                     </td> </tr>\n",
    "<tr><td align=\"left\">   <code>a[i]</code>                       </td> <td align=\"left\">   vector indexing                                              </td> </tr>\n",
    "<tr><td align=\"left\">   <code>a[i,j]</code>                     </td> <td align=\"left\">   two-dim. array indexing                                      </td> </tr>\n",
    "<tr><td align=\"left\">   <code>a[1:k]</code>                     </td> <td align=\"left\">   slice: reference data with indices <code>1</code>,\\ldots,<code>k-1</code>          </td> </tr>\n",
    "<tr><td align=\"left\">   <code>a[1:8:3]</code>                   </td> <td align=\"left\">   slice: reference data with indices <code>1</code>, <code>4</code>,\\ldots,<code>7</code>       </td> </tr>\n",
    "<tr><td align=\"left\">   <code>b = a.copy()</code>               </td> <td align=\"left\">   copy an array                                                </td> </tr>\n",
    "<tr><td align=\"left\">   <code>sin(a), exp(a), ...</code>        </td> <td align=\"left\">   <code>numpy</code> functions applicable to arrays                       </td> </tr>\n",
    "<tr><td align=\"left\">   <code>c = concatenate((a, b))</code>    </td> <td align=\"left\">   <code>c</code> contains <code>a</code> with <code>b</code> appended                           </td> </tr>\n",
    "<tr><td align=\"left\">   <code>c = where(cond, a1, a2)</code>    </td> <td align=\"left\">   <code>c[i] = a1[i]</code> if <code>cond[i]</code>, else <code>c[i] = a2[i]</code>             </td> </tr>\n",
    "<tr><td align=\"left\">   <code>isinstance(a, ndarray)</code>     </td> <td align=\"left\">   is <code>True</code> if <code>a</code> is an array                                 </td> </tr>\n",
    "</tbody>\n",
    "</table>\n",
    "\n",
    "## Summarizing example: animating a function (part 1)\n",
    "\n",
    "Goal: visualize the temperature in the ground as a function of\n",
    "depth ($z$) and time ($t$), displayed as a movie in time:"
   ]
  },
  {
   "cell_type": "markdown",
   "metadata": {},
   "source": [
    "$$\n",
    "T(z,t) = T_0 + Ae^{-az}\\cos (\\omega t - az),\\quad a =\\sqrt{\\omega\\over 2k}\n",
    "$$"
   ]
  },
  {
   "cell_type": "markdown",
   "metadata": {},
   "source": [
    "First we make a *general* animation function for an $f(x,t)$:"
   ]
  },
  {
   "cell_type": "code",
   "execution_count": null,
   "metadata": {},
   "outputs": [],
   "source": [
    "#rb: not supported\n",
    "from scitools.std import plot  # convenient for animations\n",
    "\n",
    "def animate(tmax, dt, x, function, ymin, ymax, t0=0,\n",
    "            xlabel='x', ylabel='y', filename='tmp_'):\n",
    "    t = t0\n",
    "    counter = 0\n",
    "    while t <= tmax:\n",
    "        y = function(x, t)\n",
    "        plot(x, y,\n",
    "             axis=[x[0], x[-1], ymin, ymax],\n",
    "             title='time=%g' % t,\n",
    "             xlabel=xlabel, ylabel=ylabel,\n",
    "             savefig=filename + '%04d.png' % counter)\n",
    "        t += dt\n",
    "        counter += 1"
   ]
  },
  {
   "cell_type": "markdown",
   "metadata": {},
   "source": [
    "Then we call this function with our special $T(z,t)$ function\n",
    "\n",
    "\n",
    "\n",
    "## Summarizing example: animating a function (part 2)"
   ]
  },
  {
   "cell_type": "code",
   "execution_count": null,
   "metadata": {},
   "outputs": [],
   "source": [
    "# remove old plot files:\n",
    "import glob, os\n",
    "for filename in glob.glob('tmp_*.png'): os.remove(filename)\n",
    "\n",
    "def T(z, t):\n",
    "    # T0, A, k, and omega are global variables\n",
    "    a = sqrt(omega/(2*k))\n",
    "    return T0 + A*exp(-a*z)*cos(omega*t - a*z)\n",
    "\n",
    "k = 1E-6     # heat conduction coefficient (in m*m/s)\n",
    "P = 24*60*60.# oscillation period of 24 h (in seconds)\n",
    "omega = 2*pi/P\n",
    "dt = P/24    # time lag: 1 h\n",
    "tmax = 3*P   # 3 day/night simulation\n",
    "T0 = 10      # mean surface temperature in Celsius\n",
    "A = 10       # amplitude of the temperature variations (in C)\n",
    "a = sqrt(omega/(2*k))\n",
    "D = -(1/a)*log(0.001) # max depth\n",
    "n = 501      # no of points in the z direction\n",
    "\n",
    "z = linspace(0, D, n)\n",
    "animate(tmax, dt, z, T, T0-A, T0+A, 0, 'z', 'T')"
   ]
  },
  {
   "cell_type": "markdown",
   "metadata": {},
   "source": [
    "Must combine hardcopy files (like `tmp_0034.png`) to make video formats"
   ]
  }
 ],
 "metadata": {
  "kernelspec": {
   "display_name": "Python 3",
   "language": "python",
   "name": "python3"
  },
  "language_info": {
   "codemirror_mode": {
    "name": "ipython",
    "version": 3
   },
   "file_extension": ".py",
   "mimetype": "text/x-python",
   "name": "python",
   "nbconvert_exporter": "python",
   "pygments_lexer": "ipython3",
   "version": "3.6.7"
  }
 },
 "nbformat": 4,
 "nbformat_minor": 1
}
