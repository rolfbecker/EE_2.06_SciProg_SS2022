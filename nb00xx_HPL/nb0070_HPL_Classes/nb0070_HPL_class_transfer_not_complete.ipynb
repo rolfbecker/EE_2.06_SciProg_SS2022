{
 "cells": [
  {
   "cell_type": "markdown",
   "metadata": {},
   "source": [
    "<!-- dom:TITLE: Ch.7: Introduction to classes -->\n",
    "# Ch.7: Introduction to classes\n",
    "<!-- dom:AUTHOR: Hans Petter Langtangen at Simula Research Laboratory & University of Oslo, Dept. of Informatics -->\n",
    "<!-- Author: --> **Hans Petter Langtangen**, Simula Research Laboratory and University of Oslo, Dept. of Informatics\n",
    "\n",
    "Date: **Aug 15, 2015**\n",
    "\n",
    "<br>\n",
    "\n",
    "<font color='red'>\n",
    "    \n",
    "**Modified by R. Becker (rb), 2019-07-14<br>\n",
    "The original notebook by HPL on classes is comprehensive.<br>\n",
    "In class we used only a selection of the topics, paragraphs or cells.<br>\n",
    "I tried to adapt this notebook to Python 3 but the transfer is not complete, yet!**\n",
    "\n",
    "</font>\n",
    "\n",
    "\n",
    "# Basics of classes\n",
    "\n",
    "<!-- dom:FIGURE: [fig-class/associations/classes1.jpg, width=500 frac=1] -->\n",
    "<!-- begin figure -->\n",
    "\n",
    "<p></p>\n",
    "<img src=\"fig-class/associations/classes1.jpg\" width=500>\n",
    "\n",
    "<!-- end figure -->\n",
    "\n",
    "\n",
    "<!-- dom:FIGURE: [fig-class/associations/classes2.png, width=500 frac=1] -->\n",
    "<!-- begin figure -->\n",
    "\n",
    "<p></p>\n",
    "<img src=\"fig-class/associations/classes2.png\" width=500>\n",
    "\n",
    "<!-- end figure -->\n",
    "\n",
    "\n",
    "\n",
    "## Class = functions + data (variables) in one unit\n",
    "\n",
    "  * A class packs together data (a collection of variables) and functions as *one single unit*\n",
    "\n",
    "  * As a programmer you can create a new class and thereby a new object type (like `float`, `list`, `file`, ...)\n",
    "\n",
    "  * A class is much like a module: a collection of \"global\" variables and functions that belong together\n",
    "\n",
    "  * There is only one instance of a module while a class can have many instances (copies)\n",
    "\n",
    "  * Modern programming applies classes to a large extent\n",
    "\n",
    "  * It will take some time to master the class concept\n",
    "\n",
    "  * Let's learn by doing!\n",
    "\n",
    "\n",
    "\n",
    "\n",
    "## Representing a function by a class; background\n",
    "\n",
    "Consider a function of $t$ with a parameter $v_0$:"
   ]
  },
  {
   "cell_type": "markdown",
   "metadata": {},
   "source": [
    "$$\n",
    "y(t; v_0)=v_0t - {1\\over2}gt^2\n",
    "$$"
   ]
  },
  {
   "cell_type": "markdown",
   "metadata": {},
   "source": [
    "We need both $v_0$ and $t$ to evaluate $y$ (and $g=9.81$), but\n",
    "how should we implement this?\n",
    "\n",
    "**Having $t$ and $v_0$ as arguments:**"
   ]
  },
  {
   "cell_type": "code",
   "execution_count": 4,
   "metadata": {},
   "outputs": [],
   "source": [
    "def y(t, v0):\n",
    "    g = 9.81\n",
    "    return v0*t - 0.5*g*t**2"
   ]
  },
  {
   "cell_type": "markdown",
   "metadata": {},
   "source": [
    "**Having $t$ as argument and $v_0$ as global variable:**"
   ]
  },
  {
   "cell_type": "code",
   "execution_count": 5,
   "metadata": {},
   "outputs": [],
   "source": [
    "def y(t):\n",
    "    g = 9.81\n",
    "    return v0*t - 0.5*g*t**2"
   ]
  },
  {
   "cell_type": "markdown",
   "metadata": {},
   "source": [
    "Motivation: $y(t)$ is a function of $t$ only\n",
    "\n",
    "\n",
    "\n",
    "<!-- Because $y(t)$ is a function of $t$ only. With a class, with -->\n",
    "<!-- have a function $y(t)$ of $t$ only, but it also contains the value of $v_0$. -->\n",
    "\n",
    "## Representing a function by a class; idea\n",
    "\n",
    " * With a class, `y(t)` can be a function of `t` only, but still have\n",
    "\n",
    "  `v0` and `g` as parameters with given values.\n",
    " * The class packs together a function `y(t)` and data (`v0`, `g`)\n",
    "\n",
    "\n",
    "\n",
    "## Representing a function by a class; technical overview\n",
    "\n",
    "  * We make a class `Y` for $y(t;v_0)$ with variables `v0` and `g`\n",
    "    and a function `value(t)` for computing $y(t;v_0)$\n",
    "\n",
    "  * Any class should also have a function `__init__` for initialization of the variables\n",
    "\n",
    "\n",
    "\n",
    "<!-- dom:FIGURE: [fig-class/UML_class_Y.png, width=120 frac=0.18] -->\n",
    "<!-- begin figure -->\n",
    "\n",
    "<p></p>\n",
    "<img src=\"fig-class/UML_class_Y.png\" width=120>\n",
    "\n",
    "<!-- end figure -->\n",
    "\n",
    "\n",
    "## Representing a function by a class; the code"
   ]
  },
  {
   "cell_type": "code",
   "execution_count": 13,
   "metadata": {},
   "outputs": [],
   "source": [
    "class Y:\n",
    "    def __init__(self, v0):\n",
    "        self.v0 = v0\n",
    "        self.g = 9.81\n",
    "\n",
    "    def value(self, t):\n",
    "        s = self.v0*t - 0.5*self.g*t**2\n",
    "        return s"
   ]
  },
  {
   "cell_type": "markdown",
   "metadata": {},
   "source": [
    "Usage:"
   ]
  },
  {
   "cell_type": "code",
   "execution_count": 14,
   "metadata": {},
   "outputs": [
    {
     "data": {
      "text/plain": [
       "0.25095"
      ]
     },
     "execution_count": 14,
     "metadata": {},
     "output_type": "execute_result"
    }
   ],
   "source": [
    "y = Y(v0=3)            # create instance (object)\n",
    "s = y.value(0.1)       # compute function value\n",
    "s"
   ]
  },
  {
   "cell_type": "code",
   "execution_count": 15,
   "metadata": {},
   "outputs": [],
   "source": [
    "franz = Y(v0 = 9)"
   ]
  },
  {
   "cell_type": "code",
   "execution_count": 16,
   "metadata": {},
   "outputs": [
    {
     "data": {
      "text/plain": [
       "0.85095"
      ]
     },
     "execution_count": 16,
     "metadata": {},
     "output_type": "execute_result"
    }
   ],
   "source": [
    "franz.value(0.1)"
   ]
  },
  {
   "cell_type": "code",
   "execution_count": 19,
   "metadata": {},
   "outputs": [],
   "source": [
    "import numpy as np\n",
    "t = np.arange(0,2,0.01)"
   ]
  },
  {
   "cell_type": "code",
   "execution_count": 20,
   "metadata": {},
   "outputs": [],
   "source": [
    "y1 = Y(v0=3)\n",
    "y2 = Y(v0=5)\n",
    "y3 = Y(v0=10)"
   ]
  },
  {
   "cell_type": "code",
   "execution_count": 21,
   "metadata": {},
   "outputs": [],
   "source": [
    "%matplotlib inline\n",
    "import matplotlib.pyplot as plt"
   ]
  },
  {
   "cell_type": "code",
   "execution_count": 22,
   "metadata": {},
   "outputs": [],
   "source": [
    "y3.v0 = 20"
   ]
  },
  {
   "cell_type": "code",
   "execution_count": 29,
   "metadata": {},
   "outputs": [
    {
     "data": {
      "image/png": "[encoded data removed]",
      "text/plain": [
       "<Figure size 816x544 with 1 Axes>"
      ]
     },
     "metadata": {
      "needs_background": "light"
     },
     "output_type": "display_data"
    }
   ],
   "source": [
    "fig, ax = plt.subplots(1,1,figsize=(6,4), dpi = 136)\n",
    "ax.plot(t,y1.value(t), label = \"y1 = Y(v0=3)\")\n",
    "ax.plot(t,y2.value(t), label = \"y2 = Y(v0=5)\")\n",
    "ax.plot(t,y3.value(t), label = \"y3 = Y(v0=10)\")\n",
    "ax.legend()\n",
    "ax.grid(True)\n",
    "plt.show()"
   ]
  },
  {
   "cell_type": "markdown",
   "metadata": {},
   "source": [
    "## Representing a function by a class; the constructor\n",
    "\n",
    "When we write"
   ]
  },
  {
   "cell_type": "code",
   "execution_count": 30,
   "metadata": {},
   "outputs": [],
   "source": [
    "y = Y(v0=3)"
   ]
  },
  {
   "cell_type": "markdown",
   "metadata": {},
   "source": [
    "we create a new variable (instance) `y` of type `Y`.\n",
    "`Y(3)` is a call to the *constructor*:"
   ]
  },
  {
   "cell_type": "code",
   "execution_count": 31,
   "metadata": {},
   "outputs": [],
   "source": [
    "    def __init__(self, v0):\n",
    "        self.v0 = v0\n",
    "        self.g = 9.81"
   ]
  },
  {
   "cell_type": "markdown",
   "metadata": {},
   "source": [
    "## What is this `self` variable? Stay cool - it will be understood later as you get used to it\n",
    "\n",
    " * Think of `self` as `y`, i.e., the new variable to be created. `self.v0 = ...` means that we attach a variable `v0` to `self` (`y`).\n",
    "\n",
    " * `Y(3)` means `Y.__init__(y, 3)`, i.e., set `self=y`, `v0=3`\n",
    "\n",
    " * Remember: `self` is always first parameter in a function, but never inserted in the call!\n",
    "\n",
    " * After `y = Y(3)`, `y` has two variables `v0` and `g`"
   ]
  },
  {
   "cell_type": "code",
   "execution_count": 33,
   "metadata": {},
   "outputs": [
    {
     "name": "stdout",
     "output_type": "stream",
     "text": [
      "3\n",
      "9.81\n"
     ]
    }
   ],
   "source": [
    "print (y.v0)\n",
    "print (y.g)"
   ]
  },
  {
   "cell_type": "markdown",
   "metadata": {},
   "source": [
    "> *In mathematics you\n",
    "> don't understand things. You just get used to them.*\n",
    "> John von Neumann, mathematician, 1903-1957.\n",
    "\n",
    "\n",
    "\n",
    "## Representing a function by a class; the value method\n",
    "\n",
    "  * Functions in classes are called *methods*\n",
    "\n",
    "  * Variables in classes are called *attributes*\n",
    "\n",
    "Here is the `value` method:"
   ]
  },
  {
   "cell_type": "code",
   "execution_count": 34,
   "metadata": {},
   "outputs": [],
   "source": [
    "def value(self, t):\n",
    "    return self.v0*t - 0.5*self.g*t**2"
   ]
  },
  {
   "cell_type": "markdown",
   "metadata": {},
   "source": [
    "Example on a call:"
   ]
  },
  {
   "cell_type": "code",
   "execution_count": 35,
   "metadata": {},
   "outputs": [],
   "source": [
    "v = y.value(t=0.1)"
   ]
  },
  {
   "cell_type": "markdown",
   "metadata": {},
   "source": [
    "`self` is left out in the call, but Python automatically inserts `y` as the `self` argument inside the `value` method. Think of the call as"
   ]
  },
  {
   "cell_type": "code",
   "execution_count": 36,
   "metadata": {},
   "outputs": [
    {
     "data": {
      "text/plain": [
       "0.25095"
      ]
     },
     "execution_count": 36,
     "metadata": {},
     "output_type": "execute_result"
    }
   ],
   "source": [
    "Y.value(y, t=0.1)"
   ]
  },
  {
   "cell_type": "markdown",
   "metadata": {},
   "source": [
    "Inside `value` things \"appear\" as"
   ]
  },
  {
   "cell_type": "code",
   "execution_count": 37,
   "metadata": {},
   "outputs": [
    {
     "ename": "SyntaxError",
     "evalue": "'return' outside function (<ipython-input-37-9d4d6a855946>, line 1)",
     "output_type": "error",
     "traceback": [
      "\u001b[1;36m  File \u001b[1;32m\"<ipython-input-37-9d4d6a855946>\"\u001b[1;36m, line \u001b[1;32m1\u001b[0m\n\u001b[1;33m    return y.v0*t - 0.5*y.g*t**2\u001b[0m\n\u001b[1;37m                                ^\u001b[0m\n\u001b[1;31mSyntaxError\u001b[0m\u001b[1;31m:\u001b[0m 'return' outside function\n"
     ]
    }
   ],
   "source": [
    "return y.v0*t - 0.5*y.g*t**2"
   ]
  },
  {
   "cell_type": "markdown",
   "metadata": {},
   "source": [
    "`self` gives access to \"global variables\" in the class object.\n",
    "\n",
    "\n",
    "\n",
    "## Representing a function by a class; summary\n",
    "\n",
    "  * Class `Y` collects the attributes `v0` and `g` and the method `value` as one unit\n",
    "\n",
    "  * `value(t)` is function of `t` only, but has automatically access to the parameters `v0` and `g` as `self.v0` and `self.g`\n",
    "\n",
    "  * The great advantage: we can send `y.value` as an ordinary function of `t` to any other function that expects a function `f(t)` of one variable"
   ]
  },
  {
   "cell_type": "code",
   "execution_count": 39,
   "metadata": {},
   "outputs": [
    {
     "name": "stdout",
     "output_type": "stream",
     "text": [
      "0.0 0.0\n",
      "0.06283185307179587 0.3890428811317358\n",
      "0.12566370614359174 0.7393574345935969\n",
      "0.1884955592153876 1.0509436603855835\n",
      "0.25132741228718347 1.3238015585076952\n",
      "0.3141592653589793 1.5579311289599325\n",
      "0.3769911184307752 1.7533323717422955\n",
      "0.4398229715025711 1.910005286854783\n",
      "0.5026548245743669 2.0279498742973963\n",
      "0.5654866776461628 2.107166134070135\n",
      "0.6283185307179586 2.147654066172999\n",
      "0.6911503837897546 2.149413670605988\n",
      "0.7539822368615504 2.1124449473691036\n",
      "0.8168140899333463 2.036747896462343\n",
      "0.8796459430051422 1.9223225178857075\n",
      "0.942477796076938 1.769168811639199\n",
      "1.0053096491487339 1.577286777722815\n",
      "1.0681415022205298 1.3466764161365568\n",
      "1.1309733552923256 1.0773377268804243\n",
      "1.1938052083641215 0.7692707099544149\n",
      "1.2566370614359172 0.422475365358534\n",
      "1.3194689145077132 0.03695169309277624\n",
      "1.3823007675795091 -0.38730030684285666\n",
      "1.4451326206513049 -0.850280634448362\n",
      "1.5079644737231008 -1.3519892897237415\n",
      "1.5707963267948968 -1.8924262726689989\n",
      "1.6336281798666925 -2.4715915832841286\n",
      "1.6964600329384885 -3.0894852215691344\n",
      "1.7592918860102844 -3.746107187524018\n",
      "1.8221237390820801 -4.441457481148769\n",
      "1.884955592153876 -5.175536102443399\n",
      "1.9477874452256718 -5.9483430514079\n",
      "2.0106192982974678 -6.75987832804228\n",
      "2.0734511513692637 -7.610141932346531\n",
      "2.1362830044410597 -8.499133864320662\n",
      "2.199114857512855 -9.42685412396466\n",
      "2.261946710584651 -10.393302711278535\n",
      "2.324778563656447 -11.39847962626229\n",
      "2.387610416728243 -12.44238486891592\n",
      "2.450442269800039 -13.52501843923942\n",
      "2.5132741228718345 -14.646380337232788\n",
      "2.5761059759436304 -15.806470562896045\n",
      "2.6389378290154264 -17.005289116229168\n",
      "2.7017696820872223 -18.242835997232167\n",
      "2.7646015351590183 -19.519111205905045\n",
      "2.8274333882308142 -20.83411474224779\n",
      "2.8902652413026098 -22.18784660626041\n",
      "2.9530970943744057 -23.580306797942914\n",
      "3.0159289474462017 -25.011495317295278\n",
      "3.0787608005179976 -26.481412164317533\n",
      "3.1415926535897936 -27.990057339009653\n",
      "3.204424506661589 -29.537430841371645\n",
      "3.267256359733385 -31.123532671403517\n",
      "3.330088212805181 -32.748362829105275\n",
      "3.392920065876977 -34.411921314476885\n",
      "3.455751918948773 -36.114208127518395\n",
      "3.518583772020569 -37.855223268229764\n",
      "3.5814156250923643 -39.63496673661099\n",
      "3.6442474781641603 -41.45343853266212\n",
      "3.7070793312359562 -43.310638656383105\n",
      "3.769911184307752 -45.206567107773985\n",
      "3.832743037379548 -47.14122388683474\n",
      "3.8955748904513436 -49.114608993565334\n",
      "3.9584067435231396 -51.12672242796583\n",
      "4.0212385965949355 -53.1775641900362\n",
      "4.084070449666731 -55.26713427977643\n",
      "4.1469023027385274 -57.39543269718655\n",
      "4.209734155810323 -59.562459442266544\n",
      "4.272566008882119 -61.768214515016425\n",
      "4.335397861953915 -64.01269791543615\n",
      "4.39822971502571 -66.29590964352576\n",
      "4.461061568097507 -68.61784969928527\n",
      "4.523893421169302 -70.9785180827146\n",
      "4.586725274241099 -73.37791479381389\n",
      "4.649557127312894 -75.81603983258297\n",
      "4.71238898038469 -78.29289319902196\n",
      "4.775220833456486 -80.80847489313084\n",
      "4.838052686528282 -83.36278491490955\n",
      "4.900884539600078 -85.95582326435819\n",
      "4.9637163926718735 -88.58758994147666\n",
      "5.026548245743669 -91.258084946265\n",
      "5.089380098815465 -93.96730827872327\n",
      "5.152211951887261 -96.71525993885137\n",
      "5.215043804959057 -99.50193992664936\n",
      "5.277875658030853 -102.32734824211721\n",
      "5.340707511102649 -105.19148488525498\n",
      "5.403539364174445 -108.09434985606256\n",
      "5.46637121724624 -111.03594315454004\n",
      "5.529203070318037 -114.01626478068741\n",
      "5.592034923389832 -117.03531473450464\n",
      "5.6548667764616285 -120.09309301599176\n",
      "5.717698629533424 -123.18959962514876\n",
      "5.7805304826052195 -126.32483456197556\n",
      "5.843362335677016 -129.49879782647233\n",
      "5.906194188748811 -132.71148941863893\n",
      "5.969026041820608 -135.9629093384754\n",
      "6.031857894892403 -139.25305758598174\n",
      "6.094689747964199 -142.58193416115796\n",
      "6.157521601035995 -145.9495390640041\n",
      "6.220353454107791 -149.35587229452008\n",
      "6.283185307179586 -152.8009338527059\n"
     ]
    }
   ],
   "source": [
    "import numpy as np\n",
    "\n",
    "def table(f, tstop, n):\n",
    "    for t in np.linspace(0, tstop, n):\n",
    "        print (t, f(t))\n",
    "\n",
    "#def g(t):\n",
    "#    return np.sin(t)*np.exp(-t)\n",
    "\n",
    "#table(g, 2*np.pi, 101)         # send ordinary function\n",
    "\n",
    "y = Y(6.5)\n",
    "table(y.value, 2*np.pi, 101)   # send class method"
   ]
  },
  {
   "cell_type": "code",
   "execution_count": 40,
   "metadata": {},
   "outputs": [
    {
     "data": {
      "text/plain": [
       "<bound method Y.value of <__main__.Y object at 0x00000228F1A36630>>"
      ]
     },
     "execution_count": 40,
     "metadata": {},
     "output_type": "execute_result"
    }
   ],
   "source": [
    "y.value"
   ]
  },
  {
   "cell_type": "code",
   "execution_count": 41,
   "metadata": {},
   "outputs": [
    {
     "data": {
      "text/plain": [
       "array([  0.        ,   2.04081633,   4.08163265,   6.12244898,\n",
       "         8.16326531,  10.20408163,  12.24489796,  14.28571429,\n",
       "        16.32653061,  18.36734694,  20.40816327,  22.44897959,\n",
       "        24.48979592,  26.53061224,  28.57142857,  30.6122449 ,\n",
       "        32.65306122,  34.69387755,  36.73469388,  38.7755102 ,\n",
       "        40.81632653,  42.85714286,  44.89795918,  46.93877551,\n",
       "        48.97959184,  51.02040816,  53.06122449,  55.10204082,\n",
       "        57.14285714,  59.18367347,  61.2244898 ,  63.26530612,\n",
       "        65.30612245,  67.34693878,  69.3877551 ,  71.42857143,\n",
       "        73.46938776,  75.51020408,  77.55102041,  79.59183673,\n",
       "        81.63265306,  83.67346939,  85.71428571,  87.75510204,\n",
       "        89.79591837,  91.83673469,  93.87755102,  95.91836735,\n",
       "        97.95918367, 100.        ])"
      ]
     },
     "execution_count": 41,
     "metadata": {},
     "output_type": "execute_result"
    }
   ],
   "source": [
    "np.linspace(0,100,50)"
   ]
  },
  {
   "cell_type": "markdown",
   "metadata": {},
   "source": [
    "## Representing a function by a class; the general case\n",
    "\n",
    "Given a function with $n+1$ parameters and one independent variable,"
   ]
  },
  {
   "cell_type": "markdown",
   "metadata": {},
   "source": [
    "$$\n",
    "f(x; p_0,\\ldots,p_n)\n",
    "$$"
   ]
  },
  {
   "cell_type": "markdown",
   "metadata": {},
   "source": [
    "it is wise to represent `f` by a class where\n",
    "$p_0,\\ldots,p_n$ are attributes and where there is a method, say `value(self, x)`, for computing $f(x)$"
   ]
  },
  {
   "cell_type": "code",
   "execution_count": 42,
   "metadata": {},
   "outputs": [
    {
     "ename": "SyntaxError",
     "evalue": "invalid syntax (<ipython-input-42-0ae6eba62040>, line 2)",
     "output_type": "error",
     "traceback": [
      "\u001b[1;36m  File \u001b[1;32m\"<ipython-input-42-0ae6eba62040>\"\u001b[1;36m, line \u001b[1;32m2\u001b[0m\n\u001b[1;33m    def __init__(self, p0, p1, p2, ..., pn):\u001b[0m\n\u001b[1;37m                                     ^\u001b[0m\n\u001b[1;31mSyntaxError\u001b[0m\u001b[1;31m:\u001b[0m invalid syntax\n"
     ]
    }
   ],
   "source": [
    "class MyFunc:\n",
    "    def __init__(self, p0, p1, p2, ..., pn):\n",
    "        self.p0 = p0\n",
    "        self.p1 = p1\n",
    "        ...\n",
    "        self.pn = pn\n",
    "\n",
    "    def value(self, x):\n",
    "        return ..."
   ]
  },
  {
   "cell_type": "markdown",
   "metadata": {},
   "source": [
    "## Class for a function with four parameters"
   ]
  },
  {
   "cell_type": "markdown",
   "metadata": {},
   "source": [
    "$$\n",
    "v(r; \\beta, \\mu_0, n, R) = \\left({\\beta\\over 2\\mu_0}\\right)^{{1\\over n}}\n",
    "{n \\over n+1}\\left( R^{1 + {1\\over n}} - r^{1 + {1\\over n}}\\right)\n",
    "$$"
   ]
  },
  {
   "cell_type": "code",
   "execution_count": 44,
   "metadata": {},
   "outputs": [
    {
     "name": "stdout",
     "output_type": "stream",
     "text": [
      "5.242276278356668\n"
     ]
    }
   ],
   "source": [
    "class VelocityProfile:\n",
    "    def __init__(self, beta, mu0, n, R):\n",
    "        self.beta, self.mu0, self.n, self.R = \\\n",
    "        beta, mu0, n, R\n",
    "\n",
    "    def value(self, r):\n",
    "        beta, mu0, n, R = \\\n",
    "        self.beta, self.mu0, self.n, self.R\n",
    "        n = float(n)  # ensure float divisions\n",
    "        v = (beta/(2.0*mu0))**(1/n)*(n/(n+1))*\\\n",
    "            (R**(1+1/n) - r**(1+1/n))\n",
    "        return v\n",
    "\n",
    "v = VelocityProfile(R=1, beta=0.06, mu0=0.02, n=0.1)\n",
    "print (v.value(r=0.1))"
   ]
  },
  {
   "cell_type": "markdown",
   "metadata": {},
   "source": [
    "## Rough sketch of a general Python class"
   ]
  },
  {
   "cell_type": "code",
   "execution_count": 47,
   "metadata": {},
   "outputs": [
    {
     "name": "stdout",
     "output_type": "stream",
     "text": [
      "12\n",
      "Hello!\n"
     ]
    }
   ],
   "source": [
    "class MyClass:\n",
    "    def __init__(self, p1, p2):\n",
    "        self.attr1 = p1\n",
    "        self.attr2 = p2\n",
    "\n",
    "    def method1(self, arg):\n",
    "        # can init new attribute outside constructor:\n",
    "        self.attr3 = arg\n",
    "        return self.attr1 + self.attr2 + self.attr3\n",
    "\n",
    "    def method2(self):\n",
    "        print ('Hello!')\n",
    "\n",
    "m = MyClass(4, 10)\n",
    "print (m.method1(-2))\n",
    "m.method2()"
   ]
  },
  {
   "cell_type": "markdown",
   "metadata": {},
   "source": [
    "It is common to have a constructor where attributes are initialized, but this is not a requirement - attributes can be defined whenever desired\n",
    "\n",
    "\n",
    "\n",
    "## You can learn about other versions and views of class Y in the course book\n",
    "\n",
    "  * The book features a section on a different version of class `Y` where there is no constructor (which is possible)\n",
    "\n",
    "  * The book also features a section on how to implement classes without using classes\n",
    "\n",
    "  * These sections may be clarifying - or confusing\n",
    "\n",
    "\n",
    "\n",
    "\n",
    "## But what is this self variable? I want to know now!\n",
    "\n",
    "**Warning.**\n",
    "\n",
    "You have two choices:\n",
    "\n",
    "1. follow the detailed explanations of what `self ` really is\n",
    "\n",
    "2. postpone understanding `self` until you have much more\n",
    "   experience with class programming (suddenly `self` becomes clear!)\n",
    "\n",
    "\n",
    "\n",
    "The syntax"
   ]
  },
  {
   "cell_type": "code",
   "execution_count": 48,
   "metadata": {},
   "outputs": [],
   "source": [
    "y = Y(3)"
   ]
  },
  {
   "cell_type": "markdown",
   "metadata": {},
   "source": [
    "can be thought of as"
   ]
  },
  {
   "cell_type": "code",
   "execution_count": 49,
   "metadata": {},
   "outputs": [],
   "source": [
    "Y.__init__(y, 3)   # class prefix Y. is like a module prefix"
   ]
  },
  {
   "cell_type": "markdown",
   "metadata": {},
   "source": [
    "Then"
   ]
  },
  {
   "cell_type": "code",
   "execution_count": 50,
   "metadata": {},
   "outputs": [
    {
     "ename": "NameError",
     "evalue": "name 'v0' is not defined",
     "output_type": "error",
     "traceback": [
      "\u001b[1;31m---------------------------------------------------------------------------\u001b[0m",
      "\u001b[1;31mNameError\u001b[0m                                 Traceback (most recent call last)",
      "\u001b[1;32m<ipython-input-50-cb26a9209d25>\u001b[0m in \u001b[0;36m<module>\u001b[1;34m\u001b[0m\n\u001b[1;32m----> 1\u001b[1;33m \u001b[0mself\u001b[0m\u001b[1;33m.\u001b[0m\u001b[0mv0\u001b[0m \u001b[1;33m=\u001b[0m \u001b[0mv0\u001b[0m\u001b[1;33m\u001b[0m\u001b[1;33m\u001b[0m\u001b[0m\n\u001b[0m",
      "\u001b[1;31mNameError\u001b[0m: name 'v0' is not defined"
     ]
    }
   ],
   "source": [
    "self.v0 = v0"
   ]
  },
  {
   "cell_type": "markdown",
   "metadata": {},
   "source": [
    "is actually"
   ]
  },
  {
   "cell_type": "code",
   "execution_count": 51,
   "metadata": {},
   "outputs": [],
   "source": [
    "y.v0 = 3"
   ]
  },
  {
   "cell_type": "markdown",
   "metadata": {},
   "source": [
    "## How `self` works in the `value` method"
   ]
  },
  {
   "cell_type": "code",
   "execution_count": 52,
   "metadata": {},
   "outputs": [],
   "source": [
    "v = y.value(2)"
   ]
  },
  {
   "cell_type": "markdown",
   "metadata": {},
   "source": [
    "can alternatively be written as"
   ]
  },
  {
   "cell_type": "code",
   "execution_count": 53,
   "metadata": {},
   "outputs": [],
   "source": [
    "v = Y.value(y, 2)"
   ]
  },
  {
   "cell_type": "markdown",
   "metadata": {},
   "source": [
    "So, when we do `instance.method(arg1, arg2)`, `self` becomes\n",
    "`instance` inside `method`.\n",
    "\n",
    "\n",
    "\n",
    "## Working with multiple instances may help explain `self`\n",
    "\n",
    "`id(obj)`: print unique Python identifier of an object"
   ]
  },
  {
   "cell_type": "code",
   "execution_count": 55,
   "metadata": {},
   "outputs": [],
   "source": [
    "class SelfExplorer:\n",
    "    \"\"\"Class for computing a*x.\"\"\"\n",
    "    def __init__(self, a):\n",
    "        self.a = a\n",
    "        print ('init: a=%g, id(self)=%d' % (self.a, id(self)))\n",
    "\n",
    "    def value(self, x):\n",
    "        print ('value: a=%g, id(self)=%d' % (self.a, id(self)))\n",
    "        return self.a*x"
   ]
  },
  {
   "cell_type": "code",
   "execution_count": 56,
   "metadata": {},
   "outputs": [
    {
     "name": "stdout",
     "output_type": "stream",
     "text": [
      "init: a=1, id(self)=2374875964640\n"
     ]
    }
   ],
   "source": [
    "s1 = SelfExplorer(1)"
   ]
  },
  {
   "cell_type": "code",
   "execution_count": 57,
   "metadata": {},
   "outputs": [
    {
     "data": {
      "text/plain": [
       "2374875964640"
      ]
     },
     "execution_count": 57,
     "metadata": {},
     "output_type": "execute_result"
    }
   ],
   "source": [
    "id(s1)"
   ]
  },
  {
   "cell_type": "code",
   "execution_count": 58,
   "metadata": {},
   "outputs": [
    {
     "name": "stdout",
     "output_type": "stream",
     "text": [
      "init: a=2, id(self)=2374875963576\n"
     ]
    }
   ],
   "source": [
    "s2 = SelfExplorer(2)"
   ]
  },
  {
   "cell_type": "code",
   "execution_count": 59,
   "metadata": {},
   "outputs": [
    {
     "data": {
      "text/plain": [
       "2374875963576"
      ]
     },
     "execution_count": 59,
     "metadata": {},
     "output_type": "execute_result"
    }
   ],
   "source": [
    "id(s2)"
   ]
  },
  {
   "cell_type": "code",
   "execution_count": 60,
   "metadata": {},
   "outputs": [
    {
     "name": "stdout",
     "output_type": "stream",
     "text": [
      "value: a=1, id(self)=2374875964640\n"
     ]
    },
    {
     "data": {
      "text/plain": [
       "4"
      ]
     },
     "execution_count": 60,
     "metadata": {},
     "output_type": "execute_result"
    }
   ],
   "source": [
    "s1.value(4)"
   ]
  },
  {
   "cell_type": "code",
   "execution_count": 61,
   "metadata": {},
   "outputs": [
    {
     "name": "stdout",
     "output_type": "stream",
     "text": [
      "value: a=1, id(self)=2374875964640\n"
     ]
    },
    {
     "data": {
      "text/plain": [
       "4"
      ]
     },
     "execution_count": 61,
     "metadata": {},
     "output_type": "execute_result"
    }
   ],
   "source": [
    "SelfExplorer.value(s1, 4)"
   ]
  },
  {
   "cell_type": "code",
   "execution_count": 62,
   "metadata": {},
   "outputs": [
    {
     "name": "stdout",
     "output_type": "stream",
     "text": [
      "value: a=2, id(self)=2374875963576\n"
     ]
    },
    {
     "data": {
      "text/plain": [
       "10"
      ]
     },
     "execution_count": 62,
     "metadata": {},
     "output_type": "execute_result"
    }
   ],
   "source": [
    "s2.value(5)"
   ]
  },
  {
   "cell_type": "code",
   "execution_count": 63,
   "metadata": {},
   "outputs": [
    {
     "name": "stdout",
     "output_type": "stream",
     "text": [
      "value: a=2, id(self)=2374875963576\n"
     ]
    },
    {
     "data": {
      "text/plain": [
       "10"
      ]
     },
     "execution_count": 63,
     "metadata": {},
     "output_type": "execute_result"
    }
   ],
   "source": [
    "SelfExplorer.value(s2, 5)"
   ]
  },
  {
   "cell_type": "markdown",
   "metadata": {},
   "source": [
    "## But what is this self variable? I want to know now!\n",
    "\n",
    "**Warning.**\n",
    "\n",
    "You have two choices:\n",
    "\n",
    "1. follow the detailed explanations of what `self ` really is\n",
    "\n",
    "2. postpone understanding `self` until you have much more\n",
    "   experience with class programming (suddenly `self` becomes clear!)\n",
    "\n",
    "\n",
    "\n",
    "The syntax"
   ]
  },
  {
   "cell_type": "code",
   "execution_count": 64,
   "metadata": {},
   "outputs": [],
   "source": [
    "y = Y(3)"
   ]
  },
  {
   "cell_type": "markdown",
   "metadata": {},
   "source": [
    "can be thought of as"
   ]
  },
  {
   "cell_type": "code",
   "execution_count": 65,
   "metadata": {},
   "outputs": [],
   "source": [
    "Y.__init__(y, 3)   # class prefix Y. is like a module prefix"
   ]
  },
  {
   "cell_type": "markdown",
   "metadata": {},
   "source": [
    "Then"
   ]
  },
  {
   "cell_type": "code",
   "execution_count": 66,
   "metadata": {},
   "outputs": [
    {
     "ename": "NameError",
     "evalue": "name 'v0' is not defined",
     "output_type": "error",
     "traceback": [
      "\u001b[1;31m---------------------------------------------------------------------------\u001b[0m",
      "\u001b[1;31mNameError\u001b[0m                                 Traceback (most recent call last)",
      "\u001b[1;32m<ipython-input-66-cb26a9209d25>\u001b[0m in \u001b[0;36m<module>\u001b[1;34m\u001b[0m\n\u001b[1;32m----> 1\u001b[1;33m \u001b[0mself\u001b[0m\u001b[1;33m.\u001b[0m\u001b[0mv0\u001b[0m \u001b[1;33m=\u001b[0m \u001b[0mv0\u001b[0m\u001b[1;33m\u001b[0m\u001b[1;33m\u001b[0m\u001b[0m\n\u001b[0m",
      "\u001b[1;31mNameError\u001b[0m: name 'v0' is not defined"
     ]
    }
   ],
   "source": [
    "self.v0 = v0"
   ]
  },
  {
   "cell_type": "markdown",
   "metadata": {},
   "source": [
    "is actually"
   ]
  },
  {
   "cell_type": "code",
   "execution_count": 67,
   "metadata": {},
   "outputs": [],
   "source": [
    "y.v0 = 3"
   ]
  },
  {
   "cell_type": "markdown",
   "metadata": {},
   "source": [
    "## How `self` works in the `value` method"
   ]
  },
  {
   "cell_type": "code",
   "execution_count": 68,
   "metadata": {},
   "outputs": [],
   "source": [
    "v = y.value(2)"
   ]
  },
  {
   "cell_type": "markdown",
   "metadata": {},
   "source": [
    "can alternatively be written as"
   ]
  },
  {
   "cell_type": "code",
   "execution_count": 69,
   "metadata": {},
   "outputs": [],
   "source": [
    "v = Y.value(y, 2)"
   ]
  },
  {
   "cell_type": "markdown",
   "metadata": {},
   "source": [
    "So, when we do `instance.method(arg1, arg2)`, `self` becomes\n",
    "`instance` inside `method`.\n",
    "\n",
    "\n",
    "\n",
    "## Working with multiple instances may help explain `self`\n",
    "\n",
    "`id(obj)`: print unique Python identifier of an object"
   ]
  },
  {
   "cell_type": "code",
   "execution_count": 71,
   "metadata": {},
   "outputs": [],
   "source": [
    "class SelfExplorer:\n",
    "    \"\"\"Class for computing a*x.\"\"\"\n",
    "    def __init__(self, a):\n",
    "        self.a = a\n",
    "        print ('init: a=%g, id(self)=%d' % (self.a, id(self)))\n",
    "\n",
    "    def value(self, x):\n",
    "        print ('value: a=%g, id(self)=%d' % (self.a, id(self)))\n",
    "        return self.a*x"
   ]
  },
  {
   "cell_type": "code",
   "execution_count": 72,
   "metadata": {},
   "outputs": [
    {
     "name": "stdout",
     "output_type": "stream",
     "text": [
      "init: a=1, id(self)=2374875965256\n"
     ]
    }
   ],
   "source": [
    "s1 = SelfExplorer(1)"
   ]
  },
  {
   "cell_type": "code",
   "execution_count": 73,
   "metadata": {},
   "outputs": [
    {
     "data": {
      "text/plain": [
       "2374875965256"
      ]
     },
     "execution_count": 73,
     "metadata": {},
     "output_type": "execute_result"
    }
   ],
   "source": [
    "id(s1)"
   ]
  },
  {
   "cell_type": "code",
   "execution_count": 74,
   "metadata": {},
   "outputs": [
    {
     "name": "stdout",
     "output_type": "stream",
     "text": [
      "init: a=2, id(self)=2374875964472\n"
     ]
    }
   ],
   "source": [
    "s2 = SelfExplorer(2)"
   ]
  },
  {
   "cell_type": "code",
   "execution_count": 75,
   "metadata": {},
   "outputs": [
    {
     "data": {
      "text/plain": [
       "2374875964472"
      ]
     },
     "execution_count": 75,
     "metadata": {},
     "output_type": "execute_result"
    }
   ],
   "source": [
    "id(s2)"
   ]
  },
  {
   "cell_type": "code",
   "execution_count": 76,
   "metadata": {},
   "outputs": [
    {
     "name": "stdout",
     "output_type": "stream",
     "text": [
      "value: a=1, id(self)=2374875965256\n"
     ]
    },
    {
     "data": {
      "text/plain": [
       "4"
      ]
     },
     "execution_count": 76,
     "metadata": {},
     "output_type": "execute_result"
    }
   ],
   "source": [
    "s1.value(4)"
   ]
  },
  {
   "cell_type": "code",
   "execution_count": 77,
   "metadata": {},
   "outputs": [
    {
     "name": "stdout",
     "output_type": "stream",
     "text": [
      "value: a=1, id(self)=2374875965256\n"
     ]
    },
    {
     "data": {
      "text/plain": [
       "4"
      ]
     },
     "execution_count": 77,
     "metadata": {},
     "output_type": "execute_result"
    }
   ],
   "source": [
    "SelfExplorer.value(s1, 4)"
   ]
  },
  {
   "cell_type": "code",
   "execution_count": 78,
   "metadata": {},
   "outputs": [
    {
     "name": "stdout",
     "output_type": "stream",
     "text": [
      "value: a=2, id(self)=2374875964472\n"
     ]
    },
    {
     "data": {
      "text/plain": [
       "10"
      ]
     },
     "execution_count": 78,
     "metadata": {},
     "output_type": "execute_result"
    }
   ],
   "source": [
    "s2.value(5)"
   ]
  },
  {
   "cell_type": "code",
   "execution_count": 79,
   "metadata": {},
   "outputs": [
    {
     "name": "stdout",
     "output_type": "stream",
     "text": [
      "value: a=2, id(self)=2374875964472\n"
     ]
    },
    {
     "data": {
      "text/plain": [
       "10"
      ]
     },
     "execution_count": 79,
     "metadata": {},
     "output_type": "execute_result"
    }
   ],
   "source": [
    "SelfExplorer.value(s2, 5)"
   ]
  },
  {
   "cell_type": "markdown",
   "metadata": {},
   "source": [
    "## Another class example: a bank account\n",
    "\n",
    "  * Attributes: name of owner, account number, balance\n",
    "\n",
    "  * Methods: deposit, withdraw, pretty print"
   ]
  },
  {
   "cell_type": "code",
   "execution_count": 80,
   "metadata": {},
   "outputs": [],
   "source": [
    "class Account:\n",
    "    def __init__(self, name, account_number, initial_amount):\n",
    "        self.name = name\n",
    "        self.no = account_number\n",
    "        self.balance = initial_amount\n",
    "\n",
    "    def deposit(self, amount):\n",
    "        self.balance += amount\n",
    "\n",
    "    def withdraw(self, amount):\n",
    "        self.balance -= amount\n",
    "\n",
    "    def dump(self):\n",
    "        s = '%s, %s, balance: %s' % \\\n",
    "            (self.name, self.no, self.balance)\n",
    "        print (s)"
   ]
  },
  {
   "cell_type": "markdown",
   "metadata": {},
   "source": [
    "## UML diagram of class Account\n",
    "\n",
    "<!-- dom:FIGURE: [fig-class/UML_class_Account.png, width=120 frac=0.15] -->\n",
    "<!-- begin figure -->\n",
    "\n",
    "<p></p>\n",
    "<img src=\"fig-class/UML_class_Account.png\" width=120>\n",
    "\n",
    "<!-- end figure -->\n",
    "\n",
    "\n",
    "## Example on using class Account"
   ]
  },
  {
   "cell_type": "code",
   "execution_count": 84,
   "metadata": {},
   "outputs": [],
   "source": [
    "a1 = Account('John Olsson', '19371554951', 20000)\n",
    "a2 = Account('Liz Olsson',  '19371564761', 20000)\n",
    "a1.deposit(1000)\n",
    "a1.withdraw(4000)\n",
    "a2.withdraw(10500)\n",
    "a1.withdraw(3500)\n",
    "#print (\"a1's balance:\", a1.balance)"
   ]
  },
  {
   "cell_type": "code",
   "execution_count": 85,
   "metadata": {},
   "outputs": [
    {
     "name": "stdout",
     "output_type": "stream",
     "text": [
      "a1's balance: 13500\n"
     ]
    }
   ],
   "source": [
    "print (\"a1's balance:\", a1.balance)"
   ]
  },
  {
   "cell_type": "code",
   "execution_count": 92,
   "metadata": {},
   "outputs": [],
   "source": [
    "a1.balance = 1.0e9"
   ]
  },
  {
   "cell_type": "code",
   "execution_count": 94,
   "metadata": {},
   "outputs": [],
   "source": [
    "a1.name = \"Rolf Becker\"  # hijacking the account! harharrrr ..."
   ]
  },
  {
   "cell_type": "code",
   "execution_count": 95,
   "metadata": {},
   "outputs": [
    {
     "name": "stdout",
     "output_type": "stream",
     "text": [
      "Rolf Becker, 19371554951, balance: 1000000000.0\n"
     ]
    }
   ],
   "source": [
    "a1.dump()"
   ]
  },
  {
   "cell_type": "markdown",
   "metadata": {},
   "source": [
    "## Use underscore in attribute names to avoid misuse\n",
    "\n",
    "**Possible, but not intended use:**"
   ]
  },
  {
   "cell_type": "markdown",
   "metadata": {},
   "source": [
    "**The assumptions on correct usage:**\n",
    "\n",
    "  * The attributes should *not* be changed!\n",
    "\n",
    "  * The `balance` attribute can be viewed\n",
    "\n",
    "  * Changing `balance` is done through `withdraw` or `deposit`\n",
    "\n",
    "\n",
    "\n",
    "**Remedy:**\n",
    "\n",
    "Attributes and methods not intended for use outside the class can be marked as *protected* by prefixing the name with an underscore (e.g., `_name`). This is just a convention - and no technical way of avoiding attributes and methods to be accessed.\n",
    "\n",
    "\n",
    "\n",
    "## Improved class with attribute protection (underscore)"
   ]
  },
  {
   "cell_type": "code",
   "execution_count": 96,
   "metadata": {},
   "outputs": [],
   "source": [
    "class AccountP:\n",
    "    def __init__(self, name, account_number, initial_amount):\n",
    "        self._name = name\n",
    "        self._no = account_number\n",
    "        self._balance = initial_amount\n",
    "\n",
    "    def deposit(self, amount):\n",
    "        self._balance += amount\n",
    "\n",
    "    def withdraw(self, amount):\n",
    "        self._balance -= amount\n",
    "\n",
    "    def get_balance(self):    # NEW - read balance value\n",
    "        return self._balance\n",
    "\n",
    "    def dump(self):\n",
    "        s = '%s, %s, balance: %s' % \\\n",
    "            (self._name, self._no, self._balance)\n",
    "        print (s)"
   ]
  },
  {
   "cell_type": "code",
   "execution_count": 97,
   "metadata": {},
   "outputs": [],
   "source": [
    "rob = AccountP(\"Rob Murali Alamgir\",\"0815\",+682.30)"
   ]
  },
  {
   "cell_type": "code",
   "execution_count": 99,
   "metadata": {},
   "outputs": [
    {
     "name": "stdout",
     "output_type": "stream",
     "text": [
      "Rob Murali Alamgir, 0815, balance: 682.3\n"
     ]
    }
   ],
   "source": [
    "rob.dump()"
   ]
  },
  {
   "cell_type": "code",
   "execution_count": 100,
   "metadata": {},
   "outputs": [],
   "source": [
    "rob.deposit(500)"
   ]
  },
  {
   "cell_type": "code",
   "execution_count": 101,
   "metadata": {},
   "outputs": [
    {
     "name": "stdout",
     "output_type": "stream",
     "text": [
      "Rob Murali Alamgir, 0815, balance: 1182.3\n"
     ]
    }
   ],
   "source": [
    "rob.dump()"
   ]
  },
  {
   "cell_type": "markdown",
   "metadata": {},
   "source": [
    "## Usage of improved class AccountP"
   ]
  },
  {
   "cell_type": "code",
   "execution_count": 103,
   "metadata": {},
   "outputs": [
    {
     "name": "stdout",
     "output_type": "stream",
     "text": [
      "16000\n",
      "16000\n"
     ]
    }
   ],
   "source": [
    "a1 = AccountP('John Olsson', '19371554951', 20000)\n",
    "a1.withdraw(4000)\n",
    "\n",
    "print (a1._balance)      # it works, but a convention is broken\n",
    "\n",
    "print (a1.get_balance()) # correct way of viewing the balance\n",
    "\n",
    "a1._no = '19371554955' # this is a \"serious crime\"!"
   ]
  },
  {
   "cell_type": "markdown",
   "metadata": {},
   "source": [
    "## Another example: a phone book\n",
    "\n",
    "  * A phone book is a list of data about persons\n",
    "\n",
    "  * Data about a person: name, mobile phone, office phone, private phone, email\n",
    "\n",
    "  * Let us create a class for data about a person!\n",
    "\n",
    "  * Methods:\n",
    "\n",
    "    * Constructor for initializing name, plus one or more other data\n",
    "\n",
    "    * Add new mobile number\n",
    "\n",
    "    * Add new office number\n",
    "\n",
    "    * Add new private number\n",
    "\n",
    "    * Add new email\n",
    "\n",
    "    * Write out person data\n",
    "\n",
    "\n",
    "\n",
    "## UML diagram of class Person\n",
    "\n",
    "<!-- dom:FIGURE: [fig-class/UML_class_Person.png, width=240 frac=0.2] -->\n",
    "<!-- begin figure -->\n",
    "\n",
    "<p></p>\n",
    "<img src=\"fig-class/UML_class_Person.png\" width=240>\n",
    "\n",
    "<!-- end figure -->\n",
    "\n",
    "\n",
    "## Basic code of class Person"
   ]
  },
  {
   "cell_type": "code",
   "execution_count": 104,
   "metadata": {},
   "outputs": [],
   "source": [
    " class Person:\n",
    "    def __init__(self, name,\n",
    "                 mobile_phone=None, office_phone=None,\n",
    "                 private_phone=None, email=None):\n",
    "        self.name = name\n",
    "        self.mobile = mobile_phone\n",
    "        self.office = office_phone\n",
    "        self.private = private_phone\n",
    "        self.email = email\n",
    "\n",
    "    def add_mobile_phone(self, number):\n",
    "        self.mobile = number\n",
    "\n",
    "    def add_office_phone(self, number):\n",
    "        self.office = number\n",
    "\n",
    "    def add_private_phone(self, number):\n",
    "        self.private = number\n",
    "\n",
    "    def add_email(self, address):\n",
    "        self.email = address"
   ]
  },
  {
   "cell_type": "markdown",
   "metadata": {},
   "source": [
    "## Code of a dump method for printing all class contents"
   ]
  },
  {
   "cell_type": "code",
   "execution_count": 106,
   "metadata": {},
   "outputs": [],
   "source": [
    " class Person:\n",
    "    ...\n",
    "    def dump(self):\n",
    "        s = self.name + '\\n'\n",
    "        if self.mobile is not None:\n",
    "            s += 'mobile phone:   %s\\n' % self.mobile\n",
    "        if self.office is not None:\n",
    "            s += 'office phone:   %s\\n' % self.office\n",
    "        if self.private is not None:\n",
    "            s += 'private phone:  %s\\n' % self.private\n",
    "        if self.email is not None:\n",
    "            s += 'email address:  %s\\n' % self.email\n",
    "        print (s)"
   ]
  },
  {
   "cell_type": "markdown",
   "metadata": {},
   "source": [
    "**Usage:**"
   ]
  },
  {
   "cell_type": "code",
   "execution_count": 107,
   "metadata": {},
   "outputs": [
    {
     "ename": "TypeError",
     "evalue": "object() takes no parameters",
     "output_type": "error",
     "traceback": [
      "\u001b[1;31m---------------------------------------------------------------------------\u001b[0m",
      "\u001b[1;31mTypeError\u001b[0m                                 Traceback (most recent call last)",
      "\u001b[1;32m<ipython-input-107-e14bf9360466>\u001b[0m in \u001b[0;36m<module>\u001b[1;34m\u001b[0m\n\u001b[1;32m----> 1\u001b[1;33m \u001b[0mp1\u001b[0m \u001b[1;33m=\u001b[0m \u001b[0mPerson\u001b[0m\u001b[1;33m(\u001b[0m\u001b[1;34m'Hans Petter Langtangen'\u001b[0m\u001b[1;33m,\u001b[0m \u001b[0memail\u001b[0m\u001b[1;33m=\u001b[0m\u001b[1;34m'hpl@simula.no'\u001b[0m\u001b[1;33m)\u001b[0m\u001b[1;33m\u001b[0m\u001b[1;33m\u001b[0m\u001b[0m\n\u001b[0m\u001b[0;32m      2\u001b[0m \u001b[0mp1\u001b[0m\u001b[1;33m.\u001b[0m\u001b[0madd_office_phone\u001b[0m\u001b[1;33m(\u001b[0m\u001b[1;34m'67828283'\u001b[0m\u001b[1;33m)\u001b[0m\u001b[1;33m,\u001b[0m\u001b[1;33m\u001b[0m\u001b[1;33m\u001b[0m\u001b[0m\n\u001b[0;32m      3\u001b[0m \u001b[0mp2\u001b[0m \u001b[1;33m=\u001b[0m \u001b[0mPerson\u001b[0m\u001b[1;33m(\u001b[0m\u001b[1;34m'Aslak Tveito'\u001b[0m\u001b[1;33m,\u001b[0m \u001b[0moffice_phone\u001b[0m\u001b[1;33m=\u001b[0m\u001b[1;34m'67828282'\u001b[0m\u001b[1;33m)\u001b[0m\u001b[1;33m\u001b[0m\u001b[1;33m\u001b[0m\u001b[0m\n\u001b[0;32m      4\u001b[0m \u001b[0mp2\u001b[0m\u001b[1;33m.\u001b[0m\u001b[0madd_email\u001b[0m\u001b[1;33m(\u001b[0m\u001b[1;34m'aslak@simula.no'\u001b[0m\u001b[1;33m)\u001b[0m\u001b[1;33m\u001b[0m\u001b[1;33m\u001b[0m\u001b[0m\n\u001b[0;32m      5\u001b[0m \u001b[0mphone_book\u001b[0m \u001b[1;33m=\u001b[0m \u001b[1;33m[\u001b[0m\u001b[0mp1\u001b[0m\u001b[1;33m,\u001b[0m \u001b[0mp2\u001b[0m\u001b[1;33m]\u001b[0m                           \u001b[1;31m# list\u001b[0m\u001b[1;33m\u001b[0m\u001b[1;33m\u001b[0m\u001b[0m\n",
      "\u001b[1;31mTypeError\u001b[0m: object() takes no parameters"
     ]
    }
   ],
   "source": [
    "p1 = Person('Hans Petter Langtangen', email='hpl@simula.no')\n",
    "p1.add_office_phone('67828283'),\n",
    "p2 = Person('Aslak Tveito', office_phone='67828282')\n",
    "p2.add_email('aslak@simula.no')\n",
    "phone_book = [p1, p2]                           # list\n",
    "phone_book = {'Langtangen': p1, 'Tveito': p2}   # better\n",
    "for p in phone_book:\n",
    "    p.dump()"
   ]
  },
  {
   "cell_type": "markdown",
   "metadata": {},
   "source": [
    "## Another example: a class for a circle\n",
    "\n",
    "  * A circle is defined by its center point $x_0$, $y_0$ and its radius $R$\n",
    "\n",
    "  * These data can be attributes in a class\n",
    "\n",
    "  * Possible methods in the class: `area`, `circumference`\n",
    "\n",
    "  * The constructor initializes $x_0$, $y_0$ and $R$"
   ]
  },
  {
   "cell_type": "code",
   "execution_count": 111,
   "metadata": {},
   "outputs": [],
   "source": [
    "from scipy.constants import pi\n",
    "class Circle:\n",
    "    def __init__(self, x0, y0, R):\n",
    "        self.x0, self.y0, self.R = x0, y0, R\n",
    "\n",
    "    def area(self):\n",
    "        return pi*self.R**2\n",
    "\n",
    "    def circumference(self):\n",
    "        return 2*pi*self.R"
   ]
  },
  {
   "cell_type": "code",
   "execution_count": 112,
   "metadata": {},
   "outputs": [
    {
     "name": "stdout",
     "output_type": "stream",
     "text": [
      "A circle with radius 5 at (2, -1) has area 78.5398\n"
     ]
    }
   ],
   "source": [
    "c = Circle(2, -1, 5)\n",
    "print ('A circle with radius %g at (%g, %g) has area %g' % \\\n",
    "      (c.R, c.x0, c.y0, c.area()))"
   ]
  },
  {
   "cell_type": "markdown",
   "metadata": {},
   "source": [
    "## Test function for class Circle"
   ]
  },
  {
   "cell_type": "code",
   "execution_count": 113,
   "metadata": {},
   "outputs": [],
   "source": [
    "def test_Circle():\n",
    "    R = 2.5\n",
    "    c = Circle(7.4, -8.1, R)\n",
    "\n",
    "    from math import pi\n",
    "    expected_area = pi*R**2\n",
    "    computed_area = c.area()\n",
    "    diff = abs(expected_area - computed_area)\n",
    "    tol = 1E-14\n",
    "    assert diff < tol, 'bug in Circle.area, diff=%s' % diff\n",
    "\n",
    "    expected_circumference = 2*pi*R\n",
    "    computed_circumference = c.circumference()\n",
    "    diff = abs(expected_circumference - computed_circumference)\n",
    "    assert diff < tol, 'bug in Circle.circumference, diff=%s' % diff"
   ]
  },
  {
   "cell_type": "markdown",
   "metadata": {},
   "source": [
    "# Special methods"
   ]
  },
  {
   "cell_type": "code",
   "execution_count": 114,
   "metadata": {},
   "outputs": [
    {
     "ename": "IndentationError",
     "evalue": "expected an indented block (<ipython-input-114-05af9d9c80b9>, line 3)",
     "output_type": "error",
     "traceback": [
      "\u001b[1;36m  File \u001b[1;32m\"<ipython-input-114-05af9d9c80b9>\"\u001b[1;36m, line \u001b[1;32m3\u001b[0m\n\u001b[1;33m    ...\u001b[0m\n\u001b[1;37m      ^\u001b[0m\n\u001b[1;31mIndentationError\u001b[0m\u001b[1;31m:\u001b[0m expected an indented block\n"
     ]
    }
   ],
   "source": [
    "class MyClass:\n",
    "    def __init__(self, a, b):\n",
    "    ...\n",
    "\n",
    "p1 = MyClass(2, 5)\n",
    "p2 = MyClass(-1, 10)\n",
    "\n",
    "p3 = p1 + p2\n",
    "p4 = p1 - p2\n",
    "p5 = p1*p2\n",
    "p6 = p1**7 + 4*p3"
   ]
  },
  {
   "cell_type": "markdown",
   "metadata": {},
   "source": [
    "<!-- dom:FIGURE: [fig-class/associations/special_methods1.jpg, width=500 frac=1] -->\n",
    "<!-- begin figure -->\n",
    "\n",
    "<p></p>\n",
    "<img src=\"fig-class/associations/special_methods1.jpg\" width=500>\n",
    "\n",
    "<!-- end figure -->\n",
    "\n",
    "\n",
    "## *Special methods* allow nice syntax and are recognized by double leading and trailing underscores"
   ]
  },
  {
   "cell_type": "code",
   "execution_count": 115,
   "metadata": {},
   "outputs": [
    {
     "ename": "SyntaxError",
     "evalue": "invalid syntax (<ipython-input-115-3e63cd31749a>, line 1)",
     "output_type": "error",
     "traceback": [
      "\u001b[1;36m  File \u001b[1;32m\"<ipython-input-115-3e63cd31749a>\"\u001b[1;36m, line \u001b[1;32m1\u001b[0m\n\u001b[1;33m    def __init__(self, ...)\u001b[0m\n\u001b[1;37m                         ^\u001b[0m\n\u001b[1;31mSyntaxError\u001b[0m\u001b[1;31m:\u001b[0m invalid syntax\n"
     ]
    }
   ],
   "source": [
    "def __init__(self, ...)\n",
    "def __call__(self, ...)\n",
    "def __add__(self, other)\n",
    "\n",
    "# Python syntax\n",
    "y = Y(4)\n",
    "print y(2)\n",
    "z = Y(6)\n",
    "print y + z\n",
    "\n",
    "# What's actually going on\n",
    "Y.__init__(y, 4)\n",
    "print Y.__call__(y, 2)\n",
    "Y.__init__(z, 6)\n",
    "print Y.__add__(y, z)"
   ]
  },
  {
   "cell_type": "markdown",
   "metadata": {},
   "source": [
    "We shall learn about many more such *special methods*\n",
    "\n",
    "\n",
    "\n",
    "## Example on a call special method\n",
    "\n",
    "Replace the `value` method by a *call* special method:"
   ]
  },
  {
   "cell_type": "code",
   "execution_count": 116,
   "metadata": {},
   "outputs": [],
   "source": [
    "class Y:\n",
    "    def __init__(self, v0):\n",
    "        self.v0 = v0\n",
    "        self.g = 9.81\n",
    "\n",
    "    def __call__(self, t):\n",
    "        return self.v0*t - 0.5*self.g*t**2"
   ]
  },
  {
   "cell_type": "markdown",
   "metadata": {},
   "source": [
    "Now we can write"
   ]
  },
  {
   "cell_type": "code",
   "execution_count": 117,
   "metadata": {},
   "outputs": [],
   "source": [
    "y = Y(3)\n",
    "v = y(0.1) # same as v = y.__call__(0.1) or Y.__call__(y, 0.1)"
   ]
  },
  {
   "cell_type": "markdown",
   "metadata": {},
   "source": [
    "Note:\n",
    "\n",
    " * The instance `y` behaves and looks as a function!\n",
    "\n",
    " * The `value(t)` method does the same, but `__call__` allows nicer syntax for computing function values\n",
    "\n",
    "\n",
    "\n",
    "## Representing a function by a class revisited\n",
    "\n",
    "Given a function with $n+1$ parameters and one independent variable,"
   ]
  },
  {
   "cell_type": "markdown",
   "metadata": {},
   "source": [
    "$$\n",
    "f(x; p_0,\\ldots,p_n)\n",
    "$$"
   ]
  },
  {
   "cell_type": "markdown",
   "metadata": {},
   "source": [
    "it is wise to represent `f` by a class where $p_0,\\ldots,p_n$\n",
    "are attributes and `__call__(x)` computes $f(x)$"
   ]
  },
  {
   "cell_type": "code",
   "execution_count": 118,
   "metadata": {},
   "outputs": [
    {
     "ename": "SyntaxError",
     "evalue": "invalid syntax (<ipython-input-118-ed154e2606b2>, line 2)",
     "output_type": "error",
     "traceback": [
      "\u001b[1;36m  File \u001b[1;32m\"<ipython-input-118-ed154e2606b2>\"\u001b[1;36m, line \u001b[1;32m2\u001b[0m\n\u001b[1;33m    def __init__(self, p0, p1, p2, ..., pn):\u001b[0m\n\u001b[1;37m                                     ^\u001b[0m\n\u001b[1;31mSyntaxError\u001b[0m\u001b[1;31m:\u001b[0m invalid syntax\n"
     ]
    }
   ],
   "source": [
    "class MyFunc:\n",
    "    def __init__(self, p0, p1, p2, ..., pn):\n",
    "        self.p0 = p0\n",
    "        self.p1 = p1\n",
    "        ...\n",
    "        self.pn = pn\n",
    "\n",
    "    def __call__(self, x):\n",
    "        return ..."
   ]
  },
  {
   "cell_type": "markdown",
   "metadata": {},
   "source": [
    "## Can we automatically differentiate a function?\n",
    "\n",
    "Given some mathematical function in Python, say"
   ]
  },
  {
   "cell_type": "code",
   "execution_count": 119,
   "metadata": {},
   "outputs": [],
   "source": [
    "def f(x):\n",
    "    return x**3"
   ]
  },
  {
   "cell_type": "markdown",
   "metadata": {},
   "source": [
    "can we make a class `Derivative` and write"
   ]
  },
  {
   "cell_type": "code",
   "execution_count": 120,
   "metadata": {},
   "outputs": [
    {
     "ename": "NameError",
     "evalue": "name 'Derivative' is not defined",
     "output_type": "error",
     "traceback": [
      "\u001b[1;31m---------------------------------------------------------------------------\u001b[0m",
      "\u001b[1;31mNameError\u001b[0m                                 Traceback (most recent call last)",
      "\u001b[1;32m<ipython-input-120-d9e402e36d2f>\u001b[0m in \u001b[0;36m<module>\u001b[1;34m\u001b[0m\n\u001b[1;32m----> 1\u001b[1;33m \u001b[0mdfdx\u001b[0m \u001b[1;33m=\u001b[0m \u001b[0mDerivative\u001b[0m\u001b[1;33m(\u001b[0m\u001b[0mf\u001b[0m\u001b[1;33m)\u001b[0m\u001b[1;33m\u001b[0m\u001b[1;33m\u001b[0m\u001b[0m\n\u001b[0m",
      "\u001b[1;31mNameError\u001b[0m: name 'Derivative' is not defined"
     ]
    }
   ],
   "source": [
    "dfdx = Derivative(f)"
   ]
  },
  {
   "cell_type": "markdown",
   "metadata": {},
   "source": [
    "so that `dfdx` behaves as a function that computes the derivative of `f(x)`?"
   ]
  },
  {
   "cell_type": "code",
   "execution_count": 122,
   "metadata": {},
   "outputs": [
    {
     "ename": "NameError",
     "evalue": "name 'dfdx' is not defined",
     "output_type": "error",
     "traceback": [
      "\u001b[1;31m---------------------------------------------------------------------------\u001b[0m",
      "\u001b[1;31mNameError\u001b[0m                                 Traceback (most recent call last)",
      "\u001b[1;32m<ipython-input-122-1a593c49e74b>\u001b[0m in \u001b[0;36m<module>\u001b[1;34m\u001b[0m\n\u001b[1;32m----> 1\u001b[1;33m \u001b[0mprint\u001b[0m \u001b[1;33m(\u001b[0m\u001b[0mdfdx\u001b[0m\u001b[1;33m(\u001b[0m\u001b[1;36m2\u001b[0m\u001b[1;33m)\u001b[0m\u001b[1;33m)\u001b[0m   \u001b[1;31m# computes 3*x**2 for x=2\u001b[0m\u001b[1;33m\u001b[0m\u001b[1;33m\u001b[0m\u001b[0m\n\u001b[0m",
      "\u001b[1;31mNameError\u001b[0m: name 'dfdx' is not defined"
     ]
    }
   ],
   "source": [
    "print (dfdx(2))   # computes 3*x**2 for x=2"
   ]
  },
  {
   "cell_type": "markdown",
   "metadata": {},
   "source": [
    "## Automagic differentiation; solution\n",
    "\n",
    "**Method.**\n",
    "\n",
    "We use numerical differentiation \"behind the curtain\":"
   ]
  },
  {
   "cell_type": "markdown",
   "metadata": {},
   "source": [
    "$$\n",
    "f'(x) \\approx {f(x+h)-f(x)\\over h}\n",
    "$$"
   ]
  },
  {
   "cell_type": "markdown",
   "metadata": {},
   "source": [
    "for a small (yet moderate) $h$, say $h=10^{-5}$\n",
    "\n",
    "\n",
    "\n",
    "**Implementation.**"
   ]
  },
  {
   "cell_type": "code",
   "execution_count": 123,
   "metadata": {},
   "outputs": [],
   "source": [
    "class Derivative:\n",
    "    def __init__(self, f, h=1E-5):\n",
    "        self.f = f\n",
    "        self.h = float(h)\n",
    "\n",
    "    def __call__(self, x):\n",
    "        f, h = self.f, self.h      # make short forms\n",
    "        return (f(x+h) - f(x))/h"
   ]
  },
  {
   "cell_type": "markdown",
   "metadata": {},
   "source": [
    "## Automagic differentiation; demo"
   ]
  },
  {
   "cell_type": "code",
   "execution_count": 124,
   "metadata": {},
   "outputs": [
    {
     "data": {
      "text/plain": [
       "-0.9999999999898844"
      ]
     },
     "execution_count": 124,
     "metadata": {},
     "output_type": "execute_result"
    }
   ],
   "source": [
    "from math import *\n",
    "df = Derivative(sin)\n",
    "x = pi\n",
    "df(x)"
   ]
  },
  {
   "cell_type": "code",
   "execution_count": 125,
   "metadata": {},
   "outputs": [
    {
     "data": {
      "text/plain": [
       "-1.0"
      ]
     },
     "execution_count": 125,
     "metadata": {},
     "output_type": "execute_result"
    }
   ],
   "source": [
    "cos(x)  # exact"
   ]
  },
  {
   "cell_type": "code",
   "execution_count": 126,
   "metadata": {},
   "outputs": [],
   "source": [
    "def g(t):\n",
    "    return t**3"
   ]
  },
  {
   "cell_type": "code",
   "execution_count": 127,
   "metadata": {},
   "outputs": [
    {
     "data": {
      "text/plain": [
       "3.000030000110953"
      ]
     },
     "execution_count": 127,
     "metadata": {},
     "output_type": "execute_result"
    }
   ],
   "source": [
    "dg = Derivative(g)\n",
    "t = 1\n",
    "dg(t)  # compare with 3 (exact)"
   ]
  },
  {
   "cell_type": "markdown",
   "metadata": {},
   "source": [
    "## Automagic differentiation; useful in Newton's method\n",
    "\n",
    "Newton's method solves nonlinear equations $f(x)=0$, but the method requires $f'(x)$"
   ]
  },
  {
   "cell_type": "code",
   "execution_count": 128,
   "metadata": {},
   "outputs": [],
   "source": [
    "def Newton(f, xstart, dfdx, epsilon=1E-6):\n",
    "    ...\n",
    "    return x, no_of_iterations, f(x)"
   ]
  },
  {
   "cell_type": "markdown",
   "metadata": {},
   "source": [
    "Suppose $f'(x)$ requires boring/lengthy derivation, then class `Derivative` is handy:"
   ]
  },
  {
   "cell_type": "code",
   "execution_count": 129,
   "metadata": {},
   "outputs": [],
   "source": [
    "def f(x):\n",
    "    return 100000*(x - 0.9)**2 * (x - 1.1)**3"
   ]
  },
  {
   "cell_type": "code",
   "execution_count": 130,
   "metadata": {},
   "outputs": [
    {
     "ename": "NameError",
     "evalue": "name 'no_of_iterations' is not defined",
     "output_type": "error",
     "traceback": [
      "\u001b[1;31m---------------------------------------------------------------------------\u001b[0m",
      "\u001b[1;31mNameError\u001b[0m                                 Traceback (most recent call last)",
      "\u001b[1;32m<ipython-input-130-7da86cfbaf76>\u001b[0m in \u001b[0;36m<module>\u001b[1;34m\u001b[0m\n\u001b[0;32m      1\u001b[0m \u001b[0mdf\u001b[0m \u001b[1;33m=\u001b[0m \u001b[0mDerivative\u001b[0m\u001b[1;33m(\u001b[0m\u001b[0mf\u001b[0m\u001b[1;33m)\u001b[0m\u001b[1;33m\u001b[0m\u001b[1;33m\u001b[0m\u001b[0m\n\u001b[0;32m      2\u001b[0m \u001b[0mxstart\u001b[0m \u001b[1;33m=\u001b[0m \u001b[1;36m1.01\u001b[0m\u001b[1;33m\u001b[0m\u001b[1;33m\u001b[0m\u001b[0m\n\u001b[1;32m----> 3\u001b[1;33m \u001b[0mNewton\u001b[0m\u001b[1;33m(\u001b[0m\u001b[0mf\u001b[0m\u001b[1;33m,\u001b[0m \u001b[0mxstart\u001b[0m\u001b[1;33m,\u001b[0m \u001b[0mdf\u001b[0m\u001b[1;33m,\u001b[0m \u001b[0mepsilon\u001b[0m\u001b[1;33m=\u001b[0m\u001b[1;36m1E-5\u001b[0m\u001b[1;33m)\u001b[0m\u001b[1;33m\u001b[0m\u001b[1;33m\u001b[0m\u001b[0m\n\u001b[0m",
      "\u001b[1;32m<ipython-input-128-21d5dbedcad0>\u001b[0m in \u001b[0;36mNewton\u001b[1;34m(f, xstart, dfdx, epsilon)\u001b[0m\n\u001b[0;32m      1\u001b[0m \u001b[1;32mdef\u001b[0m \u001b[0mNewton\u001b[0m\u001b[1;33m(\u001b[0m\u001b[0mf\u001b[0m\u001b[1;33m,\u001b[0m \u001b[0mxstart\u001b[0m\u001b[1;33m,\u001b[0m \u001b[0mdfdx\u001b[0m\u001b[1;33m,\u001b[0m \u001b[0mepsilon\u001b[0m\u001b[1;33m=\u001b[0m\u001b[1;36m1E-6\u001b[0m\u001b[1;33m)\u001b[0m\u001b[1;33m:\u001b[0m\u001b[1;33m\u001b[0m\u001b[1;33m\u001b[0m\u001b[0m\n\u001b[0;32m      2\u001b[0m     \u001b[1;33m...\u001b[0m\u001b[1;33m\u001b[0m\u001b[1;33m\u001b[0m\u001b[0m\n\u001b[1;32m----> 3\u001b[1;33m     \u001b[1;32mreturn\u001b[0m \u001b[0mx\u001b[0m\u001b[1;33m,\u001b[0m \u001b[0mno_of_iterations\u001b[0m\u001b[1;33m,\u001b[0m \u001b[0mf\u001b[0m\u001b[1;33m(\u001b[0m\u001b[0mx\u001b[0m\u001b[1;33m)\u001b[0m\u001b[1;33m\u001b[0m\u001b[1;33m\u001b[0m\u001b[0m\n\u001b[0m",
      "\u001b[1;31mNameError\u001b[0m: name 'no_of_iterations' is not defined"
     ]
    }
   ],
   "source": [
    "df = Derivative(f)\n",
    "xstart = 1.01\n",
    "Newton(f, xstart, df, epsilon=1E-5)"
   ]
  },
  {
   "cell_type": "markdown",
   "metadata": {},
   "source": [
    "## Automagic differentiation; test function\n",
    "\n",
    "  * How can we test class `Derivative`?\n",
    "\n",
    "  * Method 1: compute $(f(x+h)-f(x))/h$ by hand for some $f$ and $h$\n",
    "\n",
    "  * Method 2: utilize that linear functions are differentiated\n",
    "    exactly by our numerical formula, regardless of $h$\n",
    "\n",
    "Test function based on method 2:"
   ]
  },
  {
   "cell_type": "code",
   "execution_count": 131,
   "metadata": {},
   "outputs": [],
   "source": [
    "def test_Derivative():\n",
    "    # The formula is exact for linear functions, regardless of h\n",
    "    f = lambda x: a*x + b\n",
    "    a = 3.5; b = 8\n",
    "    dfdx = Derivative(f, h=0.5)\n",
    "    diff = abs(dfdx(4.5) - a)\n",
    "    assert diff < 1E-14, 'bug in class Derivative, diff=%s' % diff"
   ]
  },
  {
   "cell_type": "markdown",
   "metadata": {},
   "source": [
    "## Automagic differentiation; explanation of the test function\n",
    "\n",
    "**Use of lambda functions:**"
   ]
  },
  {
   "cell_type": "code",
   "execution_count": 132,
   "metadata": {},
   "outputs": [],
   "source": [
    "f = lambda x: a*x + b"
   ]
  },
  {
   "cell_type": "markdown",
   "metadata": {},
   "source": [
    "is equivalent to"
   ]
  },
  {
   "cell_type": "code",
   "execution_count": 133,
   "metadata": {},
   "outputs": [],
   "source": [
    "def f(x):\n",
    "    return a*x + b"
   ]
  },
  {
   "cell_type": "markdown",
   "metadata": {},
   "source": [
    "Lambda functions are convenient for producing quick, short code\n",
    "\n",
    "\n",
    "\n",
    "**Use of closure:**"
   ]
  },
  {
   "cell_type": "code",
   "execution_count": 134,
   "metadata": {},
   "outputs": [
    {
     "data": {
      "text/plain": [
       "3.5"
      ]
     },
     "execution_count": 134,
     "metadata": {},
     "output_type": "execute_result"
    }
   ],
   "source": [
    "f = lambda x: a*x + b\n",
    "a = 3.5; b = 8\n",
    "dfdx = Derivative(f, h=0.5)\n",
    "dfdx(4.5)"
   ]
  },
  {
   "cell_type": "markdown",
   "metadata": {},
   "source": [
    "Looks straightforward...but\n",
    "\n",
    " * How can `Derivative.__call__` know `a` and `b` when it calls\n",
    "   our `f(x)` function?\n",
    "\n",
    " * Local functions inside functions remember (have access to)\n",
    "   *all* local variables in the function they are defined (!)\n",
    "\n",
    " * `f` can access `a` and `b` in `test_Derivative` even when\n",
    "   called from `__call__` in class `Derivative\n",
    "\n",
    " * `f` is known as a *closure* in computer science\n",
    "\n",
    "\n",
    "\n",
    "\n",
    "## Automagic differentiation detour; sympy solution (exact differentiation via symbolic expressions)\n",
    "\n",
    "SymPy can perform exact, symbolic differentiation:"
   ]
  },
  {
   "cell_type": "code",
   "execution_count": 135,
   "metadata": {},
   "outputs": [
    {
     "data": {
      "text/plain": [
       "3"
      ]
     },
     "execution_count": 135,
     "metadata": {},
     "output_type": "execute_result"
    }
   ],
   "source": [
    ">>> from sympy import *\n",
    ">>> def g(t):\n",
    "...     return t**3\n",
    "...\n",
    ">>> t = Symbol('t')\n",
    ">>> dgdt = diff(g(t), t)           # compute g'(t)\n",
    ">>> dgdt\n",
    "3*t**2\n",
    "\n",
    ">>> # Turn sympy expression dgdt into Python function dg(t)\n",
    ">>> dg = lambdify([t], dgdt)\n",
    ">>> dg(1)\n",
    "3"
   ]
  },
  {
   "cell_type": "markdown",
   "metadata": {},
   "source": [
    "## Automagic differentiation detour; class based on sympy"
   ]
  },
  {
   "cell_type": "code",
   "execution_count": 136,
   "metadata": {},
   "outputs": [],
   "source": [
    "import sympy as sp\n",
    "\n",
    "class Derivative_sympy:\n",
    "    def __init__(self, f):\n",
    "        # f: Python f(x)\n",
    "        x = sp.Symbol('x')\n",
    "        sympy_f = f(x)\n",
    "        sympy_dfdx = sp.diff(sympy_f, x)\n",
    "        self.__call__ = sp.lambdify([x], sympy_dfdx)"
   ]
  },
  {
   "cell_type": "code",
   "execution_count": 137,
   "metadata": {},
   "outputs": [],
   "source": [
    "def g(t):\n",
    "   return t**3"
   ]
  },
  {
   "cell_type": "code",
   "execution_count": 138,
   "metadata": {},
   "outputs": [],
   "source": [
    "def h(y):\n",
    "   return sp.sin(y)"
   ]
  },
  {
   "cell_type": "code",
   "execution_count": 139,
   "metadata": {},
   "outputs": [
    {
     "ename": "TypeError",
     "evalue": "'Derivative_sympy' object is not callable",
     "output_type": "error",
     "traceback": [
      "\u001b[1;31m---------------------------------------------------------------------------\u001b[0m",
      "\u001b[1;31mTypeError\u001b[0m                                 Traceback (most recent call last)",
      "\u001b[1;32m<ipython-input-139-baee0094a18b>\u001b[0m in \u001b[0;36m<module>\u001b[1;34m\u001b[0m\n\u001b[0;32m      1\u001b[0m \u001b[0mdg\u001b[0m \u001b[1;33m=\u001b[0m \u001b[0mDerivative_sympy\u001b[0m\u001b[1;33m(\u001b[0m\u001b[0mg\u001b[0m\u001b[1;33m)\u001b[0m\u001b[1;33m\u001b[0m\u001b[1;33m\u001b[0m\u001b[0m\n\u001b[0;32m      2\u001b[0m \u001b[0mdh\u001b[0m \u001b[1;33m=\u001b[0m \u001b[0mDerivative_sympy\u001b[0m\u001b[1;33m(\u001b[0m\u001b[0mh\u001b[0m\u001b[1;33m)\u001b[0m\u001b[1;33m\u001b[0m\u001b[1;33m\u001b[0m\u001b[0m\n\u001b[1;32m----> 3\u001b[1;33m \u001b[0mdg\u001b[0m\u001b[1;33m(\u001b[0m\u001b[1;36m1\u001b[0m\u001b[1;33m)\u001b[0m   \u001b[1;31m# 3*1**2 = 3\u001b[0m\u001b[1;33m\u001b[0m\u001b[1;33m\u001b[0m\u001b[0m\n\u001b[0m",
      "\u001b[1;31mTypeError\u001b[0m: 'Derivative_sympy' object is not callable"
     ]
    }
   ],
   "source": [
    "dg = Derivative_sympy(g)\n",
    "dh = Derivative_sympy(h)\n",
    "dg(1)   # 3*1**2 = 3"
   ]
  },
  {
   "cell_type": "code",
   "execution_count": 140,
   "metadata": {},
   "outputs": [
    {
     "ename": "TypeError",
     "evalue": "'Derivative_sympy' object is not callable",
     "output_type": "error",
     "traceback": [
      "\u001b[1;31m---------------------------------------------------------------------------\u001b[0m",
      "\u001b[1;31mTypeError\u001b[0m                                 Traceback (most recent call last)",
      "\u001b[1;32m<ipython-input-140-3d11b0f205b8>\u001b[0m in \u001b[0;36m<module>\u001b[1;34m\u001b[0m\n\u001b[0;32m      1\u001b[0m \u001b[1;32mfrom\u001b[0m \u001b[0mmath\u001b[0m \u001b[1;32mimport\u001b[0m \u001b[0mpi\u001b[0m\u001b[1;33m\u001b[0m\u001b[1;33m\u001b[0m\u001b[0m\n\u001b[1;32m----> 2\u001b[1;33m \u001b[0mdh\u001b[0m\u001b[1;33m(\u001b[0m\u001b[0mpi\u001b[0m\u001b[1;33m)\u001b[0m  \u001b[1;31m# cos(pi) = -1\u001b[0m\u001b[1;33m\u001b[0m\u001b[1;33m\u001b[0m\u001b[0m\n\u001b[0m",
      "\u001b[1;31mTypeError\u001b[0m: 'Derivative_sympy' object is not callable"
     ]
    }
   ],
   "source": [
    "from math import pi\n",
    "dh(pi)  # cos(pi) = -1"
   ]
  },
  {
   "cell_type": "markdown",
   "metadata": {},
   "source": [
    "## Automagic integration; problem setting\n",
    "\n",
    "<!-- dom:FIGURE: [fig-class/integral_comic_strip.png, width=800 frac=1] -->\n",
    "<!-- begin figure -->\n",
    "\n",
    "<p></p>\n",
    "<img src=\"fig-class/integral_comic_strip.png\" width=800>\n",
    "\n",
    "<!-- end figure -->\n",
    "\n",
    "\n",
    "Given a function $f(x)$, we want to compute"
   ]
  },
  {
   "cell_type": "markdown",
   "metadata": {},
   "source": [
    "$$\n",
    "F(x; a) = \\int_a^x f(t)dt\n",
    "$$"
   ]
  },
  {
   "cell_type": "markdown",
   "metadata": {},
   "source": [
    "## Automagic integration; technique"
   ]
  },
  {
   "cell_type": "markdown",
   "metadata": {},
   "source": [
    "$$\n",
    "F(x; a) = \\int_a^x f(t)dt\n",
    "$$"
   ]
  },
  {
   "cell_type": "markdown",
   "metadata": {},
   "source": [
    "Technique: Midpoint rule or Trapezoidal rule, here the latter:"
   ]
  },
  {
   "cell_type": "markdown",
   "metadata": {},
   "source": [
    "$$\n",
    "\\int_a^x f(t)dt = h\\left({1\\over2}f(a) + \\sum_{i=1}^{n-1} f(a+ih) + {1\\over2}f(x)\\right)\n",
    "$$"
   ]
  },
  {
   "cell_type": "markdown",
   "metadata": {},
   "source": [
    "Desired application code:"
   ]
  },
  {
   "cell_type": "code",
   "execution_count": 142,
   "metadata": {},
   "outputs": [
    {
     "ename": "SympifyError",
     "evalue": "Sympify of expression 'could not parse '<function f at 0x00000228F2C25AE8>'' failed, because of exception being raised:\nSyntaxError: invalid syntax (<string>, line 1)",
     "output_type": "error",
     "traceback": [
      "\u001b[1;31m---------------------------------------------------------------------------\u001b[0m",
      "\u001b[1;31mSyntaxError\u001b[0m                               Traceback (most recent call last)",
      "\u001b[1;32m~\\AppData\\Local\\Continuum\\anaconda3\\lib\\site-packages\\sympy\\core\\sympify.py\u001b[0m in \u001b[0;36msympify\u001b[1;34m(a, locals, convert_xor, strict, rational, evaluate)\u001b[0m\n\u001b[0;32m    367\u001b[0m         \u001b[0ma\u001b[0m \u001b[1;33m=\u001b[0m \u001b[0ma\u001b[0m\u001b[1;33m.\u001b[0m\u001b[0mreplace\u001b[0m\u001b[1;33m(\u001b[0m\u001b[1;34m'\\n'\u001b[0m\u001b[1;33m,\u001b[0m \u001b[1;34m''\u001b[0m\u001b[1;33m)\u001b[0m\u001b[1;33m\u001b[0m\u001b[1;33m\u001b[0m\u001b[0m\n\u001b[1;32m--> 368\u001b[1;33m         \u001b[0mexpr\u001b[0m \u001b[1;33m=\u001b[0m \u001b[0mparse_expr\u001b[0m\u001b[1;33m(\u001b[0m\u001b[0ma\u001b[0m\u001b[1;33m,\u001b[0m \u001b[0mlocal_dict\u001b[0m\u001b[1;33m=\u001b[0m\u001b[0mlocals\u001b[0m\u001b[1;33m,\u001b[0m \u001b[0mtransformations\u001b[0m\u001b[1;33m=\u001b[0m\u001b[0mtransformations\u001b[0m\u001b[1;33m,\u001b[0m \u001b[0mevaluate\u001b[0m\u001b[1;33m=\u001b[0m\u001b[0mevaluate\u001b[0m\u001b[1;33m)\u001b[0m\u001b[1;33m\u001b[0m\u001b[1;33m\u001b[0m\u001b[0m\n\u001b[0m\u001b[0;32m    369\u001b[0m     \u001b[1;32mexcept\u001b[0m \u001b[1;33m(\u001b[0m\u001b[0mTokenError\u001b[0m\u001b[1;33m,\u001b[0m \u001b[0mSyntaxError\u001b[0m\u001b[1;33m)\u001b[0m \u001b[1;32mas\u001b[0m \u001b[0mexc\u001b[0m\u001b[1;33m:\u001b[0m\u001b[1;33m\u001b[0m\u001b[1;33m\u001b[0m\u001b[0m\n",
      "\u001b[1;32m~\\AppData\\Local\\Continuum\\anaconda3\\lib\\site-packages\\sympy\\parsing\\sympy_parser.py\u001b[0m in \u001b[0;36mparse_expr\u001b[1;34m(s, local_dict, transformations, global_dict, evaluate)\u001b[0m\n\u001b[0;32m    964\u001b[0m \u001b[1;33m\u001b[0m\u001b[0m\n\u001b[1;32m--> 965\u001b[1;33m     \u001b[1;32mreturn\u001b[0m \u001b[0meval_expr\u001b[0m\u001b[1;33m(\u001b[0m\u001b[0mcode\u001b[0m\u001b[1;33m,\u001b[0m \u001b[0mlocal_dict\u001b[0m\u001b[1;33m,\u001b[0m \u001b[0mglobal_dict\u001b[0m\u001b[1;33m)\u001b[0m\u001b[1;33m\u001b[0m\u001b[1;33m\u001b[0m\u001b[0m\n\u001b[0m\u001b[0;32m    966\u001b[0m \u001b[1;33m\u001b[0m\u001b[0m\n",
      "\u001b[1;32m~\\AppData\\Local\\Continuum\\anaconda3\\lib\\site-packages\\sympy\\parsing\\sympy_parser.py\u001b[0m in \u001b[0;36meval_expr\u001b[1;34m(code, local_dict, global_dict)\u001b[0m\n\u001b[0;32m    877\u001b[0m     expr = eval(\n\u001b[1;32m--> 878\u001b[1;33m         code, global_dict, local_dict)  # take local objects in preference\n\u001b[0m\u001b[0;32m    879\u001b[0m \u001b[1;33m\u001b[0m\u001b[0m\n",
      "\u001b[1;31mSyntaxError\u001b[0m: invalid syntax (<string>, line 1)",
      "\nDuring handling of the above exception, another exception occurred:\n",
      "\u001b[1;31mSympifyError\u001b[0m                              Traceback (most recent call last)",
      "\u001b[1;32m<ipython-input-142-ed535b03e1e8>\u001b[0m in \u001b[0;36m<module>\u001b[1;34m\u001b[0m\n\u001b[0;32m      3\u001b[0m \u001b[1;33m\u001b[0m\u001b[0m\n\u001b[0;32m      4\u001b[0m \u001b[0ma\u001b[0m \u001b[1;33m=\u001b[0m \u001b[1;36m0\u001b[0m\u001b[1;33m;\u001b[0m \u001b[0mn\u001b[0m \u001b[1;33m=\u001b[0m \u001b[1;36m200\u001b[0m\u001b[1;33m\u001b[0m\u001b[1;33m\u001b[0m\u001b[0m\n\u001b[1;32m----> 5\u001b[1;33m \u001b[0mF\u001b[0m \u001b[1;33m=\u001b[0m \u001b[0mIntegral\u001b[0m\u001b[1;33m(\u001b[0m\u001b[0mf\u001b[0m\u001b[1;33m,\u001b[0m \u001b[0ma\u001b[0m\u001b[1;33m,\u001b[0m \u001b[0mn\u001b[0m\u001b[1;33m)\u001b[0m\u001b[1;33m\u001b[0m\u001b[1;33m\u001b[0m\u001b[0m\n\u001b[0m\u001b[0;32m      6\u001b[0m \u001b[0mx\u001b[0m \u001b[1;33m=\u001b[0m \u001b[1;36m1.2\u001b[0m\u001b[1;33m\u001b[0m\u001b[1;33m\u001b[0m\u001b[0m\n\u001b[0;32m      7\u001b[0m \u001b[0mprint\u001b[0m \u001b[1;33m(\u001b[0m\u001b[0mF\u001b[0m\u001b[1;33m(\u001b[0m\u001b[0mx\u001b[0m\u001b[1;33m)\u001b[0m\u001b[1;33m)\u001b[0m\u001b[1;33m\u001b[0m\u001b[1;33m\u001b[0m\u001b[0m\n",
      "\u001b[1;32m~\\AppData\\Local\\Continuum\\anaconda3\\lib\\site-packages\\sympy\\integrals\\integrals.py\u001b[0m in \u001b[0;36m__new__\u001b[1;34m(cls, function, *symbols, **assumptions)\u001b[0m\n\u001b[0;32m     78\u001b[0m             \u001b[1;32mreturn\u001b[0m \u001b[0mfunction\u001b[0m\u001b[1;33m.\u001b[0m\u001b[0m_eval_Integral\u001b[0m\u001b[1;33m(\u001b[0m\u001b[1;33m*\u001b[0m\u001b[0msymbols\u001b[0m\u001b[1;33m,\u001b[0m \u001b[1;33m**\u001b[0m\u001b[0massumptions\u001b[0m\u001b[1;33m)\u001b[0m\u001b[1;33m\u001b[0m\u001b[1;33m\u001b[0m\u001b[0m\n\u001b[0;32m     79\u001b[0m \u001b[1;33m\u001b[0m\u001b[0m\n\u001b[1;32m---> 80\u001b[1;33m         \u001b[0mobj\u001b[0m \u001b[1;33m=\u001b[0m \u001b[0mAddWithLimits\u001b[0m\u001b[1;33m.\u001b[0m\u001b[0m__new__\u001b[0m\u001b[1;33m(\u001b[0m\u001b[0mcls\u001b[0m\u001b[1;33m,\u001b[0m \u001b[0mfunction\u001b[0m\u001b[1;33m,\u001b[0m \u001b[1;33m*\u001b[0m\u001b[0msymbols\u001b[0m\u001b[1;33m,\u001b[0m \u001b[1;33m**\u001b[0m\u001b[0massumptions\u001b[0m\u001b[1;33m)\u001b[0m\u001b[1;33m\u001b[0m\u001b[1;33m\u001b[0m\u001b[0m\n\u001b[0m\u001b[0;32m     81\u001b[0m         \u001b[1;32mreturn\u001b[0m \u001b[0mobj\u001b[0m\u001b[1;33m\u001b[0m\u001b[1;33m\u001b[0m\u001b[0m\n\u001b[0;32m     82\u001b[0m \u001b[1;33m\u001b[0m\u001b[0m\n",
      "\u001b[1;32m~\\AppData\\Local\\Continuum\\anaconda3\\lib\\site-packages\\sympy\\concrete\\expr_with_limits.py\u001b[0m in \u001b[0;36m__new__\u001b[1;34m(cls, function, *symbols, **assumptions)\u001b[0m\n\u001b[0;32m    380\u001b[0m \u001b[1;33m\u001b[0m\u001b[0m\n\u001b[0;32m    381\u001b[0m     \u001b[1;32mdef\u001b[0m \u001b[0m__new__\u001b[0m\u001b[1;33m(\u001b[0m\u001b[0mcls\u001b[0m\u001b[1;33m,\u001b[0m \u001b[0mfunction\u001b[0m\u001b[1;33m,\u001b[0m \u001b[1;33m*\u001b[0m\u001b[0msymbols\u001b[0m\u001b[1;33m,\u001b[0m \u001b[1;33m**\u001b[0m\u001b[0massumptions\u001b[0m\u001b[1;33m)\u001b[0m\u001b[1;33m:\u001b[0m\u001b[1;33m\u001b[0m\u001b[1;33m\u001b[0m\u001b[0m\n\u001b[1;32m--> 382\u001b[1;33m         \u001b[0mpre\u001b[0m \u001b[1;33m=\u001b[0m \u001b[0m_common_new\u001b[0m\u001b[1;33m(\u001b[0m\u001b[0mcls\u001b[0m\u001b[1;33m,\u001b[0m \u001b[0mfunction\u001b[0m\u001b[1;33m,\u001b[0m \u001b[1;33m*\u001b[0m\u001b[0msymbols\u001b[0m\u001b[1;33m,\u001b[0m \u001b[1;33m**\u001b[0m\u001b[0massumptions\u001b[0m\u001b[1;33m)\u001b[0m\u001b[1;33m\u001b[0m\u001b[1;33m\u001b[0m\u001b[0m\n\u001b[0m\u001b[0;32m    383\u001b[0m         \u001b[1;32mif\u001b[0m \u001b[0mtype\u001b[0m\u001b[1;33m(\u001b[0m\u001b[0mpre\u001b[0m\u001b[1;33m)\u001b[0m \u001b[1;32mis\u001b[0m \u001b[0mtuple\u001b[0m\u001b[1;33m:\u001b[0m\u001b[1;33m\u001b[0m\u001b[1;33m\u001b[0m\u001b[0m\n\u001b[0;32m    384\u001b[0m             \u001b[0mfunction\u001b[0m\u001b[1;33m,\u001b[0m \u001b[0mlimits\u001b[0m\u001b[1;33m,\u001b[0m \u001b[0morientation\u001b[0m \u001b[1;33m=\u001b[0m \u001b[0mpre\u001b[0m\u001b[1;33m\u001b[0m\u001b[1;33m\u001b[0m\u001b[0m\n",
      "\u001b[1;32m~\\AppData\\Local\\Continuum\\anaconda3\\lib\\site-packages\\sympy\\concrete\\expr_with_limits.py\u001b[0m in \u001b[0;36m_common_new\u001b[1;34m(cls, function, *symbols, **assumptions)\u001b[0m\n\u001b[0;32m     25\u001b[0m     \u001b[1;33m(\u001b[0m\u001b[0mfunction\u001b[0m\u001b[1;33m,\u001b[0m \u001b[0mlimits\u001b[0m\u001b[1;33m,\u001b[0m \u001b[0morientation\u001b[0m\u001b[1;33m)\u001b[0m\u001b[1;33m.\u001b[0m \u001b[0mThis\u001b[0m \u001b[0mcode\u001b[0m \u001b[1;32mis\u001b[0m \u001b[0mcommon\u001b[0m \u001b[0mto\u001b[0m\u001b[1;33m\u001b[0m\u001b[1;33m\u001b[0m\u001b[0m\n\u001b[0;32m     26\u001b[0m     both ExprWithLimits and AddWithLimits.\"\"\"\n\u001b[1;32m---> 27\u001b[1;33m     \u001b[0mfunction\u001b[0m \u001b[1;33m=\u001b[0m \u001b[0msympify\u001b[0m\u001b[1;33m(\u001b[0m\u001b[0mfunction\u001b[0m\u001b[1;33m)\u001b[0m\u001b[1;33m\u001b[0m\u001b[1;33m\u001b[0m\u001b[0m\n\u001b[0m\u001b[0;32m     28\u001b[0m \u001b[1;33m\u001b[0m\u001b[0m\n\u001b[0;32m     29\u001b[0m     \u001b[1;32mif\u001b[0m \u001b[0mhasattr\u001b[0m\u001b[1;33m(\u001b[0m\u001b[0mfunction\u001b[0m\u001b[1;33m,\u001b[0m \u001b[1;34m'func'\u001b[0m\u001b[1;33m)\u001b[0m \u001b[1;32mand\u001b[0m \u001b[0misinstance\u001b[0m\u001b[1;33m(\u001b[0m\u001b[0mfunction\u001b[0m\u001b[1;33m,\u001b[0m \u001b[0mEquality\u001b[0m\u001b[1;33m)\u001b[0m\u001b[1;33m:\u001b[0m\u001b[1;33m\u001b[0m\u001b[1;33m\u001b[0m\u001b[0m\n",
      "\u001b[1;32m~\\AppData\\Local\\Continuum\\anaconda3\\lib\\site-packages\\sympy\\core\\sympify.py\u001b[0m in \u001b[0;36msympify\u001b[1;34m(a, locals, convert_xor, strict, rational, evaluate)\u001b[0m\n\u001b[0;32m    368\u001b[0m         \u001b[0mexpr\u001b[0m \u001b[1;33m=\u001b[0m \u001b[0mparse_expr\u001b[0m\u001b[1;33m(\u001b[0m\u001b[0ma\u001b[0m\u001b[1;33m,\u001b[0m \u001b[0mlocal_dict\u001b[0m\u001b[1;33m=\u001b[0m\u001b[0mlocals\u001b[0m\u001b[1;33m,\u001b[0m \u001b[0mtransformations\u001b[0m\u001b[1;33m=\u001b[0m\u001b[0mtransformations\u001b[0m\u001b[1;33m,\u001b[0m \u001b[0mevaluate\u001b[0m\u001b[1;33m=\u001b[0m\u001b[0mevaluate\u001b[0m\u001b[1;33m)\u001b[0m\u001b[1;33m\u001b[0m\u001b[1;33m\u001b[0m\u001b[0m\n\u001b[0;32m    369\u001b[0m     \u001b[1;32mexcept\u001b[0m \u001b[1;33m(\u001b[0m\u001b[0mTokenError\u001b[0m\u001b[1;33m,\u001b[0m \u001b[0mSyntaxError\u001b[0m\u001b[1;33m)\u001b[0m \u001b[1;32mas\u001b[0m \u001b[0mexc\u001b[0m\u001b[1;33m:\u001b[0m\u001b[1;33m\u001b[0m\u001b[1;33m\u001b[0m\u001b[0m\n\u001b[1;32m--> 370\u001b[1;33m         \u001b[1;32mraise\u001b[0m \u001b[0mSympifyError\u001b[0m\u001b[1;33m(\u001b[0m\u001b[1;34m'could not parse %r'\u001b[0m \u001b[1;33m%\u001b[0m \u001b[0ma\u001b[0m\u001b[1;33m,\u001b[0m \u001b[0mexc\u001b[0m\u001b[1;33m)\u001b[0m\u001b[1;33m\u001b[0m\u001b[1;33m\u001b[0m\u001b[0m\n\u001b[0m\u001b[0;32m    371\u001b[0m \u001b[1;33m\u001b[0m\u001b[0m\n\u001b[0;32m    372\u001b[0m     \u001b[1;32mreturn\u001b[0m \u001b[0mexpr\u001b[0m\u001b[1;33m\u001b[0m\u001b[1;33m\u001b[0m\u001b[0m\n",
      "\u001b[1;31mSympifyError\u001b[0m: Sympify of expression 'could not parse '<function f at 0x00000228F2C25AE8>'' failed, because of exception being raised:\nSyntaxError: invalid syntax (<string>, line 1)"
     ]
    }
   ],
   "source": [
    "def f(x):\n",
    "    return exp(-x**2)*sin(10*x)\n",
    "\n",
    "a = 0; n = 200\n",
    "F = Integral(f, a, n)\n",
    "x = 1.2\n",
    "print (F(x))"
   ]
  },
  {
   "cell_type": "markdown",
   "metadata": {},
   "source": [
    "## Automagic integration; implementation"
   ]
  },
  {
   "cell_type": "code",
   "execution_count": 143,
   "metadata": {},
   "outputs": [],
   "source": [
    "def trapezoidal(f, a, x, n):\n",
    "    h = (x-a)/float(n)\n",
    "    I = 0.5*f(a)\n",
    "    for i in range(1, n):\n",
    "        I += f(a + i*h)\n",
    "    I += 0.5*f(x)\n",
    "    I *= h\n",
    "    return I"
   ]
  },
  {
   "cell_type": "markdown",
   "metadata": {},
   "source": [
    "Class `Integral` holds `f`, `a` and `n` as attributes and has a call special method for computing the integral:"
   ]
  },
  {
   "cell_type": "code",
   "execution_count": 144,
   "metadata": {},
   "outputs": [],
   "source": [
    "class Integral:\n",
    "    def __init__(self, f, a, n=100):\n",
    "        self.f, self.a, self.n = f, a, n\n",
    "\n",
    "    def __call__(self, x):\n",
    "        return trapezoidal(self.f, self.a, x, self.n)"
   ]
  },
  {
   "cell_type": "markdown",
   "metadata": {},
   "source": [
    "## Automagic integration; test function\n",
    "\n",
    "  * How can we test class `Integral`?\n",
    "\n",
    "  * Method 1: compute by hand for some $f$ and small $n$\n",
    "\n",
    "  * Method 2: utilize that linear functions are integrated\n",
    "    exactly by our numerical formula, regardless of $n$\n",
    "\n",
    "Test function based on method 2:"
   ]
  },
  {
   "cell_type": "code",
   "execution_count": 145,
   "metadata": {},
   "outputs": [
    {
     "ename": "SyntaxError",
     "evalue": "invalid syntax (<ipython-input-145-36ca7e2eefae>, line 5)",
     "output_type": "error",
     "traceback": [
      "\u001b[1;36m  File \u001b[1;32m\"<ipython-input-145-36ca7e2eefae>\"\u001b[1;36m, line \u001b[1;32m5\u001b[0m\n\u001b[1;33m    dfdx = Integralf, a, n=4)\u001b[0m\n\u001b[1;37m                            ^\u001b[0m\n\u001b[1;31mSyntaxError\u001b[0m\u001b[1;31m:\u001b[0m invalid syntax\n"
     ]
    }
   ],
   "source": [
    "def test_Integral():\n",
    "    f = lambda x: 2*x + 5\n",
    "    F = lambda x: x**2 + 5*x - (a**2 + 5*a)\n",
    "    a = 2\n",
    "    dfdx = Integralf, a, n=4)\n",
    "    x = 6\n",
    "    diff = abs(I(x) - (F(x) - F(a)))\n",
    "    assert diff < 1E-15, 'bug in class Integral, diff=%s' % diff"
   ]
  },
  {
   "cell_type": "markdown",
   "metadata": {},
   "source": [
    "## Special method for printing\n",
    "\n",
    "  * In Python, we can usually print an object `a` by `print a`,\n",
    "    works for built-in types (strings, lists, floats, ...)\n",
    "\n",
    "  * Python does not know how to print objects of a user-defined class,\n",
    "    but if the class defines a method `__str__`, Python will use this method to convert an object to a string\n",
    "\n",
    "Example:"
   ]
  },
  {
   "cell_type": "code",
   "execution_count": 146,
   "metadata": {},
   "outputs": [],
   "source": [
    "class Y:\n",
    "    ...\n",
    "    def __call__(self, t):\n",
    "        return self.v0*t - 0.5*self.g*t**2\n",
    "\n",
    "    def __str__(self):\n",
    "        return 'v0*t - 0.5*g*t**2; v0=%g' % self.v0"
   ]
  },
  {
   "cell_type": "markdown",
   "metadata": {},
   "source": [
    "Demo:"
   ]
  },
  {
   "cell_type": "code",
   "execution_count": 147,
   "metadata": {},
   "outputs": [
    {
     "ename": "TypeError",
     "evalue": "object() takes no parameters",
     "output_type": "error",
     "traceback": [
      "\u001b[1;31m---------------------------------------------------------------------------\u001b[0m",
      "\u001b[1;31mTypeError\u001b[0m                                 Traceback (most recent call last)",
      "\u001b[1;32m<ipython-input-147-31db993ad973>\u001b[0m in \u001b[0;36m<module>\u001b[1;34m\u001b[0m\n\u001b[1;32m----> 1\u001b[1;33m \u001b[0my\u001b[0m \u001b[1;33m=\u001b[0m \u001b[0mY\u001b[0m\u001b[1;33m(\u001b[0m\u001b[1;36m1.5\u001b[0m\u001b[1;33m)\u001b[0m\u001b[1;33m\u001b[0m\u001b[1;33m\u001b[0m\u001b[0m\n\u001b[0m\u001b[0;32m      2\u001b[0m \u001b[0my\u001b[0m\u001b[1;33m(\u001b[0m\u001b[1;36m0.2\u001b[0m\u001b[1;33m)\u001b[0m\u001b[1;33m\u001b[0m\u001b[1;33m\u001b[0m\u001b[0m\n",
      "\u001b[1;31mTypeError\u001b[0m: object() takes no parameters"
     ]
    }
   ],
   "source": [
    "y = Y(1.5)\n",
    "y(0.2)"
   ]
  },
  {
   "cell_type": "code",
   "execution_count": 149,
   "metadata": {},
   "outputs": [
    {
     "name": "stdout",
     "output_type": "stream",
     "text": [
      "<__main__.Y object at 0x00000228F1A66CC0>\n"
     ]
    }
   ],
   "source": [
    "print (y)"
   ]
  },
  {
   "cell_type": "markdown",
   "metadata": {},
   "source": [
    "## Class for polynomials; functionality\n",
    "\n",
    "A polynomial can be specified by a list of its coefficients. For example,\n",
    "$1 - x^2 + 2x^3$ is"
   ]
  },
  {
   "cell_type": "markdown",
   "metadata": {},
   "source": [
    "$$\n",
    "1 + 0\\cdot x - 1\\cdot x^2 + 2\\cdot x^3\n",
    "$$"
   ]
  },
  {
   "cell_type": "markdown",
   "metadata": {},
   "source": [
    "and the coefficients can be stored as `[1, 0, -1, 2]`\n",
    "\n",
    "**Desired application code:**"
   ]
  },
  {
   "cell_type": "code",
   "execution_count": 150,
   "metadata": {},
   "outputs": [
    {
     "ename": "SyntaxError",
     "evalue": "Missing parentheses in call to 'print'. Did you mean print(p1)? (<ipython-input-150-f0fb7a280070>, line 2)",
     "output_type": "error",
     "traceback": [
      "\u001b[1;36m  File \u001b[1;32m\"<ipython-input-150-f0fb7a280070>\"\u001b[1;36m, line \u001b[1;32m2\u001b[0m\n\u001b[1;33m    print p1\u001b[0m\n\u001b[1;37m           ^\u001b[0m\n\u001b[1;31mSyntaxError\u001b[0m\u001b[1;31m:\u001b[0m Missing parentheses in call to 'print'. Did you mean print(p1)?\n"
     ]
    }
   ],
   "source": [
    "p1 = Polynomial([1, -1])\n",
    "print p1"
   ]
  },
  {
   "cell_type": "code",
   "execution_count": 151,
   "metadata": {},
   "outputs": [
    {
     "ename": "SyntaxError",
     "evalue": "Missing parentheses in call to 'print'. Did you mean print(p3.coeff)? (<ipython-input-151-3973f5d995cd>, line 3)",
     "output_type": "error",
     "traceback": [
      "\u001b[1;36m  File \u001b[1;32m\"<ipython-input-151-3973f5d995cd>\"\u001b[1;36m, line \u001b[1;32m3\u001b[0m\n\u001b[1;33m    print p3.coeff\u001b[0m\n\u001b[1;37m           ^\u001b[0m\n\u001b[1;31mSyntaxError\u001b[0m\u001b[1;31m:\u001b[0m Missing parentheses in call to 'print'. Did you mean print(p3.coeff)?\n"
     ]
    }
   ],
   "source": [
    "p2 = Polynomial([0, 1, 0, 0, -6, -1])\n",
    "p3 = p1 + p2\n",
    "print p3.coeff"
   ]
  },
  {
   "cell_type": "code",
   "execution_count": 152,
   "metadata": {},
   "outputs": [
    {
     "ename": "SyntaxError",
     "evalue": "Missing parentheses in call to 'print'. Did you mean print(p3)? (<ipython-input-152-485c5564ddaf>, line 1)",
     "output_type": "error",
     "traceback": [
      "\u001b[1;36m  File \u001b[1;32m\"<ipython-input-152-485c5564ddaf>\"\u001b[1;36m, line \u001b[1;32m1\u001b[0m\n\u001b[1;33m    print p3\u001b[0m\n\u001b[1;37m           ^\u001b[0m\n\u001b[1;31mSyntaxError\u001b[0m\u001b[1;31m:\u001b[0m Missing parentheses in call to 'print'. Did you mean print(p3)?\n"
     ]
    }
   ],
   "source": [
    "print p3"
   ]
  },
  {
   "cell_type": "code",
   "execution_count": 153,
   "metadata": {},
   "outputs": [
    {
     "ename": "SyntaxError",
     "evalue": "Missing parentheses in call to 'print'. Did you mean print(p2)? (<ipython-input-153-d050b0dfee52>, line 2)",
     "output_type": "error",
     "traceback": [
      "\u001b[1;36m  File \u001b[1;32m\"<ipython-input-153-d050b0dfee52>\"\u001b[1;36m, line \u001b[1;32m2\u001b[0m\n\u001b[1;33m    print p2\u001b[0m\n\u001b[1;37m           ^\u001b[0m\n\u001b[1;31mSyntaxError\u001b[0m\u001b[1;31m:\u001b[0m Missing parentheses in call to 'print'. Did you mean print(p2)?\n"
     ]
    }
   ],
   "source": [
    "p2.differentiate()\n",
    "print p2"
   ]
  },
  {
   "cell_type": "markdown",
   "metadata": {},
   "source": [
    "How can we make class `Polynomial`?\n",
    "\n",
    "\n",
    "\n",
    "## Class Polynomial; basic code"
   ]
  },
  {
   "cell_type": "code",
   "execution_count": 154,
   "metadata": {},
   "outputs": [],
   "source": [
    "class Polynomial:\n",
    "    def __init__(self, coefficients):\n",
    "        self.coeff = coefficients\n",
    "\n",
    "    def __call__(self, x):\n",
    "        s = 0\n",
    "        for i in range(len(self.coeff)):\n",
    "            s += self.coeff[i]*x**i\n",
    "        return s"
   ]
  },
  {
   "cell_type": "markdown",
   "metadata": {},
   "source": [
    "## Class Polynomial; addition"
   ]
  },
  {
   "cell_type": "code",
   "execution_count": 155,
   "metadata": {},
   "outputs": [],
   "source": [
    "class Polynomial:\n",
    "    ...\n",
    "\n",
    "    def __add__(self, other):\n",
    "        # return self + other\n",
    "\n",
    "        # start with the longest list and add in the other:\n",
    "        if len(self.coeff) > len(other.coeff):\n",
    "            coeffsum = self.coeff[:]  # copy!\n",
    "            for i in range(len(other.coeff)):\n",
    "                coeffsum[i] += other.coeff[i]\n",
    "        else:\n",
    "            coeffsum = other.coeff[:] # copy!\n",
    "            for i in range(len(self.coeff)):\n",
    "                coeffsum[i] += self.coeff[i]\n",
    "        return Polynomial(coeffsum)"
   ]
  },
  {
   "cell_type": "markdown",
   "metadata": {},
   "source": [
    "## Class Polynomial; multiplication\n",
    "\n",
    "**Mathematics:**\n",
    "\n",
    "Multiplication of two general polynomials:"
   ]
  },
  {
   "cell_type": "markdown",
   "metadata": {},
   "source": [
    "$$\n",
    "\\left(\\sum_{i=0}^Mc_ix^i\\right)\\left(\\sum_{j=0}^N d_jx^j\\right)\n",
    "= \\sum_{i=0}^M \\sum_{j=0}^N c_id_j x^{i+j}\n",
    "$$"
   ]
  },
  {
   "cell_type": "markdown",
   "metadata": {},
   "source": [
    "The coeff. corresponding to power $i+j$ is $c_i\\cdot d_j$. The\n",
    "list `r` of coefficients of the result:\n",
    "`r[i+j] = c[i]*d[j]` (`i` and `j` running from\n",
    "0 to $M$ and $N$, resp.)\n",
    "\n",
    "\n",
    "\n",
    "**Implementation:**"
   ]
  },
  {
   "cell_type": "code",
   "execution_count": 156,
   "metadata": {},
   "outputs": [],
   "source": [
    "class Polynomial:\n",
    "    ...\n",
    "    def __mul__(self, other):\n",
    "        M = len(self.coeff) - 1\n",
    "        N = len(other.coeff) - 1\n",
    "        coeff = [0]*(M+N+1)  # or zeros(M+N+1)\n",
    "        for i in range(0, M+1):\n",
    "            for j in range(0, N+1):\n",
    "                coeff[i+j] += self.coeff[i]*other.coeff[j]\n",
    "        return Polynomial(coeff)"
   ]
  },
  {
   "cell_type": "markdown",
   "metadata": {},
   "source": [
    "## Class Polynomial; differentation\n",
    "\n",
    "**Mathematics:**\n",
    "\n",
    "Rule for differentiating a general polynomial:"
   ]
  },
  {
   "cell_type": "markdown",
   "metadata": {},
   "source": [
    "$$\n",
    "{d\\over dx}\\sum_{i=0}^n c_ix^i = \\sum_{i=1}^n ic_ix^{i-1}\n",
    "$$"
   ]
  },
  {
   "cell_type": "markdown",
   "metadata": {},
   "source": [
    "If `c` is the list of coefficients, the derivative has a list\n",
    "of coefficients, `dc`, where `dc[i-1] = i*c[i]` for\n",
    "`i` running from 1 to the largest index in `c`.\n",
    "Note that `dc` has one element less than `c`.\n",
    "\n",
    "\n",
    "\n",
    "**Implementation:**"
   ]
  },
  {
   "cell_type": "code",
   "execution_count": 157,
   "metadata": {},
   "outputs": [],
   "source": [
    "class Polynomial:\n",
    "    ...\n",
    "    def differentiate(self):    # change self\n",
    "        for i in range(1, len(self.coeff)):\n",
    "            self.coeff[i-1] = i*self.coeff[i]\n",
    "        del self.coeff[-1]\n",
    "\n",
    "    def derivative(self):       # return new polynomial\n",
    "        dpdx = Polynomial(self.coeff[:])  # copy\n",
    "        dpdx.differentiate()\n",
    "        return dpdx"
   ]
  },
  {
   "cell_type": "markdown",
   "metadata": {},
   "source": [
    "## Class Polynomial; pretty print"
   ]
  },
  {
   "cell_type": "code",
   "execution_count": 158,
   "metadata": {},
   "outputs": [],
   "source": [
    "class Polynomial:\n",
    "    ...\n",
    "    def __str__(self):\n",
    "        s = ''\n",
    "        for i in range(0, len(self.coeff)):\n",
    "            if self.coeff[i] != 0:\n",
    "                s += ' + %g*x^%d' % (self.coeff[i], i)\n",
    "        # fix layout (lots of special cases):\n",
    "        s = s.replace('+ -', '- ')\n",
    "        s = s.replace(' 1*', ' ')\n",
    "        s = s.replace('x^0', '1')\n",
    "        s = s.replace('x^1 ', 'x ')\n",
    "        s = s.replace('x^1', 'x')\n",
    "        if s[0:3] == ' + ':  # remove initial +\n",
    "            s = s[3:]\n",
    "        if s[0:3] == ' - ':  # fix spaces for initial -\n",
    "            s = '-' + s[3:]\n",
    "        return s"
   ]
  },
  {
   "cell_type": "markdown",
   "metadata": {},
   "source": [
    "## Class for polynomials; usage\n",
    "\n",
    "Consider"
   ]
  },
  {
   "cell_type": "markdown",
   "metadata": {},
   "source": [
    "$$\n",
    "p_1(x)= 1-x,\\quad p_2(x)=x - 6x^4 - x^5\n",
    "$$"
   ]
  },
  {
   "cell_type": "markdown",
   "metadata": {},
   "source": [
    "and their sum"
   ]
  },
  {
   "cell_type": "markdown",
   "metadata": {},
   "source": [
    "$$\n",
    "p_3(x) = p_1(x) + p_2(x) = 1 -6x^4 - x^5\n",
    "$$"
   ]
  },
  {
   "cell_type": "code",
   "execution_count": 159,
   "metadata": {},
   "outputs": [
    {
     "ename": "SyntaxError",
     "evalue": "Missing parentheses in call to 'print'. Did you mean print(p1)? (<ipython-input-159-f0fb7a280070>, line 2)",
     "output_type": "error",
     "traceback": [
      "\u001b[1;36m  File \u001b[1;32m\"<ipython-input-159-f0fb7a280070>\"\u001b[1;36m, line \u001b[1;32m2\u001b[0m\n\u001b[1;33m    print p1\u001b[0m\n\u001b[1;37m           ^\u001b[0m\n\u001b[1;31mSyntaxError\u001b[0m\u001b[1;31m:\u001b[0m Missing parentheses in call to 'print'. Did you mean print(p1)?\n"
     ]
    }
   ],
   "source": [
    "p1 = Polynomial([1, -1])\n",
    "print p1"
   ]
  },
  {
   "cell_type": "code",
   "execution_count": 162,
   "metadata": {},
   "outputs": [
    {
     "ename": "TypeError",
     "evalue": "object() takes no parameters",
     "output_type": "error",
     "traceback": [
      "\u001b[1;31m---------------------------------------------------------------------------\u001b[0m",
      "\u001b[1;31mTypeError\u001b[0m                                 Traceback (most recent call last)",
      "\u001b[1;32m<ipython-input-162-0296b2bbdd87>\u001b[0m in \u001b[0;36m<module>\u001b[1;34m\u001b[0m\n\u001b[1;32m----> 1\u001b[1;33m \u001b[0mp2\u001b[0m \u001b[1;33m=\u001b[0m \u001b[0mPolynomial\u001b[0m\u001b[1;33m(\u001b[0m\u001b[1;33m[\u001b[0m\u001b[1;36m0\u001b[0m\u001b[1;33m,\u001b[0m \u001b[1;36m1\u001b[0m\u001b[1;33m,\u001b[0m \u001b[1;36m0\u001b[0m\u001b[1;33m,\u001b[0m \u001b[1;36m0\u001b[0m\u001b[1;33m,\u001b[0m \u001b[1;33m-\u001b[0m\u001b[1;36m6\u001b[0m\u001b[1;33m,\u001b[0m \u001b[1;33m-\u001b[0m\u001b[1;36m1\u001b[0m\u001b[1;33m]\u001b[0m\u001b[1;33m)\u001b[0m\u001b[1;33m\u001b[0m\u001b[1;33m\u001b[0m\u001b[0m\n\u001b[0m\u001b[0;32m      2\u001b[0m \u001b[0mp3\u001b[0m \u001b[1;33m=\u001b[0m \u001b[0mp1\u001b[0m \u001b[1;33m+\u001b[0m \u001b[0mp2\u001b[0m\u001b[1;33m\u001b[0m\u001b[1;33m\u001b[0m\u001b[0m\n\u001b[0;32m      3\u001b[0m \u001b[0mprint\u001b[0m \u001b[1;33m(\u001b[0m\u001b[0mp3\u001b[0m\u001b[1;33m.\u001b[0m\u001b[0mcoeff\u001b[0m\u001b[1;33m)\u001b[0m\u001b[1;33m\u001b[0m\u001b[1;33m\u001b[0m\u001b[0m\n",
      "\u001b[1;31mTypeError\u001b[0m: object() takes no parameters"
     ]
    }
   ],
   "source": [
    "p2 = Polynomial([0, 1, 0, 0, -6, -1])\n",
    "p3 = p1 + p2\n",
    "print (p3.coeff)"
   ]
  },
  {
   "cell_type": "code",
   "execution_count": 163,
   "metadata": {},
   "outputs": [
    {
     "ename": "NameError",
     "evalue": "name 'p2' is not defined",
     "output_type": "error",
     "traceback": [
      "\u001b[1;31m---------------------------------------------------------------------------\u001b[0m",
      "\u001b[1;31mNameError\u001b[0m                                 Traceback (most recent call last)",
      "\u001b[1;32m<ipython-input-163-df053f4304eb>\u001b[0m in \u001b[0;36m<module>\u001b[1;34m\u001b[0m\n\u001b[1;32m----> 1\u001b[1;33m \u001b[0mp2\u001b[0m\u001b[1;33m.\u001b[0m\u001b[0mdifferentiate\u001b[0m\u001b[1;33m(\u001b[0m\u001b[1;33m)\u001b[0m\u001b[1;33m\u001b[0m\u001b[1;33m\u001b[0m\u001b[0m\n\u001b[0m\u001b[0;32m      2\u001b[0m \u001b[0mprint\u001b[0m \u001b[1;33m(\u001b[0m\u001b[0mp2\u001b[0m\u001b[1;33m)\u001b[0m\u001b[1;33m\u001b[0m\u001b[1;33m\u001b[0m\u001b[0m\n",
      "\u001b[1;31mNameError\u001b[0m: name 'p2' is not defined"
     ]
    }
   ],
   "source": [
    "p2.differentiate()\n",
    "print (p2)"
   ]
  },
  {
   "cell_type": "markdown",
   "metadata": {},
   "source": [
    "## The programmer is in charge of defining special methods!\n",
    "\n",
    "How should, e.g., `__add__(self, other)` be defined? This is completely up to the programmer, depending on what is meaningful by `object1 + object2`.\n",
    "\n",
    "\n",
    "\n",
    "An anthropologist was asking a primitive tribesman about arithmetic.  When the anthropologist asked, *What does two and two make?* the tribesman replied, *Five.*  Asked to explain, the tribesman said, *If I have a rope with two knots, and another rope with two knots, and I join the ropes together, then I have five knots.*\n",
    "\n",
    "\n",
    "\n",
    "## Special methods for arithmetic operations"
   ]
  },
  {
   "cell_type": "code",
   "execution_count": 164,
   "metadata": {},
   "outputs": [],
   "source": [
    "c = a + b    #  c = a.__add__(b)\n",
    "\n",
    "c = a - b    #  c = a.__sub__(b)\n",
    "\n",
    "c = a*b      #  c = a.__mul__(b)\n",
    "\n",
    "c = a/b      #  c = a.__div__(b)\n",
    "\n",
    "c = a**e     #  c = a.__pow__(e)"
   ]
  },
  {
   "cell_type": "markdown",
   "metadata": {},
   "source": [
    "## Special methods for comparisons"
   ]
  },
  {
   "cell_type": "code",
   "execution_count": 165,
   "metadata": {},
   "outputs": [
    {
     "data": {
      "text/plain": [
       "False"
      ]
     },
     "execution_count": 165,
     "metadata": {},
     "output_type": "execute_result"
    }
   ],
   "source": [
    "a == b       #  a.__eq__(b)\n",
    "\n",
    "a != b       #  a.__ne__(b)\n",
    "\n",
    "a < b        #  a.__lt__(b)\n",
    "\n",
    "a <= b       #  a.__le__(b)\n",
    "\n",
    "a > b        #  a.__gt__(b)\n",
    "\n",
    "a >= b       #  a.__ge__(b)"
   ]
  },
  {
   "cell_type": "markdown",
   "metadata": {},
   "source": [
    "## Class for vectors in the plane\n",
    "\n",
    "**Mathematical operations for vectors in the plane:**"
   ]
  },
  {
   "cell_type": "markdown",
   "metadata": {},
   "source": [
    "$$\n",
    "\\begin{align*}\n",
    "(a,b) + (c,d) &= (a+c, b+d)\\\\\n",
    "(a,b) - (c,d) &= (a-c, b-d)\\\\\n",
    "(a,b)\\cdot(c,d) &= ac + bd\\\\\n",
    "(a,b) &= (c, d)\\hbox{ if }a=c\\hbox{ and }b=d\n",
    "\\end{align*}\n",
    "$$"
   ]
  },
  {
   "cell_type": "markdown",
   "metadata": {},
   "source": [
    "**Desired application code:**"
   ]
  },
  {
   "cell_type": "code",
   "execution_count": 172,
   "metadata": {},
   "outputs": [
    {
     "name": "stdout",
     "output_type": "stream",
     "text": [
      "(1, 1)\n"
     ]
    }
   ],
   "source": [
    "u = Vec2D(0,1)\n",
    "v = Vec2D(1,0)\n",
    "print (u + v)"
   ]
  },
  {
   "cell_type": "code",
   "execution_count": 173,
   "metadata": {},
   "outputs": [
    {
     "data": {
      "text/plain": [
       "True"
      ]
     },
     "execution_count": 173,
     "metadata": {},
     "output_type": "execute_result"
    }
   ],
   "source": [
    "a = u + v\n",
    "w = Vec2D(1,1)\n",
    "a == w"
   ]
  },
  {
   "cell_type": "code",
   "execution_count": 174,
   "metadata": {},
   "outputs": [
    {
     "name": "stdout",
     "output_type": "stream",
     "text": [
      "(-1, 1)\n"
     ]
    }
   ],
   "source": [
    "print (u - v)"
   ]
  },
  {
   "cell_type": "code",
   "execution_count": 175,
   "metadata": {},
   "outputs": [
    {
     "name": "stdout",
     "output_type": "stream",
     "text": [
      "0\n"
     ]
    }
   ],
   "source": [
    "print (u*v)"
   ]
  },
  {
   "cell_type": "markdown",
   "metadata": {},
   "source": [
    "## Class for vectors; implementation"
   ]
  },
  {
   "cell_type": "code",
   "execution_count": 176,
   "metadata": {},
   "outputs": [],
   "source": [
    " class Vec2D:\n",
    "    def __init__(self, x, y):\n",
    "        self.x = x;  self.y = y\n",
    "\n",
    "    def __add__(self, other):\n",
    "        return Vec2D(self.x+other.x, self.y+other.y)\n",
    "\n",
    "    def __sub__(self, other):\n",
    "        return Vec2D(self.x-other.x, self.y-other.y)\n",
    "\n",
    "    def __mul__(self, other):\n",
    "        return self.x*other.x + self.y*other.y\n",
    "\n",
    "    def __abs__(self):\n",
    "        return math.sqrt(self.x**2 + self.y**2)\n",
    "\n",
    "    def __eq__(self, other):\n",
    "        return self.x == other.x and self.y == other.y\n",
    "\n",
    "    def __str__(self):\n",
    "        return '(%g, %g)' % (self.x, self.y)\n",
    "\n",
    "    def __ne__(self, other):\n",
    "        return not self.__eq__(other)  # reuse __eq__"
   ]
  },
  {
   "cell_type": "markdown",
   "metadata": {},
   "source": [
    "## The repr special method: `eval(repr(p))` creates `p`"
   ]
  },
  {
   "cell_type": "code",
   "execution_count": 177,
   "metadata": {},
   "outputs": [],
   "source": [
    "class MyClass:\n",
    "    def __init__(self, a, b):\n",
    "        self.a, self.b = a, b\n",
    "\n",
    "    def __str__(self):\n",
    "        \"\"\"Return string with pretty print.\"\"\"\n",
    "        return 'a=%s, b=%s' % (self.a, self.b)\n",
    "\n",
    "    def __repr__(self):\n",
    "        \"\"\"Return string such that eval(s) recreates self.\"\"\"\n",
    "        return 'MyClass(%s, %s)' % (self.a, self.b)"
   ]
  },
  {
   "cell_type": "code",
   "execution_count": 178,
   "metadata": {},
   "outputs": [
    {
     "name": "stdout",
     "output_type": "stream",
     "text": [
      "a=1, b=5\n"
     ]
    }
   ],
   "source": [
    "m = MyClass(1, 5)\n",
    "print (m)      # calls m.__str__()"
   ]
  },
  {
   "cell_type": "code",
   "execution_count": 179,
   "metadata": {},
   "outputs": [
    {
     "data": {
      "text/plain": [
       "'a=1, b=5'"
      ]
     },
     "execution_count": 179,
     "metadata": {},
     "output_type": "execute_result"
    }
   ],
   "source": [
    "str(m)       # calls m.__str__()"
   ]
  },
  {
   "cell_type": "code",
   "execution_count": 180,
   "metadata": {},
   "outputs": [
    {
     "data": {
      "text/plain": [
       "'MyClass(1, 5)'"
      ]
     },
     "execution_count": 180,
     "metadata": {},
     "output_type": "execute_result"
    }
   ],
   "source": [
    "s = repr(m)  # calls m.__repr__()\n",
    "s"
   ]
  },
  {
   "cell_type": "code",
   "execution_count": 181,
   "metadata": {},
   "outputs": [
    {
     "data": {
      "text/plain": [
       "MyClass(1, 5)"
      ]
     },
     "execution_count": 181,
     "metadata": {},
     "output_type": "execute_result"
    }
   ],
   "source": [
    "m2 = eval(s) # same as m2 = MyClass(1, 5)\n",
    "m2           # calls m.__repr__()"
   ]
  },
  {
   "cell_type": "markdown",
   "metadata": {},
   "source": [
    "## Class Y revisited with repr print method"
   ]
  },
  {
   "cell_type": "code",
   "execution_count": 182,
   "metadata": {},
   "outputs": [],
   "source": [
    "class Y:\n",
    "    \"\"\"Class for function y(t; v0, g) = v0*t - 0.5*g*t**2.\"\"\"\n",
    "\n",
    "    def __init__(self, v0):\n",
    "        \"\"\"Store parameters.\"\"\"\n",
    "        self.v0 = v0\n",
    "        self.g = 9.81\n",
    "\n",
    "    def __call__(self, t):\n",
    "        \"\"\"Evaluate function.\"\"\"\n",
    "        return self.v0*t - 0.5*self.g*t**2\n",
    "\n",
    "    def __str__(self):\n",
    "        \"\"\"Pretty print.\"\"\"\n",
    "        return 'v0*t - 0.5*g*t**2; v0=%g' % self.v0\n",
    "\n",
    "    def __repr__(self):\n",
    "        \"\"\"Print code for regenerating this instance.\"\"\"\n",
    "        return 'Y(%s)' % self.v0"
   ]
  },
  {
   "cell_type": "markdown",
   "metadata": {},
   "source": [
    "## Class for complex numbers; functionality\n",
    "\n",
    "Python already has a class `complex` for complex numbers, but implementing such a class is a good pedagogical example on class programming (especially with special methods).\n",
    "\n",
    "\n",
    "\n",
    "**Usage:**"
   ]
  },
  {
   "cell_type": "code",
   "execution_count": 185,
   "metadata": {},
   "outputs": [
    {
     "name": "stdout",
     "output_type": "stream",
     "text": [
      "(3-1j)\n"
     ]
    }
   ],
   "source": [
    "u = complex(2,-1)\n",
    "v = complex(1)     # zero imaginary part\n",
    "w = u + v\n",
    "print (w)"
   ]
  },
  {
   "cell_type": "code",
   "execution_count": 186,
   "metadata": {},
   "outputs": [
    {
     "data": {
      "text/plain": [
       "True"
      ]
     },
     "execution_count": 186,
     "metadata": {},
     "output_type": "execute_result"
    }
   ],
   "source": [
    "w != u"
   ]
  },
  {
   "cell_type": "code",
   "execution_count": 187,
   "metadata": {},
   "outputs": [
    {
     "data": {
      "text/plain": [
       "(2-1j)"
      ]
     },
     "execution_count": 187,
     "metadata": {},
     "output_type": "execute_result"
    }
   ],
   "source": [
    "u*v"
   ]
  },
  {
   "cell_type": "code",
   "execution_count": 188,
   "metadata": {},
   "outputs": [
    {
     "ename": "TypeError",
     "evalue": "'<' not supported between instances of 'complex' and 'complex'",
     "output_type": "error",
     "traceback": [
      "\u001b[1;31m---------------------------------------------------------------------------\u001b[0m",
      "\u001b[1;31mTypeError\u001b[0m                                 Traceback (most recent call last)",
      "\u001b[1;32m<ipython-input-188-3fa5ee836bf5>\u001b[0m in \u001b[0;36m<module>\u001b[1;34m\u001b[0m\n\u001b[1;32m----> 1\u001b[1;33m \u001b[0mu\u001b[0m \u001b[1;33m<\u001b[0m \u001b[0mv\u001b[0m\u001b[1;33m\u001b[0m\u001b[1;33m\u001b[0m\u001b[0m\n\u001b[0m",
      "\u001b[1;31mTypeError\u001b[0m: '<' not supported between instances of 'complex' and 'complex'"
     ]
    }
   ],
   "source": [
    "u < v"
   ]
  },
  {
   "cell_type": "code",
   "execution_count": 190,
   "metadata": {},
   "outputs": [
    {
     "name": "stdout",
     "output_type": "stream",
     "text": [
      "(7-1j)\n"
     ]
    }
   ],
   "source": [
    "print (w + 4)"
   ]
  },
  {
   "cell_type": "code",
   "execution_count": 191,
   "metadata": {},
   "outputs": [
    {
     "name": "stdout",
     "output_type": "stream",
     "text": [
      "(1+1j)\n"
     ]
    }
   ],
   "source": [
    "print (4 - w)"
   ]
  },
  {
   "cell_type": "markdown",
   "metadata": {},
   "source": [
    "## Class for complex numbers; implementation (part 1)"
   ]
  },
  {
   "cell_type": "code",
   "execution_count": 192,
   "metadata": {},
   "outputs": [],
   "source": [
    "class Complex:\n",
    "    def __init__(self, real, imag=0.0):\n",
    "        self.real = real\n",
    "        self.imag = imag\n",
    "\n",
    "    def __add__(self, other):\n",
    "        return Complex(self.real + other.real,\n",
    "                       self.imag + other.imag)\n",
    "\n",
    "    def __sub__(self, other):\n",
    "        return Complex(self.real - other.real,\n",
    "                       self.imag - other.imag)\n",
    "\n",
    "    def __mul__(self, other):\n",
    "        return Complex(self.real*other.real - self.imag*other.imag,\n",
    "                       self.imag*other.real + self.real*other.imag)\n",
    "\n",
    "    def __div__(self, other):\n",
    "        ar, ai, br, bi = self.real, self.imag, \\\n",
    "                         other.real, other.imag # short forms\n",
    "        r = float(br**2 + bi**2)\n",
    "        return Complex((ar*br+ai*bi)/r, (ai*br-ar*bi)/r)"
   ]
  },
  {
   "cell_type": "markdown",
   "metadata": {},
   "source": [
    "## Class for complex numbers; implementation (part 2)"
   ]
  },
  {
   "cell_type": "code",
   "execution_count": 193,
   "metadata": {},
   "outputs": [],
   "source": [
    "    def __abs__(self):\n",
    "        return sqrt(self.real**2 + self.imag**2)\n",
    "\n",
    "    def __neg__(self):   # defines -c (c is Complex)\n",
    "        return Complex(-self.real, -self.imag)\n",
    "\n",
    "    def __eq__(self, other):\n",
    "        return self.real == other.real and \\\n",
    "               self.imag == other.imag\n",
    "\n",
    "    def __ne__(self, other):\n",
    "        return not self.__eq__(other)\n",
    "\n",
    "    def __str__(self):\n",
    "        return '(%g, %g)' % (self.real, self.imag)\n",
    "\n",
    "    def __repr__(self):\n",
    "        return 'Complex' + str(self)\n",
    "\n",
    "    def __pow__(self, power):\n",
    "        raise NotImplementedError(\n",
    "          'self**power is not yet impl. for Complex')"
   ]
  },
  {
   "cell_type": "markdown",
   "metadata": {},
   "source": [
    "## Refining the special methods for arithmetics\n",
    "\n",
    "Can we add a real number to a complex number?"
   ]
  },
  {
   "cell_type": "code",
   "execution_count": 194,
   "metadata": {},
   "outputs": [],
   "source": [
    "u = Complex(1, 2)\n",
    "w = u + 4.5"
   ]
  },
  {
   "cell_type": "markdown",
   "metadata": {},
   "source": [
    "Problem: we have assumed that `other` is `Complex`.\n",
    "Remedy:"
   ]
  },
  {
   "cell_type": "code",
   "execution_count": 195,
   "metadata": {},
   "outputs": [],
   "source": [
    "class Complex:\n",
    "    ...\n",
    "    def __add__(self, other):\n",
    "        if isinstance(other, (float,int)):\n",
    "            other = Complex(other)\n",
    "        return Complex(self.real + other.real,\n",
    "                       self.imag + other.imag)\n",
    "\n",
    "# or\n",
    "\n",
    "    def __add__(self, other):\n",
    "        if isinstance(other, (float,int)):\n",
    "            return Complex(self.real + other, self.imag)\n",
    "        else:\n",
    "            return Complex(self.real + other.real,\n",
    "                           self.imag + other.imag)"
   ]
  },
  {
   "cell_type": "markdown",
   "metadata": {},
   "source": [
    "## Special methods for \"right\" operands; addition\n",
    "\n",
    "What if we try this:"
   ]
  },
  {
   "cell_type": "code",
   "execution_count": 196,
   "metadata": {},
   "outputs": [
    {
     "ename": "TypeError",
     "evalue": "object() takes no parameters",
     "output_type": "error",
     "traceback": [
      "\u001b[1;31m---------------------------------------------------------------------------\u001b[0m",
      "\u001b[1;31mTypeError\u001b[0m                                 Traceback (most recent call last)",
      "\u001b[1;32m<ipython-input-196-74e52c5835d7>\u001b[0m in \u001b[0;36m<module>\u001b[1;34m\u001b[0m\n\u001b[1;32m----> 1\u001b[1;33m \u001b[0mu\u001b[0m \u001b[1;33m=\u001b[0m \u001b[0mComplex\u001b[0m\u001b[1;33m(\u001b[0m\u001b[1;36m1\u001b[0m\u001b[1;33m,\u001b[0m \u001b[1;36m2\u001b[0m\u001b[1;33m)\u001b[0m\u001b[1;33m\u001b[0m\u001b[1;33m\u001b[0m\u001b[0m\n\u001b[0m\u001b[0;32m      2\u001b[0m \u001b[0mw\u001b[0m \u001b[1;33m=\u001b[0m \u001b[1;36m4.5\u001b[0m \u001b[1;33m+\u001b[0m \u001b[0mu\u001b[0m\u001b[1;33m\u001b[0m\u001b[1;33m\u001b[0m\u001b[0m\n",
      "\u001b[1;31mTypeError\u001b[0m: object() takes no parameters"
     ]
    }
   ],
   "source": [
    "u = Complex(1, 2)\n",
    "w = 4.5 + u"
   ]
  },
  {
   "cell_type": "markdown",
   "metadata": {},
   "source": [
    "Problem: Python's `float` objects cannot add a `Complex`.\n",
    "\n",
    "Remedy: if a class has an `__radd__(self, other)` special method, Python applies this for `other + self`"
   ]
  },
  {
   "cell_type": "code",
   "execution_count": 197,
   "metadata": {},
   "outputs": [],
   "source": [
    "class Complex:\n",
    "    ...\n",
    "    def __radd__(self, other):\n",
    "        \"\"\"Rturn other + self.\"\"\"\n",
    "        # other + self = self + other:\n",
    "        return self.__add__(other)"
   ]
  },
  {
   "cell_type": "markdown",
   "metadata": {},
   "source": [
    "## Special methods for \"right\" operands; subtraction\n",
    "\n",
    "Right operands for subtraction is a bit more complicated since $a-b \\neq b-a$:"
   ]
  },
  {
   "cell_type": "code",
   "execution_count": 198,
   "metadata": {},
   "outputs": [],
   "source": [
    "class Complex:\n",
    "    ...\n",
    "    def __sub__(self, other):\n",
    "        if isinstance(other, (float,int)):\n",
    "            other = Complex(other)\n",
    "        return Complex(self.real - other.real,\n",
    "                       self.imag - other.imag)\n",
    "\n",
    "    def __rsub__(self, other):\n",
    "        if isinstance(other, (float,int)):\n",
    "            other = Complex(other)\n",
    "        return other.__sub__(self)"
   ]
  },
  {
   "cell_type": "markdown",
   "metadata": {},
   "source": [
    "## What's in a class?"
   ]
  },
  {
   "cell_type": "code",
   "execution_count": 199,
   "metadata": {},
   "outputs": [],
   "source": [
    " class A:\n",
    "    \"\"\"A class for demo purposes.\"\"\"\n",
    "    def __init__(self, value):\n",
    "        self.v = value"
   ]
  },
  {
   "cell_type": "markdown",
   "metadata": {},
   "source": [
    "Any instance holds its attributes in the `self.__dict__` dictionary (Python automatically creates this dict)"
   ]
  },
  {
   "cell_type": "code",
   "execution_count": 200,
   "metadata": {},
   "outputs": [
    {
     "name": "stdout",
     "output_type": "stream",
     "text": [
      "{'v': [1, 2]}\n"
     ]
    }
   ],
   "source": [
    "a = A([1,2])\n",
    "print (a.__dict__)  # all attributes"
   ]
  },
  {
   "cell_type": "code",
   "execution_count": 201,
   "metadata": {},
   "outputs": [
    {
     "data": {
      "text/plain": [
       "['__class__',\n",
       " '__delattr__',\n",
       " '__dict__',\n",
       " '__dir__',\n",
       " '__doc__',\n",
       " '__eq__',\n",
       " '__format__',\n",
       " '__ge__',\n",
       " '__getattribute__',\n",
       " '__gt__',\n",
       " '__hash__',\n",
       " '__init__',\n",
       " '__init_subclass__',\n",
       " '__le__',\n",
       " '__lt__',\n",
       " '__module__',\n",
       " '__ne__',\n",
       " '__new__',\n",
       " '__reduce__',\n",
       " '__reduce_ex__',\n",
       " '__repr__',\n",
       " '__setattr__',\n",
       " '__sizeof__',\n",
       " '__str__',\n",
       " '__subclasshook__',\n",
       " '__weakref__',\n",
       " 'v']"
      ]
     },
     "execution_count": 201,
     "metadata": {},
     "output_type": "execute_result"
    }
   ],
   "source": [
    "dir(a)            # what's in object a?"
   ]
  },
  {
   "cell_type": "code",
   "execution_count": 202,
   "metadata": {},
   "outputs": [
    {
     "data": {
      "text/plain": [
       "'A class for demo purposes.'"
      ]
     },
     "execution_count": 202,
     "metadata": {},
     "output_type": "execute_result"
    }
   ],
   "source": [
    "a.__doc__         # programmer's documentation of A"
   ]
  },
  {
   "cell_type": "markdown",
   "metadata": {},
   "source": [
    "## Ooops - we can add new attributes as we want!"
   ]
  },
  {
   "cell_type": "code",
   "execution_count": 203,
   "metadata": {},
   "outputs": [
    {
     "data": {
      "text/plain": [
       "{'v': [1, 2], 'myvar': 10}"
      ]
     },
     "execution_count": 203,
     "metadata": {},
     "output_type": "execute_result"
    }
   ],
   "source": [
    "a.myvar = 10            # add new attribute (!)\n",
    "a.__dict__"
   ]
  },
  {
   "cell_type": "code",
   "execution_count": 204,
   "metadata": {},
   "outputs": [
    {
     "data": {
      "text/plain": [
       "['__class__',\n",
       " '__delattr__',\n",
       " '__dict__',\n",
       " '__dir__',\n",
       " '__doc__',\n",
       " '__eq__',\n",
       " '__format__',\n",
       " '__ge__',\n",
       " '__getattribute__',\n",
       " '__gt__',\n",
       " '__hash__',\n",
       " '__init__',\n",
       " '__init_subclass__',\n",
       " '__le__',\n",
       " '__lt__',\n",
       " '__module__',\n",
       " '__ne__',\n",
       " '__new__',\n",
       " '__reduce__',\n",
       " '__reduce_ex__',\n",
       " '__repr__',\n",
       " '__setattr__',\n",
       " '__sizeof__',\n",
       " '__str__',\n",
       " '__subclasshook__',\n",
       " '__weakref__',\n",
       " 'myvar',\n",
       " 'v']"
      ]
     },
     "execution_count": 204,
     "metadata": {},
     "output_type": "execute_result"
    }
   ],
   "source": [
    "dir(a)"
   ]
  },
  {
   "cell_type": "code",
   "execution_count": 205,
   "metadata": {},
   "outputs": [
    {
     "data": {
      "text/plain": [
       "{'v': -1}"
      ]
     },
     "execution_count": 205,
     "metadata": {},
     "output_type": "execute_result"
    }
   ],
   "source": [
    "b = A(-1)\n",
    "b.__dict__              # b has no myvar attribute"
   ]
  },
  {
   "cell_type": "code",
   "execution_count": 206,
   "metadata": {},
   "outputs": [
    {
     "data": {
      "text/plain": [
       "['__class__',\n",
       " '__delattr__',\n",
       " '__dict__',\n",
       " '__dir__',\n",
       " '__doc__',\n",
       " '__eq__',\n",
       " '__format__',\n",
       " '__ge__',\n",
       " '__getattribute__',\n",
       " '__gt__',\n",
       " '__hash__',\n",
       " '__init__',\n",
       " '__init_subclass__',\n",
       " '__le__',\n",
       " '__lt__',\n",
       " '__module__',\n",
       " '__ne__',\n",
       " '__new__',\n",
       " '__reduce__',\n",
       " '__reduce_ex__',\n",
       " '__repr__',\n",
       " '__setattr__',\n",
       " '__sizeof__',\n",
       " '__str__',\n",
       " '__subclasshook__',\n",
       " '__weakref__',\n",
       " 'v']"
      ]
     },
     "execution_count": 206,
     "metadata": {},
     "output_type": "execute_result"
    }
   ],
   "source": [
    "dir(b)"
   ]
  },
  {
   "cell_type": "markdown",
   "metadata": {},
   "source": [
    "## Summary of defining a class\n",
    "\n",
    "**Example on a defining a class with attributes and methods:**"
   ]
  },
  {
   "cell_type": "code",
   "execution_count": 207,
   "metadata": {},
   "outputs": [],
   "source": [
    "%matplotlib inline\n",
    "\n",
    "\n",
    "class Gravity:\n",
    "    \"\"\"Gravity force between two objects.\"\"\"\n",
    "    def __init__(self, m, M):\n",
    "        self.m = m\n",
    "        self.M = M\n",
    "        self.G = 6.67428E-11 # gravity constant\n",
    "\n",
    "    def force(self, r):\n",
    "        G, m, M = self.G, self.m, self.M\n",
    "        return G*m*M/r**2\n",
    "\n",
    "    def visualize(self, r_start, r_stop, n=100):\n",
    "        from scitools.std import plot, linspace\n",
    "        r = linspace(r_start, r_stop, n)\n",
    "        g = self.force(r)\n",
    "        title='m=%g, M=%g' % (self.m, self.M)\n",
    "        plot(r, g, title=title)"
   ]
  },
  {
   "cell_type": "markdown",
   "metadata": {},
   "source": [
    "## Summary of using a class\n",
    "\n",
    "**Example on using the class:**"
   ]
  },
  {
   "cell_type": "code",
   "execution_count": 208,
   "metadata": {},
   "outputs": [],
   "source": [
    "mass_moon = 7.35E+22\n",
    "mass_earth = 5.97E+24\n",
    "\n",
    "# make instance of class Gravity:\n",
    "gravity = Gravity(mass_moon, mass_earth)\n",
    "\n",
    "r = 3.85E+8  # earth-moon distance in meters\n",
    "Fg = gravity.force(r)   # call class method"
   ]
  },
  {
   "cell_type": "markdown",
   "metadata": {},
   "source": [
    "## Summary of special methods\n",
    "\n",
    "  * `c = a + b` implies `c = a.__add__(b)`\n",
    "\n",
    "  * There are special methods for `a+b`, `a-b`, `a*b`, `a/b`, `a**b`, `-a`, `if a:`, `len(a)`, `str(a)` (pretty print), `repr(a)` (recreate `a` with `eval`), etc.\n",
    "\n",
    "  * With special methods we can create new mathematical objects like vectors, polynomials and complex numbers and write \"mathematical code\" (arithmetics)\n",
    "\n",
    "  * The call special method is particularly handy: `v = c(5)` means `v = c.__call__(5)`\n",
    "\n",
    "  * Functions with parameters should be represented by a class with the parameters as attributes and with a call special method for evaluating the function\n",
    "\n",
    "\n",
    "\n",
    "## Summarizing example: interval arithmetics for uncertainty quantification in formulas\n",
    "\n",
    "**Uncertainty quantification:**\n",
    "\n",
    "Consider measuring gravity $g$ by dropping a ball from $y=y_0$ to $y=0$\n",
    "in time $T$:"
   ]
  },
  {
   "cell_type": "markdown",
   "metadata": {},
   "source": [
    "$$\n",
    "g = 2y_0T^{-2}\n",
    "$$"
   ]
  },
  {
   "cell_type": "markdown",
   "metadata": {},
   "source": [
    "What if $y_0$ and $T$ are uncertain? Say $y_0\\in [0.99,1.01]$ m\n",
    "and $T\\in [0.43, 0.47]$ s. What is the uncertainty in $g$?\n",
    "\n",
    "\n",
    "\n",
    "## The uncertainty can be computed by interval arithmetics\n",
    "\n",
    "**Interval arithmetics.**\n",
    "\n",
    "Rules for computing with intervals, $p=[a,b]$ and $q=[c,d]$:\n",
    "\n",
    " * $p+q = [a + c, b + d]$\n",
    "\n",
    " * $p-q = [a - d, b - c]$\n",
    "\n",
    " * $pq =  [\\min(ac, ad, bc, bd), \\max(ac, ad, bc, bd)]$\n",
    "\n",
    " * $p/q = [\\min(a/c, a/d, b/c, b/d), \\max(a/c, a/d, b/c, b/d)]$\n",
    "   ($[c,d]$ cannot contain zero)\n",
    "\n",
    "Obvious idea: make a class for interval arithmetics!\n",
    "\n",
    "\n",
    "\n",
    "## Class for interval arithmetics"
   ]
  },
  {
   "cell_type": "code",
   "execution_count": 213,
   "metadata": {},
   "outputs": [],
   "source": [
    "class IntervalMath:\n",
    "    def __init__(self, lower, upper):\n",
    "        self.lo = float(lower)\n",
    "        self.up = float(upper)\n",
    "\n",
    "    def __add__(self, other):\n",
    "        a, b, c, d = self.lo, self.up, other.lo, other.up\n",
    "        return IntervalMath(a + c, b + d)\n",
    "\n",
    "    def __sub__(self, other):\n",
    "        a, b, c, d = self.lo, self.up, other.lo, other.up\n",
    "        return IntervalMath(a - d, b - c)\n",
    "\n",
    "    def __mul__(self, other):\n",
    "        a, b, c, d = self.lo, self.up, other.lo, other.up\n",
    "        return IntervalMath(min(a*c, a*d, b*c, b*d),\n",
    "                            max(a*c, a*d, b*c, b*d))\n",
    "\n",
    "    def __div__(self, other):\n",
    "        a, b, c, d = self.lo, self.up, other.lo, other.up\n",
    "        if c*d <= 0: return None\n",
    "        return IntervalMath(min(a/c, a/d, b/c, b/d),\n",
    "                            max(a/c, a/d, b/c, b/d))\n",
    "    def __str__(self):\n",
    "        return '[%g, %g]' % (self.lo, self.up)"
   ]
  },
  {
   "cell_type": "markdown",
   "metadata": {},
   "source": [
    "## Demo of the new class for interval arithmetics\n",
    "\n",
    "**Code:**"
   ]
  },
  {
   "cell_type": "code",
   "execution_count": 214,
   "metadata": {},
   "outputs": [
    {
     "name": "stdout",
     "output_type": "stream",
     "text": [
      "a+b = [1, 3]\n",
      "a-b = [-8, -6]\n",
      "a*b = [-15, -8]\n"
     ]
    },
    {
     "ename": "TypeError",
     "evalue": "unsupported operand type(s) for /: 'IntervalMath' and 'IntervalMath'",
     "output_type": "error",
     "traceback": [
      "\u001b[1;31m---------------------------------------------------------------------------\u001b[0m",
      "\u001b[1;31mTypeError\u001b[0m                                 Traceback (most recent call last)",
      "\u001b[1;32m<ipython-input-214-71a4ec6484cf>\u001b[0m in \u001b[0;36m<module>\u001b[1;34m\u001b[0m\n\u001b[0;32m      5\u001b[0m \u001b[0mexpr\u001b[0m \u001b[1;33m=\u001b[0m \u001b[1;34m'a+b'\u001b[0m\u001b[1;33m,\u001b[0m \u001b[1;34m'a-b'\u001b[0m\u001b[1;33m,\u001b[0m \u001b[1;34m'a*b'\u001b[0m\u001b[1;33m,\u001b[0m \u001b[1;34m'a/b'\u001b[0m   \u001b[1;31m# test expressions\u001b[0m\u001b[1;33m\u001b[0m\u001b[1;33m\u001b[0m\u001b[0m\n\u001b[0;32m      6\u001b[0m \u001b[1;32mfor\u001b[0m \u001b[0me\u001b[0m \u001b[1;32min\u001b[0m \u001b[0mexpr\u001b[0m\u001b[1;33m:\u001b[0m\u001b[1;33m\u001b[0m\u001b[1;33m\u001b[0m\u001b[0m\n\u001b[1;32m----> 7\u001b[1;33m     \u001b[0mprint\u001b[0m \u001b[1;33m(\u001b[0m\u001b[0me\u001b[0m\u001b[1;33m,\u001b[0m \u001b[1;34m'='\u001b[0m\u001b[1;33m,\u001b[0m \u001b[0meval\u001b[0m\u001b[1;33m(\u001b[0m\u001b[0me\u001b[0m\u001b[1;33m)\u001b[0m\u001b[1;33m)\u001b[0m\u001b[1;33m\u001b[0m\u001b[1;33m\u001b[0m\u001b[0m\n\u001b[0m",
      "\u001b[1;32m<string>\u001b[0m in \u001b[0;36m<module>\u001b[1;34m\u001b[0m\n",
      "\u001b[1;31mTypeError\u001b[0m: unsupported operand type(s) for /: 'IntervalMath' and 'IntervalMath'"
     ]
    }
   ],
   "source": [
    "I = IntervalMath   # abbreviate\n",
    "a = I(-3,-2)\n",
    "b = I(4,5)\n",
    "\n",
    "expr = 'a+b', 'a-b', 'a*b', 'a/b'   # test expressions\n",
    "for e in expr:\n",
    "    print (e, '=', eval(e))"
   ]
  },
  {
   "cell_type": "markdown",
   "metadata": {},
   "source": [
    "**Output:**"
   ]
  },
  {
   "cell_type": "markdown",
   "metadata": {},
   "source": [
    "```\n",
    "a+b = [1, 3]\n",
    "a-b = [-8, -6]\n",
    "a*b = [-15, -8]\n",
    "a/b = [-0.75, -0.4]\n",
    "```"
   ]
  },
  {
   "cell_type": "markdown",
   "metadata": {},
   "source": [
    "## Shortcomings of the class\n",
    "\n",
    "This code"
   ]
  },
  {
   "cell_type": "code",
   "execution_count": 215,
   "metadata": {},
   "outputs": [
    {
     "ename": "AttributeError",
     "evalue": "'int' object has no attribute 'lo'",
     "output_type": "error",
     "traceback": [
      "\u001b[1;31m---------------------------------------------------------------------------\u001b[0m",
      "\u001b[1;31mAttributeError\u001b[0m                            Traceback (most recent call last)",
      "\u001b[1;32m<ipython-input-215-f1146c87ab86>\u001b[0m in \u001b[0;36m<module>\u001b[1;34m\u001b[0m\n\u001b[0;32m      1\u001b[0m \u001b[0ma\u001b[0m \u001b[1;33m=\u001b[0m \u001b[0mI\u001b[0m\u001b[1;33m(\u001b[0m\u001b[1;36m4\u001b[0m\u001b[1;33m,\u001b[0m\u001b[1;36m5\u001b[0m\u001b[1;33m)\u001b[0m\u001b[1;33m\u001b[0m\u001b[1;33m\u001b[0m\u001b[0m\n\u001b[0;32m      2\u001b[0m \u001b[0mq\u001b[0m \u001b[1;33m=\u001b[0m \u001b[1;36m2\u001b[0m\u001b[1;33m\u001b[0m\u001b[1;33m\u001b[0m\u001b[0m\n\u001b[1;32m----> 3\u001b[1;33m \u001b[0mb\u001b[0m \u001b[1;33m=\u001b[0m \u001b[0ma\u001b[0m\u001b[1;33m*\u001b[0m\u001b[0mq\u001b[0m\u001b[1;33m\u001b[0m\u001b[1;33m\u001b[0m\u001b[0m\n\u001b[0m",
      "\u001b[1;32m<ipython-input-213-3619bebddf13>\u001b[0m in \u001b[0;36m__mul__\u001b[1;34m(self, other)\u001b[0m\n\u001b[0;32m     13\u001b[0m \u001b[1;33m\u001b[0m\u001b[0m\n\u001b[0;32m     14\u001b[0m     \u001b[1;32mdef\u001b[0m \u001b[0m__mul__\u001b[0m\u001b[1;33m(\u001b[0m\u001b[0mself\u001b[0m\u001b[1;33m,\u001b[0m \u001b[0mother\u001b[0m\u001b[1;33m)\u001b[0m\u001b[1;33m:\u001b[0m\u001b[1;33m\u001b[0m\u001b[1;33m\u001b[0m\u001b[0m\n\u001b[1;32m---> 15\u001b[1;33m         \u001b[0ma\u001b[0m\u001b[1;33m,\u001b[0m \u001b[0mb\u001b[0m\u001b[1;33m,\u001b[0m \u001b[0mc\u001b[0m\u001b[1;33m,\u001b[0m \u001b[0md\u001b[0m \u001b[1;33m=\u001b[0m \u001b[0mself\u001b[0m\u001b[1;33m.\u001b[0m\u001b[0mlo\u001b[0m\u001b[1;33m,\u001b[0m \u001b[0mself\u001b[0m\u001b[1;33m.\u001b[0m\u001b[0mup\u001b[0m\u001b[1;33m,\u001b[0m \u001b[0mother\u001b[0m\u001b[1;33m.\u001b[0m\u001b[0mlo\u001b[0m\u001b[1;33m,\u001b[0m \u001b[0mother\u001b[0m\u001b[1;33m.\u001b[0m\u001b[0mup\u001b[0m\u001b[1;33m\u001b[0m\u001b[1;33m\u001b[0m\u001b[0m\n\u001b[0m\u001b[0;32m     16\u001b[0m         return IntervalMath(min(a*c, a*d, b*c, b*d),\n\u001b[0;32m     17\u001b[0m                             max(a*c, a*d, b*c, b*d))\n",
      "\u001b[1;31mAttributeError\u001b[0m: 'int' object has no attribute 'lo'"
     ]
    }
   ],
   "source": [
    "a = I(4,5)\n",
    "q = 2\n",
    "b = a*q"
   ]
  },
  {
   "cell_type": "markdown",
   "metadata": {},
   "source": [
    "leads to"
   ]
  },
  {
   "cell_type": "markdown",
   "metadata": {},
   "source": [
    "          File \"IntervalMath.py\", line 15, in __mul__\n",
    "            a, b, c, d = self.lo, self.up, other.lo, other.up\n",
    "        AttributeError: 'float' object has no attribute 'lo'\n"
   ]
  },
  {
   "cell_type": "markdown",
   "metadata": {},
   "source": [
    "Problem: `IntervalMath` times `int` is not defined.\n",
    "\n",
    "Remedy: (cf. class `Complex`)"
   ]
  },
  {
   "cell_type": "code",
   "execution_count": 216,
   "metadata": {},
   "outputs": [],
   "source": [
    "class IntervalArithmetics:\n",
    "    ...\n",
    "    def __mul__(self, other):\n",
    "        if isinstance(other, (int, float)):      # NEW\n",
    "            other = IntervalMath(other, other)   # NEW\n",
    "        a, b, c, d = self.lo, self.up, other.lo, other.up\n",
    "        return IntervalMath(min(a*c, a*d, b*c, b*d),\n",
    "                            max(a*c, a*d, b*c, b*d))"
   ]
  },
  {
   "cell_type": "markdown",
   "metadata": {},
   "source": [
    "(with similar adjustments of other special methods)\n",
    "\n",
    "\n",
    "\n",
    "## More shortcomings of the class\n",
    "\n",
    "Try to compute `g = 2*y0*T**(-2)`:\n",
    "multiplication of `int` (2) and\n",
    "`IntervalMath` (`y0`),\n",
    "and power operation `T**(-2)` are not defined"
   ]
  },
  {
   "cell_type": "code",
   "execution_count": 217,
   "metadata": {},
   "outputs": [],
   "source": [
    "class IntervalArithmetics:\n",
    "    ...\n",
    "    def __rmul__(self, other):\n",
    "        if isinstance(other, (int, float)):\n",
    "            other = IntervalMath(other, other)\n",
    "        return other*self\n",
    "\n",
    "    def __pow__(self, exponent):\n",
    "        if isinstance(exponent, int):\n",
    "            p = 1\n",
    "            if exponent > 0:\n",
    "                for i in range(exponent):\n",
    "                    p = p*self\n",
    "            elif exponent < 0:\n",
    "                for i in range(-exponent):\n",
    "                    p = p*self\n",
    "                p = 1/p\n",
    "            else:   # exponent == 0\n",
    "                p = IntervalMath(1, 1)\n",
    "            return p\n",
    "        else:\n",
    "            raise TypeError('exponent must int')"
   ]
  },
  {
   "cell_type": "markdown",
   "metadata": {},
   "source": [
    "## Adding more functionality to the class: rounding\n",
    "\n",
    "\"Rounding\" to the midpoint value:"
   ]
  },
  {
   "cell_type": "code",
   "execution_count": 218,
   "metadata": {},
   "outputs": [
    {
     "ename": "TypeError",
     "evalue": "float() argument must be a string or a number, not 'IntervalMath'",
     "output_type": "error",
     "traceback": [
      "\u001b[1;31m---------------------------------------------------------------------------\u001b[0m",
      "\u001b[1;31mTypeError\u001b[0m                                 Traceback (most recent call last)",
      "\u001b[1;32m<ipython-input-218-ebc00b12ce91>\u001b[0m in \u001b[0;36m<module>\u001b[1;34m\u001b[0m\n\u001b[0;32m      1\u001b[0m \u001b[0ma\u001b[0m \u001b[1;33m=\u001b[0m \u001b[0mIntervalMath\u001b[0m\u001b[1;33m(\u001b[0m\u001b[1;36m5\u001b[0m\u001b[1;33m,\u001b[0m\u001b[1;36m7\u001b[0m\u001b[1;33m)\u001b[0m\u001b[1;33m\u001b[0m\u001b[1;33m\u001b[0m\u001b[0m\n\u001b[1;32m----> 2\u001b[1;33m \u001b[0mfloat\u001b[0m\u001b[1;33m(\u001b[0m\u001b[0ma\u001b[0m\u001b[1;33m)\u001b[0m\u001b[1;33m\u001b[0m\u001b[1;33m\u001b[0m\u001b[0m\n\u001b[0m",
      "\u001b[1;31mTypeError\u001b[0m: float() argument must be a string or a number, not 'IntervalMath'"
     ]
    }
   ],
   "source": [
    "a = IntervalMath(5,7)\n",
    "float(a)"
   ]
  },
  {
   "cell_type": "markdown",
   "metadata": {},
   "source": [
    "is achieved by"
   ]
  },
  {
   "cell_type": "code",
   "execution_count": 219,
   "metadata": {},
   "outputs": [],
   "source": [
    "class IntervalArithmetics:\n",
    "    ...\n",
    "    def __float__(self):\n",
    "        return 0.5*(self.lo + self.up)"
   ]
  },
  {
   "cell_type": "markdown",
   "metadata": {},
   "source": [
    "## Adding more functionality to the class: repr and str methods"
   ]
  },
  {
   "cell_type": "code",
   "execution_count": 220,
   "metadata": {},
   "outputs": [],
   "source": [
    "class IntervalArithmetics:\n",
    "    ...\n",
    "    def __str__(self):\n",
    "        return '[%g, %g]' % (self.lo, self.up)\n",
    "\n",
    "    def __repr__(self):\n",
    "        return '%s(%g, %g)' % \\\n",
    "          (self.__class__.__name__, self.lo, self.up)"
   ]
  },
  {
   "cell_type": "markdown",
   "metadata": {},
   "source": [
    "## Demonstrating the class: $g=2y_0T^{-2}$"
   ]
  },
  {
   "cell_type": "code",
   "execution_count": 223,
   "metadata": {},
   "outputs": [
    {
     "name": "stdout",
     "output_type": "stream",
     "text": [
      "[0.4275, 0.4725]\n"
     ]
    }
   ],
   "source": [
    "g = 9.81\n",
    "y_0 = I(0.99, 1.01)\n",
    "Tm = 0.45                 # mean T\n",
    "T = I(Tm*0.95, Tm*1.05)   # 10% uncertainty\n",
    "print (T)"
   ]
  },
  {
   "cell_type": "code",
   "execution_count": 224,
   "metadata": {},
   "outputs": [
    {
     "ename": "TypeError",
     "evalue": "unsupported operand type(s) for *: 'int' and 'IntervalMath'",
     "output_type": "error",
     "traceback": [
      "\u001b[1;31m---------------------------------------------------------------------------\u001b[0m",
      "\u001b[1;31mTypeError\u001b[0m                                 Traceback (most recent call last)",
      "\u001b[1;32m<ipython-input-224-05563c0050a0>\u001b[0m in \u001b[0;36m<module>\u001b[1;34m\u001b[0m\n\u001b[1;32m----> 1\u001b[1;33m \u001b[0mg\u001b[0m \u001b[1;33m=\u001b[0m \u001b[1;36m2\u001b[0m\u001b[1;33m*\u001b[0m\u001b[0my_0\u001b[0m\u001b[1;33m*\u001b[0m\u001b[0mT\u001b[0m\u001b[1;33m**\u001b[0m\u001b[1;33m(\u001b[0m\u001b[1;33m-\u001b[0m\u001b[1;36m2\u001b[0m\u001b[1;33m)\u001b[0m\u001b[1;33m\u001b[0m\u001b[1;33m\u001b[0m\u001b[0m\n\u001b[0m\u001b[0;32m      2\u001b[0m \u001b[0mg\u001b[0m\u001b[1;33m\u001b[0m\u001b[1;33m\u001b[0m\u001b[0m\n",
      "\u001b[1;31mTypeError\u001b[0m: unsupported operand type(s) for *: 'int' and 'IntervalMath'"
     ]
    }
   ],
   "source": [
    "g = 2*y_0*T**(-2)\n",
    "g"
   ]
  },
  {
   "cell_type": "code",
   "execution_count": 226,
   "metadata": {},
   "outputs": [
    {
     "ename": "TypeError",
     "evalue": "float() argument must be a string or a number, not 'IntervalMath'",
     "output_type": "error",
     "traceback": [
      "\u001b[1;31m---------------------------------------------------------------------------\u001b[0m",
      "\u001b[1;31mTypeError\u001b[0m                                 Traceback (most recent call last)",
      "\u001b[1;32m<ipython-input-226-f5124f0152fa>\u001b[0m in \u001b[0;36m<module>\u001b[1;34m\u001b[0m\n\u001b[0;32m      1\u001b[0m \u001b[1;31m# computing with mean values:\u001b[0m\u001b[1;33m\u001b[0m\u001b[1;33m\u001b[0m\u001b[1;33m\u001b[0m\u001b[0m\n\u001b[1;32m----> 2\u001b[1;33m \u001b[0mT\u001b[0m \u001b[1;33m=\u001b[0m \u001b[0mfloat\u001b[0m\u001b[1;33m(\u001b[0m\u001b[0mT\u001b[0m\u001b[1;33m)\u001b[0m\u001b[1;33m\u001b[0m\u001b[1;33m\u001b[0m\u001b[0m\n\u001b[0m\u001b[0;32m      3\u001b[0m \u001b[0my\u001b[0m \u001b[1;33m=\u001b[0m \u001b[1;36m1\u001b[0m\u001b[1;33m\u001b[0m\u001b[1;33m\u001b[0m\u001b[0m\n\u001b[0;32m      4\u001b[0m \u001b[0mg\u001b[0m \u001b[1;33m=\u001b[0m \u001b[1;36m2\u001b[0m\u001b[1;33m*\u001b[0m\u001b[0my_0\u001b[0m\u001b[1;33m*\u001b[0m\u001b[0mT\u001b[0m\u001b[1;33m**\u001b[0m\u001b[1;33m(\u001b[0m\u001b[1;33m-\u001b[0m\u001b[1;36m2\u001b[0m\u001b[1;33m)\u001b[0m\u001b[1;33m\u001b[0m\u001b[1;33m\u001b[0m\u001b[0m\n\u001b[0;32m      5\u001b[0m \u001b[0mprint\u001b[0m \u001b[1;33m(\u001b[0m\u001b[1;34m'%.2f'\u001b[0m \u001b[1;33m%\u001b[0m \u001b[0mg\u001b[0m\u001b[1;33m)\u001b[0m\u001b[1;33m\u001b[0m\u001b[1;33m\u001b[0m\u001b[0m\n",
      "\u001b[1;31mTypeError\u001b[0m: float() argument must be a string or a number, not 'IntervalMath'"
     ]
    }
   ],
   "source": [
    "# computing with mean values:\n",
    "T = float(T)\n",
    "y = 1\n",
    "g = 2*y_0*T**(-2)\n",
    "print ('%.2f' % g)"
   ]
  },
  {
   "cell_type": "markdown",
   "metadata": {},
   "source": [
    "## Demonstrating the class: volume of a sphere"
   ]
  },
  {
   "cell_type": "code",
   "execution_count": 228,
   "metadata": {},
   "outputs": [
    {
     "ename": "TypeError",
     "evalue": "unsupported operand type(s) for ** or pow(): 'IntervalMath' and 'int'",
     "output_type": "error",
     "traceback": [
      "\u001b[1;31m---------------------------------------------------------------------------\u001b[0m",
      "\u001b[1;31mTypeError\u001b[0m                                 Traceback (most recent call last)",
      "\u001b[1;32m<ipython-input-228-1cef976566a1>\u001b[0m in \u001b[0;36m<module>\u001b[1;34m\u001b[0m\n\u001b[0;32m      1\u001b[0m \u001b[0mR\u001b[0m \u001b[1;33m=\u001b[0m \u001b[0mI\u001b[0m\u001b[1;33m(\u001b[0m\u001b[1;36m6\u001b[0m\u001b[1;33m*\u001b[0m\u001b[1;36m0.9\u001b[0m\u001b[1;33m,\u001b[0m \u001b[1;36m6\u001b[0m\u001b[1;33m*\u001b[0m\u001b[1;36m1.1\u001b[0m\u001b[1;33m)\u001b[0m   \u001b[1;31m# 20 % error\u001b[0m\u001b[1;33m\u001b[0m\u001b[1;33m\u001b[0m\u001b[0m\n\u001b[1;32m----> 2\u001b[1;33m \u001b[0mV\u001b[0m \u001b[1;33m=\u001b[0m \u001b[1;33m(\u001b[0m\u001b[1;36m4.\u001b[0m\u001b[1;33m/\u001b[0m\u001b[1;36m3\u001b[0m\u001b[1;33m)\u001b[0m\u001b[1;33m*\u001b[0m\u001b[0mpi\u001b[0m\u001b[1;33m*\u001b[0m\u001b[0mR\u001b[0m\u001b[1;33m**\u001b[0m\u001b[1;36m3\u001b[0m\u001b[1;33m\u001b[0m\u001b[1;33m\u001b[0m\u001b[0m\n\u001b[0m\u001b[0;32m      3\u001b[0m \u001b[0mV\u001b[0m\u001b[1;33m\u001b[0m\u001b[1;33m\u001b[0m\u001b[0m\n",
      "\u001b[1;31mTypeError\u001b[0m: unsupported operand type(s) for ** or pow(): 'IntervalMath' and 'int'"
     ]
    }
   ],
   "source": [
    "R = I(6*0.9, 6*1.1)   # 20 % error\n",
    "V = (4./3)*pi*R**3\n",
    "V"
   ]
  },
  {
   "cell_type": "code",
   "execution_count": 229,
   "metadata": {},
   "outputs": [
    {
     "ename": "SyntaxError",
     "evalue": "Missing parentheses in call to 'print'. Did you mean print(V)? (<ipython-input-229-829fa11a86c5>, line 1)",
     "output_type": "error",
     "traceback": [
      "\u001b[1;36m  File \u001b[1;32m\"<ipython-input-229-829fa11a86c5>\"\u001b[1;36m, line \u001b[1;32m1\u001b[0m\n\u001b[1;33m    print V\u001b[0m\n\u001b[1;37m          ^\u001b[0m\n\u001b[1;31mSyntaxError\u001b[0m\u001b[1;31m:\u001b[0m Missing parentheses in call to 'print'. Did you mean print(V)?\n"
     ]
    }
   ],
   "source": [
    "print (V)"
   ]
  },
  {
   "cell_type": "code",
   "execution_count": 230,
   "metadata": {},
   "outputs": [
    {
     "ename": "SyntaxError",
     "evalue": "invalid syntax (<ipython-input-230-8c7a0b0e67cc>, line 1)",
     "output_type": "error",
     "traceback": [
      "\u001b[1;36m  File \u001b[1;32m\"<ipython-input-230-8c7a0b0e67cc>\"\u001b[1;36m, line \u001b[1;32m1\u001b[0m\n\u001b[1;33m    print float(V)\u001b[0m\n\u001b[1;37m              ^\u001b[0m\n\u001b[1;31mSyntaxError\u001b[0m\u001b[1;31m:\u001b[0m invalid syntax\n"
     ]
    }
   ],
   "source": [
    "print (float(V))"
   ]
  },
  {
   "cell_type": "code",
   "execution_count": 231,
   "metadata": {},
   "outputs": [
    {
     "ename": "TypeError",
     "evalue": "float() argument must be a string or a number, not 'IntervalMath'",
     "output_type": "error",
     "traceback": [
      "\u001b[1;31m---------------------------------------------------------------------------\u001b[0m",
      "\u001b[1;31mTypeError\u001b[0m                                 Traceback (most recent call last)",
      "\u001b[1;32m<ipython-input-231-6943fb14be9f>\u001b[0m in \u001b[0;36m<module>\u001b[1;34m\u001b[0m\n\u001b[0;32m      1\u001b[0m \u001b[1;31m# compute with mean values:\u001b[0m\u001b[1;33m\u001b[0m\u001b[1;33m\u001b[0m\u001b[1;33m\u001b[0m\u001b[0m\n\u001b[1;32m----> 2\u001b[1;33m \u001b[0mR\u001b[0m \u001b[1;33m=\u001b[0m \u001b[0mfloat\u001b[0m\u001b[1;33m(\u001b[0m\u001b[0mR\u001b[0m\u001b[1;33m)\u001b[0m\u001b[1;33m\u001b[0m\u001b[1;33m\u001b[0m\u001b[0m\n\u001b[0m\u001b[0;32m      3\u001b[0m \u001b[0mV\u001b[0m \u001b[1;33m=\u001b[0m \u001b[1;33m(\u001b[0m\u001b[1;36m4.\u001b[0m\u001b[1;33m/\u001b[0m\u001b[1;36m3\u001b[0m\u001b[1;33m)\u001b[0m\u001b[1;33m*\u001b[0m\u001b[0mpi\u001b[0m\u001b[1;33m*\u001b[0m\u001b[0mR\u001b[0m\u001b[1;33m**\u001b[0m\u001b[1;36m3\u001b[0m\u001b[1;33m\u001b[0m\u001b[1;33m\u001b[0m\u001b[0m\n\u001b[0;32m      4\u001b[0m \u001b[0mprint\u001b[0m \u001b[1;33m(\u001b[0m\u001b[0mV\u001b[0m\u001b[1;33m)\u001b[0m\u001b[1;33m\u001b[0m\u001b[1;33m\u001b[0m\u001b[0m\n",
      "\u001b[1;31mTypeError\u001b[0m: float() argument must be a string or a number, not 'IntervalMath'"
     ]
    }
   ],
   "source": [
    "# compute with mean values:\n",
    "R = float(R)\n",
    "V = (4./3)*pi*R**3\n",
    "print (V)"
   ]
  },
  {
   "cell_type": "markdown",
   "metadata": {},
   "source": [
    "20% uncertainty in $R$ gives almost 60% uncertainty in $V$"
   ]
  }
 ],
 "metadata": {
  "kernelspec": {
   "display_name": "Python 3",
   "language": "python",
   "name": "python3"
  },
  "language_info": {
   "codemirror_mode": {
    "name": "ipython",
    "version": 3
   },
   "file_extension": ".py",
   "mimetype": "text/x-python",
   "name": "python",
   "nbconvert_exporter": "python",
   "pygments_lexer": "ipython3",
   "version": "3.6.7"
  }
 },
 "nbformat": 4,
 "nbformat_minor": 2
}
