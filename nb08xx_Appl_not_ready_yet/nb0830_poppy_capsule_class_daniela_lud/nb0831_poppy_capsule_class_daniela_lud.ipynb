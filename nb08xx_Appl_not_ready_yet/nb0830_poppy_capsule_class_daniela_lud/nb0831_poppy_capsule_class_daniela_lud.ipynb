{
 "cells": [
  {
   "cell_type": "markdown",
   "id": "e8e26ade-84e6-4bd8-bacc-a4d97e3fd104",
   "metadata": {},
   "source": [
    "# Classification of Genus Papaver #\n",
    "\n",
    "Papaver is a genus of 70–100 species of frost-tolerant native to temperate and cold regions of Eurasia, Africa and North America. It is the type genus of the poppy family, Papaveraceae.<br>\n",
    "We will train a classification model (as part of machine learning) to identify the four different Papaver species based on the characteristics (aka features) of their capsules.\n",
    "\n",
    "<figure>\n",
    "<img src=\"./assets/img/Genus-Papaver-Labelled.jpg\" alt=\"Genus Papaver Labelled\" width=\"600\">\n",
    "<figcaption>Fig.1: Poppy (papaver) capsules. From left to right: p. somniferum , p. orientale , p. dubium , p. rhoeas</figcaption>\n",
    "</figure>\n",
    "<p>\n",
    "<p>\n",
    "<figure>\n",
    "<img src=\"./assets/img/1024px-Opium_poppy.jpg\" alt=\"Opium poppy\" width=\"400\">\n",
    "<figcaption>Fig. 2: papaver somniferum (opium poppy).</figcaption>\n",
    "</figure>\n",
    "\n",
    "Source: [Wikimedia](https://commons.wikimedia.org/wiki/File:Opium_poppy.jpg)\n"
   ]
  },
  {
   "cell_type": "code",
   "execution_count": 1,
   "id": "e9d5ac7d-aa77-494f-a06e-8a21f98b34d6",
   "metadata": {},
   "outputs": [],
   "source": [
    "import pandas as pd"
   ]
  },
  {
   "cell_type": "code",
   "execution_count": 2,
   "id": "00b97bdb-f6d3-4848-9b65-7276296a5a27",
   "metadata": {},
   "outputs": [],
   "source": [
    "#import matplotlib.pyplot as plt"
   ]
  },
  {
   "cell_type": "code",
   "execution_count": 3,
   "id": "a78e4d73-0323-4377-9992-849922f335dd",
   "metadata": {},
   "outputs": [],
   "source": [
    "poppy_df = pd.read_csv(\"data/poppy_capsules.csv\",skiprows=4, index_col=[\"specimen no.\"])"
   ]
  },
  {
   "cell_type": "code",
   "execution_count": 4,
   "id": "4034d992-2cc0-419a-95dd-57f2d67c3e96",
   "metadata": {},
   "outputs": [
    {
     "data": {
      "text/html": [
       "<div>\n",
       "<style scoped>\n",
       "    .dataframe tbody tr th:only-of-type {\n",
       "        vertical-align: middle;\n",
       "    }\n",
       "\n",
       "    .dataframe tbody tr th {\n",
       "        vertical-align: top;\n",
       "    }\n",
       "\n",
       "    .dataframe thead th {\n",
       "        text-align: right;\n",
       "    }\n",
       "</style>\n",
       "<table border=\"1\" class=\"dataframe\">\n",
       "  <thead>\n",
       "    <tr style=\"text-align: right;\">\n",
       "      <th></th>\n",
       "      <th>set</th>\n",
       "      <th>species no.</th>\n",
       "      <th>species name</th>\n",
       "      <th>capsule length [mm]</th>\n",
       "      <th>capsule width [mm]</th>\n",
       "      <th>ratio length to width</th>\n",
       "      <th>mean value of ratio</th>\n",
       "      <th>standard deviation</th>\n",
       "      <th>stalk thickness [mm]</th>\n",
       "      <th>cap diameter [mm]</th>\n",
       "      <th>stalk hair present (Y/N)</th>\n",
       "      <th>stalk hair appressed (Y/N)</th>\n",
       "    </tr>\n",
       "    <tr>\n",
       "      <th>specimen no.</th>\n",
       "      <th></th>\n",
       "      <th></th>\n",
       "      <th></th>\n",
       "      <th></th>\n",
       "      <th></th>\n",
       "      <th></th>\n",
       "      <th></th>\n",
       "      <th></th>\n",
       "      <th></th>\n",
       "      <th></th>\n",
       "      <th></th>\n",
       "      <th></th>\n",
       "    </tr>\n",
       "  </thead>\n",
       "  <tbody>\n",
       "    <tr>\n",
       "      <th>1</th>\n",
       "      <td>A</td>\n",
       "      <td>1</td>\n",
       "      <td>Papaver somniferum</td>\n",
       "      <td>26.34</td>\n",
       "      <td>19.50</td>\n",
       "      <td>1.35077</td>\n",
       "      <td>1.27063</td>\n",
       "      <td>0.11333</td>\n",
       "      <td>3.35</td>\n",
       "      <td>16.56</td>\n",
       "      <td>N</td>\n",
       "      <td>N</td>\n",
       "    </tr>\n",
       "    <tr>\n",
       "      <th>2</th>\n",
       "      <td>A</td>\n",
       "      <td>1</td>\n",
       "      <td>Papaver somniferum</td>\n",
       "      <td>24.56</td>\n",
       "      <td>20.63</td>\n",
       "      <td>1.19050</td>\n",
       "      <td>1.27063</td>\n",
       "      <td>0.11333</td>\n",
       "      <td>3.08</td>\n",
       "      <td>16.68</td>\n",
       "      <td>N</td>\n",
       "      <td>N</td>\n",
       "    </tr>\n",
       "    <tr>\n",
       "      <th>3</th>\n",
       "      <td>A</td>\n",
       "      <td>2</td>\n",
       "      <td>Papaver orientale</td>\n",
       "      <td>25.49</td>\n",
       "      <td>19.97</td>\n",
       "      <td>1.27641</td>\n",
       "      <td>1.21133</td>\n",
       "      <td>0.07751</td>\n",
       "      <td>4.94</td>\n",
       "      <td>22.14</td>\n",
       "      <td>Y</td>\n",
       "      <td>Y</td>\n",
       "    </tr>\n",
       "    <tr>\n",
       "      <th>4</th>\n",
       "      <td>A</td>\n",
       "      <td>2</td>\n",
       "      <td>Papaver orientale</td>\n",
       "      <td>20.05</td>\n",
       "      <td>15.74</td>\n",
       "      <td>1.27382</td>\n",
       "      <td>1.21133</td>\n",
       "      <td>0.07751</td>\n",
       "      <td>4.29</td>\n",
       "      <td>19.26</td>\n",
       "      <td>Y</td>\n",
       "      <td>Y</td>\n",
       "    </tr>\n",
       "    <tr>\n",
       "      <th>5</th>\n",
       "      <td>A</td>\n",
       "      <td>2</td>\n",
       "      <td>Papaver orientale</td>\n",
       "      <td>18.81</td>\n",
       "      <td>15.98</td>\n",
       "      <td>1.17710</td>\n",
       "      <td>1.21133</td>\n",
       "      <td>0.07751</td>\n",
       "      <td>3.75</td>\n",
       "      <td>17.79</td>\n",
       "      <td>Y</td>\n",
       "      <td>Y</td>\n",
       "    </tr>\n",
       "    <tr>\n",
       "      <th>...</th>\n",
       "      <td>...</td>\n",
       "      <td>...</td>\n",
       "      <td>...</td>\n",
       "      <td>...</td>\n",
       "      <td>...</td>\n",
       "      <td>...</td>\n",
       "      <td>...</td>\n",
       "      <td>...</td>\n",
       "      <td>...</td>\n",
       "      <td>...</td>\n",
       "      <td>...</td>\n",
       "      <td>...</td>\n",
       "    </tr>\n",
       "    <tr>\n",
       "      <th>146</th>\n",
       "      <td>E</td>\n",
       "      <td>4</td>\n",
       "      <td>Papaver rhoeas</td>\n",
       "      <td>14.28</td>\n",
       "      <td>10.26</td>\n",
       "      <td>1.39181</td>\n",
       "      <td>1.50509</td>\n",
       "      <td>0.26474</td>\n",
       "      <td>2.48</td>\n",
       "      <td>8.90</td>\n",
       "      <td>Y</td>\n",
       "      <td>N</td>\n",
       "    </tr>\n",
       "    <tr>\n",
       "      <th>147</th>\n",
       "      <td>E</td>\n",
       "      <td>4</td>\n",
       "      <td>Papaver rhoeas</td>\n",
       "      <td>11.64</td>\n",
       "      <td>9.40</td>\n",
       "      <td>1.23830</td>\n",
       "      <td>1.50509</td>\n",
       "      <td>0.26474</td>\n",
       "      <td>1.07</td>\n",
       "      <td>9.22</td>\n",
       "      <td>Y</td>\n",
       "      <td>N</td>\n",
       "    </tr>\n",
       "    <tr>\n",
       "      <th>148</th>\n",
       "      <td>E</td>\n",
       "      <td>4</td>\n",
       "      <td>Papaver rhoeas</td>\n",
       "      <td>15.55</td>\n",
       "      <td>7.74</td>\n",
       "      <td>2.00904</td>\n",
       "      <td>1.50509</td>\n",
       "      <td>0.26474</td>\n",
       "      <td>1.67</td>\n",
       "      <td>10.06</td>\n",
       "      <td>Y</td>\n",
       "      <td>N</td>\n",
       "    </tr>\n",
       "    <tr>\n",
       "      <th>149</th>\n",
       "      <td>E</td>\n",
       "      <td>4</td>\n",
       "      <td>Papaver rhoeas</td>\n",
       "      <td>15.63</td>\n",
       "      <td>7.97</td>\n",
       "      <td>1.96110</td>\n",
       "      <td>1.50509</td>\n",
       "      <td>0.26474</td>\n",
       "      <td>1.65</td>\n",
       "      <td>9.83</td>\n",
       "      <td>Y</td>\n",
       "      <td>N</td>\n",
       "    </tr>\n",
       "    <tr>\n",
       "      <th>150</th>\n",
       "      <td>E</td>\n",
       "      <td>4</td>\n",
       "      <td>Papaver rhoeas</td>\n",
       "      <td>11.20</td>\n",
       "      <td>7.12</td>\n",
       "      <td>1.57303</td>\n",
       "      <td>1.50509</td>\n",
       "      <td>0.26474</td>\n",
       "      <td>1.47</td>\n",
       "      <td>8.68</td>\n",
       "      <td>Y</td>\n",
       "      <td>N</td>\n",
       "    </tr>\n",
       "  </tbody>\n",
       "</table>\n",
       "<p>150 rows × 12 columns</p>\n",
       "</div>"
      ],
      "text/plain": [
       "             set  species no.        species name  capsule length [mm]  \\\n",
       "specimen no.                                                             \n",
       "1              A            1  Papaver somniferum                26.34   \n",
       "2              A            1  Papaver somniferum                24.56   \n",
       "3              A            2   Papaver orientale                25.49   \n",
       "4              A            2   Papaver orientale                20.05   \n",
       "5              A            2   Papaver orientale                18.81   \n",
       "...           ..          ...                 ...                  ...   \n",
       "146            E            4      Papaver rhoeas                14.28   \n",
       "147            E            4      Papaver rhoeas                11.64   \n",
       "148            E            4      Papaver rhoeas                15.55   \n",
       "149            E            4      Papaver rhoeas                15.63   \n",
       "150            E            4      Papaver rhoeas                11.20   \n",
       "\n",
       "              capsule width [mm]  ratio length to width  mean value of ratio  \\\n",
       "specimen no.                                                                   \n",
       "1                          19.50                1.35077              1.27063   \n",
       "2                          20.63                1.19050              1.27063   \n",
       "3                          19.97                1.27641              1.21133   \n",
       "4                          15.74                1.27382              1.21133   \n",
       "5                          15.98                1.17710              1.21133   \n",
       "...                          ...                    ...                  ...   \n",
       "146                        10.26                1.39181              1.50509   \n",
       "147                         9.40                1.23830              1.50509   \n",
       "148                         7.74                2.00904              1.50509   \n",
       "149                         7.97                1.96110              1.50509   \n",
       "150                         7.12                1.57303              1.50509   \n",
       "\n",
       "              standard deviation  stalk thickness [mm]  cap diameter [mm]  \\\n",
       "specimen no.                                                                \n",
       "1                        0.11333                  3.35              16.56   \n",
       "2                        0.11333                  3.08              16.68   \n",
       "3                        0.07751                  4.94              22.14   \n",
       "4                        0.07751                  4.29              19.26   \n",
       "5                        0.07751                  3.75              17.79   \n",
       "...                          ...                   ...                ...   \n",
       "146                      0.26474                  2.48               8.90   \n",
       "147                      0.26474                  1.07               9.22   \n",
       "148                      0.26474                  1.67              10.06   \n",
       "149                      0.26474                  1.65               9.83   \n",
       "150                      0.26474                  1.47               8.68   \n",
       "\n",
       "             stalk hair present (Y/N) stalk hair appressed (Y/N)  \n",
       "specimen no.                                                      \n",
       "1                                   N                          N  \n",
       "2                                   N                          N  \n",
       "3                                   Y                          Y  \n",
       "4                                   Y                          Y  \n",
       "5                                   Y                          Y  \n",
       "...                               ...                        ...  \n",
       "146                                 Y                          N  \n",
       "147                                 Y                          N  \n",
       "148                                 Y                          N  \n",
       "149                                 Y                          N  \n",
       "150                                 Y                          N  \n",
       "\n",
       "[150 rows x 12 columns]"
      ]
     },
     "execution_count": 4,
     "metadata": {},
     "output_type": "execute_result"
    }
   ],
   "source": [
    "poppy_df"
   ]
  },
  {
   "cell_type": "code",
   "execution_count": 5,
   "id": "bb0afed6-b385-4070-8f30-ae12a8465a92",
   "metadata": {},
   "outputs": [
    {
     "data": {
      "text/html": [
       "<div>\n",
       "<style scoped>\n",
       "    .dataframe tbody tr th:only-of-type {\n",
       "        vertical-align: middle;\n",
       "    }\n",
       "\n",
       "    .dataframe tbody tr th {\n",
       "        vertical-align: top;\n",
       "    }\n",
       "\n",
       "    .dataframe thead th {\n",
       "        text-align: right;\n",
       "    }\n",
       "</style>\n",
       "<table border=\"1\" class=\"dataframe\">\n",
       "  <thead>\n",
       "    <tr style=\"text-align: right;\">\n",
       "      <th></th>\n",
       "      <th>species name</th>\n",
       "      <th>capsule length [mm]</th>\n",
       "      <th>capsule width [mm]</th>\n",
       "      <th>stalk thickness [mm]</th>\n",
       "      <th>cap diameter [mm]</th>\n",
       "    </tr>\n",
       "    <tr>\n",
       "      <th>specimen no.</th>\n",
       "      <th></th>\n",
       "      <th></th>\n",
       "      <th></th>\n",
       "      <th></th>\n",
       "      <th></th>\n",
       "    </tr>\n",
       "  </thead>\n",
       "  <tbody>\n",
       "    <tr>\n",
       "      <th>1</th>\n",
       "      <td>Papaver somniferum</td>\n",
       "      <td>26.34</td>\n",
       "      <td>19.50</td>\n",
       "      <td>3.35</td>\n",
       "      <td>16.56</td>\n",
       "    </tr>\n",
       "    <tr>\n",
       "      <th>2</th>\n",
       "      <td>Papaver somniferum</td>\n",
       "      <td>24.56</td>\n",
       "      <td>20.63</td>\n",
       "      <td>3.08</td>\n",
       "      <td>16.68</td>\n",
       "    </tr>\n",
       "    <tr>\n",
       "      <th>3</th>\n",
       "      <td>Papaver orientale</td>\n",
       "      <td>25.49</td>\n",
       "      <td>19.97</td>\n",
       "      <td>4.94</td>\n",
       "      <td>22.14</td>\n",
       "    </tr>\n",
       "    <tr>\n",
       "      <th>4</th>\n",
       "      <td>Papaver orientale</td>\n",
       "      <td>20.05</td>\n",
       "      <td>15.74</td>\n",
       "      <td>4.29</td>\n",
       "      <td>19.26</td>\n",
       "    </tr>\n",
       "    <tr>\n",
       "      <th>5</th>\n",
       "      <td>Papaver orientale</td>\n",
       "      <td>18.81</td>\n",
       "      <td>15.98</td>\n",
       "      <td>3.75</td>\n",
       "      <td>17.79</td>\n",
       "    </tr>\n",
       "    <tr>\n",
       "      <th>...</th>\n",
       "      <td>...</td>\n",
       "      <td>...</td>\n",
       "      <td>...</td>\n",
       "      <td>...</td>\n",
       "      <td>...</td>\n",
       "    </tr>\n",
       "    <tr>\n",
       "      <th>146</th>\n",
       "      <td>Papaver rhoeas</td>\n",
       "      <td>14.28</td>\n",
       "      <td>10.26</td>\n",
       "      <td>2.48</td>\n",
       "      <td>8.90</td>\n",
       "    </tr>\n",
       "    <tr>\n",
       "      <th>147</th>\n",
       "      <td>Papaver rhoeas</td>\n",
       "      <td>11.64</td>\n",
       "      <td>9.40</td>\n",
       "      <td>1.07</td>\n",
       "      <td>9.22</td>\n",
       "    </tr>\n",
       "    <tr>\n",
       "      <th>148</th>\n",
       "      <td>Papaver rhoeas</td>\n",
       "      <td>15.55</td>\n",
       "      <td>7.74</td>\n",
       "      <td>1.67</td>\n",
       "      <td>10.06</td>\n",
       "    </tr>\n",
       "    <tr>\n",
       "      <th>149</th>\n",
       "      <td>Papaver rhoeas</td>\n",
       "      <td>15.63</td>\n",
       "      <td>7.97</td>\n",
       "      <td>1.65</td>\n",
       "      <td>9.83</td>\n",
       "    </tr>\n",
       "    <tr>\n",
       "      <th>150</th>\n",
       "      <td>Papaver rhoeas</td>\n",
       "      <td>11.20</td>\n",
       "      <td>7.12</td>\n",
       "      <td>1.47</td>\n",
       "      <td>8.68</td>\n",
       "    </tr>\n",
       "  </tbody>\n",
       "</table>\n",
       "<p>150 rows × 5 columns</p>\n",
       "</div>"
      ],
      "text/plain": [
       "                    species name  capsule length [mm]  capsule width [mm]  \\\n",
       "specimen no.                                                                \n",
       "1             Papaver somniferum                26.34               19.50   \n",
       "2             Papaver somniferum                24.56               20.63   \n",
       "3              Papaver orientale                25.49               19.97   \n",
       "4              Papaver orientale                20.05               15.74   \n",
       "5              Papaver orientale                18.81               15.98   \n",
       "...                          ...                  ...                 ...   \n",
       "146               Papaver rhoeas                14.28               10.26   \n",
       "147               Papaver rhoeas                11.64                9.40   \n",
       "148               Papaver rhoeas                15.55                7.74   \n",
       "149               Papaver rhoeas                15.63                7.97   \n",
       "150               Papaver rhoeas                11.20                7.12   \n",
       "\n",
       "              stalk thickness [mm]  cap diameter [mm]  \n",
       "specimen no.                                           \n",
       "1                             3.35              16.56  \n",
       "2                             3.08              16.68  \n",
       "3                             4.94              22.14  \n",
       "4                             4.29              19.26  \n",
       "5                             3.75              17.79  \n",
       "...                            ...                ...  \n",
       "146                           2.48               8.90  \n",
       "147                           1.07               9.22  \n",
       "148                           1.67              10.06  \n",
       "149                           1.65               9.83  \n",
       "150                           1.47               8.68  \n",
       "\n",
       "[150 rows x 5 columns]"
      ]
     },
     "execution_count": 5,
     "metadata": {},
     "output_type": "execute_result"
    }
   ],
   "source": [
    "poppy_df[[\"species name\",\"capsule length [mm]\" ,\n",
    "                        \"capsule width [mm]\" , \"stalk thickness [mm]\" ,\"cap diameter [mm]\"]]"
   ]
  },
  {
   "cell_type": "markdown",
   "id": "410e3770-4cae-4a20-b91c-84cc991d83dc",
   "metadata": {},
   "source": [
    "### Filter or Slice Data Frame\n",
    "\n",
    "https://pandas.pydata.org/docs/reference/api/pandas.DataFrame.filter.html"
   ]
  },
  {
   "cell_type": "code",
   "execution_count": 6,
   "id": "f708432e-ad07-4ff0-acaa-0f6c1420c6c2",
   "metadata": {},
   "outputs": [
    {
     "data": {
      "text/html": [
       "<div>\n",
       "<style scoped>\n",
       "    .dataframe tbody tr th:only-of-type {\n",
       "        vertical-align: middle;\n",
       "    }\n",
       "\n",
       "    .dataframe tbody tr th {\n",
       "        vertical-align: top;\n",
       "    }\n",
       "\n",
       "    .dataframe thead th {\n",
       "        text-align: right;\n",
       "    }\n",
       "</style>\n",
       "<table border=\"1\" class=\"dataframe\">\n",
       "  <thead>\n",
       "    <tr style=\"text-align: right;\">\n",
       "      <th></th>\n",
       "      <th>species name</th>\n",
       "      <th>capsule length [mm]</th>\n",
       "      <th>capsule width [mm]</th>\n",
       "      <th>stalk thickness [mm]</th>\n",
       "      <th>cap diameter [mm]</th>\n",
       "    </tr>\n",
       "    <tr>\n",
       "      <th>specimen no.</th>\n",
       "      <th></th>\n",
       "      <th></th>\n",
       "      <th></th>\n",
       "      <th></th>\n",
       "      <th></th>\n",
       "    </tr>\n",
       "  </thead>\n",
       "  <tbody>\n",
       "    <tr>\n",
       "      <th>1</th>\n",
       "      <td>Papaver somniferum</td>\n",
       "      <td>26.34</td>\n",
       "      <td>19.50</td>\n",
       "      <td>3.35</td>\n",
       "      <td>16.56</td>\n",
       "    </tr>\n",
       "    <tr>\n",
       "      <th>2</th>\n",
       "      <td>Papaver somniferum</td>\n",
       "      <td>24.56</td>\n",
       "      <td>20.63</td>\n",
       "      <td>3.08</td>\n",
       "      <td>16.68</td>\n",
       "    </tr>\n",
       "    <tr>\n",
       "      <th>3</th>\n",
       "      <td>Papaver orientale</td>\n",
       "      <td>25.49</td>\n",
       "      <td>19.97</td>\n",
       "      <td>4.94</td>\n",
       "      <td>22.14</td>\n",
       "    </tr>\n",
       "    <tr>\n",
       "      <th>4</th>\n",
       "      <td>Papaver orientale</td>\n",
       "      <td>20.05</td>\n",
       "      <td>15.74</td>\n",
       "      <td>4.29</td>\n",
       "      <td>19.26</td>\n",
       "    </tr>\n",
       "    <tr>\n",
       "      <th>5</th>\n",
       "      <td>Papaver orientale</td>\n",
       "      <td>18.81</td>\n",
       "      <td>15.98</td>\n",
       "      <td>3.75</td>\n",
       "      <td>17.79</td>\n",
       "    </tr>\n",
       "  </tbody>\n",
       "</table>\n",
       "</div>"
      ],
      "text/plain": [
       "                    species name  capsule length [mm]  capsule width [mm]  \\\n",
       "specimen no.                                                                \n",
       "1             Papaver somniferum                26.34               19.50   \n",
       "2             Papaver somniferum                24.56               20.63   \n",
       "3              Papaver orientale                25.49               19.97   \n",
       "4              Papaver orientale                20.05               15.74   \n",
       "5              Papaver orientale                18.81               15.98   \n",
       "\n",
       "              stalk thickness [mm]  cap diameter [mm]  \n",
       "specimen no.                                           \n",
       "1                             3.35              16.56  \n",
       "2                             3.08              16.68  \n",
       "3                             4.94              22.14  \n",
       "4                             4.29              19.26  \n",
       "5                             3.75              17.79  "
      ]
     },
     "execution_count": 6,
     "metadata": {},
     "output_type": "execute_result"
    }
   ],
   "source": [
    "df = poppy_df.filter([\"species name\",\"capsule length [mm]\" ,\n",
    "                      \"capsule width [mm]\" , \"stalk thickness [mm]\" ,\"cap diameter [mm]\"])\n",
    "df.head()"
   ]
  },
  {
   "cell_type": "code",
   "execution_count": 7,
   "id": "e3feb9b4-fa3f-472f-8487-4f98b301e11c",
   "metadata": {},
   "outputs": [
    {
     "data": {
      "text/html": [
       "<div>\n",
       "<style scoped>\n",
       "    .dataframe tbody tr th:only-of-type {\n",
       "        vertical-align: middle;\n",
       "    }\n",
       "\n",
       "    .dataframe tbody tr th {\n",
       "        vertical-align: top;\n",
       "    }\n",
       "\n",
       "    .dataframe thead th {\n",
       "        text-align: right;\n",
       "    }\n",
       "</style>\n",
       "<table border=\"1\" class=\"dataframe\">\n",
       "  <thead>\n",
       "    <tr style=\"text-align: right;\">\n",
       "      <th></th>\n",
       "      <th>species name</th>\n",
       "      <th>capsule length [mm]</th>\n",
       "      <th>capsule width [mm]</th>\n",
       "      <th>stalk thickness [mm]</th>\n",
       "      <th>cap diameter [mm]</th>\n",
       "    </tr>\n",
       "    <tr>\n",
       "      <th>specimen no.</th>\n",
       "      <th></th>\n",
       "      <th></th>\n",
       "      <th></th>\n",
       "      <th></th>\n",
       "      <th></th>\n",
       "    </tr>\n",
       "  </thead>\n",
       "  <tbody>\n",
       "    <tr>\n",
       "      <th>1</th>\n",
       "      <td>Papaver somniferum</td>\n",
       "      <td>26.34</td>\n",
       "      <td>19.50</td>\n",
       "      <td>3.35</td>\n",
       "      <td>16.56</td>\n",
       "    </tr>\n",
       "    <tr>\n",
       "      <th>2</th>\n",
       "      <td>Papaver somniferum</td>\n",
       "      <td>24.56</td>\n",
       "      <td>20.63</td>\n",
       "      <td>3.08</td>\n",
       "      <td>16.68</td>\n",
       "    </tr>\n",
       "    <tr>\n",
       "      <th>3</th>\n",
       "      <td>Papaver orientale</td>\n",
       "      <td>25.49</td>\n",
       "      <td>19.97</td>\n",
       "      <td>4.94</td>\n",
       "      <td>22.14</td>\n",
       "    </tr>\n",
       "    <tr>\n",
       "      <th>4</th>\n",
       "      <td>Papaver orientale</td>\n",
       "      <td>20.05</td>\n",
       "      <td>15.74</td>\n",
       "      <td>4.29</td>\n",
       "      <td>19.26</td>\n",
       "    </tr>\n",
       "    <tr>\n",
       "      <th>5</th>\n",
       "      <td>Papaver orientale</td>\n",
       "      <td>18.81</td>\n",
       "      <td>15.98</td>\n",
       "      <td>3.75</td>\n",
       "      <td>17.79</td>\n",
       "    </tr>\n",
       "  </tbody>\n",
       "</table>\n",
       "</div>"
      ],
      "text/plain": [
       "                    species name  capsule length [mm]  capsule width [mm]  \\\n",
       "specimen no.                                                                \n",
       "1             Papaver somniferum                26.34               19.50   \n",
       "2             Papaver somniferum                24.56               20.63   \n",
       "3              Papaver orientale                25.49               19.97   \n",
       "4              Papaver orientale                20.05               15.74   \n",
       "5              Papaver orientale                18.81               15.98   \n",
       "\n",
       "              stalk thickness [mm]  cap diameter [mm]  \n",
       "specimen no.                                           \n",
       "1                             3.35              16.56  \n",
       "2                             3.08              16.68  \n",
       "3                             4.94              22.14  \n",
       "4                             4.29              19.26  \n",
       "5                             3.75              17.79  "
      ]
     },
     "execution_count": 7,
     "metadata": {},
     "output_type": "execute_result"
    }
   ],
   "source": [
    "df2 = poppy_df[[\"species name\",\"capsule length [mm]\",\n",
    "                \"capsule width [mm]\",\"stalk thickness [mm]\",\"cap diameter [mm]\"]]\n",
    "df2.head()"
   ]
  },
  {
   "cell_type": "code",
   "execution_count": 8,
   "id": "46fce763-d15e-48f5-8c30-f60f7f5af2f6",
   "metadata": {},
   "outputs": [],
   "source": [
    "import seaborn as sns            # sophisticated data plotting library"
   ]
  },
  {
   "cell_type": "code",
   "execution_count": 9,
   "id": "76104af5-02ea-4e07-bb39-cd30b8dcc8fa",
   "metadata": {},
   "outputs": [
    {
     "data": {
      "text/plain": [
       "<seaborn.axisgrid.PairGrid at 0x2a7f34d4220>"
      ]
     },
     "execution_count": 9,
     "metadata": {},
     "output_type": "execute_result"
    },
    {
     "data": {
      "image/png": "[encoded data removed]",
      "text/plain": [
       "<Figure size 859.25x720 with 20 Axes>"
      ]
     },
     "metadata": {
      "needs_background": "light"
     },
     "output_type": "display_data"
    }
   ],
   "source": [
    "# fig1, ax1 = plt.subplots(figsize=(6,6), dpi = 150)\n",
    "sns.pairplot(df,hue=\"species name\",height=2.5) # plot function to automatically plot a pairplot scatter graph"
   ]
  },
  {
   "cell_type": "markdown",
   "id": "b1e83074-0824-4cf7-acb9-a0847f60fe19",
   "metadata": {},
   "source": [
    "### Rename Columns\n",
    "\n",
    "https://stackoverflow.com/questions/11346283/renaming-column-names-in-pandas"
   ]
  },
  {
   "cell_type": "code",
   "execution_count": 10,
   "id": "42582fd1-ba57-42e6-8a7b-db580f81b86c",
   "metadata": {},
   "outputs": [
    {
     "data": {
      "text/plain": [
       "['species name',\n",
       " 'capsule length [mm]',\n",
       " 'capsule width [mm]',\n",
       " 'stalk thickness [mm]',\n",
       " 'cap diameter [mm]']"
      ]
     },
     "execution_count": 10,
     "metadata": {},
     "output_type": "execute_result"
    }
   ],
   "source": [
    "# old_cols = df.columns\n",
    "old_cols = df.columns.to_list()\n",
    "old_cols"
   ]
  },
  {
   "cell_type": "code",
   "execution_count": 11,
   "id": "8c1f20ef-e3d0-43fa-8275-27b9038c12bb",
   "metadata": {},
   "outputs": [
    {
     "data": {
      "text/plain": [
       "['Spec', 'L', 'W', 'T', 'D']"
      ]
     },
     "execution_count": 11,
     "metadata": {},
     "output_type": "execute_result"
    }
   ],
   "source": [
    "new_cols = [\"Spec\", \"L\", \"W\", \"T\", \"D\"]\n",
    "new_cols"
   ]
  },
  {
   "cell_type": "code",
   "execution_count": 12,
   "id": "85d44d92-de88-4332-8b49-6030c833d579",
   "metadata": {},
   "outputs": [
    {
     "data": {
      "text/plain": [
       "{'species name': 'Spec',\n",
       " 'capsule length [mm]': 'L',\n",
       " 'capsule width [mm]': 'W',\n",
       " 'stalk thickness [mm]': 'T',\n",
       " 'cap diameter [mm]': 'D'}"
      ]
     },
     "execution_count": 12,
     "metadata": {},
     "output_type": "execute_result"
    }
   ],
   "source": [
    "# Dictionary\n",
    "translate = {\n",
    "    'species name' : 'Spec',\n",
    "    'capsule length [mm]' : 'L', \n",
    "    'capsule width [mm]' : 'W',\n",
    "    'stalk thickness [mm]' : 'T', \n",
    "    'cap diameter [mm]' : 'D'\n",
    "}\n",
    "translate"
   ]
  },
  {
   "cell_type": "code",
   "execution_count": 13,
   "id": "b87b8399-10ab-4a8e-afc2-2f96dd62f74d",
   "metadata": {},
   "outputs": [
    {
     "name": "stdout",
     "output_type": "stream",
     "text": [
      "species name : Spec\n",
      "capsule length [mm] : L\n",
      "capsule width [mm] : W\n",
      "stalk thickness [mm] : T\n",
      "cap diameter [mm] : D\n"
     ]
    },
    {
     "data": {
      "text/plain": [
       "{'species name': 'Spec',\n",
       " 'capsule length [mm]': 'L',\n",
       " 'capsule width [mm]': 'W',\n",
       " 'stalk thickness [mm]': 'T',\n",
       " 'cap diameter [mm]': 'D'}"
      ]
     },
     "execution_count": 13,
     "metadata": {},
     "output_type": "execute_result"
    }
   ],
   "source": [
    "translate2 = {}\n",
    "for k,v in zip(old_cols,new_cols):\n",
    "    print(k,\":\",v)\n",
    "    translate2[k] = v\n",
    "    \n",
    "translate2"
   ]
  },
  {
   "cell_type": "code",
   "execution_count": 14,
   "id": "319245c8-420f-4f96-a260-e4340274aa10",
   "metadata": {},
   "outputs": [],
   "source": [
    "ren_idx = {'specimen no.' : 'item'}"
   ]
  },
  {
   "cell_type": "code",
   "execution_count": 15,
   "id": "6ea7565f-b5f7-4d59-855d-7361d16c5100",
   "metadata": {},
   "outputs": [
    {
     "data": {
      "text/html": [
       "<div>\n",
       "<style scoped>\n",
       "    .dataframe tbody tr th:only-of-type {\n",
       "        vertical-align: middle;\n",
       "    }\n",
       "\n",
       "    .dataframe tbody tr th {\n",
       "        vertical-align: top;\n",
       "    }\n",
       "\n",
       "    .dataframe thead th {\n",
       "        text-align: right;\n",
       "    }\n",
       "</style>\n",
       "<table border=\"1\" class=\"dataframe\">\n",
       "  <thead>\n",
       "    <tr style=\"text-align: right;\">\n",
       "      <th></th>\n",
       "      <th>Spec</th>\n",
       "      <th>L</th>\n",
       "      <th>W</th>\n",
       "      <th>T</th>\n",
       "      <th>D</th>\n",
       "    </tr>\n",
       "    <tr>\n",
       "      <th>specimen no.</th>\n",
       "      <th></th>\n",
       "      <th></th>\n",
       "      <th></th>\n",
       "      <th></th>\n",
       "      <th></th>\n",
       "    </tr>\n",
       "  </thead>\n",
       "  <tbody>\n",
       "    <tr>\n",
       "      <th>1</th>\n",
       "      <td>Papaver somniferum</td>\n",
       "      <td>26.34</td>\n",
       "      <td>19.50</td>\n",
       "      <td>3.35</td>\n",
       "      <td>16.56</td>\n",
       "    </tr>\n",
       "    <tr>\n",
       "      <th>2</th>\n",
       "      <td>Papaver somniferum</td>\n",
       "      <td>24.56</td>\n",
       "      <td>20.63</td>\n",
       "      <td>3.08</td>\n",
       "      <td>16.68</td>\n",
       "    </tr>\n",
       "    <tr>\n",
       "      <th>3</th>\n",
       "      <td>Papaver orientale</td>\n",
       "      <td>25.49</td>\n",
       "      <td>19.97</td>\n",
       "      <td>4.94</td>\n",
       "      <td>22.14</td>\n",
       "    </tr>\n",
       "    <tr>\n",
       "      <th>4</th>\n",
       "      <td>Papaver orientale</td>\n",
       "      <td>20.05</td>\n",
       "      <td>15.74</td>\n",
       "      <td>4.29</td>\n",
       "      <td>19.26</td>\n",
       "    </tr>\n",
       "    <tr>\n",
       "      <th>5</th>\n",
       "      <td>Papaver orientale</td>\n",
       "      <td>18.81</td>\n",
       "      <td>15.98</td>\n",
       "      <td>3.75</td>\n",
       "      <td>17.79</td>\n",
       "    </tr>\n",
       "    <tr>\n",
       "      <th>...</th>\n",
       "      <td>...</td>\n",
       "      <td>...</td>\n",
       "      <td>...</td>\n",
       "      <td>...</td>\n",
       "      <td>...</td>\n",
       "    </tr>\n",
       "    <tr>\n",
       "      <th>146</th>\n",
       "      <td>Papaver rhoeas</td>\n",
       "      <td>14.28</td>\n",
       "      <td>10.26</td>\n",
       "      <td>2.48</td>\n",
       "      <td>8.90</td>\n",
       "    </tr>\n",
       "    <tr>\n",
       "      <th>147</th>\n",
       "      <td>Papaver rhoeas</td>\n",
       "      <td>11.64</td>\n",
       "      <td>9.40</td>\n",
       "      <td>1.07</td>\n",
       "      <td>9.22</td>\n",
       "    </tr>\n",
       "    <tr>\n",
       "      <th>148</th>\n",
       "      <td>Papaver rhoeas</td>\n",
       "      <td>15.55</td>\n",
       "      <td>7.74</td>\n",
       "      <td>1.67</td>\n",
       "      <td>10.06</td>\n",
       "    </tr>\n",
       "    <tr>\n",
       "      <th>149</th>\n",
       "      <td>Papaver rhoeas</td>\n",
       "      <td>15.63</td>\n",
       "      <td>7.97</td>\n",
       "      <td>1.65</td>\n",
       "      <td>9.83</td>\n",
       "    </tr>\n",
       "    <tr>\n",
       "      <th>150</th>\n",
       "      <td>Papaver rhoeas</td>\n",
       "      <td>11.20</td>\n",
       "      <td>7.12</td>\n",
       "      <td>1.47</td>\n",
       "      <td>8.68</td>\n",
       "    </tr>\n",
       "  </tbody>\n",
       "</table>\n",
       "<p>150 rows × 5 columns</p>\n",
       "</div>"
      ],
      "text/plain": [
       "                            Spec      L      W     T      D\n",
       "specimen no.                                               \n",
       "1             Papaver somniferum  26.34  19.50  3.35  16.56\n",
       "2             Papaver somniferum  24.56  20.63  3.08  16.68\n",
       "3              Papaver orientale  25.49  19.97  4.94  22.14\n",
       "4              Papaver orientale  20.05  15.74  4.29  19.26\n",
       "5              Papaver orientale  18.81  15.98  3.75  17.79\n",
       "...                          ...    ...    ...   ...    ...\n",
       "146               Papaver rhoeas  14.28  10.26  2.48   8.90\n",
       "147               Papaver rhoeas  11.64   9.40  1.07   9.22\n",
       "148               Papaver rhoeas  15.55   7.74  1.67  10.06\n",
       "149               Papaver rhoeas  15.63   7.97  1.65   9.83\n",
       "150               Papaver rhoeas  11.20   7.12  1.47   8.68\n",
       "\n",
       "[150 rows x 5 columns]"
      ]
     },
     "execution_count": 15,
     "metadata": {},
     "output_type": "execute_result"
    }
   ],
   "source": [
    "df.rename(translate, axis = \"columns\")"
   ]
  },
  {
   "cell_type": "code",
   "execution_count": 16,
   "id": "dab9604b-2ab0-4759-9194-7b79533b7e26",
   "metadata": {},
   "outputs": [
    {
     "data": {
      "text/html": [
       "<div>\n",
       "<style scoped>\n",
       "    .dataframe tbody tr th:only-of-type {\n",
       "        vertical-align: middle;\n",
       "    }\n",
       "\n",
       "    .dataframe tbody tr th {\n",
       "        vertical-align: top;\n",
       "    }\n",
       "\n",
       "    .dataframe thead th {\n",
       "        text-align: right;\n",
       "    }\n",
       "</style>\n",
       "<table border=\"1\" class=\"dataframe\">\n",
       "  <thead>\n",
       "    <tr style=\"text-align: right;\">\n",
       "      <th></th>\n",
       "      <th>species name</th>\n",
       "      <th>capsule length [mm]</th>\n",
       "      <th>capsule width [mm]</th>\n",
       "      <th>stalk thickness [mm]</th>\n",
       "      <th>cap diameter [mm]</th>\n",
       "    </tr>\n",
       "    <tr>\n",
       "      <th>specimen no.</th>\n",
       "      <th></th>\n",
       "      <th></th>\n",
       "      <th></th>\n",
       "      <th></th>\n",
       "      <th></th>\n",
       "    </tr>\n",
       "  </thead>\n",
       "  <tbody>\n",
       "    <tr>\n",
       "      <th>1</th>\n",
       "      <td>Papaver somniferum</td>\n",
       "      <td>26.34</td>\n",
       "      <td>19.50</td>\n",
       "      <td>3.35</td>\n",
       "      <td>16.56</td>\n",
       "    </tr>\n",
       "    <tr>\n",
       "      <th>2</th>\n",
       "      <td>Papaver somniferum</td>\n",
       "      <td>24.56</td>\n",
       "      <td>20.63</td>\n",
       "      <td>3.08</td>\n",
       "      <td>16.68</td>\n",
       "    </tr>\n",
       "    <tr>\n",
       "      <th>3</th>\n",
       "      <td>Papaver orientale</td>\n",
       "      <td>25.49</td>\n",
       "      <td>19.97</td>\n",
       "      <td>4.94</td>\n",
       "      <td>22.14</td>\n",
       "    </tr>\n",
       "    <tr>\n",
       "      <th>4</th>\n",
       "      <td>Papaver orientale</td>\n",
       "      <td>20.05</td>\n",
       "      <td>15.74</td>\n",
       "      <td>4.29</td>\n",
       "      <td>19.26</td>\n",
       "    </tr>\n",
       "    <tr>\n",
       "      <th>5</th>\n",
       "      <td>Papaver orientale</td>\n",
       "      <td>18.81</td>\n",
       "      <td>15.98</td>\n",
       "      <td>3.75</td>\n",
       "      <td>17.79</td>\n",
       "    </tr>\n",
       "  </tbody>\n",
       "</table>\n",
       "</div>"
      ],
      "text/plain": [
       "                    species name  capsule length [mm]  capsule width [mm]  \\\n",
       "specimen no.                                                                \n",
       "1             Papaver somniferum                26.34               19.50   \n",
       "2             Papaver somniferum                24.56               20.63   \n",
       "3              Papaver orientale                25.49               19.97   \n",
       "4              Papaver orientale                20.05               15.74   \n",
       "5              Papaver orientale                18.81               15.98   \n",
       "\n",
       "              stalk thickness [mm]  cap diameter [mm]  \n",
       "specimen no.                                           \n",
       "1                             3.35              16.56  \n",
       "2                             3.08              16.68  \n",
       "3                             4.94              22.14  \n",
       "4                             4.29              19.26  \n",
       "5                             3.75              17.79  "
      ]
     },
     "execution_count": 16,
     "metadata": {},
     "output_type": "execute_result"
    }
   ],
   "source": [
    "df.head()"
   ]
  },
  {
   "cell_type": "code",
   "execution_count": 17,
   "id": "4462358f-b815-41be-bbaa-a017ebf791ac",
   "metadata": {},
   "outputs": [
    {
     "data": {
      "text/html": [
       "<div>\n",
       "<style scoped>\n",
       "    .dataframe tbody tr th:only-of-type {\n",
       "        vertical-align: middle;\n",
       "    }\n",
       "\n",
       "    .dataframe tbody tr th {\n",
       "        vertical-align: top;\n",
       "    }\n",
       "\n",
       "    .dataframe thead th {\n",
       "        text-align: right;\n",
       "    }\n",
       "</style>\n",
       "<table border=\"1\" class=\"dataframe\">\n",
       "  <thead>\n",
       "    <tr style=\"text-align: right;\">\n",
       "      <th></th>\n",
       "      <th>Spec</th>\n",
       "      <th>L</th>\n",
       "      <th>W</th>\n",
       "      <th>T</th>\n",
       "      <th>D</th>\n",
       "    </tr>\n",
       "    <tr>\n",
       "      <th>item</th>\n",
       "      <th></th>\n",
       "      <th></th>\n",
       "      <th></th>\n",
       "      <th></th>\n",
       "      <th></th>\n",
       "    </tr>\n",
       "  </thead>\n",
       "  <tbody>\n",
       "    <tr>\n",
       "      <th>1</th>\n",
       "      <td>Papaver somniferum</td>\n",
       "      <td>26.34</td>\n",
       "      <td>19.50</td>\n",
       "      <td>3.35</td>\n",
       "      <td>16.56</td>\n",
       "    </tr>\n",
       "    <tr>\n",
       "      <th>2</th>\n",
       "      <td>Papaver somniferum</td>\n",
       "      <td>24.56</td>\n",
       "      <td>20.63</td>\n",
       "      <td>3.08</td>\n",
       "      <td>16.68</td>\n",
       "    </tr>\n",
       "    <tr>\n",
       "      <th>3</th>\n",
       "      <td>Papaver orientale</td>\n",
       "      <td>25.49</td>\n",
       "      <td>19.97</td>\n",
       "      <td>4.94</td>\n",
       "      <td>22.14</td>\n",
       "    </tr>\n",
       "    <tr>\n",
       "      <th>4</th>\n",
       "      <td>Papaver orientale</td>\n",
       "      <td>20.05</td>\n",
       "      <td>15.74</td>\n",
       "      <td>4.29</td>\n",
       "      <td>19.26</td>\n",
       "    </tr>\n",
       "    <tr>\n",
       "      <th>5</th>\n",
       "      <td>Papaver orientale</td>\n",
       "      <td>18.81</td>\n",
       "      <td>15.98</td>\n",
       "      <td>3.75</td>\n",
       "      <td>17.79</td>\n",
       "    </tr>\n",
       "  </tbody>\n",
       "</table>\n",
       "</div>"
      ],
      "text/plain": [
       "                    Spec      L      W     T      D\n",
       "item                                               \n",
       "1     Papaver somniferum  26.34  19.50  3.35  16.56\n",
       "2     Papaver somniferum  24.56  20.63  3.08  16.68\n",
       "3      Papaver orientale  25.49  19.97  4.94  22.14\n",
       "4      Papaver orientale  20.05  15.74  4.29  19.26\n",
       "5      Papaver orientale  18.81  15.98  3.75  17.79"
      ]
     },
     "execution_count": 17,
     "metadata": {},
     "output_type": "execute_result"
    }
   ],
   "source": [
    "df.rename(translate, axis = \"columns\", inplace = True)\n",
    "df.index.name = \"item\"\n",
    "df.head()"
   ]
  },
  {
   "cell_type": "code",
   "execution_count": 18,
   "id": "baf8f63e-4973-487f-bdc6-e2f96844fc66",
   "metadata": {},
   "outputs": [
    {
     "data": {
      "text/html": [
       "<div>\n",
       "<style scoped>\n",
       "    .dataframe tbody tr th:only-of-type {\n",
       "        vertical-align: middle;\n",
       "    }\n",
       "\n",
       "    .dataframe tbody tr th {\n",
       "        vertical-align: top;\n",
       "    }\n",
       "\n",
       "    .dataframe thead th {\n",
       "        text-align: right;\n",
       "    }\n",
       "</style>\n",
       "<table border=\"1\" class=\"dataframe\">\n",
       "  <thead>\n",
       "    <tr style=\"text-align: right;\">\n",
       "      <th></th>\n",
       "      <th>Spec</th>\n",
       "      <th>L</th>\n",
       "      <th>W</th>\n",
       "      <th>T</th>\n",
       "      <th>D</th>\n",
       "    </tr>\n",
       "    <tr>\n",
       "      <th>item</th>\n",
       "      <th></th>\n",
       "      <th></th>\n",
       "      <th></th>\n",
       "      <th></th>\n",
       "      <th></th>\n",
       "    </tr>\n",
       "  </thead>\n",
       "  <tbody>\n",
       "    <tr>\n",
       "      <th>1</th>\n",
       "      <td>p. somniferum</td>\n",
       "      <td>26.34</td>\n",
       "      <td>19.50</td>\n",
       "      <td>3.35</td>\n",
       "      <td>16.56</td>\n",
       "    </tr>\n",
       "    <tr>\n",
       "      <th>2</th>\n",
       "      <td>p. somniferum</td>\n",
       "      <td>24.56</td>\n",
       "      <td>20.63</td>\n",
       "      <td>3.08</td>\n",
       "      <td>16.68</td>\n",
       "    </tr>\n",
       "    <tr>\n",
       "      <th>3</th>\n",
       "      <td>p. orientale</td>\n",
       "      <td>25.49</td>\n",
       "      <td>19.97</td>\n",
       "      <td>4.94</td>\n",
       "      <td>22.14</td>\n",
       "    </tr>\n",
       "    <tr>\n",
       "      <th>4</th>\n",
       "      <td>p. orientale</td>\n",
       "      <td>20.05</td>\n",
       "      <td>15.74</td>\n",
       "      <td>4.29</td>\n",
       "      <td>19.26</td>\n",
       "    </tr>\n",
       "    <tr>\n",
       "      <th>5</th>\n",
       "      <td>p. orientale</td>\n",
       "      <td>18.81</td>\n",
       "      <td>15.98</td>\n",
       "      <td>3.75</td>\n",
       "      <td>17.79</td>\n",
       "    </tr>\n",
       "  </tbody>\n",
       "</table>\n",
       "</div>"
      ],
      "text/plain": [
       "               Spec      L      W     T      D\n",
       "item                                          \n",
       "1     p. somniferum  26.34  19.50  3.35  16.56\n",
       "2     p. somniferum  24.56  20.63  3.08  16.68\n",
       "3      p. orientale  25.49  19.97  4.94  22.14\n",
       "4      p. orientale  20.05  15.74  4.29  19.26\n",
       "5      p. orientale  18.81  15.98  3.75  17.79"
      ]
     },
     "execution_count": 18,
     "metadata": {},
     "output_type": "execute_result"
    }
   ],
   "source": [
    "df[\"Spec\"] = df[\"Spec\"].str.replace(\"Papaver\",\"p.\")\n",
    "df.head()"
   ]
  },
  {
   "cell_type": "code",
   "execution_count": 19,
   "id": "fba285e6-68ff-4fd2-8ae1-94f979c1742b",
   "metadata": {},
   "outputs": [
    {
     "data": {
      "text/html": [
       "<div>\n",
       "<style scoped>\n",
       "    .dataframe tbody tr th:only-of-type {\n",
       "        vertical-align: middle;\n",
       "    }\n",
       "\n",
       "    .dataframe tbody tr th {\n",
       "        vertical-align: top;\n",
       "    }\n",
       "\n",
       "    .dataframe thead th {\n",
       "        text-align: right;\n",
       "    }\n",
       "</style>\n",
       "<table border=\"1\" class=\"dataframe\">\n",
       "  <thead>\n",
       "    <tr style=\"text-align: right;\">\n",
       "      <th></th>\n",
       "      <th>Spec</th>\n",
       "      <th>L</th>\n",
       "      <th>W</th>\n",
       "      <th>T</th>\n",
       "      <th>D</th>\n",
       "    </tr>\n",
       "    <tr>\n",
       "      <th>item</th>\n",
       "      <th></th>\n",
       "      <th></th>\n",
       "      <th></th>\n",
       "      <th></th>\n",
       "      <th></th>\n",
       "    </tr>\n",
       "  </thead>\n",
       "  <tbody>\n",
       "    <tr>\n",
       "      <th>1</th>\n",
       "      <td>p. somniferum</td>\n",
       "      <td>26.34</td>\n",
       "      <td>19.50</td>\n",
       "      <td>3.35</td>\n",
       "      <td>16.56</td>\n",
       "    </tr>\n",
       "    <tr>\n",
       "      <th>2</th>\n",
       "      <td>p. somniferum</td>\n",
       "      <td>24.56</td>\n",
       "      <td>20.63</td>\n",
       "      <td>3.08</td>\n",
       "      <td>16.68</td>\n",
       "    </tr>\n",
       "    <tr>\n",
       "      <th>3</th>\n",
       "      <td>p. orientale</td>\n",
       "      <td>25.49</td>\n",
       "      <td>19.97</td>\n",
       "      <td>4.94</td>\n",
       "      <td>22.14</td>\n",
       "    </tr>\n",
       "    <tr>\n",
       "      <th>4</th>\n",
       "      <td>p. orientale</td>\n",
       "      <td>20.05</td>\n",
       "      <td>15.74</td>\n",
       "      <td>4.29</td>\n",
       "      <td>19.26</td>\n",
       "    </tr>\n",
       "    <tr>\n",
       "      <th>5</th>\n",
       "      <td>p. orientale</td>\n",
       "      <td>18.81</td>\n",
       "      <td>15.98</td>\n",
       "      <td>3.75</td>\n",
       "      <td>17.79</td>\n",
       "    </tr>\n",
       "    <tr>\n",
       "      <th>...</th>\n",
       "      <td>...</td>\n",
       "      <td>...</td>\n",
       "      <td>...</td>\n",
       "      <td>...</td>\n",
       "      <td>...</td>\n",
       "    </tr>\n",
       "    <tr>\n",
       "      <th>146</th>\n",
       "      <td>p. rhoeas</td>\n",
       "      <td>14.28</td>\n",
       "      <td>10.26</td>\n",
       "      <td>2.48</td>\n",
       "      <td>8.90</td>\n",
       "    </tr>\n",
       "    <tr>\n",
       "      <th>147</th>\n",
       "      <td>p. rhoeas</td>\n",
       "      <td>11.64</td>\n",
       "      <td>9.40</td>\n",
       "      <td>1.07</td>\n",
       "      <td>9.22</td>\n",
       "    </tr>\n",
       "    <tr>\n",
       "      <th>148</th>\n",
       "      <td>p. rhoeas</td>\n",
       "      <td>15.55</td>\n",
       "      <td>7.74</td>\n",
       "      <td>1.67</td>\n",
       "      <td>10.06</td>\n",
       "    </tr>\n",
       "    <tr>\n",
       "      <th>149</th>\n",
       "      <td>p. rhoeas</td>\n",
       "      <td>15.63</td>\n",
       "      <td>7.97</td>\n",
       "      <td>1.65</td>\n",
       "      <td>9.83</td>\n",
       "    </tr>\n",
       "    <tr>\n",
       "      <th>150</th>\n",
       "      <td>p. rhoeas</td>\n",
       "      <td>11.20</td>\n",
       "      <td>7.12</td>\n",
       "      <td>1.47</td>\n",
       "      <td>8.68</td>\n",
       "    </tr>\n",
       "  </tbody>\n",
       "</table>\n",
       "<p>150 rows × 5 columns</p>\n",
       "</div>"
      ],
      "text/plain": [
       "               Spec      L      W     T      D\n",
       "item                                          \n",
       "1     p. somniferum  26.34  19.50  3.35  16.56\n",
       "2     p. somniferum  24.56  20.63  3.08  16.68\n",
       "3      p. orientale  25.49  19.97  4.94  22.14\n",
       "4      p. orientale  20.05  15.74  4.29  19.26\n",
       "5      p. orientale  18.81  15.98  3.75  17.79\n",
       "...             ...    ...    ...   ...    ...\n",
       "146       p. rhoeas  14.28  10.26  2.48   8.90\n",
       "147       p. rhoeas  11.64   9.40  1.07   9.22\n",
       "148       p. rhoeas  15.55   7.74  1.67  10.06\n",
       "149       p. rhoeas  15.63   7.97  1.65   9.83\n",
       "150       p. rhoeas  11.20   7.12  1.47   8.68\n",
       "\n",
       "[150 rows x 5 columns]"
      ]
     },
     "execution_count": 19,
     "metadata": {},
     "output_type": "execute_result"
    }
   ],
   "source": [
    "df"
   ]
  },
  {
   "cell_type": "code",
   "execution_count": 29,
   "id": "11560cb6-48dd-464b-8236-61ae50e43236",
   "metadata": {},
   "outputs": [
    {
     "data": {
      "application/vnd.plotly.v1+json": {
       "config": {
        "plotlyServerURL": "https://plot.ly"
       },
       "data": [
        {
         "hovertemplate": "Spec=p. somniferum<br>L=%{x}<br>W=%{y}<br>D=%{z}<extra></extra>",
         "legendgroup": "p. somniferum",
         "marker": {
          "color": "#636efa",
          "opacity": 0.6,
          "symbol": "circle"
         },
         "mode": "markers",
         "name": "p. somniferum",
         "scene": "scene",
         "showlegend": true,
         "type": "scatter3d",
         "x": [
          26.34,
          24.56,
          21.77,
          18.4,
          23.19,
          23.18,
          20.87,
          18.28,
          22.65,
          21.91,
          20.55,
          17.77,
          14.78,
          15.74,
          17.97,
          19.39,
          18.24
         ],
         "y": [
          19.5,
          20.63,
          17.61,
          13.62,
          17.78,
          16.62,
          18.61,
          14.86,
          20,
          19.96,
          17.54,
          13.98,
          15.87,
          13.49,
          13.28,
          13.17,
          13.35
         ],
         "z": [
          16.56,
          16.68,
          14.91,
          13.47,
          15.54,
          14.4,
          13.09,
          12.67,
          16.81,
          15.5,
          17.33,
          13.9,
          13.86,
          12.65,
          12.86,
          11.95,
          12.02
         ]
        },
        {
         "hovertemplate": "Spec=p. orientale<br>L=%{x}<br>W=%{y}<br>D=%{z}<extra></extra>",
         "legendgroup": "p. orientale",
         "marker": {
          "color": "#EF553B",
          "opacity": 0.6,
          "symbol": "circle"
         },
         "mode": "markers",
         "name": "p. orientale",
         "scene": "scene",
         "showlegend": true,
         "type": "scatter3d",
         "x": [
          25.49,
          20.05,
          18.81,
          22.55,
          28.03,
          20.33,
          22.37,
          21.34,
          19.7,
          22.59,
          22.36,
          20.95,
          21.54,
          20.13,
          23.11,
          21.96,
          18.11,
          19.41,
          23.67,
          18.21,
          18.18,
          16.9,
          20.29,
          18.69,
          17.57,
          16.74,
          19.22,
          20.76,
          18.57,
          16.46,
          16.58
         ],
         "y": [
          19.97,
          15.74,
          15.98,
          20.17,
          21.73,
          16.11,
          18.67,
          15.89,
          15.11,
          16.42,
          16.13,
          17.14,
          19.9,
          19.87,
          17.15,
          14.94,
          10.92,
          15.57,
          18.44,
          14.36,
          12.24,
          13.6,
          17.2,
          15.98,
          11.64,
          11.97,
          14.99,
          14.8,
          15.06,
          10.51,
          13.11
         ],
         "z": [
          22.14,
          19.26,
          17.79,
          21.78,
          25.1,
          18.8,
          22.17,
          20.29,
          18.69,
          8.44,
          19.34,
          20.66,
          20.25,
          20.84,
          20.65,
          18.49,
          16.27,
          18.23,
          19.23,
          17.84,
          16.22,
          16.71,
          20.16,
          18.05,
          16.26,
          16.35,
          17.62,
          16.66,
          17.34,
          14.5,
          16.62
         ]
        },
        {
         "hovertemplate": "Spec=p. dubium<br>L=%{x}<br>W=%{y}<br>D=%{z}<extra></extra>",
         "legendgroup": "p. dubium",
         "marker": {
          "color": "#00cc96",
          "opacity": 0.6,
          "symbol": "circle"
         },
         "mode": "markers",
         "name": "p. dubium",
         "scene": "scene",
         "showlegend": true,
         "type": "scatter3d",
         "x": [
          27.2,
          27.31,
          20.42,
          20.9,
          23.44,
          23.87,
          20.89,
          23.39,
          21.1,
          23.68,
          20.26,
          24.61,
          25.98,
          20.54,
          22.85,
          17.65,
          24.56,
          21.16,
          23.74,
          18.18,
          24.46,
          20.53,
          26.37,
          24.61,
          26.94,
          15.44,
          20.16,
          18.78,
          21.83,
          21.32,
          19.76,
          15.8,
          18.59,
          26.19,
          19.91,
          20.98,
          25.51,
          20,
          25.5,
          15.09
         ],
         "y": [
          7.79,
          9.4,
          6.58,
          7.16,
          7.75,
          7.67,
          8.18,
          8,
          8.09,
          8.22,
          7.96,
          7.51,
          8.24,
          6.81,
          8.36,
          6.56,
          8.58,
          7.16,
          7.98,
          6.66,
          19.61,
          8.52,
          7.96,
          8.61,
          9.09,
          5.93,
          6.86,
          6.74,
          9.8,
          7.17,
          6.5,
          5.74,
          6.72,
          8.04,
          7.2,
          7.2,
          8.53,
          6.88,
          8.08,
          8.22
         ],
         "z": [
          7.32,
          8.16,
          6.85,
          6.98,
          7.01,
          7.24,
          7.78,
          6.89,
          7.61,
          7.13,
          7.09,
          7.13,
          7.45,
          6.83,
          7.23,
          6.9,
          7.65,
          6.59,
          7.86,
          6.97,
          8.73,
          7.58,
          7.08,
          7.99,
          8.68,
          6,
          6.97,
          6.58,
          8.49,
          6.17,
          7.07,
          5.99,
          6.81,
          7.55,
          6.92,
          6.98,
          8.03,
          7.15,
          7.29,
          7.51
         ]
        },
        {
         "hovertemplate": "Spec=p. rhoeas<br>L=%{x}<br>W=%{y}<br>D=%{z}<extra></extra>",
         "legendgroup": "p. rhoeas",
         "marker": {
          "color": "#ab63fa",
          "opacity": 0.6,
          "symbol": "circle"
         },
         "mode": "markers",
         "name": "p. rhoeas",
         "scene": "scene",
         "showlegend": true,
         "type": "scatter3d",
         "x": [
          13.71,
          17.46,
          10.62,
          12.55,
          12.44,
          13.73,
          13.04,
          12.06,
          12.2,
          11.08,
          13.31,
          12.54,
          12.65,
          9.9,
          11.56,
          12.29,
          10.31,
          13.66,
          13.65,
          12.66,
          13.83,
          14.24,
          9.66,
          13.11,
          17.46,
          10.77,
          11.79,
          13.16,
          13.5,
          11.85,
          12.02,
          12.54,
          14.72,
          15.64,
          12.54,
          13.89,
          13.41,
          16.93,
          12.41,
          12.01,
          12.57,
          11.85,
          11.72,
          17.1,
          12.63,
          14.21,
          13.43,
          11.96,
          12.13,
          13.62,
          11.62,
          12.19,
          11.46,
          15.54,
          13.74,
          13.29,
          14.13,
          14.28,
          11.64,
          15.55,
          15.63,
          11.2
         ],
         "y": [
          9.11,
          11.08,
          6.25,
          7.24,
          10.62,
          8.93,
          8.8,
          9.57,
          7.94,
          7.4,
          9.65,
          7.77,
          8.78,
          7.88,
          6.27,
          6.45,
          5.67,
          9.72,
          11,
          8.68,
          9.88,
          10.37,
          5.77,
          14.01,
          7.88,
          7.49,
          7.39,
          6.26,
          8.06,
          7.89,
          9.19,
          6.93,
          9.08,
          8.98,
          11.3,
          10.27,
          9.35,
          8.55,
          9.39,
          7.62,
          9.47,
          8.46,
          9.01,
          9.97,
          9.61,
          9.18,
          9.53,
          8.74,
          8.91,
          7.72,
          7.83,
          9.44,
          8.59,
          9.88,
          9.24,
          9.15,
          11.35,
          10.26,
          9.4,
          7.74,
          7.97,
          7.12
         ],
         "z": [
          9.26,
          10.16,
          6.55,
          8.15,
          8.76,
          10.24,
          8.18,
          8.35,
          8.77,
          8.29,
          10.1,
          9.95,
          8.61,
          9.16,
          6.61,
          7.33,
          6.32,
          9.26,
          8.99,
          8.2,
          11.09,
          8.85,
          6.61,
          9.25,
          8.98,
          7.88,
          7.5,
          7.48,
          7.24,
          10.59,
          9.66,
          8.51,
          10.01,
          9.57,
          9.75,
          11.52,
          10.14,
          9.23,
          9.92,
          7.15,
          10.65,
          8.81,
          9.25,
          10.2,
          9.55,
          9.72,
          9.34,
          9.32,
          8.56,
          9.35,
          9.57,
          9.87,
          7.56,
          11.36,
          10.48,
          9.21,
          9.89,
          8.9,
          9.22,
          10.06,
          9.83,
          8.68
         ]
        }
       ],
       "layout": {
        "height": 500,
        "legend": {
         "title": {
          "text": "Spec"
         },
         "tracegroupgap": 0
        },
        "margin": {
         "b": 0,
         "l": 0,
         "r": 0,
         "t": 0
        },
        "scene": {
         "aspectmode": "auto",
         "aspectratio": {
          "x": 1.0321370347910963,
          "y": 0.9023473477814375,
          "z": 1.073714683443541
         },
         "camera": {
          "center": {
           "x": 0,
           "y": 0,
           "z": 0
          },
          "eye": {
           "x": 1.107721045352858,
           "y": -0.26475410876748784,
           "z": 1.7935308735385864
          },
          "projection": {
           "type": "perspective"
          },
          "up": {
           "x": 0,
           "y": 0,
           "z": 1
          }
         },
         "domain": {
          "x": [
           0,
           1
          ],
          "y": [
           0,
           1
          ]
         },
         "xaxis": {
          "title": {
           "text": "L"
          },
          "type": "linear"
         },
         "yaxis": {
          "title": {
           "text": "W"
          },
          "type": "linear"
         },
         "zaxis": {
          "title": {
           "text": "D"
          },
          "type": "linear"
         }
        },
        "template": {
         "data": {
          "bar": [
           {
            "error_x": {
             "color": "#2a3f5f"
            },
            "error_y": {
             "color": "#2a3f5f"
            },
            "marker": {
             "line": {
              "color": "#E5ECF6",
              "width": 0.5
             },
             "pattern": {
              "fillmode": "overlay",
              "size": 10,
              "solidity": 0.2
             }
            },
            "type": "bar"
           }
          ],
          "barpolar": [
           {
            "marker": {
             "line": {
              "color": "#E5ECF6",
              "width": 0.5
             },
             "pattern": {
              "fillmode": "overlay",
              "size": 10,
              "solidity": 0.2
             }
            },
            "type": "barpolar"
           }
          ],
          "carpet": [
           {
            "aaxis": {
             "endlinecolor": "#2a3f5f",
             "gridcolor": "white",
             "linecolor": "white",
             "minorgridcolor": "white",
             "startlinecolor": "#2a3f5f"
            },
            "baxis": {
             "endlinecolor": "#2a3f5f",
             "gridcolor": "white",
             "linecolor": "white",
             "minorgridcolor": "white",
             "startlinecolor": "#2a3f5f"
            },
            "type": "carpet"
           }
          ],
          "choropleth": [
           {
            "colorbar": {
             "outlinewidth": 0,
             "ticks": ""
            },
            "type": "choropleth"
           }
          ],
          "contour": [
           {
            "colorbar": {
             "outlinewidth": 0,
             "ticks": ""
            },
            "colorscale": [
             [
              0,
              "#0d0887"
             ],
             [
              0.1111111111111111,
              "#46039f"
             ],
             [
              0.2222222222222222,
              "#7201a8"
             ],
             [
              0.3333333333333333,
              "#9c179e"
             ],
             [
              0.4444444444444444,
              "#bd3786"
             ],
             [
              0.5555555555555556,
              "#d8576b"
             ],
             [
              0.6666666666666666,
              "#ed7953"
             ],
             [
              0.7777777777777778,
              "#fb9f3a"
             ],
             [
              0.8888888888888888,
              "#fdca26"
             ],
             [
              1,
              "#f0f921"
             ]
            ],
            "type": "contour"
           }
          ],
          "contourcarpet": [
           {
            "colorbar": {
             "outlinewidth": 0,
             "ticks": ""
            },
            "type": "contourcarpet"
           }
          ],
          "heatmap": [
           {
            "colorbar": {
             "outlinewidth": 0,
             "ticks": ""
            },
            "colorscale": [
             [
              0,
              "#0d0887"
             ],
             [
              0.1111111111111111,
              "#46039f"
             ],
             [
              0.2222222222222222,
              "#7201a8"
             ],
             [
              0.3333333333333333,
              "#9c179e"
             ],
             [
              0.4444444444444444,
              "#bd3786"
             ],
             [
              0.5555555555555556,
              "#d8576b"
             ],
             [
              0.6666666666666666,
              "#ed7953"
             ],
             [
              0.7777777777777778,
              "#fb9f3a"
             ],
             [
              0.8888888888888888,
              "#fdca26"
             ],
             [
              1,
              "#f0f921"
             ]
            ],
            "type": "heatmap"
           }
          ],
          "heatmapgl": [
           {
            "colorbar": {
             "outlinewidth": 0,
             "ticks": ""
            },
            "colorscale": [
             [
              0,
              "#0d0887"
             ],
             [
              0.1111111111111111,
              "#46039f"
             ],
             [
              0.2222222222222222,
              "#7201a8"
             ],
             [
              0.3333333333333333,
              "#9c179e"
             ],
             [
              0.4444444444444444,
              "#bd3786"
             ],
             [
              0.5555555555555556,
              "#d8576b"
             ],
             [
              0.6666666666666666,
              "#ed7953"
             ],
             [
              0.7777777777777778,
              "#fb9f3a"
             ],
             [
              0.8888888888888888,
              "#fdca26"
             ],
             [
              1,
              "#f0f921"
             ]
            ],
            "type": "heatmapgl"
           }
          ],
          "histogram": [
           {
            "marker": {
             "pattern": {
              "fillmode": "overlay",
              "size": 10,
              "solidity": 0.2
             }
            },
            "type": "histogram"
           }
          ],
          "histogram2d": [
           {
            "colorbar": {
             "outlinewidth": 0,
             "ticks": ""
            },
            "colorscale": [
             [
              0,
              "#0d0887"
             ],
             [
              0.1111111111111111,
              "#46039f"
             ],
             [
              0.2222222222222222,
              "#7201a8"
             ],
             [
              0.3333333333333333,
              "#9c179e"
             ],
             [
              0.4444444444444444,
              "#bd3786"
             ],
             [
              0.5555555555555556,
              "#d8576b"
             ],
             [
              0.6666666666666666,
              "#ed7953"
             ],
             [
              0.7777777777777778,
              "#fb9f3a"
             ],
             [
              0.8888888888888888,
              "#fdca26"
             ],
             [
              1,
              "#f0f921"
             ]
            ],
            "type": "histogram2d"
           }
          ],
          "histogram2dcontour": [
           {
            "colorbar": {
             "outlinewidth": 0,
             "ticks": ""
            },
            "colorscale": [
             [
              0,
              "#0d0887"
             ],
             [
              0.1111111111111111,
              "#46039f"
             ],
             [
              0.2222222222222222,
              "#7201a8"
             ],
             [
              0.3333333333333333,
              "#9c179e"
             ],
             [
              0.4444444444444444,
              "#bd3786"
             ],
             [
              0.5555555555555556,
              "#d8576b"
             ],
             [
              0.6666666666666666,
              "#ed7953"
             ],
             [
              0.7777777777777778,
              "#fb9f3a"
             ],
             [
              0.8888888888888888,
              "#fdca26"
             ],
             [
              1,
              "#f0f921"
             ]
            ],
            "type": "histogram2dcontour"
           }
          ],
          "mesh3d": [
           {
            "colorbar": {
             "outlinewidth": 0,
             "ticks": ""
            },
            "type": "mesh3d"
           }
          ],
          "parcoords": [
           {
            "line": {
             "colorbar": {
              "outlinewidth": 0,
              "ticks": ""
             }
            },
            "type": "parcoords"
           }
          ],
          "pie": [
           {
            "automargin": true,
            "type": "pie"
           }
          ],
          "scatter": [
           {
            "fillpattern": {
             "fillmode": "overlay",
             "size": 10,
             "solidity": 0.2
            },
            "type": "scatter"
           }
          ],
          "scatter3d": [
           {
            "line": {
             "colorbar": {
              "outlinewidth": 0,
              "ticks": ""
             }
            },
            "marker": {
             "colorbar": {
              "outlinewidth": 0,
              "ticks": ""
             }
            },
            "type": "scatter3d"
           }
          ],
          "scattercarpet": [
           {
            "marker": {
             "colorbar": {
              "outlinewidth": 0,
              "ticks": ""
             }
            },
            "type": "scattercarpet"
           }
          ],
          "scattergeo": [
           {
            "marker": {
             "colorbar": {
              "outlinewidth": 0,
              "ticks": ""
             }
            },
            "type": "scattergeo"
           }
          ],
          "scattergl": [
           {
            "marker": {
             "colorbar": {
              "outlinewidth": 0,
              "ticks": ""
             }
            },
            "type": "scattergl"
           }
          ],
          "scattermapbox": [
           {
            "marker": {
             "colorbar": {
              "outlinewidth": 0,
              "ticks": ""
             }
            },
            "type": "scattermapbox"
           }
          ],
          "scatterpolar": [
           {
            "marker": {
             "colorbar": {
              "outlinewidth": 0,
              "ticks": ""
             }
            },
            "type": "scatterpolar"
           }
          ],
          "scatterpolargl": [
           {
            "marker": {
             "colorbar": {
              "outlinewidth": 0,
              "ticks": ""
             }
            },
            "type": "scatterpolargl"
           }
          ],
          "scatterternary": [
           {
            "marker": {
             "colorbar": {
              "outlinewidth": 0,
              "ticks": ""
             }
            },
            "type": "scatterternary"
           }
          ],
          "surface": [
           {
            "colorbar": {
             "outlinewidth": 0,
             "ticks": ""
            },
            "colorscale": [
             [
              0,
              "#0d0887"
             ],
             [
              0.1111111111111111,
              "#46039f"
             ],
             [
              0.2222222222222222,
              "#7201a8"
             ],
             [
              0.3333333333333333,
              "#9c179e"
             ],
             [
              0.4444444444444444,
              "#bd3786"
             ],
             [
              0.5555555555555556,
              "#d8576b"
             ],
             [
              0.6666666666666666,
              "#ed7953"
             ],
             [
              0.7777777777777778,
              "#fb9f3a"
             ],
             [
              0.8888888888888888,
              "#fdca26"
             ],
             [
              1,
              "#f0f921"
             ]
            ],
            "type": "surface"
           }
          ],
          "table": [
           {
            "cells": {
             "fill": {
              "color": "#EBF0F8"
             },
             "line": {
              "color": "white"
             }
            },
            "header": {
             "fill": {
              "color": "#C8D4E3"
             },
             "line": {
              "color": "white"
             }
            },
            "type": "table"
           }
          ]
         },
         "layout": {
          "annotationdefaults": {
           "arrowcolor": "#2a3f5f",
           "arrowhead": 0,
           "arrowwidth": 1
          },
          "autotypenumbers": "strict",
          "coloraxis": {
           "colorbar": {
            "outlinewidth": 0,
            "ticks": ""
           }
          },
          "colorscale": {
           "diverging": [
            [
             0,
             "#8e0152"
            ],
            [
             0.1,
             "#c51b7d"
            ],
            [
             0.2,
             "#de77ae"
            ],
            [
             0.3,
             "#f1b6da"
            ],
            [
             0.4,
             "#fde0ef"
            ],
            [
             0.5,
             "#f7f7f7"
            ],
            [
             0.6,
             "#e6f5d0"
            ],
            [
             0.7,
             "#b8e186"
            ],
            [
             0.8,
             "#7fbc41"
            ],
            [
             0.9,
             "#4d9221"
            ],
            [
             1,
             "#276419"
            ]
           ],
           "sequential": [
            [
             0,
             "#0d0887"
            ],
            [
             0.1111111111111111,
             "#46039f"
            ],
            [
             0.2222222222222222,
             "#7201a8"
            ],
            [
             0.3333333333333333,
             "#9c179e"
            ],
            [
             0.4444444444444444,
             "#bd3786"
            ],
            [
             0.5555555555555556,
             "#d8576b"
            ],
            [
             0.6666666666666666,
             "#ed7953"
            ],
            [
             0.7777777777777778,
             "#fb9f3a"
            ],
            [
             0.8888888888888888,
             "#fdca26"
            ],
            [
             1,
             "#f0f921"
            ]
           ],
           "sequentialminus": [
            [
             0,
             "#0d0887"
            ],
            [
             0.1111111111111111,
             "#46039f"
            ],
            [
             0.2222222222222222,
             "#7201a8"
            ],
            [
             0.3333333333333333,
             "#9c179e"
            ],
            [
             0.4444444444444444,
             "#bd3786"
            ],
            [
             0.5555555555555556,
             "#d8576b"
            ],
            [
             0.6666666666666666,
             "#ed7953"
            ],
            [
             0.7777777777777778,
             "#fb9f3a"
            ],
            [
             0.8888888888888888,
             "#fdca26"
            ],
            [
             1,
             "#f0f921"
            ]
           ]
          },
          "colorway": [
           "#636efa",
           "#EF553B",
           "#00cc96",
           "#ab63fa",
           "#FFA15A",
           "#19d3f3",
           "#FF6692",
           "#B6E880",
           "#FF97FF",
           "#FECB52"
          ],
          "font": {
           "color": "#2a3f5f"
          },
          "geo": {
           "bgcolor": "white",
           "lakecolor": "white",
           "landcolor": "#E5ECF6",
           "showlakes": true,
           "showland": true,
           "subunitcolor": "white"
          },
          "hoverlabel": {
           "align": "left"
          },
          "hovermode": "closest",
          "mapbox": {
           "style": "light"
          },
          "paper_bgcolor": "white",
          "plot_bgcolor": "#E5ECF6",
          "polar": {
           "angularaxis": {
            "gridcolor": "white",
            "linecolor": "white",
            "ticks": ""
           },
           "bgcolor": "#E5ECF6",
           "radialaxis": {
            "gridcolor": "white",
            "linecolor": "white",
            "ticks": ""
           }
          },
          "scene": {
           "xaxis": {
            "backgroundcolor": "#E5ECF6",
            "gridcolor": "white",
            "gridwidth": 2,
            "linecolor": "white",
            "showbackground": true,
            "ticks": "",
            "zerolinecolor": "white"
           },
           "yaxis": {
            "backgroundcolor": "#E5ECF6",
            "gridcolor": "white",
            "gridwidth": 2,
            "linecolor": "white",
            "showbackground": true,
            "ticks": "",
            "zerolinecolor": "white"
           },
           "zaxis": {
            "backgroundcolor": "#E5ECF6",
            "gridcolor": "white",
            "gridwidth": 2,
            "linecolor": "white",
            "showbackground": true,
            "ticks": "",
            "zerolinecolor": "white"
           }
          },
          "shapedefaults": {
           "line": {
            "color": "#2a3f5f"
           }
          },
          "ternary": {
           "aaxis": {
            "gridcolor": "white",
            "linecolor": "white",
            "ticks": ""
           },
           "baxis": {
            "gridcolor": "white",
            "linecolor": "white",
            "ticks": ""
           },
           "bgcolor": "#E5ECF6",
           "caxis": {
            "gridcolor": "white",
            "linecolor": "white",
            "ticks": ""
           }
          },
          "title": {
           "x": 0.05
          },
          "xaxis": {
           "automargin": true,
           "gridcolor": "white",
           "linecolor": "white",
           "ticks": "",
           "title": {
            "standoff": 15
           },
           "zerolinecolor": "white",
           "zerolinewidth": 2
          },
          "yaxis": {
           "automargin": true,
           "gridcolor": "white",
           "linecolor": "white",
           "ticks": "",
           "title": {
            "standoff": 15
           },
           "zerolinecolor": "white",
           "zerolinewidth": 2
          }
         }
        },
        "width": 800
       }
      },
      "image/png": "[encoded data removed]",
      "text/html": [
       "<div>                            <div id=\"e7718cf0-38a0-4699-8dce-e479ae079f5f\" class=\"plotly-graph-div\" style=\"height:500px; width:800px;\"></div>            <script type=\"text/javascript\">                require([\"plotly\"], function(Plotly) {                    window.PLOTLYENV=window.PLOTLYENV || {};                                    if (document.getElementById(\"e7718cf0-38a0-4699-8dce-e479ae079f5f\")) {                    Plotly.newPlot(                        \"e7718cf0-38a0-4699-8dce-e479ae079f5f\",                        [{\"hovertemplate\":\"Spec=p. somniferum<br>L=%{x}<br>W=%{y}<br>D=%{z}<extra></extra>\",\"legendgroup\":\"p. somniferum\",\"marker\":{\"color\":\"#636efa\",\"opacity\":0.6,\"symbol\":\"circle\"},\"mode\":\"markers\",\"name\":\"p. somniferum\",\"scene\":\"scene\",\"showlegend\":true,\"x\":[26.34,24.56,21.77,18.4,23.19,23.18,20.87,18.28,22.65,21.91,20.55,17.77,14.78,15.74,17.97,19.39,18.24],\"y\":[19.5,20.63,17.61,13.62,17.78,16.62,18.61,14.86,20.0,19.96,17.54,13.98,15.87,13.49,13.28,13.17,13.35],\"z\":[16.56,16.68,14.91,13.47,15.54,14.4,13.09,12.67,16.81,15.5,17.33,13.9,13.86,12.65,12.86,11.95,12.02],\"type\":\"scatter3d\"},{\"hovertemplate\":\"Spec=p. orientale<br>L=%{x}<br>W=%{y}<br>D=%{z}<extra></extra>\",\"legendgroup\":\"p. orientale\",\"marker\":{\"color\":\"#EF553B\",\"opacity\":0.6,\"symbol\":\"circle\"},\"mode\":\"markers\",\"name\":\"p. orientale\",\"scene\":\"scene\",\"showlegend\":true,\"x\":[25.49,20.05,18.81,22.55,28.03,20.33,22.37,21.34,19.7,22.59,22.36,20.95,21.54,20.13,23.11,21.96,18.11,19.41,23.67,18.21,18.18,16.9,20.29,18.69,17.57,16.74,19.22,20.76,18.57,16.46,16.58],\"y\":[19.97,15.74,15.98,20.17,21.73,16.11,18.67,15.89,15.11,16.42,16.13,17.14,19.9,19.87,17.15,14.94,10.92,15.57,18.44,14.36,12.24,13.6,17.2,15.98,11.64,11.97,14.99,14.8,15.06,10.51,13.11],\"z\":[22.14,19.26,17.79,21.78,25.1,18.8,22.17,20.29,18.69,8.44,19.34,20.66,20.25,20.84,20.65,18.49,16.27,18.23,19.23,17.84,16.22,16.71,20.16,18.05,16.26,16.35,17.62,16.66,17.34,14.5,16.62],\"type\":\"scatter3d\"},{\"hovertemplate\":\"Spec=p. dubium<br>L=%{x}<br>W=%{y}<br>D=%{z}<extra></extra>\",\"legendgroup\":\"p. dubium\",\"marker\":{\"color\":\"#00cc96\",\"opacity\":0.6,\"symbol\":\"circle\"},\"mode\":\"markers\",\"name\":\"p. dubium\",\"scene\":\"scene\",\"showlegend\":true,\"x\":[27.2,27.31,20.42,20.9,23.44,23.87,20.89,23.39,21.1,23.68,20.26,24.61,25.98,20.54,22.85,17.65,24.56,21.16,23.74,18.18,24.46,20.53,26.37,24.61,26.94,15.44,20.16,18.78,21.83,21.32,19.76,15.8,18.59,26.19,19.91,20.98,25.51,20.0,25.5,15.09],\"y\":[7.79,9.4,6.58,7.16,7.75,7.67,8.18,8.0,8.09,8.22,7.96,7.51,8.24,6.81,8.36,6.56,8.58,7.16,7.98,6.66,19.61,8.52,7.96,8.61,9.09,5.93,6.86,6.74,9.8,7.17,6.5,5.74,6.72,8.04,7.2,7.2,8.53,6.88,8.08,8.22],\"z\":[7.32,8.16,6.85,6.98,7.01,7.24,7.78,6.89,7.61,7.13,7.09,7.13,7.45,6.83,7.23,6.9,7.65,6.59,7.86,6.97,8.73,7.58,7.08,7.99,8.68,6.0,6.97,6.58,8.49,6.17,7.07,5.99,6.81,7.55,6.92,6.98,8.03,7.15,7.29,7.51],\"type\":\"scatter3d\"},{\"hovertemplate\":\"Spec=p. rhoeas<br>L=%{x}<br>W=%{y}<br>D=%{z}<extra></extra>\",\"legendgroup\":\"p. rhoeas\",\"marker\":{\"color\":\"#ab63fa\",\"opacity\":0.6,\"symbol\":\"circle\"},\"mode\":\"markers\",\"name\":\"p. rhoeas\",\"scene\":\"scene\",\"showlegend\":true,\"x\":[13.71,17.46,10.62,12.55,12.44,13.73,13.04,12.06,12.2,11.08,13.31,12.54,12.65,9.9,11.56,12.29,10.31,13.66,13.65,12.66,13.83,14.24,9.66,13.11,17.46,10.77,11.79,13.16,13.5,11.85,12.02,12.54,14.72,15.64,12.54,13.89,13.41,16.93,12.41,12.01,12.57,11.85,11.72,17.1,12.63,14.21,13.43,11.96,12.13,13.62,11.62,12.19,11.46,15.54,13.74,13.29,14.13,14.28,11.64,15.55,15.63,11.2],\"y\":[9.11,11.08,6.25,7.24,10.62,8.93,8.8,9.57,7.94,7.4,9.65,7.77,8.78,7.88,6.27,6.45,5.67,9.72,11.0,8.68,9.88,10.37,5.77,14.01,7.88,7.49,7.39,6.26,8.06,7.89,9.19,6.93,9.08,8.98,11.3,10.27,9.35,8.55,9.39,7.62,9.47,8.46,9.01,9.97,9.61,9.18,9.53,8.74,8.91,7.72,7.83,9.44,8.59,9.88,9.24,9.15,11.35,10.26,9.4,7.74,7.97,7.12],\"z\":[9.26,10.16,6.55,8.15,8.76,10.24,8.18,8.35,8.77,8.29,10.1,9.95,8.61,9.16,6.61,7.33,6.32,9.26,8.99,8.2,11.09,8.85,6.61,9.25,8.98,7.88,7.5,7.48,7.24,10.59,9.66,8.51,10.01,9.57,9.75,11.52,10.14,9.23,9.92,7.15,10.65,8.81,9.25,10.2,9.55,9.72,9.34,9.32,8.56,9.35,9.57,9.87,7.56,11.36,10.48,9.21,9.89,8.9,9.22,10.06,9.83,8.68],\"type\":\"scatter3d\"}],                        {\"template\":{\"data\":{\"histogram2dcontour\":[{\"type\":\"histogram2dcontour\",\"colorbar\":{\"outlinewidth\":0,\"ticks\":\"\"},\"colorscale\":[[0.0,\"#0d0887\"],[0.1111111111111111,\"#46039f\"],[0.2222222222222222,\"#7201a8\"],[0.3333333333333333,\"#9c179e\"],[0.4444444444444444,\"#bd3786\"],[0.5555555555555556,\"#d8576b\"],[0.6666666666666666,\"#ed7953\"],[0.7777777777777778,\"#fb9f3a\"],[0.8888888888888888,\"#fdca26\"],[1.0,\"#f0f921\"]]}],\"choropleth\":[{\"type\":\"choropleth\",\"colorbar\":{\"outlinewidth\":0,\"ticks\":\"\"}}],\"histogram2d\":[{\"type\":\"histogram2d\",\"colorbar\":{\"outlinewidth\":0,\"ticks\":\"\"},\"colorscale\":[[0.0,\"#0d0887\"],[0.1111111111111111,\"#46039f\"],[0.2222222222222222,\"#7201a8\"],[0.3333333333333333,\"#9c179e\"],[0.4444444444444444,\"#bd3786\"],[0.5555555555555556,\"#d8576b\"],[0.6666666666666666,\"#ed7953\"],[0.7777777777777778,\"#fb9f3a\"],[0.8888888888888888,\"#fdca26\"],[1.0,\"#f0f921\"]]}],\"heatmap\":[{\"type\":\"heatmap\",\"colorbar\":{\"outlinewidth\":0,\"ticks\":\"\"},\"colorscale\":[[0.0,\"#0d0887\"],[0.1111111111111111,\"#46039f\"],[0.2222222222222222,\"#7201a8\"],[0.3333333333333333,\"#9c179e\"],[0.4444444444444444,\"#bd3786\"],[0.5555555555555556,\"#d8576b\"],[0.6666666666666666,\"#ed7953\"],[0.7777777777777778,\"#fb9f3a\"],[0.8888888888888888,\"#fdca26\"],[1.0,\"#f0f921\"]]}],\"heatmapgl\":[{\"type\":\"heatmapgl\",\"colorbar\":{\"outlinewidth\":0,\"ticks\":\"\"},\"colorscale\":[[0.0,\"#0d0887\"],[0.1111111111111111,\"#46039f\"],[0.2222222222222222,\"#7201a8\"],[0.3333333333333333,\"#9c179e\"],[0.4444444444444444,\"#bd3786\"],[0.5555555555555556,\"#d8576b\"],[0.6666666666666666,\"#ed7953\"],[0.7777777777777778,\"#fb9f3a\"],[0.8888888888888888,\"#fdca26\"],[1.0,\"#f0f921\"]]}],\"contourcarpet\":[{\"type\":\"contourcarpet\",\"colorbar\":{\"outlinewidth\":0,\"ticks\":\"\"}}],\"contour\":[{\"type\":\"contour\",\"colorbar\":{\"outlinewidth\":0,\"ticks\":\"\"},\"colorscale\":[[0.0,\"#0d0887\"],[0.1111111111111111,\"#46039f\"],[0.2222222222222222,\"#7201a8\"],[0.3333333333333333,\"#9c179e\"],[0.4444444444444444,\"#bd3786\"],[0.5555555555555556,\"#d8576b\"],[0.6666666666666666,\"#ed7953\"],[0.7777777777777778,\"#fb9f3a\"],[0.8888888888888888,\"#fdca26\"],[1.0,\"#f0f921\"]]}],\"surface\":[{\"type\":\"surface\",\"colorbar\":{\"outlinewidth\":0,\"ticks\":\"\"},\"colorscale\":[[0.0,\"#0d0887\"],[0.1111111111111111,\"#46039f\"],[0.2222222222222222,\"#7201a8\"],[0.3333333333333333,\"#9c179e\"],[0.4444444444444444,\"#bd3786\"],[0.5555555555555556,\"#d8576b\"],[0.6666666666666666,\"#ed7953\"],[0.7777777777777778,\"#fb9f3a\"],[0.8888888888888888,\"#fdca26\"],[1.0,\"#f0f921\"]]}],\"mesh3d\":[{\"type\":\"mesh3d\",\"colorbar\":{\"outlinewidth\":0,\"ticks\":\"\"}}],\"scatter\":[{\"fillpattern\":{\"fillmode\":\"overlay\",\"size\":10,\"solidity\":0.2},\"type\":\"scatter\"}],\"parcoords\":[{\"type\":\"parcoords\",\"line\":{\"colorbar\":{\"outlinewidth\":0,\"ticks\":\"\"}}}],\"scatterpolargl\":[{\"type\":\"scatterpolargl\",\"marker\":{\"colorbar\":{\"outlinewidth\":0,\"ticks\":\"\"}}}],\"bar\":[{\"error_x\":{\"color\":\"#2a3f5f\"},\"error_y\":{\"color\":\"#2a3f5f\"},\"marker\":{\"line\":{\"color\":\"#E5ECF6\",\"width\":0.5},\"pattern\":{\"fillmode\":\"overlay\",\"size\":10,\"solidity\":0.2}},\"type\":\"bar\"}],\"scattergeo\":[{\"type\":\"scattergeo\",\"marker\":{\"colorbar\":{\"outlinewidth\":0,\"ticks\":\"\"}}}],\"scatterpolar\":[{\"type\":\"scatterpolar\",\"marker\":{\"colorbar\":{\"outlinewidth\":0,\"ticks\":\"\"}}}],\"histogram\":[{\"marker\":{\"pattern\":{\"fillmode\":\"overlay\",\"size\":10,\"solidity\":0.2}},\"type\":\"histogram\"}],\"scattergl\":[{\"type\":\"scattergl\",\"marker\":{\"colorbar\":{\"outlinewidth\":0,\"ticks\":\"\"}}}],\"scatter3d\":[{\"type\":\"scatter3d\",\"line\":{\"colorbar\":{\"outlinewidth\":0,\"ticks\":\"\"}},\"marker\":{\"colorbar\":{\"outlinewidth\":0,\"ticks\":\"\"}}}],\"scattermapbox\":[{\"type\":\"scattermapbox\",\"marker\":{\"colorbar\":{\"outlinewidth\":0,\"ticks\":\"\"}}}],\"scatterternary\":[{\"type\":\"scatterternary\",\"marker\":{\"colorbar\":{\"outlinewidth\":0,\"ticks\":\"\"}}}],\"scattercarpet\":[{\"type\":\"scattercarpet\",\"marker\":{\"colorbar\":{\"outlinewidth\":0,\"ticks\":\"\"}}}],\"carpet\":[{\"aaxis\":{\"endlinecolor\":\"#2a3f5f\",\"gridcolor\":\"white\",\"linecolor\":\"white\",\"minorgridcolor\":\"white\",\"startlinecolor\":\"#2a3f5f\"},\"baxis\":{\"endlinecolor\":\"#2a3f5f\",\"gridcolor\":\"white\",\"linecolor\":\"white\",\"minorgridcolor\":\"white\",\"startlinecolor\":\"#2a3f5f\"},\"type\":\"carpet\"}],\"table\":[{\"cells\":{\"fill\":{\"color\":\"#EBF0F8\"},\"line\":{\"color\":\"white\"}},\"header\":{\"fill\":{\"color\":\"#C8D4E3\"},\"line\":{\"color\":\"white\"}},\"type\":\"table\"}],\"barpolar\":[{\"marker\":{\"line\":{\"color\":\"#E5ECF6\",\"width\":0.5},\"pattern\":{\"fillmode\":\"overlay\",\"size\":10,\"solidity\":0.2}},\"type\":\"barpolar\"}],\"pie\":[{\"automargin\":true,\"type\":\"pie\"}]},\"layout\":{\"autotypenumbers\":\"strict\",\"colorway\":[\"#636efa\",\"#EF553B\",\"#00cc96\",\"#ab63fa\",\"#FFA15A\",\"#19d3f3\",\"#FF6692\",\"#B6E880\",\"#FF97FF\",\"#FECB52\"],\"font\":{\"color\":\"#2a3f5f\"},\"hovermode\":\"closest\",\"hoverlabel\":{\"align\":\"left\"},\"paper_bgcolor\":\"white\",\"plot_bgcolor\":\"#E5ECF6\",\"polar\":{\"bgcolor\":\"#E5ECF6\",\"angularaxis\":{\"gridcolor\":\"white\",\"linecolor\":\"white\",\"ticks\":\"\"},\"radialaxis\":{\"gridcolor\":\"white\",\"linecolor\":\"white\",\"ticks\":\"\"}},\"ternary\":{\"bgcolor\":\"#E5ECF6\",\"aaxis\":{\"gridcolor\":\"white\",\"linecolor\":\"white\",\"ticks\":\"\"},\"baxis\":{\"gridcolor\":\"white\",\"linecolor\":\"white\",\"ticks\":\"\"},\"caxis\":{\"gridcolor\":\"white\",\"linecolor\":\"white\",\"ticks\":\"\"}},\"coloraxis\":{\"colorbar\":{\"outlinewidth\":0,\"ticks\":\"\"}},\"colorscale\":{\"sequential\":[[0.0,\"#0d0887\"],[0.1111111111111111,\"#46039f\"],[0.2222222222222222,\"#7201a8\"],[0.3333333333333333,\"#9c179e\"],[0.4444444444444444,\"#bd3786\"],[0.5555555555555556,\"#d8576b\"],[0.6666666666666666,\"#ed7953\"],[0.7777777777777778,\"#fb9f3a\"],[0.8888888888888888,\"#fdca26\"],[1.0,\"#f0f921\"]],\"sequentialminus\":[[0.0,\"#0d0887\"],[0.1111111111111111,\"#46039f\"],[0.2222222222222222,\"#7201a8\"],[0.3333333333333333,\"#9c179e\"],[0.4444444444444444,\"#bd3786\"],[0.5555555555555556,\"#d8576b\"],[0.6666666666666666,\"#ed7953\"],[0.7777777777777778,\"#fb9f3a\"],[0.8888888888888888,\"#fdca26\"],[1.0,\"#f0f921\"]],\"diverging\":[[0,\"#8e0152\"],[0.1,\"#c51b7d\"],[0.2,\"#de77ae\"],[0.3,\"#f1b6da\"],[0.4,\"#fde0ef\"],[0.5,\"#f7f7f7\"],[0.6,\"#e6f5d0\"],[0.7,\"#b8e186\"],[0.8,\"#7fbc41\"],[0.9,\"#4d9221\"],[1,\"#276419\"]]},\"xaxis\":{\"gridcolor\":\"white\",\"linecolor\":\"white\",\"ticks\":\"\",\"title\":{\"standoff\":15},\"zerolinecolor\":\"white\",\"automargin\":true,\"zerolinewidth\":2},\"yaxis\":{\"gridcolor\":\"white\",\"linecolor\":\"white\",\"ticks\":\"\",\"title\":{\"standoff\":15},\"zerolinecolor\":\"white\",\"automargin\":true,\"zerolinewidth\":2},\"scene\":{\"xaxis\":{\"backgroundcolor\":\"#E5ECF6\",\"gridcolor\":\"white\",\"linecolor\":\"white\",\"showbackground\":true,\"ticks\":\"\",\"zerolinecolor\":\"white\",\"gridwidth\":2},\"yaxis\":{\"backgroundcolor\":\"#E5ECF6\",\"gridcolor\":\"white\",\"linecolor\":\"white\",\"showbackground\":true,\"ticks\":\"\",\"zerolinecolor\":\"white\",\"gridwidth\":2},\"zaxis\":{\"backgroundcolor\":\"#E5ECF6\",\"gridcolor\":\"white\",\"linecolor\":\"white\",\"showbackground\":true,\"ticks\":\"\",\"zerolinecolor\":\"white\",\"gridwidth\":2}},\"shapedefaults\":{\"line\":{\"color\":\"#2a3f5f\"}},\"annotationdefaults\":{\"arrowcolor\":\"#2a3f5f\",\"arrowhead\":0,\"arrowwidth\":1},\"geo\":{\"bgcolor\":\"white\",\"landcolor\":\"#E5ECF6\",\"subunitcolor\":\"white\",\"showland\":true,\"showlakes\":true,\"lakecolor\":\"white\"},\"title\":{\"x\":0.05},\"mapbox\":{\"style\":\"light\"}}},\"scene\":{\"domain\":{\"x\":[0.0,1.0],\"y\":[0.0,1.0]},\"xaxis\":{\"title\":{\"text\":\"L\"}},\"yaxis\":{\"title\":{\"text\":\"W\"}},\"zaxis\":{\"title\":{\"text\":\"D\"}}},\"legend\":{\"title\":{\"text\":\"Spec\"},\"tracegroupgap\":0},\"margin\":{\"t\":0,\"l\":0,\"r\":0,\"b\":0},\"width\":800,\"height\":500},                        {\"responsive\": true}                    ).then(function(){\n",
       "                            \n",
       "var gd = document.getElementById('e7718cf0-38a0-4699-8dce-e479ae079f5f');\n",
       "var x = new MutationObserver(function (mutations, observer) {{\n",
       "        var display = window.getComputedStyle(gd).display;\n",
       "        if (!display || display === 'none') {{\n",
       "            console.log([gd, 'removed!']);\n",
       "            Plotly.purge(gd);\n",
       "            observer.disconnect();\n",
       "        }}\n",
       "}});\n",
       "\n",
       "// Listen for the removal of the full notebook cells\n",
       "var notebookContainer = gd.closest('#notebook-container');\n",
       "if (notebookContainer) {{\n",
       "    x.observe(notebookContainer, {childList: true});\n",
       "}}\n",
       "\n",
       "// Listen for the clearing of the current output cell\n",
       "var outputEl = gd.closest('.output');\n",
       "if (outputEl) {{\n",
       "    x.observe(outputEl, {childList: true});\n",
       "}}\n",
       "\n",
       "                        })                };                });            </script>        </div>"
      ]
     },
     "metadata": {},
     "output_type": "display_data"
    }
   ],
   "source": [
    "import plotly.express as px\n",
    "\n",
    "fig = px.scatter_3d(df, x=\"L\", y=\"W\", z=\"D\", color=\"Spec\", opacity=0.6)\n",
    "fig.update_layout(margin=dict(l=0,r =0, b=0, t=0), width=800, height=500)\n",
    "fig.show()"
   ]
  },
  {
   "cell_type": "code",
   "execution_count": 21,
   "id": "6cda5172-1961-41c4-b43e-d6895339ea0d",
   "metadata": {},
   "outputs": [],
   "source": [
    "from sklearn.model_selection import train_test_split #import all the relevant modules required \n",
    "from sklearn.preprocessing import StandardScaler\n",
    "from sklearn.neighbors import KNeighborsClassifier\n",
    "from sklearn.metrics import confusion_matrix\n",
    "from sklearn.metrics import f1_score\n",
    "from sklearn.metrics import accuracy_score\n",
    "from sklearn import svm\n",
    "from sklearn import svm,datasets \n",
    "from sklearn.utils.multiclass import unique_labels"
   ]
  },
  {
   "cell_type": "code",
   "execution_count": 22,
   "id": "e54d7a92-d40f-4584-adb4-cc7e66f109eb",
   "metadata": {},
   "outputs": [
    {
     "data": {
      "text/plain": [
       "array(['p. somniferum', 'p. orientale', 'p. dubium', 'p. rhoeas'],\n",
       "      dtype=object)"
      ]
     },
     "execution_count": 22,
     "metadata": {},
     "output_type": "execute_result"
    }
   ],
   "source": [
    "df[\"Spec\"].unique()"
   ]
  },
  {
   "cell_type": "code",
   "execution_count": 23,
   "id": "2419bc92-6422-483f-80c5-b23ac7abf8d8",
   "metadata": {},
   "outputs": [],
   "source": [
    "X = df[[\"L\",\"W\",\"T\",\"D\"]]\n",
    "Y = df[\"Spec\"]"
   ]
  },
  {
   "cell_type": "code",
   "execution_count": 24,
   "id": "b93474a0-0640-4eac-aa20-213d6709a87d",
   "metadata": {},
   "outputs": [],
   "source": [
    "X_train, X_test , Y_train , Y_test = train_test_split(X , Y , random_state = 0, test_size = 0.4)"
   ]
  },
  {
   "cell_type": "code",
   "execution_count": 25,
   "id": "d2ae989d-b48d-4f9b-9823-b5c79a0dcd20",
   "metadata": {},
   "outputs": [],
   "source": [
    "# Feature scaling\n",
    "\n",
    "sc_X = StandardScaler()\n",
    "X_train = sc_X.fit_transform(X_train)\n",
    "X_test = sc_X.transform(X_test)"
   ]
  },
  {
   "cell_type": "code",
   "execution_count": 26,
   "id": "b1fbaae7-6740-489f-b2d1-c81d2af63f9c",
   "metadata": {},
   "outputs": [
    {
     "data": {
      "text/plain": [
       "KNeighborsClassifier(metric='euclidean', n_neighbors=11, p=4)"
      ]
     },
     "execution_count": 26,
     "metadata": {},
     "output_type": "execute_result"
    }
   ],
   "source": [
    "# Define the model : Init K-NN\n",
    "\n",
    "classifier = KNeighborsClassifier(n_neighbors = 11 , p = 4 , metric = 'euclidean' )\n",
    "classifier.fit(X_train,Y_train)\n",
    "\n",
    "# Define the no.of neighbours as 4 and the measured distance to be the euclidian distance"
   ]
  },
  {
   "cell_type": "code",
   "execution_count": 27,
   "id": "a6c01d5b-22c9-4865-b2d5-dcbd308c8fed",
   "metadata": {},
   "outputs": [
    {
     "data": {
      "text/plain": [
       "array(['p. rhoeas', 'p. orientale', 'p. somniferum', 'p. dubium',\n",
       "       'p. dubium', 'p. orientale', 'p. dubium', 'p. rhoeas', 'p. dubium',\n",
       "       'p. orientale', 'p. dubium', 'p. rhoeas', 'p. dubium', 'p. rhoeas',\n",
       "       'p. somniferum', 'p. orientale', 'p. dubium', 'p. somniferum',\n",
       "       'p. dubium', 'p. rhoeas', 'p. somniferum', 'p. orientale',\n",
       "       'p. rhoeas', 'p. dubium', 'p. orientale', 'p. rhoeas', 'p. dubium',\n",
       "       'p. orientale', 'p. orientale', 'p. rhoeas', 'p. dubium',\n",
       "       'p. rhoeas', 'p. rhoeas', 'p. orientale', 'p. dubium', 'p. rhoeas',\n",
       "       'p. rhoeas', 'p. rhoeas', 'p. somniferum', 'p. rhoeas',\n",
       "       'p. rhoeas', 'p. orientale', 'p. rhoeas', 'p. dubium', 'p. dubium',\n",
       "       'p. somniferum', 'p. rhoeas', 'p. rhoeas', 'p. rhoeas',\n",
       "       'p. rhoeas', 'p. orientale', 'p. dubium', 'p. dubium', 'p. rhoeas',\n",
       "       'p. orientale', 'p. dubium', 'p. dubium', 'p. rhoeas', 'p. rhoeas',\n",
       "       'p. rhoeas'], dtype=object)"
      ]
     },
     "execution_count": 27,
     "metadata": {},
     "output_type": "execute_result"
    }
   ],
   "source": [
    "#predict the test set results \n",
    "\n",
    "Y_pred = classifier.predict(X_test)\n",
    "Y_pred"
   ]
  },
  {
   "cell_type": "code",
   "execution_count": 30,
   "id": "59fa7b6b-1c14-41f9-9f9b-9d1472bb866a",
   "metadata": {},
   "outputs": [],
   "source": [
    "import matplotlib.pyplot as plt"
   ]
  },
  {
   "cell_type": "code",
   "execution_count": 31,
   "id": "4ec0ed04-6ae5-492c-9411-4eeea13b028d",
   "metadata": {},
   "outputs": [
    {
     "data": {
      "text/plain": [
       "[Text(0, 0.5, 'P.Somniferum'),\n",
       " Text(0, 1.5, 'P.Orientale'),\n",
       " Text(0, 2.5, 'P.Dubium'),\n",
       " Text(0, 3.5, 'P.Rhoeas')]"
      ]
     },
     "execution_count": 31,
     "metadata": {},
     "output_type": "execute_result"
    },
    {
     "data": {
      "image/png": "[encoded data removed]",
      "text/plain": [
       "<Figure size 720x720 with 2 Axes>"
      ]
     },
     "metadata": {
      "needs_background": "light"
     },
     "output_type": "display_data"
    }
   ],
   "source": [
    "# Plot our confusion matrix as a heatmap using seaborn\n",
    "cm = confusion_matrix(Y_test,Y_pred)\n",
    "df_cm = pd.DataFrame(cm, range(4), range(4))\n",
    "plt.figure(figsize=(10,10))\n",
    "ax = plt.subplot()\n",
    "sns.set(font_scale=1.4,)\n",
    "sns.heatmap(df_cm, annot=True,ax = ax, annot_kws={\"size\": 16},)\n",
    "ax.set_xlabel('Predicted Species') ; ax.set_ylabel('True Species')\n",
    "ax.set_title('Confusion Matrix')\n",
    "ax.xaxis.set_ticklabels(['P.Somniferum','P.Orientale','P.Dubium','P.Rhoeas'])\n",
    "ax.yaxis.set_ticklabels(['P.Somniferum','P.Orientale','P.Dubium','P.Rhoeas'])"
   ]
  },
  {
   "cell_type": "code",
   "execution_count": null,
   "id": "0ffba805-ac88-40db-b8b9-96df426743cb",
   "metadata": {},
   "outputs": [],
   "source": []
  }
 ],
 "metadata": {
  "kernelspec": {
   "display_name": "Python 3 (ipykernel)",
   "language": "python",
   "name": "python3"
  },
  "language_info": {
   "codemirror_mode": {
    "name": "ipython",
    "version": 3
   },
   "file_extension": ".py",
   "mimetype": "text/x-python",
   "name": "python",
   "nbconvert_exporter": "python",
   "pygments_lexer": "ipython3",
   "version": "3.10.6"
  }
 },
 "nbformat": 4,
 "nbformat_minor": 5
}
