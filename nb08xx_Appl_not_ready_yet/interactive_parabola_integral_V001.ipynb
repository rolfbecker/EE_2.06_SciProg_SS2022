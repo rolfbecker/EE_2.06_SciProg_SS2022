{
 "cells": [
  {
   "cell_type": "markdown",
   "id": "e9b2ec7a-4056-4e2b-832c-ef731da8f31b",
   "metadata": {},
   "source": [
    "# New Functions from Old Functions, Part 2:<br>Interactive Parabola Plot and Numerical Integration"
   ]
  },
  {
   "cell_type": "markdown",
   "id": "c0d87be4-3a74-4865-86e8-4ccddba165e5",
   "metadata": {},
   "source": [
    "2022-05-08, V001, Rolf Becker, Jude-Afanyu Bambo\n",
    "\n",
    "The discussion on how to create new functions from old functions is inspired by the math book Calculus by J. Stewart.\n",
    "\n",
    "In an earlier notebook we investigated the effect of several parameters in functions to influence their shape: How can a function be shifted in x or y direction, or flipped along x- or y-axis, respectively? How can the function be stretched or cimpressed?\n",
    "\n",
    "This notebook allows interactive modifications of a parabola in the so-called **vertex form**: $ f(x) = c(x-x_0)^2 + y_0 $\n",
    "\n",
    "The two parameters $x_0$ and $y_0$ determine the position of the parabola's extremum (min or max). The parameter $c$ stretches or compresses the parabola and determines if the curve is concave up ($c>0$) or concave down ($c<0$). \n",
    "\n",
    "This notebook also introduces interactive plots based on matplotlib. Here only slider widgets are used to change the parameters.\n",
    "\n",
    "Numerical integration with `numpy.trapz()` based on trapezoids is performed. `numpy.trapz()` uses x and y values \n",
    "\n",
    "Furthermore $\\LaTeX$ (aka mathjax) strings for pretty math formula rendering are used in the plot. The plot title shows the actual quadratic formula of the parabola in vertex form.  "
   ]
  },
  {
   "cell_type": "code",
   "execution_count": 1,
   "id": "65d26cd9-d877-490d-822d-4e25a947d1d3",
   "metadata": {},
   "outputs": [],
   "source": [
    "import numpy as np\n",
    "import matplotlib.pyplot as plt\n",
    "from ipywidgets import interactive"
   ]
  },
  {
   "cell_type": "markdown",
   "id": "4583e9ea-fabb-4537-b1e6-ace100b3df16",
   "metadata": {},
   "source": [
    "## Define the funtion\n",
    "\n",
    "$ f(x) = c(x-x_0)^2 + y_0 $"
   ]
  },
  {
   "cell_type": "code",
   "execution_count": 2,
   "id": "8dd71265-d5b4-4839-bb4a-46e8921f8721",
   "metadata": {},
   "outputs": [],
   "source": [
    "def f(x, x0=0, y0=0, C=1):\n",
    "    return C*(x-x0)**2 + y0"
   ]
  },
  {
   "cell_type": "markdown",
   "id": "a78bb103-b9ff-4e2c-9e74-efa1a4f0bfdd",
   "metadata": {},
   "source": [
    "## Create the plot title mathjax string to render the formula appealingly.\n",
    "\n",
    "The quadratic function $f(x) = c(x-x_0)^2 + y_0$ should be rendered differently dependent on the parameter values.<br>An example for ugly rendering to be avoided: $f(x) = 1(x-0)^2 + 0$. Instead it should be rendered like this: $f(x)=x^2$.\n",
    "\n",
    "* Full rendering:<br>$f(x) = 0.5(x-2)^2 + 2$. \n",
    "* Remove paretheses if $x_0=0$:<br>$f(x) = 0.5x^2 + 2$\n",
    "* Remove $c$ if $c=1$:<br>$f(x) = x^2 + 2$\n",
    "* Remove terms in $x$ if $c = 0$, i.e. $f$ is just constant:<br>$f(x) = 2$\n"
   ]
  },
  {
   "cell_type": "code",
   "execution_count": 3,
   "id": "eab731f1-eb46-46f9-823b-b847b169f611",
   "metadata": {},
   "outputs": [],
   "source": [
    "# create mathjax text to render the quadratic function\n",
    "def mytitle(x0=0, y0=0, c=1):\n",
    "    if x0 == 0:\n",
    "        s1 = f\"x^2\"\n",
    "    elif x0 > 0:\n",
    "        s1 = f\"(x-{x0})^2\"\n",
    "    else:\n",
    "        s1 = f\"(x+{abs(x0)})^2\"\n",
    "        \n",
    "    if y0 == 0:\n",
    "        s2 = \"\"\n",
    "    else:\n",
    "        s2 = f\" + {y0}\"\n",
    "        \n",
    "    if c == 1:\n",
    "        s0 = \"\"\n",
    "    else:\n",
    "        s0 = f\"{c}\"\n",
    "    \n",
    "    if c == 0:\n",
    "        s = f\"$f(x) = {y0}$\"\n",
    "    else:    \n",
    "        s = f\"$f(x) = \" + s0 + s1 + s2 + \"$\"\n",
    "\n",
    "    return s"
   ]
  },
  {
   "cell_type": "code",
   "execution_count": 4,
   "id": "ea6cdea9-2f51-4b07-85c7-d6e0e8fb7bb3",
   "metadata": {},
   "outputs": [
    {
     "name": "stdout",
     "output_type": "stream",
     "text": [
      "$f(x) = 2$\n",
      "$f(x) = x^2 + 2$\n",
      "$f(x) = 0.5x^2 + 2$\n",
      "$f(x) = 0.5(x-2)^2 + 2$\n"
     ]
    }
   ],
   "source": [
    "# test outputs\n",
    "print(mytitle(x0=1,y0=2, c=0))\n",
    "print(mytitle(x0=0,y0=2, c=1))\n",
    "print(mytitle(x0=0,y0=2, c=0.5))\n",
    "print(mytitle(x0=2,y0=2, c=0.5))"
   ]
  },
  {
   "cell_type": "code",
   "execution_count": 5,
   "id": "1234ab02-9c70-40b0-b133-9a17678322e1",
   "metadata": {},
   "outputs": [],
   "source": [
    "# create mathjax text to render the integral formula\n",
    "def myinttext(a=0, b=1, I=0, n=3):\n",
    "    sa = f\"{a}\"\n",
    "    sb = f\"{b}\"\n",
    "        \n",
    "    s = r\"$\\int_{\" + sa + \"}^{\" + sb + \"} f(x)dx = \" + f\"{I:.{n}g}$\"\n",
    "    \n",
    "    return s"
   ]
  },
  {
   "cell_type": "code",
   "execution_count": 6,
   "id": "3a5c78d4-b10e-4915-a91a-c70c9b221b8f",
   "metadata": {},
   "outputs": [
    {
     "name": "stdout",
     "output_type": "stream",
     "text": [
      "$\\int_{0}^{4} f(x)dx = 5.33$\n"
     ]
    }
   ],
   "source": [
    "# test outputs\n",
    "print(myinttext(a=0, b=4, I=5.3333, n=3))"
   ]
  },
  {
   "cell_type": "code",
   "execution_count": 7,
   "id": "d005061f-b246-488a-a3b4-081c3480f76c",
   "metadata": {},
   "outputs": [],
   "source": [
    "# inteative plot, parameters with default values: x0,y0,C for parabola, a,b are integration limits\n",
    "\n",
    "def plotter1(x0=0, y0=0, c=0.5, a=0, b=3):\n",
    "    x1 = np.arange(-10,10,0.01)\n",
    "    y1 = f(x1,x0,y0,c)\n",
    "\n",
    "    idx = (x1 >= a - 0.0001) & (x1 <= b + 0.0001) # compensate rounding errors\n",
    "    I1 = np.trapz(y1[idx],x1[idx])\n",
    "\n",
    "    s1 = mytitle(x0,y0,c) # title string\n",
    "    t1 = myinttext(a, b, I1)\n",
    "    \n",
    "    fig1,ax1=plt.subplots(figsize=(4,4), dpi=136, subplot_kw={'aspect': 'equal'})\n",
    "    ax1.plot(x1,y1)\n",
    "    ax1.grid(True)\n",
    "\n",
    "    # fill area under the curve which is the integral\n",
    "    ax1.fill_between(x1, y1, 0, where = (x1 >= a - 0.0001) & (x1 <= b + 0.0001), color = 'g')\n",
    "    \n",
    "    # print rendered quadratic formula as title\n",
    "    ax1.set_title(s1,fontsize=16)\n",
    "    \n",
    "    # print rendered integral formula. Vert. position dept. on graph\n",
    "    if c >= 0:\n",
    "        yt = y0-2\n",
    "    else:\n",
    "        yt = y0+1 \n",
    "    \n",
    "    xt = 0\n",
    "    ax1.text(xt, yt, t1, fontsize=16, ha = \"center\")\n",
    "\n",
    "    \n",
    "    ax1.set_xlabel(\"$x$\")\n",
    "    ax1.set_xlim(-5,5)\n",
    "    ax1.set_xticks(np.arange(-5,6))\n",
    "\n",
    "    ax1.set_ylabel(\"$y$\")\n",
    "    ax1.set_ylim(-5,5)\n",
    "    ax1.set_yticks(np.arange(-5,6))   \n",
    "    \n",
    "    plt.show()"
   ]
  },
  {
   "cell_type": "code",
   "execution_count": 8,
   "id": "9f1d581e-feb4-4b01-893a-41f87f1b2931",
   "metadata": {
    "jupyter": {
     "source_hidden": true
    },
    "tags": []
   },
   "outputs": [
    {
     "data": {
      "application/vnd.jupyter.widget-view+json": {
       "model_id": "d9cce845da81461eb0a0da93a34c1b0c",
       "version_major": 2,
       "version_minor": 0
      },
      "text/plain": [
       "interactive(children=(FloatSlider(value=0.0, description='x0', max=4.0, min=-4.0), FloatSlider(value=0.0, desc…"
      ]
     },
     "metadata": {},
     "output_type": "display_data"
    }
   ],
   "source": [
    "# initialize the interactive plot\n",
    "iplot1 = interactive(\n",
    "    plotter1, \n",
    "    x0=(-4,4,0.1), \n",
    "    y0=(-4,4,0.1), \n",
    "    c=(-2,2,0.1),\n",
    "    a=(-4,4,0.1),\n",
    "    b=(-4,4,0.1)\n",
    ")\n",
    "\n",
    "# start the interactive plot\n",
    "iplot1"
   ]
  },
  {
   "cell_type": "code",
   "execution_count": 9,
   "id": "33f4452d-4295-4914-9f98-47114ba6583e",
   "metadata": {},
   "outputs": [],
   "source": [
    "#does not work: fig1.savefig(\"fig1.png\")\n",
    "# fig1 is only known inside plotter1()"
   ]
  },
  {
   "cell_type": "code",
   "execution_count": null,
   "id": "1697ee32-9592-46a5-bb0d-cb596cc759e8",
   "metadata": {},
   "outputs": [],
   "source": []
  },
  {
   "cell_type": "code",
   "execution_count": null,
   "id": "cdc39ae1-8809-4702-bcd2-5ff55021c282",
   "metadata": {},
   "outputs": [],
   "source": []
  }
 ],
 "metadata": {
  "kernelspec": {
   "display_name": "Python 3 (ipykernel)",
   "language": "python",
   "name": "python3"
  },
  "language_info": {
   "codemirror_mode": {
    "name": "ipython",
    "version": 3
   },
   "file_extension": ".py",
   "mimetype": "text/x-python",
   "name": "python",
   "nbconvert_exporter": "python",
   "pygments_lexer": "ipython3",
   "version": "3.9.7"
  }
 },
 "nbformat": 4,
 "nbformat_minor": 5
}
